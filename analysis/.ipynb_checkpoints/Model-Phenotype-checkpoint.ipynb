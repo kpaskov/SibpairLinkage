{
 "cells": [
  {
   "cell_type": "code",
   "execution_count": 118,
   "metadata": {},
   "outputs": [],
   "source": [
    "import numpy as np\n",
    "import matplotlib.pyplot as plt\n",
    "import scipy.linalg\n",
    "from collections import defaultdict, namedtuple, Counter\n",
    "from itertools import combinations\n",
    "import numpy as np\n",
    "import scipy.stats as stats\n",
    "import sys\n",
    "from os import listdir\n",
    "import json\n",
    "import argparse\n",
    "import random\n",
    "import scipy.sparse as sparse\n",
    "import csv\n",
    "import cvxpy as cp\n",
    "import statsmodels.api as sm"
   ]
  },
  {
   "cell_type": "code",
   "execution_count": 40,
   "metadata": {},
   "outputs": [
    {
     "name": "stdout",
     "output_type": "stream",
     "text": [
      "1472\n"
     ]
    }
   ],
   "source": [
    "dataset = '../permutation_tests/spark.2'\n",
    "chroms = np.load('%s.chroms.npy' % dataset)\n",
    "intervals = np.load('%s.intervals.npy' % dataset)\n",
    "z = np.load('%s.npy' % dataset)[:, 2]\n",
    "\n",
    "with open('%s.sibpairs.json' % dataset, 'r') as f:\n",
    "    sibpairs = json.load(f)\n",
    "print(len(sibpairs))\n",
    "is_mat_match = np.load('%s.is_mat_match.npy' % dataset)\n",
    "is_pat_match = np.load('%s.is_pat_match.npy' % dataset)\n",
    "\n",
    "start_pos, end_pos = 72897465, 73361654\n"
   ]
  },
  {
   "cell_type": "code",
   "execution_count": 41,
   "metadata": {},
   "outputs": [
    {
     "name": "stdout",
     "output_type": "stream",
     "text": [
      "8 72897465 8 72901633\n",
      "[0.05]\n",
      "8 72902849 8 72908839\n",
      "[0.05]\n",
      "8 72920056 8 72938577\n",
      "[0.04 0.05 0.05 0.05]\n",
      "8 72939640 8 73361654\n",
      "[0.04 0.04 0.04 0.04 0.04 0.04 0.04 0.05 0.04 0.05 0.04 0.04 0.04 0.04\n",
      " 0.04 0.04 0.04 0.04 0.04 0.04 0.04 0.04 0.04 0.04 0.04 0.04 0.04 0.04\n",
      " 0.04 0.04 0.04 0.05 0.04 0.05 0.05]\n",
      "17 6426749 17 6666852\n",
      "[0.04 0.05 0.04 0.05 0.05 0.04 0.04 0.04 0.04 0.04 0.04 0.04 0.04 0.04\n",
      " 0.04 0.04 0.04 0.05 0.04 0.04 0.04 0.04 0.04 0.04 0.05 0.05 0.05 0.05]\n",
      "17 6669048 17 6669505\n",
      "[0.05]\n",
      "17 6670773 17 6965244\n",
      "[0.05 0.05 0.05 0.04 0.05 0.04 0.04 0.04 0.04 0.04 0.04 0.04 0.04 0.04\n",
      " 0.04 0.04 0.04 0.04 0.04 0.04 0.04 0.04 0.04 0.04 0.03 0.03 0.03 0.03\n",
      " 0.03 0.03 0.03 0.04 0.03 0.04 0.04 0.04 0.04 0.03 0.03 0.03 0.04 0.04\n",
      " 0.04 0.04 0.04 0.05 0.05 0.04 0.04 0.05]\n",
      "17 6977401 17 6978790\n",
      "[0.05]\n"
     ]
    }
   ],
   "source": [
    "peak_starts = np.where((z[1:]<=0.05) & (z[:-1]>0.05))[0]+1\n",
    "peak_ends = np.where((z[1:]>0.05) & (z[:-1]<=0.05))[0]+1\n",
    "\n",
    "for peak_start, peak_end in zip(peak_starts, peak_ends):\n",
    "    print(chroms[peak_start], intervals[0, peak_start], chroms[peak_end], intervals[0, peak_end])\n",
    "    print(z[peak_start:peak_end])"
   ]
  },
  {
   "cell_type": "code",
   "execution_count": 42,
   "metadata": {},
   "outputs": [
    {
     "name": "stdout",
     "output_type": "stream",
     "text": [
      "[0.05 0.06 0.05 0.06 0.04 0.05 0.05 0.05 0.06 0.04 0.04 0.04 0.04 0.04\n",
      " 0.04 0.04 0.05 0.04 0.05 0.04 0.04 0.04 0.04 0.04 0.04 0.04 0.04 0.04\n",
      " 0.04 0.04 0.04 0.04 0.04 0.04 0.04 0.04 0.04 0.04 0.04 0.04 0.05 0.04\n",
      " 0.05 0.05]\n"
     ]
    }
   ],
   "source": [
    "start_index, end_index = np.where(intervals[0, :]==start_pos)[0][0], np.where(intervals[0, :]==end_pos)[0][0]\n",
    "print(z[start_index:end_index])"
   ]
  },
  {
   "cell_type": "code",
   "execution_count": 43,
   "metadata": {},
   "outputs": [
    {
     "name": "stdout",
     "output_type": "stream",
     "text": [
      "0\n",
      "0\n"
     ]
    }
   ],
   "source": [
    "# pick majority for each sibpair\n",
    "mat_ibd = is_mat_match[:, start_index:end_index].dot((intervals[1, start_index:end_index]-intervals[0, start_index:end_index]))\n",
    "print(np.sum(mat_ibd==0)) # if any sibpair is 0, we need to discard them\n",
    "mat_ibd = mat_ibd > 0\n",
    "\n",
    "pat_ibd = is_pat_match[:, start_index:end_index].dot((intervals[1, start_index:end_index]-intervals[0, start_index:end_index]))\n",
    "print(np.sum(pat_ibd==0)) # if any sibpair is 0, we need to discard them\n",
    "pat_ibd = pat_ibd > 0\n",
    "\n",
    "ibd = mat_ibd + pat_ibd\n",
    "\n"
   ]
  },
  {
   "cell_type": "code",
   "execution_count": 91,
   "metadata": {},
   "outputs": [],
   "source": [
    "sample_to_phen = dict()\n",
    "with open('../../PhasingFamilies/phenotypes/v5/scq.csv', 'r') as f:\n",
    "    reader = csv.reader(f)\n",
    "    for pieces in reader:\n",
    "        phen = [-1 if (x not in {'1', '0'}) else int(x) for x in pieces[11:51]]\n",
    "        sample_to_phen[pieces[0]] = phen\n",
    "        "
   ]
  },
  {
   "cell_type": "code",
   "execution_count": 92,
   "metadata": {},
   "outputs": [
    {
     "name": "stdout",
     "output_type": "stream",
     "text": [
      "('SP0000026', [1, 0, 1, 1, 1, 1, 1, 1, 1, 1, 1, -1, 1, 0, 1, 0, 0, 0, 1, 0, 1, 1, 0, 0, 1, 1, 0, 0, 0, 1, 0, -1, 0, 1, 1, 1, 0, 1, 1, 1])\n"
     ]
    }
   ],
   "source": [
    "print(list(sample_to_phen.items())[4])"
   ]
  },
  {
   "cell_type": "code",
   "execution_count": 93,
   "metadata": {},
   "outputs": [
    {
     "name": "stdout",
     "output_type": "stream",
     "text": [
      "['SF0000027.SP0000027.SP0000034', 'SP0000027', 'SP0000034', 'SP0000051', 'SP0000241', '../PhasingFamilies/phased_spark_wes1_array_quads_del', 2, 2, True, True, True, True]\n"
     ]
    }
   ],
   "source": [
    "print(sibpairs[0])"
   ]
  },
  {
   "cell_type": "code",
   "execution_count": 94,
   "metadata": {},
   "outputs": [],
   "source": [
    "phen_match = []\n",
    "for sibpair in sibpairs:\n",
    "    if sibpair[1] in sample_to_phen and sibpair[2] in sample_to_phen:\n",
    "        phen1 = sample_to_phen[sibpair[1]]\n",
    "        phen2 = sample_to_phen[sibpair[2]]\n",
    "        phen_match.append([-1 if (x==-1 or y==-1) else int(x==y) for x, y in zip(phen1, phen2)])\n",
    "    else:\n",
    "        phen_match.append([-1]*40)\n",
    "phen_match = np.array(phen_match)"
   ]
  },
  {
   "cell_type": "code",
   "execution_count": 95,
   "metadata": {},
   "outputs": [
    {
     "data": {
      "image/png": "[encoded data removed]",
      "text/plain": [
       "<Figure size 1080x360 with 1 Axes>"
      ]
     },
     "metadata": {
      "needs_background": "light"
     },
     "output_type": "display_data"
    }
   ],
   "source": [
    "plt.figure(figsize=(15, 5))\n",
    "plt.imshow(phen_match.T, aspect='auto')\n",
    "plt.show()"
   ]
  },
  {
   "cell_type": "code",
   "execution_count": 89,
   "metadata": {},
   "outputs": [
    {
     "data": {
      "image/png": "[encoded data removed]",
      "text/plain": [
       "<Figure size 1080x360 with 1 Axes>"
      ]
     },
     "metadata": {
      "needs_background": "light"
     },
     "output_type": "display_data"
    }
   ],
   "source": [
    "plt.figure(figsize=(15, 5))\n",
    "plt.imshow(phen_match.T, aspect='auto')\n",
    "plt.show()"
   ]
  },
  {
   "cell_type": "code",
   "execution_count": 96,
   "metadata": {},
   "outputs": [
    {
     "name": "stdout",
     "output_type": "stream",
     "text": [
      "427\n"
     ]
    }
   ],
   "source": [
    "print(np.sum(np.all(phen_match==-1, axis=1)))"
   ]
  },
  {
   "cell_type": "code",
   "execution_count": 98,
   "metadata": {},
   "outputs": [
    {
     "name": "stdout",
     "output_type": "stream",
     "text": [
      "(1472, 2)\n"
     ]
    }
   ],
   "source": [
    "X = np.hstack((ibd[:, np.newaxis], np.ones((ibd.shape[0], 1))))\n",
    "print(X.shape)"
   ]
  },
  {
   "cell_type": "code",
   "execution_count": 109,
   "metadata": {},
   "outputs": [],
   "source": [
    "indices_x, indices_y = np.where(phen_match!=-1)"
   ]
  },
  {
   "cell_type": "code",
   "execution_count": 110,
   "metadata": {},
   "outputs": [
    {
     "name": "stdout",
     "output_type": "stream",
     "text": [
      "optimal\n"
     ]
    }
   ],
   "source": [
    "# cvxpy\n",
    "B = cp.Variable((2, phen_match.shape[1]))\n",
    "\n",
    "log_likelihood = cp.sum(cp.multiply(phen_match[indices_x, indices_y], (X@B)[indices_x, indices_y])) - cp.sum(cp.logistic(X@B))\n",
    "objective = cp.Maximize(log_likelihood)# * cp.norm(B, \"nuc\"))\n",
    "prob = cp.Problem(objective, [])\n",
    "result = prob.solve(solver='ECOS')\n",
    "print(prob.status)\n",
    "#objective = cp.Minimize(ibd[:, np.newaxis]@B - alpha*y@cp.log(X@n))\n",
    "\n",
    "# Wilson score interval so that if we don't observe any errors, then we take the 95% confidence interval\n",
    "#z = 1.96\n",
    "#lower_bound = ((z*z)/2)/(mu+(z*z))\n",
    "#constraints = [n >= 0, n <= 1]\n",
    "#prob = cp.Problem(objective, constraints)\n",
    "#    \n",
    "#result = prob.solve(solver='ECOS', max_iters=10000, verbose=False)\n",
    "#print(prob.status)\n",
    " #   \n",
    "#print(n.value, n.value.shape)\n",
    "#ns = np.asarray([v for v in n.value])\n",
    "#    \n",
    "#if prob.status != 'optimal' and prob.status != 'optimal_inaccurate':\n",
    "#    raise Error('Parameters not fully estimated.')"
   ]
  },
  {
   "cell_type": "code",
   "execution_count": 112,
   "metadata": {},
   "outputs": [
    {
     "name": "stdout",
     "output_type": "stream",
     "text": [
      "[[ 2.26416782e-02 -5.73532069e-02 -2.51208827e-01 -1.34541215e-01\n",
      "  -1.08538085e-01 -1.50721211e-01 -1.27948222e-01  2.79497358e-01\n",
      "  -1.83708939e-02  7.99502583e-02  4.84274692e-02  2.15386926e-02\n",
      "   6.93380918e-02  2.10333044e-01 -1.68838235e-01  2.96336119e-02\n",
      "   2.21030170e-01  3.93298375e-02  1.82530618e-01  1.16113342e-01\n",
      "   2.36371393e-01  8.95215407e-02  1.39422917e-04  1.09624372e-01\n",
      "   1.08071769e-01  3.17802233e-01  7.71428758e-02 -2.29936807e-02\n",
      "   2.49241431e-01  1.09450502e-01  3.02540821e-01  1.28049652e-01\n",
      "   1.39849727e-01  2.20893096e-02  1.48460541e-01  5.49168904e-02\n",
      "   9.63599051e-02  1.45448877e-01  8.68254244e-03  2.75558345e-01]\n",
      " [ 1.02190941e-01 -6.66239833e-01 -4.96436968e-01 -6.13104580e-01\n",
      "  -6.79663935e-01 -6.66239833e-01 -6.93147284e-01 -2.10989452e-01\n",
      "  -2.84179460e-01 -2.71933726e-01 -2.47501995e-01 -2.59708228e-01\n",
      "  -7.81177795e-02 -3.45745905e-01 -1.62518930e-01 -2.10989452e-01\n",
      "  -5.09224426e-01 -2.59708228e-01 -4.45671590e-01 -4.58307655e-01\n",
      "  -4.70979786e-01 -3.70548883e-01 -2.59708228e-01 -1.74616511e-01\n",
      "  -1.62518930e-01 -5.73800517e-01 -2.23143552e-01 -1.86726851e-01\n",
      "  -3.70548883e-01 -3.33384255e-01 -5.47837177e-01 -1.26293726e-01\n",
      "  -2.96446393e-01 -3.21047794e-01 -4.33070432e-01 -4.07968290e-01\n",
      "  -4.20503040e-01 -2.59708228e-01 -4.20482364e-02 -3.58133769e-01]]\n"
     ]
    }
   ],
   "source": [
    "print(B.value)"
   ]
  },
  {
   "cell_type": "code",
   "execution_count": 114,
   "metadata": {},
   "outputs": [
    {
     "data": {
      "image/png": "[encoded data removed]",
      "text/plain": [
       "<Figure size 432x288 with 1 Axes>"
      ]
     },
     "metadata": {
      "needs_background": "light"
     },
     "output_type": "display_data"
    }
   ],
   "source": [
    "plt.plot(B.value[0, :])\n",
    "plt.plot(B.value[1, :])\n",
    "plt.show()"
   ]
  },
  {
   "cell_type": "code",
   "execution_count": 129,
   "metadata": {},
   "outputs": [
    {
     "name": "stdout",
     "output_type": "stream",
     "text": [
      "3 0.005389722209000094\n",
      "15 0.005987419166923542\n",
      "26 0.049688177478971425\n"
     ]
    }
   ],
   "source": [
    "for phen_index in range(40):\n",
    "    indices = phen_match[:, phen_index]!=-1\n",
    "    model = sm.Logit(phen_match[indices, phen_index], X[indices, :])\n",
    "    result = model.fit(disp=False)\n",
    "    if result.pvalues[0] < 0.05:\n",
    "        print(phen_index+1, result.pvalues[0])"
   ]
  },
  {
   "cell_type": "code",
   "execution_count": null,
   "metadata": {},
   "outputs": [],
   "source": [
    "W = np.zeros((phen_match.shape[0], 1 + 2*phen_match.shape[1]))\n",
    "for phen_index in range(40):\n",
    "    W[phen_match[:, phen_index]==0, 2*phen_index] = 1\n",
    "    W[phen_match[:, phen_index]==1, 2*phen_index + 1] = 1\n",
    "W[:, -1] = 1\n",
    "\n",
    "model = sm.Logit(phen_match[indices, phen_index], X[indices, :])\n",
    "result = model.fit(disp=False)"
   ]
  }
 ],
 "metadata": {
  "kernelspec": {
   "display_name": "Python 3",
   "language": "python",
   "name": "python3"
  },
  "language_info": {
   "codemirror_mode": {
    "name": "ipython",
    "version": 3
   },
   "file_extension": ".py",
   "mimetype": "text/x-python",
   "name": "python",
   "nbconvert_exporter": "python",
   "pygments_lexer": "ipython3",
   "version": "3.7.3"
  }
 },
 "nbformat": 4,
 "nbformat_minor": 2
}
