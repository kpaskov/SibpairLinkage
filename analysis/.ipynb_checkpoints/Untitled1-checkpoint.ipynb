{
 "cells": [
  {
   "cell_type": "code",
   "execution_count": 8,
   "metadata": {},
   "outputs": [],
   "source": [
    "from collections import Counter\n",
    "import json"
   ]
  },
  {
   "cell_type": "code",
   "execution_count": 6,
   "metadata": {},
   "outputs": [],
   "source": [
    "# take a look at spark.exome and spark data"
   ]
  },
  {
   "cell_type": "code",
   "execution_count": 13,
   "metadata": {},
   "outputs": [
    {
     "name": "stdout",
     "output_type": "stream",
     "text": [
      "families pulled 33495 Counter({4: 33495})\n"
     ]
    }
   ],
   "source": [
    "# pull families from ped file\n",
    "families = dict()\n",
    "with open('../../DATA/spark.exome/spark.ped.quads.ped', 'r') as f:\n",
    "\tfor line in f:\n",
    "\t\tpieces = line.strip().split('\\t')\n",
    "\t\tif len(pieces) < 4:\n",
    "\t\t\tprint('ped parsing error', line)\n",
    "\t\telse:\n",
    "\t\t\tfam_id, child_id, f_id, m_id = pieces[0:4]\n",
    "\n",
    "\t\t\tif (fam_id, m_id, f_id) not in families:\n",
    "\t\t\t\tfamilies[(fam_id, m_id, f_id)] = [m_id, f_id]\n",
    "\t\t\tfamilies[(fam_id, m_id, f_id)].append(child_id)\n",
    "print('families pulled %d' % len(families), Counter([len(x) for x in families.values()]))\n"
   ]
  },
  {
   "cell_type": "code",
   "execution_count": 9,
   "metadata": {},
   "outputs": [
    {
     "name": "stdout",
     "output_type": "stream",
     "text": [
      "families 4442\n"
     ]
    }
   ],
   "source": [
    "# now filter by genotype data\n",
    "with open('../../DATA/spark/genotypes/samples.json', 'r') as f:\n",
    "    samples = set(json.load(f))\n",
    "    \n",
    "# remove quads missing data in one or more children\n",
    "families = dict([(k, v) for k, v in families.items() if v[2] in samples and v[3] in samples])\n",
    "print('families', len(families))"
   ]
  },
  {
   "cell_type": "code",
   "execution_count": 12,
   "metadata": {},
   "outputs": [
    {
     "name": "stdout",
     "output_type": "stream",
     "text": [
      "all there 4139\n",
      "missing mom 64\n",
      "missing dad 225\n",
      "missing both 14\n"
     ]
    }
   ],
   "source": [
    "# now check if parents are missing\n",
    "missing_mom, missing_dad, missing_both, missing_neither = 0, 0, 0, 0\n",
    "for fam, inds in families.items():\n",
    "    if inds[0] not in samples and inds[1] not in samples:\n",
    "        missing_both += 1\n",
    "    elif inds[0] not in samples:\n",
    "        missing_mom += 1\n",
    "    elif inds[1] not in samples:\n",
    "        missing_dad += 1\n",
    "    else:\n",
    "        missing_neither += 1\n",
    "        \n",
    "print('all there', missing_neither)\n",
    "print('missing mom', missing_mom)\n",
    "print('missing dad', missing_dad)\n",
    "print('missing both', missing_both)"
   ]
  },
  {
   "cell_type": "code",
   "execution_count": null,
   "metadata": {},
   "outputs": [],
   "source": [
    "#all there 4139\n",
    "#missing mom 64\n",
    "#missing dad 225\n",
    "#missing both 14"
   ]
  }
 ],
 "metadata": {
  "kernelspec": {
   "display_name": "Python 3",
   "language": "python",
   "name": "python3"
  },
  "language_info": {
   "codemirror_mode": {
    "name": "ipython",
    "version": 3
   },
   "file_extension": ".py",
   "mimetype": "text/x-python",
   "name": "python",
   "nbconvert_exporter": "python",
   "pygments_lexer": "ipython3",
   "version": "3.7.3"
  }
 },
 "nbformat": 4,
 "nbformat_minor": 2
}
