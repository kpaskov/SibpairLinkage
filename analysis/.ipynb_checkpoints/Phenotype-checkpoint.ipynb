{
 "cells": [
  {
   "cell_type": "code",
   "execution_count": 215,
   "metadata": {},
   "outputs": [],
   "source": [
    "import numpy as np\n",
    "import matplotlib.pyplot as plt\n",
    "import scipy.linalg\n",
    "from collections import defaultdict, namedtuple, Counter\n",
    "from itertools import combinations\n",
    "import numpy as np\n",
    "import scipy.stats as stats\n",
    "import sys\n",
    "from os import listdir\n",
    "import json\n",
    "import argparse\n",
    "import random\n",
    "import scipy.sparse as sparse"
   ]
  },
  {
   "cell_type": "code",
   "execution_count": 216,
   "metadata": {},
   "outputs": [
    {
     "name": "stdout",
     "output_type": "stream",
     "text": [
      "(40, 77)\n"
     ]
    }
   ],
   "source": [
    "permutation_results = '../permutation_tests/phen.spark.chr8.72897465-73361654'\n",
    "#permutation_results = '../permutation_tests/phen.spark.chr17.6426749-6978790'\n",
    "#permutation_results = '../permutation_tests/phen.spark.chr10.125067164-126635114'\n",
    "\n",
    "chroms = np.load('%s.chroms.npy' % permutation_results)\n",
    "intervals = np.load('%s.intervals.npy' % permutation_results)\n",
    "p = np.load('%s.npy' % permutation_results)\n",
    "print(p.shape)"
   ]
  },
  {
   "cell_type": "code",
   "execution_count": 217,
   "metadata": {},
   "outputs": [
    {
     "name": "stdout",
     "output_type": "stream",
     "text": [
      "(40, 72)\n"
     ]
    }
   ],
   "source": [
    "permutation_results0 = '../permutation_tests/phen.spark.notaffaff.chr8.72897465-73361654'\n",
    "chroms0 = np.load('%s.chroms.npy' % permutation_results0)\n",
    "intervals0 = np.load('%s.intervals.npy' % permutation_results0)\n",
    "p0 = np.load('%s.npy' % permutation_results0)\n",
    "print(p0.shape)"
   ]
  },
  {
   "cell_type": "code",
   "execution_count": 218,
   "metadata": {},
   "outputs": [
    {
     "name": "stdout",
     "output_type": "stream",
     "text": [
      "(40, 44)\n"
     ]
    }
   ],
   "source": [
    "permutation_results1 = '../permutation_tests/phen.spark.affaff.chr8.72897465-73361654'\n",
    "chroms1 = np.load('%s.chroms.npy' % permutation_results1)\n",
    "intervals1 = np.load('%s.intervals.npy' % permutation_results1)\n",
    "p1 = np.load('%s.npy' % permutation_results1)\n",
    "print(p1.shape)"
   ]
  },
  {
   "cell_type": "code",
   "execution_count": 220,
   "metadata": {},
   "outputs": [
    {
     "name": "stderr",
     "output_type": "stream",
     "text": [
      "//anaconda3/lib/python3.7/site-packages/ipykernel/__main__.py:3: RuntimeWarning: divide by zero encountered in log10\n",
      "  app.launch_new_instance()\n",
      "//anaconda3/lib/python3.7/site-packages/ipykernel/__main__.py:4: RuntimeWarning: divide by zero encountered in log10\n",
      "//anaconda3/lib/python3.7/site-packages/ipykernel/__main__.py:9: RuntimeWarning: divide by zero encountered in log10\n"
     ]
    },
    {
     "data": {
      "image/png": "[encoded data removed]",
      "text/plain": [
       "<Figure size 1080x360 with 2 Axes>"
      ]
     },
     "metadata": {
      "needs_background": "light"
     },
     "output_type": "display_data"
    }
   ],
   "source": [
    "plt.figure(figsize=(15, 5))\n",
    "plt.subplot(1, 2, 1)\n",
    "plt.scatter(np.clip(-np.log10(np.min(p, axis=1)), 0, 5), \n",
    "            np.clip(-np.log10(np.min(p0, axis=1)), 0, 5))\n",
    "plt.axhline(-np.log10(0.05/40))\n",
    "plt.axvline(-np.log10(0.05/40))\n",
    "\n",
    "plt.subplot(1, 2, 2)\n",
    "plt.scatter(np.clip(-np.log10(np.min(p, axis=1)), 0, 5), \n",
    "            np.clip(-np.log10(np.min(p1, axis=1)), 0, 5))\n",
    "plt.axhline(-np.log10(0.05/40))\n",
    "plt.axvline(-np.log10(0.05/40))\n",
    "\n",
    "plt.tight_layout()\n",
    "plt.show()"
   ]
  },
  {
   "cell_type": "code",
   "execution_count": 224,
   "metadata": {},
   "outputs": [
    {
     "name": "stdout",
     "output_type": "stream",
     "text": [
      "[25 30 35 36 39]\n",
      "[36]\n",
      "[ 7  8 18 24 25 28 30 32 35 36 37 39]\n"
     ]
    }
   ],
   "source": [
    "print(np.where(np.min(p, axis=1)<0.05/40)[0])\n",
    "print(np.where(np.min(p0, axis=1)<0.05/40)[0])\n",
    "print(np.where(np.min(p1, axis=1)<0.05/40)[0])"
   ]
  },
  {
   "cell_type": "code",
   "execution_count": 200,
   "metadata": {},
   "outputs": [
    {
     "name": "stderr",
     "output_type": "stream",
     "text": [
      "//anaconda3/lib/python3.7/site-packages/ipykernel/__main__.py:2: RuntimeWarning: divide by zero encountered in log10\n",
      "  from ipykernel import kernelapp as app\n"
     ]
    },
    {
     "data": {
      "image/png": "[encoded data removed]",
      "text/plain": [
       "<Figure size 432x288 with 1 Axes>"
      ]
     },
     "metadata": {
      "needs_background": "light"
     },
     "output_type": "display_data"
    }
   ],
   "source": [
    "for i in range(40):\n",
    "    plt.hist(np.clip(-np.log10(p[i, :]), None, 5), \n",
    "             bins=np.arange(0, 5.1, 0.1), alpha=0.25)\n",
    "plt.axvline(-np.log10(0.05/40))\n",
    "plt.show()"
   ]
  },
  {
   "cell_type": "code",
   "execution_count": 191,
   "metadata": {},
   "outputs": [],
   "source": [
    "# chr8 demonstrates subclinical phenotype in aut-nt sibpairs\n",
    "# 37 age 4 to 5, respond positively to child approach [REVERSE SCORED]\n",
    "# unadjusted p-value 0.0004"
   ]
  },
  {
   "cell_type": "code",
   "execution_count": 214,
   "metadata": {},
   "outputs": [
    {
     "name": "stdout",
     "output_type": "stream",
     "text": [
      "[19 26 31 33 36 37 38 40]\n",
      "[0. 0. 0. 0. 0. 0. 0. 0.]\n"
     ]
    }
   ],
   "source": [
    "indices = np.where(np.any(p<0.05/40, axis=1))[0]\n",
    "print(indices+1)\n",
    "print(np.min(p[indices, :], axis=1))\n"
   ]
  },
  {
   "cell_type": "code",
   "execution_count": 166,
   "metadata": {},
   "outputs": [],
   "source": [
    "# [ 8  9 19 26 33]\n",
    "# [37]\n",
    "\n",
    "# chr8: \n",
    "# 26 age 4 to 5, look at you directly in the face (eye contact)   [REVERSE SCORED]\n",
    "# 31 age 4 to 5, ever comfort  [REVERSE SCORED]\n",
    "# 36 age 4 to 5, interested in children [REVERSE SCORED]\n",
    "# 37 age 4 to 5, respond positively to child approach [REVERSE SCORED]\n",
    "# 40 age 4 to 5, ever join and play cooperatively in games with a group [REVERSE SCORED]\n",
    "\n",
    "# chr 17:\n",
    "# 15 ever mannerisms, odd hand or finger movements  \n",
    "# 16 ever complicated movements of whole body"
   ]
  },
  {
   "cell_type": "code",
   "execution_count": null,
   "metadata": {},
   "outputs": [],
   "source": []
  }
 ],
 "metadata": {
  "kernelspec": {
   "display_name": "Python 3",
   "language": "python",
   "name": "python3"
  },
  "language_info": {
   "codemirror_mode": {
    "name": "ipython",
    "version": 3
   },
   "file_extension": ".py",
   "mimetype": "text/x-python",
   "name": "python",
   "nbconvert_exporter": "python",
   "pygments_lexer": "ipython3",
   "version": "3.7.3"
  }
 },
 "nbformat": 4,
 "nbformat_minor": 2
}
