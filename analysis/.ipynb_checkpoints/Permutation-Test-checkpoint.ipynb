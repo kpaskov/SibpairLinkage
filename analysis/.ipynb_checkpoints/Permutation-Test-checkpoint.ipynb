{
 "cells": [
  {
   "cell_type": "code",
   "execution_count": 83,
   "metadata": {},
   "outputs": [],
   "source": [
    "import numpy as np\n",
    "import scipy.linalg\n",
    "from collections import defaultdict, namedtuple, Counter\n",
    "from itertools import combinations\n",
    "import numpy as np\n",
    "import scipy.stats as stats\n",
    "import sys\n",
    "from os import listdir\n",
    "import json\n",
    "import random\n",
    "import matplotlib.pyplot as plt"
   ]
  },
  {
   "cell_type": "code",
   "execution_count": 84,
   "metadata": {},
   "outputs": [],
   "source": [
    "dataset_name = 'spark'\n",
    "ped_files = ['../../DATA/spark/sparkfam.ped.quads.ped']\n",
    "phase_dirs = ['../../PhasingFamilies/phased_spark_array_quads']\n",
    "identicals_files = ['../../PhasingFamilies/phased_spark_array_quads/identicals.txt']\n",
    "num_trials = 1000\n",
    "interval_chrom, interval_start_pos, interval_end_pos = \"10\", None, None\n",
    "na = 0"
   ]
  },
  {
   "cell_type": "code",
   "execution_count": 85,
   "metadata": {},
   "outputs": [],
   "source": [
    "def pull_phenotype_ped(ped_file):\n",
    "\tsample_to_sex = dict()\n",
    "\tsample_to_affected = dict()\n",
    "\tparents_to_children = defaultdict(list)\n",
    "\twith open(ped_file, 'r') as f:\n",
    "\t\tfor line in f:\n",
    "\t\t\tpieces = line.strip().split('\\t')\n",
    "\t\t\tsample_to_sex[pieces[1]] = pieces[4]\n",
    "\t\t\tsample_to_sex[pieces[3]] = '2'\n",
    "\t\t\tsample_to_sex[pieces[2]] = '1'\n",
    "\t\t\tsample_to_affected[pieces[1]] = pieces[5]\n",
    "\t\t\tparents_to_children[(pieces[0], pieces[3], pieces[2])].append(pieces[1])\n",
    "\treturn sample_to_affected, sample_to_sex, parents_to_children"
   ]
  },
  {
   "cell_type": "code",
   "execution_count": 86,
   "metadata": {},
   "outputs": [],
   "source": [
    "Sibpair = namedtuple('Sibpair', ['family', 'sibling1', 'sibling2', 'mom', 'dad', 'phase_dir', \n",
    "                                 'num_affected', 'num_males', \n",
    "                                 'sibling1_aff', 'sibling2_aff', 'sibling1_male', 'sibling2_male'])\n",
    "def pull_sibpairs(phase_dir, sample_to_affected, sample_to_sex, parents_to_children, identicals_file):\n",
    "\n",
    "\t# pull identicals\n",
    "\tleave_out = set()\n",
    "\twith open(identicals_file, 'r') as f:\n",
    "\t\tfor line in f:\n",
    "\t\t\tpieces = line.strip().split('\\t')\n",
    "\t\t\tsibling1, sibling2 = pieces[:2]\n",
    "\t\t\tleave_out.add((sibling1, sibling2))\n",
    "\t\t\tleave_out.add((sibling2, sibling1))\n",
    "\n",
    "\n",
    "\t# pull sibpairs with phase data\n",
    "\tsibpair_has_phase_data = set()\n",
    "\tfamily_to_inds = dict()\n",
    "\tfor filename in listdir(phase_dir):\n",
    "\t\tif filename.endswith('.phased.txt'):\n",
    "\t\t\tfamily_key = filename[:-11]\n",
    "\t\t\ttry:\n",
    "\t\t\t\twith open('%s/%s' % (phase_dir, filename), 'r')  as f:\n",
    "\t\t\t\t\theader = next(f).strip().split('\\t')\n",
    "\t\t\t\t\tindividuals = [header[i][:-4] for i in range(5, len(header)-3, 2)]\n",
    "\t\t\t\t\tfamily_to_inds[family_key] = individuals\n",
    "\t\t\t\t\tfor sibling1, sibling2 in combinations(individuals[2:], 2):\n",
    "\t\t\t\t\t\tif (sibling1, sibling2) not in leave_out:\n",
    "\t\t\t\t\t\t\tsibpair_has_phase_data.add((sibling1, sibling2))\n",
    "\t\t\t\t\t\t\tsibpair_has_phase_data.add((sibling2, sibling1))\n",
    "\t\t\texcept StopIteration:\n",
    "\t\t\t\tpass\n",
    "\n",
    "\n",
    "\n",
    "\tdef form_sibpair(family, sibling1, sibling2, mom, dad):\n",
    "\t\treturn Sibpair(family, sibling1, sibling2, mom, dad,\n",
    "\t\t\tphase_dir,\n",
    "\t\t\tint(sample_to_affected[sibling1]=='2')+int(sample_to_affected[sibling2]=='2'),\n",
    "\t\t\tint(sample_to_sex[sibling1]=='1')+int(sample_to_sex[sibling2]=='1'),\n",
    "\t\t\tsample_to_affected[sibling1]=='2', sample_to_affected[sibling2]=='2',\n",
    "\t\t\tsample_to_sex[sibling1]=='1', sample_to_sex[sibling2]=='1')\n",
    "\t# pull sibpairs from families\n",
    "\tsibpairs = []\n",
    "\tfor (family, mom, dad), children in parents_to_children.items():\n",
    "\t\tfor sibling1, sibling2 in combinations([x for x in children if x in sample_to_affected], 2):\n",
    "\t\t\tif (sibling1, sibling2) in sibpair_has_phase_data:\n",
    "\t\t\t\tsibpairs.append(form_sibpair(family, sibling1, sibling2, mom, dad))\n",
    "\tsibpairs = sorted(sibpairs)\n",
    "\n",
    "\tfor i in range(len(sibpairs)-1):\n",
    "\t\tif sibpairs[i] == sibpairs[i+1]:\n",
    "\t\t\tprint(sibpairs[i])\n",
    "\n",
    "\tassert len(sibpairs) == len(set(sibpairs)) # should have no duplicates\n",
    "\treturn sibpairs, family_to_inds"
   ]
  },
  {
   "cell_type": "code",
   "execution_count": 87,
   "metadata": {},
   "outputs": [],
   "source": [
    "def pull_intervals(chrom, sibpairs, family_to_inds, interval_start_pos=None, interval_end_pos=None):\n",
    "\n",
    "\tpositions = set()\n",
    "\tif interval_start_pos is not None:\n",
    "\t\tpositions.add(interval_start_pos)\n",
    "\tif interval_end_pos is not None:\n",
    "\t\tpositions.add(interval_end_pos)\n",
    "\n",
    "\tfor sibpair_index, sibpair in enumerate(sibpairs):\n",
    "\t\tinds = family_to_inds[sibpair.family]\n",
    "\t\tsib1_ind_index, sib2_ind_index = inds.index(sibpair.sibling1), inds.index(sibpair.sibling2)\n",
    "\t\tsib1_mat_index, sib2_mat_index = 4+(2*sib1_ind_index), 4+(2*sib2_ind_index)\n",
    "\t\tsib1_pat_index, sib2_pat_index = 5+(2*sib1_ind_index), 5+(2*sib2_ind_index)\n",
    "\t\tsib_phase_indices = [sib1_mat_index, sib2_mat_index, sib1_pat_index, sib2_pat_index]\n",
    "\t\t\n",
    "\n",
    "\t\twith open('%s/%s.phased.txt' % (sibpair.phase_dir, sibpair.family), 'r')  as f:\n",
    "\t\t\tnext(f) # skip header\n",
    "\n",
    "\t\t\tprev_state = None\n",
    "\t\t\tfor line in f:\n",
    "\t\t\t\tif line.startswith('chr%s\\t'%chrom):\n",
    "\t\t\t\t\tpieces = line.strip().split('\\t')\n",
    "\t\t\t\t\t\n",
    "\t\t\t\t\tstart_pos, end_pos = [int(x) for x in pieces[-2:]]\n",
    "\t\t\t\t\tstate = np.array([int(x) for x in pieces[1:-2]])\n",
    "\n",
    "\t\t\t\t\tif prev_state is None or not np.all(state[sib_phase_indices]==prev_state[sib_phase_indices]):\n",
    "\t\t\t\t\t\tprev_state = state\n",
    "\t\t\t\t\t\tif ((interval_start_pos is None) or start_pos >= interval_start_pos) and ((interval_end_pos is None) or start_pos <= interval_end_pos):\n",
    "\t\t\t\t\t\t\tpositions.add(start_pos)\n",
    "\t\t\t\t\t\tif ((interval_start_pos is None) or end_pos >= interval_start_pos) and ((interval_end_pos is None) or end_pos <= interval_end_pos):\n",
    "\t\t\t\t\t\t\tpositions.add(end_pos)\n",
    "\n",
    "\treturn np.array(sorted(positions))\n",
    "\t#is_ok = np.ones((len(positions),), dtype=bool)\n",
    "\t#is_ok[np.where(positions[1:]-positions[:-1]<1000)[0]+1] = False\n",
    "\t#is_ok[0] = True\n",
    "\t#is_ok[-1] = True\n",
    "\t#return positions[is_ok]"
   ]
  },
  {
   "cell_type": "code",
   "execution_count": 88,
   "metadata": {},
   "outputs": [],
   "source": [
    "def pull_sibpair_matches(sibpairs, family_to_inds, chroms, interval_bins, interval_chrom=None, interval_start_pos=None, interval_end_pos=None):\n",
    "\tsibpair_to_index = dict([((x.family, x.sibling1, x.sibling2), i) for i, x in enumerate(sibpairs)])\n",
    "\n",
    "\tinterval_start_to_index = dict([((chrom, x), i) for i, (chrom, x) in enumerate(zip(chroms, interval_bins[0, :]))])\n",
    "\tinterval_end_to_index = dict([((chrom, x), i) for i, (chrom, x) in enumerate(zip(chroms, interval_bins[1, :]))])\n",
    "\t\n",
    "\t# pull phase data\n",
    "\t# sibpair, interval\n",
    "\tis_mat_match = np.zeros((len(sibpair_to_index), interval_bins.shape[1]), dtype=int)\n",
    "\tis_pat_match = np.zeros((len(sibpair_to_index), interval_bins.shape[1]), dtype=int)\n",
    "\n",
    "\tdef update_matches(sibpair_index, chrom, start_pos, end_pos, state, sib1_mat_index, sib2_mat_index, sib1_pat_index, sib2_pat_index, interval_start_pos, interval_end_pos):\n",
    "\t\tif interval_start_pos is not None or interval_end_pos is not None:\n",
    "\t\t\tstart_pos = np.clip(start_pos, interval_start_pos, interval_end_pos)\n",
    "\t\t\tend_pos = np.clip(end_pos, interval_start_pos, interval_end_pos)\n",
    "\n",
    "\t\t#if (chrom, start_pos) not in interval_start_to_index:\n",
    "\t\t#\tindex = np.where(chroms==chrom)[0][0]+np.searchsorted(interval_bins[0, chroms==chrom], start_pos)\n",
    "\t\t#\tinterval_start_to_index[(chrom, start_pos)] = index\n",
    "\t\t#\t#print('start', chrom, start_pos, chroms[index], interval_bins[:, index])\n",
    "\t\t#\n",
    "\t\t#if (chrom, end_pos) not in interval_end_to_index:\n",
    "\t\t#\tindex = np.where(chroms==chrom)[0][0]+np.searchsorted(interval_bins[1, chroms==chrom], end_pos)\n",
    "\t\t#\tinterval_end_to_index[(chrom, end_pos)] = index-1\n",
    "\t\t#\t#print('end', chrom, end_pos, chroms[index], interval_bins[:, index])\n",
    "\t\tstart_index, end_index = interval_start_to_index[(chrom, start_pos)], interval_end_to_index[(chrom, end_pos)]+1\n",
    "\t\t\n",
    "\t\tif state[sib1_mat_index]==-1 or state[sib2_mat_index]==-1:\n",
    "\t\t\tpass\n",
    "\t\telif state[sib1_mat_index]==state[sib2_mat_index]:\n",
    "\t\t\tis_mat_match[sibpair_index, start_index:end_index] = 1\n",
    "\t\telse:\n",
    "\t\t\tis_mat_match[sibpair_index, start_index:end_index] = -1\n",
    "\t\tif state[sib1_pat_index]==-1 or state[sib2_pat_index]==-1:\n",
    "\t\t\tpass\n",
    "\t\telif state[sib1_pat_index]==state[sib2_pat_index]:\n",
    "\t\t\tis_pat_match[sibpair_index, start_index:end_index] = 1\n",
    "\t\telse:\n",
    "\t\t\tis_pat_match[sibpair_index, start_index:end_index] = -1\n",
    "\n",
    "\tfor sibpair_index, sibpair in enumerate(sibpairs):\n",
    "\t\tinds = family_to_inds[sibpair.family]\n",
    "\t\tsib1_ind_index, sib2_ind_index = inds.index(sibpair.sibling1), inds.index(sibpair.sibling2)\n",
    "\t\tsib1_mat_index, sib2_mat_index = 4+(2*sib1_ind_index), 4+(2*sib2_ind_index)\n",
    "\t\tsib1_pat_index, sib2_pat_index = 5+(2*sib1_ind_index), 5+(2*sib2_ind_index)\n",
    "\t\tsib_phase_indices = [sib1_mat_index, sib2_mat_index, sib1_pat_index, sib2_pat_index]\n",
    "\t\t\n",
    "\t\twith open('%s/%s.phased.txt' % (sibpair.phase_dir, sibpair.family), 'r')  as f:\n",
    "\t\t\tnext(f) # skip header\n",
    "\n",
    "\t\t\tprev_chrom = None\n",
    "\t\t\tprev_state = None\n",
    "\t\t\tprev_start, prev_end = None, None\n",
    "\t\t\tfor line in f:\n",
    "\t\t\t\tpieces = line.strip().split('\\t')\n",
    "\t\t\t\t\n",
    "\t\t\t\ttry:\n",
    "\t\t\t\t\tchrom = int(pieces[0][3:])\n",
    "\t\t\t\t\tstart_pos, end_pos = [int(x) for x in pieces[-2:]]\n",
    "\t\t\t\t\tstate = np.array([int(x) for x in pieces[1:-2]])\n",
    "\n",
    "\n",
    "\t\t\t\t\tif (prev_state is None) or (prev_chrom != chrom) or (not np.all(state[sib_phase_indices]==prev_state[sib_phase_indices])):\n",
    "\t\t\t\t\t\t# first save prev state\n",
    "\t\t\t\t\t\tif prev_state is not None and (interval_chrom is None or interval_chrom==str(prev_chrom)):\n",
    "\t\t\t\t\t\t\tupdate_matches(sibpair_index, prev_chrom, prev_start, prev_end, prev_state, \n",
    "\t\t\t\t\t\t\t\tsib1_mat_index, sib2_mat_index, sib1_pat_index, sib2_pat_index,\n",
    "\t\t\t\t\t\t\t\tinterval_start_pos, interval_end_pos)\n",
    "\t\t\t\t\t\tprev_state = state\n",
    "\t\t\t\t\t\tprev_chrom, prev_start, prev_end = chrom, start_pos, end_pos\n",
    "\t\t\t\t\telse:\n",
    "\t\t\t\t\t\tprev_end = end_pos\n",
    "\t\t\t\texcept ValueError:\n",
    "\t\t\t\t\tpass\n",
    "\t\t\t\t\t\n",
    "\n",
    "\treturn is_mat_match, is_pat_match"
   ]
  },
  {
   "cell_type": "code",
   "execution_count": 89,
   "metadata": {},
   "outputs": [
    {
     "name": "stdout",
     "output_type": "stream",
     "text": [
      "Overall\n",
      "families 5600\n",
      "sibpairs 6916\n",
      "num_affected Counter({1: 5316, 2: 1473, 0: 127})\n",
      "Overall\n",
      "families 64\n",
      "sibpairs 127\n",
      "num_affected Counter({0: 127})\n"
     ]
    }
   ],
   "source": [
    "# pull ped info\n",
    "sibpairs, family_to_inds = [], dict()\n",
    "for ped_file, phase_dir, identicals_file in zip(ped_files, phase_dirs, identicals_files):\n",
    "    sample_to_affected, sample_to_sex, parents_to_children= pull_phenotype_ped(ped_file)\n",
    "\n",
    "    # pull sibpairs\n",
    "    sps, f_to_i = pull_sibpairs(phase_dir, sample_to_affected, sample_to_sex, parents_to_children, identicals_file)\n",
    "    sibpairs.extend(sps)\n",
    "    family_to_inds.update(f_to_i)\n",
    "\n",
    "\n",
    "print('Overall')\n",
    "print('families', len(set([x.family.split('.')[0] for x in sibpairs])))\n",
    "print('sibpairs', len(sibpairs))\n",
    "print('num_affected', Counter([x.num_affected for x in sibpairs]))\n",
    "\n",
    "sibpairs = [x for x in sibpairs if x.num_affected==na]\n",
    "\n",
    "print('Overall')\n",
    "print('families', len(set([x.family.split('.')[0] for x in sibpairs])))\n",
    "print('sibpairs', len(sibpairs))\n",
    "print('num_affected', Counter([x.num_affected for x in sibpairs]))"
   ]
  },
  {
   "cell_type": "code",
   "execution_count": 90,
   "metadata": {},
   "outputs": [
    {
     "name": "stdout",
     "output_type": "stream",
     "text": [
      "10 intervals 1032\n",
      "intervals (2, 1031)\n"
     ]
    }
   ],
   "source": [
    "chroms, interval_bins_starts, interval_bins_ends = [], [], []\n",
    "if interval_chrom is not None:\n",
    "\tinterval_bins = pull_intervals(interval_chrom, sibpairs, family_to_inds, interval_start_pos, interval_end_pos)\n",
    "\tprint(interval_chrom, 'intervals', len(interval_bins))\n",
    "\n",
    "\tchroms.append(int(interval_chrom)*np.ones((interval_bins.shape[0]-1,)))\n",
    "\tinterval_bins_starts.append(interval_bins[:-1])\n",
    "\tinterval_bins_ends.append(interval_bins[1:])\n",
    "else:\n",
    "\tfor chrom in [str(x) for x in range(1, 23)]:\n",
    "\t\tinterval_bins = pull_intervals(chrom, sibpairs, family_to_inds, interval_start_pos, interval_end_pos)\n",
    "\t\tprint(chrom, 'intervals', len(interval_bins))\n",
    "\t\t\n",
    "\t\tchroms.append(int(chrom)*np.ones((interval_bins.shape[0]-1,)))\n",
    "\t\tinterval_bins_starts.append(interval_bins[:-1])\n",
    "\t\tinterval_bins_ends.append(interval_bins[1:])\n",
    "\n",
    "interval_bins = np.vstack((np.hstack(interval_bins_starts), np.hstack(interval_bins_ends)))\n",
    "chroms = np.hstack(chroms)\n",
    "print('intervals', interval_bins.shape)"
   ]
  },
  {
   "cell_type": "code",
   "execution_count": 91,
   "metadata": {},
   "outputs": [
    {
     "name": "stdout",
     "output_type": "stream",
     "text": [
      "(127, 1016) (127, 1016)\n"
     ]
    }
   ],
   "source": [
    "is_mat_match, is_pat_match = pull_sibpair_matches(sibpairs, family_to_inds, chroms, interval_bins, interval_chrom, interval_start_pos, interval_end_pos)\n",
    "is_ok = interval_bins[1, :] - interval_bins[0, :] > 1\n",
    "interval_bins = interval_bins[:, is_ok]\n",
    "chroms = chroms[is_ok]\n",
    "is_mat_match = is_mat_match[:, is_ok]\n",
    "is_pat_match = is_pat_match[:, is_ok]\n",
    "\n",
    "print(is_mat_match.shape, is_pat_match.shape)"
   ]
  },
  {
   "cell_type": "code",
   "execution_count": 96,
   "metadata": {},
   "outputs": [
    {
     "name": "stdout",
     "output_type": "stream",
     "text": [
      "Sibpair(family='SF0007020.SP0007521.SP0007599', sibling1='SP0007521', sibling2='SP0007599', mom='SP0006940', dad='SP0153276', phase_dir='../../PhasingFamilies/phased_spark_array_quads', num_affected=0, num_males=1, sibling1_aff=False, sibling2_aff=False, sibling1_male=True, sibling2_male=False)\n",
      "mat\n",
      "1-28817741\t1\n",
      "28817741-28894344\t0\n",
      "28894344-30735208\t-1\n",
      "30735208-30749824\t0\n",
      "30749824-90317519\t1\n",
      "90317519-90321337\t0\n",
      "90321337-119528991\t-1\n",
      "119528991-120390564\t0\n",
      "120390565-125328103\t1\n",
      "125328103-125557751\t0\n",
      "125557751-133797422\t-1\n",
      "\n",
      "pat\n",
      "1-11248390\t-1\n",
      "11248390-11275395\t0\n",
      "11275395-131178256\t1\n",
      "131178256-131194640\t0\n",
      "131194640-133797422\t-1\n"
     ]
    }
   ],
   "source": [
    "\n",
    "print(sibpairs[0])\n",
    "\n",
    "print('\\nmat')\n",
    "change_indices = np.where(is_mat_match[0, 1:] != is_mat_match[0, :-1])[0]\n",
    "start_pos = interval_bins[0, 0]\n",
    "for i in change_indices:\n",
    "    print('%d-%d\\t%d' % (start_pos, interval_bins[1, i], is_mat_match[0, i]))\n",
    "    start_pos = interval_bins[0, i+1]\n",
    "print('%d-%d\\t%d' % (start_pos, interval_bins[1, -1], is_mat_match[0, -1]))\n",
    "\n",
    "print('\\npat')\n",
    "change_indices = np.where(is_pat_match[0, 1:] != is_pat_match[0, :-1])[0]\n",
    "start_pos = interval_bins[0, 0]\n",
    "for i in change_indices:\n",
    "    print('%d-%d\\t%d' % (start_pos, interval_bins[1, i], is_pat_match[0, i]))\n",
    "    start_pos = interval_bins[0, i+1]\n",
    "print('%d-%d\\t%d' % (start_pos, interval_bins[1, -1], is_pat_match[0, -1]))"
   ]
  },
  {
   "cell_type": "code",
   "execution_count": 53,
   "metadata": {},
   "outputs": [
    {
     "name": "stdout",
     "output_type": "stream",
     "text": [
      "ready\n"
     ]
    }
   ],
   "source": [
    "# take into account sibling structure across quads\n",
    "individuals = sorted(set([x.sibling1 for x in sibpairs] + [x.sibling2 for x in sibpairs]))\n",
    "ind_to_index = dict([(x, i) for i, x in enumerate(individuals)])\n",
    "sibling1_indices = np.array([ind_to_index[x.sibling1] for x in sibpairs])\n",
    "sibling2_indices = np.array([ind_to_index[x.sibling2] for x in sibpairs])\n",
    "\n",
    "A = np.random.randint(0, high=2, size=(num_trials+1, len(individuals), 2))\n",
    "X1 = (A[:, sibling1_indices, 0] == A[:, sibling2_indices, 0]).astype(int)\n",
    "X2 = (A[:, sibling1_indices, 1] == A[:, sibling2_indices, 1]).astype(int)\n",
    "\n",
    "# randomly flip IBD in sibpairs\n",
    "#X1 = np.random.randint(0, high=2, size=(num_trials, len(sibpairs)))\n",
    "#X2 = np.random.randint(0, high=2, size=(num_trials, len(sibpairs)))\n",
    "\n",
    "X1[X1==0] = -1\n",
    "X2[X2==0] = -1\n",
    "\n",
    "# first entry is actual IBD relationships\n",
    "X1[0, :] = 1\n",
    "X2[0, :] = 1\n",
    "\n",
    "#print(X.shape)\n",
    "print('ready')"
   ]
  },
  {
   "cell_type": "code",
   "execution_count": 54,
   "metadata": {},
   "outputs": [],
   "source": [
    "if interval_chrom is not None:\n",
    "\tdataset_name += '.chr%s' % interval_chrom\n",
    "if interval_start_pos is not None or interval_end_pos is not None:\n",
    "\tdataset_name += '.%d-%d' % (interval_start_pos, interval_end_pos)\n",
    "\n",
    "num_affected = np.array([x.num_affected for x in sibpairs])"
   ]
  },
  {
   "cell_type": "code",
   "execution_count": 20,
   "metadata": {},
   "outputs": [
    {
     "name": "stdout",
     "output_type": "stream",
     "text": [
      "0 mat\n",
      "0 pat\n",
      "0 both\n"
     ]
    }
   ],
   "source": [
    "# trial, interval, mat/pat, num_affected\n",
    "rand_pvalue = np.zeros((num_trials+1, interval_bins.shape[1], 3, 3), dtype=int)\n",
    "\n",
    "#for i in range(num_trials+1):\n",
    "#\tprint(i)\n",
    "for na in range(1):\n",
    "\tprint(na, 'mat')\n",
    "\trand_pvalue[:, :, 0, na] = X1[:, num_affected==na].dot(is_mat_match[num_affected==na, :])\n",
    "\tprint(na, 'pat')\n",
    "\trand_pvalue[:, :, 1, na] = X2[:, num_affected==na].dot(is_pat_match[num_affected==na, :])\n",
    "\tprint(na, 'both')\n",
    "\trand_pvalue[:, :, 2, na] = rand_pvalue[:, :, 0, na]+rand_pvalue[:, :, 1, na]\n",
    "\n",
    "\n",
    "# we expect to see less IBD sharing between discordant sibpairs\n",
    "rand_pvalue[:, :, :, 1] = -rand_pvalue[:, :, :, 1]"
   ]
  },
  {
   "cell_type": "code",
   "execution_count": 42,
   "metadata": {},
   "outputs": [],
   "source": [
    "final_pvalues = np.zeros((interval_bins.shape[1], 3, 3))\n",
    "for is_mat in [0, 1, 2]:\n",
    "\tfor na in np.arange(1):\n",
    "\n",
    "\t\torig_indices = np.flip(np.argsort(rand_pvalue[0, :, is_mat, na]))\n",
    "\n",
    "\t\tcum_max = np.zeros((num_trials+1, interval_bins.shape[1]))\n",
    "\t\tcum_max[:, -1] = rand_pvalue[:, orig_indices[-1], is_mat, na]\n",
    "\t\tfor i, j in list(reversed(list(enumerate(orig_indices))))[1:]:\n",
    "\t\t\tcum_max[:, i] = np.maximum(cum_max[:, i+1], rand_pvalue[:, j, is_mat, na])\n",
    "\t\tassert np.all(cum_max[0, :] == rand_pvalue[0, orig_indices, is_mat, na])\n",
    "\n",
    "\t\t# calculate pi(j)\n",
    "\t\tpvalues = np.sum(cum_max[1:, :] >= np.tile(cum_max[0, :], (num_trials, 1)), axis=0)/num_trials\n",
    "\t\tpvalues = np.array([np.max(pvalues[:(i+1)]) for i in np.arange(pvalues.shape[0])])\n",
    "\t\tfinal_pvalues[orig_indices, is_mat, na] = pvalues"
   ]
  },
  {
   "cell_type": "code",
   "execution_count": 43,
   "metadata": {},
   "outputs": [
    {
     "data": {
      "text/plain": [
       "(array([1.3815e+04, 1.5450e+03, 9.7500e+02, 0.0000e+00, 5.3400e+02,\n",
       "        0.0000e+00, 5.6000e+01, 0.0000e+00, 0.0000e+00, 1.3000e+01]),\n",
       " array([0.00261362, 0.03722445, 0.07183529, 0.10644613, 0.14105696,\n",
       "        0.1756678 , 0.21027864, 0.24488947, 0.27950031, 0.31411115,\n",
       "        0.34872199]),\n",
       " <a list of 10 Patch objects>)"
      ]
     },
     "execution_count": 43,
     "metadata": {},
     "output_type": "execute_result"
    },
    {
     "data": {
      "image/png": "[encoded data removed]",
      "text/plain": [
       "<Figure size 432x288 with 1 Axes>"
      ]
     },
     "metadata": {
      "needs_background": "light"
     },
     "output_type": "display_data"
    }
   ],
   "source": [
    "plt.hist(-np.log10(final_pvalues[:, 0, 0]), log=True)"
   ]
  },
  {
   "cell_type": "code",
   "execution_count": 44,
   "metadata": {},
   "outputs": [
    {
     "data": {
      "image/png": "[encoded data removed]",
      "text/plain": [
       "<Figure size 432x288 with 1 Axes>"
      ]
     },
     "metadata": {
      "needs_background": "light"
     },
     "output_type": "display_data"
    }
   ],
   "source": [
    "plt.hist(rand_pvalue[0, :, 1, 0], bins=np.arange(-20, 30, 2), alpha=0.5)\n",
    "plt.hist(rand_pvalue[1, :, 1, 0], bins=np.arange(-20, 30, 2), alpha=0.5)\n",
    "plt.hist(rand_pvalue[2, :, 1, 0], bins=np.arange(-20, 30, 2), alpha=0.5)\n",
    "\n",
    "plt.show()"
   ]
  },
  {
   "cell_type": "code",
   "execution_count": 37,
   "metadata": {},
   "outputs": [
    {
     "name": "stdout",
     "output_type": "stream",
     "text": [
      "[ 23  23  23 ... -11 -11 -11]\n"
     ]
    }
   ],
   "source": [
    "print(rand_pvalue[0, :, 0, 0])"
   ]
  },
  {
   "cell_type": "code",
   "execution_count": null,
   "metadata": {},
   "outputs": [],
   "source": []
  }
 ],
 "metadata": {
  "kernelspec": {
   "display_name": "Python 3",
   "language": "python",
   "name": "python3"
  },
  "language_info": {
   "codemirror_mode": {
    "name": "ipython",
    "version": 3
   },
   "file_extension": ".py",
   "mimetype": "text/x-python",
   "name": "python",
   "nbconvert_exporter": "python",
   "pygments_lexer": "ipython3",
   "version": "3.7.3"
  }
 },
 "nbformat": 4,
 "nbformat_minor": 2
}
