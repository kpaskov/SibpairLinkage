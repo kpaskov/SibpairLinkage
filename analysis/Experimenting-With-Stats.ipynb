{
 "cells": [
  {
   "cell_type": "code",
   "execution_count": 126,
   "metadata": {
    "scrolled": true
   },
   "outputs": [],
   "source": [
    "import numpy as np\n",
    "import matplotlib.pyplot as plt\n",
    "import scipy.linalg\n",
    "from collections import defaultdict, namedtuple, Counter\n",
    "from itertools import combinations\n",
    "import numpy as np\n",
    "import scipy.stats as stats\n",
    "import sys\n",
    "from os import listdir\n",
    "import json\n",
    "import argparse\n",
    "import random\n",
    "import scipy.sparse as sparse"
   ]
  },
  {
   "cell_type": "markdown",
   "metadata": {},
   "source": [
    "# Permutation Test"
   ]
  },
  {
   "cell_type": "code",
   "execution_count": 167,
   "metadata": {
    "scrolled": true
   },
   "outputs": [
    {
     "name": "stdout",
     "output_type": "stream",
     "text": [
      "[0.502 0.12  0.172 0.225]\n",
      "[0.635 0.643 0.645 0.21 ]\n"
     ]
    }
   ],
   "source": [
    "\n",
    "permutation_results = '../permutation_tests/spark.0'\n",
    "chroms0 = np.load('%s.chroms.npy' % permutation_results)\n",
    "intervals0 = np.load('%s.intervals.npy' % permutation_results)\n",
    "z0 = np.load('%s.npy' % permutation_results)[:, 2]\n",
    "z0_mat = np.load('%s.npy' % permutation_results)[:, 0]\n",
    "z0_pat = np.load('%s.npy' % permutation_results)[:, 1]\n",
    "z0_cross = np.load('%s.npy' % permutation_results)[:, 3]\n",
    "\n",
    "permutation_results = '../permutation_tests/spark.1.flip'\n",
    "chroms1 = np.load('%s.chroms.npy' % permutation_results)\n",
    "intervals1 = np.load('%s.intervals.npy' % permutation_results)\n",
    "z1 = np.load('%s.npy' % permutation_results)[:, 2]\n",
    "z1_mat = np.load('%s.npy' % permutation_results)[:, 0]\n",
    "z1_pat = np.load('%s.npy' % permutation_results)[:, 1]\n",
    "#z1_cross = np.load('%s.npy' % permutation_results)[:, 3]\n",
    "\n",
    "#permutation_results = '../permutation_tests/spark.1.flip'\n",
    "#chroms3 = np.load('%s.chroms.npy' % permutation_results)\n",
    "#intervals3 = np.load('%s.intervals.npy' % permutation_results)\n",
    "#z3 = np.load('%s.npy' % permutation_results)[:, 2]\n",
    "#z3_mat = np.load('%s.npy' % permutation_results)[:, 0]\n",
    "#z3_pat = np.load('%s.npy' % permutation_results)[:, 1]\n",
    "\n",
    "permutation_results = '../permutation_tests/spark.2.4'\n",
    "chroms2 = np.load('%s.chroms.npy' % permutation_results)\n",
    "intervals2 = np.load('%s.intervals.npy' % permutation_results)\n",
    "z2 = np.load('%s.npy' % permutation_results)[:, 2]\n",
    "z2_mat = np.load('%s.npy' % permutation_results)[:, 0]\n",
    "z2_pat = np.load('%s.npy' % permutation_results)[:, 1]\n",
    "z2_cross = np.load('%s.npy' % permutation_results)[:, 3]\n",
    "#permutation_results = '../permutation_tests/ihart.2.flip'\n",
    "#chroms4 = np.load('%s.chroms.npy' % permutation_results)\n",
    "#intervals4 = np.load('%s.intervals.npy' % permutation_results)\n",
    "#z4 = np.load('%s.npy' % permutation_results)[:, 2]\n",
    "#z4_mat = np.load('%s.npy' % permutation_results)[:, 0]\n",
    "#z4_pat = np.load('%s.npy' % permutation_results)[:, 1]\n",
    "\n",
    "# pat\n",
    "permutation_results = '../permutation_tests/ancestry.chr8.72897465-73361654.2'\n",
    "z_anc = np.load('%s.npy' % permutation_results)\n",
    "print(np.min(z_anc, axis=0))\n",
    "\n",
    "# mat\n",
    "permutation_results = '../permutation_tests/ancestry.chr17.6426749-6978790.2'\n",
    "z_anc = np.load('%s.npy' % permutation_results)\n",
    "print(np.min(z_anc, axis=0))\n"
   ]
  },
  {
   "cell_type": "code",
   "execution_count": 168,
   "metadata": {},
   "outputs": [
    {
     "data": {
      "image/png": "[encoded data removed]",
      "text/plain": [
       "<Figure size 432x288 with 1 Axes>"
      ]
     },
     "metadata": {
      "needs_background": "light"
     },
     "output_type": "display_data"
    }
   ],
   "source": [
    "plt.hist(np.log10(intervals0[1, :]-intervals0[0, :]), \n",
    "         bins=np.arange(0, 8, 0.1), alpha=0.5, density=True)\n",
    "#plt.hist(np.log10(intervals3[1, :]-intervals3[0, :]), \n",
    "#         bins=np.arange(0, 8, 0.1), alpha=0.5, density=True)\n",
    "plt.hist(np.log10(intervals2[1, :]-intervals2[0, :]), \n",
    "         bins=np.arange(0, 8, 0.1), alpha=0.5, density=True)\n",
    "plt.show()"
   ]
  },
  {
   "cell_type": "code",
   "execution_count": 169,
   "metadata": {
    "scrolled": true
   },
   "outputs": [],
   "source": [
    "with open('../data/chrom_lengths38.json', 'r') as f:\n",
    "    chrom_lengths = json.load(f)\n",
    "offset = np.zeros((24,), dtype=int)\n",
    "for ch in range(1, 24):\n",
    "    offset[(ch+1):] += chrom_lengths['X' if ch==23 else str(ch)]\n",
    "x0 = np.array([offset[int(ch)]+p for ch, p in zip(chroms0, intervals0[0, :])])\n",
    "x1 = np.array([offset[int(ch)]+p for ch, p in zip(chroms1, intervals1[0, :])])\n",
    "x2 = np.array([offset[int(ch)]+p for ch, p in zip(chroms2, intervals2[0, :])])\n",
    "#x3 = np.array([offset[int(ch)]+p for ch, p in zip(chroms3, intervals3[0, :])])\n",
    "#x4 = np.array([offset[int(ch)]+p for ch, p in zip(chroms4, intervals4[0, :])])\n"
   ]
  },
  {
   "cell_type": "code",
   "execution_count": 170,
   "metadata": {
    "scrolled": false
   },
   "outputs": [
    {
     "data": {
      "image/png": "[encoded data removed]",
      "text/plain": [
       "<Figure size 1080x360 with 3 Axes>"
      ]
     },
     "metadata": {
      "needs_background": "light"
     },
     "output_type": "display_data"
    }
   ],
   "source": [
    "plt.figure(figsize=(15, 5))\n",
    "\n",
    "bins = np.arange(-3, 0.1, 0.1)\n",
    "\n",
    "plt.subplot(1, 3, 1)\n",
    "plt.hist(np.clip(np.log10(z0), -3, None), alpha=0.5, bins=bins, log=True)\n",
    "#plt.hist(np.clip(np.log10(z0_mat), -3, None), alpha=0.5, bins=bins, log=True)\n",
    "#plt.hist(np.clip(np.log10(z0_pat), -3, None), alpha=0.5, bins=bins, log=True)\n",
    "plt.hist(np.clip(np.log10(z0_cross), -3, None), alpha=0.5, bins=bins, log=True)\n",
    "plt.axvline(np.log10(0.05), color='red')\n",
    "plt.ylabel('Probability Distribution')\n",
    "\n",
    "plt.subplot(1, 3, 2)\n",
    "plt.hist(np.clip(np.log10(z1), -3, None), alpha=0.5, bins=bins, log=True)\n",
    "#plt.hist(np.clip(np.log10(z1_mat), -3, None), alpha=0.5, bins=bins, log=True)\n",
    "#plt.hist(np.clip(np.log10(z1_pat), -3, None), alpha=0.5, bins=bins, log=True)\n",
    "plt.hist(np.clip(np.log10(z1_cross), -3, None), alpha=0.5, bins=bins, log=True)\n",
    "plt.axvline(np.log10(0.05), color='red')\n",
    "plt.ylabel('Probability Distribution')\n",
    "\n",
    "plt.subplot(1, 3, 3)\n",
    "plt.hist(np.clip(np.log10(z2), -3, None), alpha=0.5, bins=bins, log=True)\n",
    "#plt.hist(np.clip(np.log10(z2_mat), -3, None), alpha=0.5, bins=bins, log=True)\n",
    "#plt.hist(np.clip(np.log10(z2_pat), -3, None), alpha=0.5, bins=bins, log=True)\n",
    "plt.hist(np.clip(np.log10(z2_cross), -3, None), alpha=0.5, bins=bins, log=True)\n",
    "plt.axvline(np.log10(0.05), color='red')\n",
    "plt.ylabel('Probability Distribution')\n",
    "\n",
    "plt.tight_layout()\n",
    "plt.show()"
   ]
  },
  {
   "cell_type": "code",
   "execution_count": 171,
   "metadata": {},
   "outputs": [
    {
     "name": "stdout",
     "output_type": "stream",
     "text": [
      "0.285 0.688\n",
      "0.058 0.38\n",
      "0.246 0.578\n",
      "0.689\n"
     ]
    }
   ],
   "source": [
    "print(np.min(z0), np.min(z2))\n",
    "print(np.min(z0_mat), np.min(z2_mat))\n",
    "print(np.min(z0_pat), np.min(z2_pat))\n",
    "print(np.min(z2_cross))"
   ]
  },
  {
   "cell_type": "code",
   "execution_count": 142,
   "metadata": {},
   "outputs": [
    {
     "name": "stdout",
     "output_type": "stream",
     "text": [
      "nt-nt\n",
      "\n",
      "aut-nt\n",
      "\n",
      "aut-aut\n",
      "\n",
      "aut-aut mat\n",
      "\n",
      "aut-aut pat\n",
      "\n"
     ]
    }
   ],
   "source": [
    "print('nt-nt')\n",
    "indices = np.where(-np.log10(z0) >= -np.log10(0.05))[0]\n",
    "print('\\n'.join(['%d:%d-%d\\t%0.3f' % (chroms0[i], intervals0[0, i], intervals0[1, i], z0[i]) for i in indices]))\n",
    "\n",
    "print('aut-nt')\n",
    "indices = np.where(-np.log10(z1) >= -np.log10(0.05))[0]\n",
    "print('\\n'.join(['%d:%d-%d\\t%0.3f' % (chroms1[i], intervals1[0, i], intervals1[1, i], z1[i]) for i in indices]))\n",
    "\n",
    "print('aut-aut')\n",
    "indices = np.where(-np.log10(z2) >= -np.log10(0.05))[0]\n",
    "print('\\n'.join(['%d:%d-%d\\t%0.3f' % (chroms2[i], intervals2[0, i], intervals2[1, i], z2[i]) for i in indices]))\n",
    "\n",
    "print('aut-aut mat')\n",
    "indices = np.where(-np.log10(z2_mat) >= -np.log10(0.05))[0]\n",
    "print('\\n'.join(['%d:%d-%d\\t%0.3f' % (chroms2[i], intervals2[0, i], intervals2[1, i], z2_mat[i]) for i in indices]))\n",
    "\n",
    "print('aut-aut pat')\n",
    "indices = np.where(-np.log10(z2_pat) >= -np.log10(0.05))[0]\n",
    "print('\\n'.join(['%d:%d-%d\\t%0.3f' % (chroms2[i], intervals2[0, i], intervals2[1, i], z2_pat[i]) for i in indices]))\n"
   ]
  },
  {
   "cell_type": "code",
   "execution_count": 143,
   "metadata": {},
   "outputs": [
    {
     "name": "stdout",
     "output_type": "stream",
     "text": [
      "nt-nt\n",
      "\n"
     ]
    }
   ],
   "source": [
    "print('nt-nt')\n",
    "indices = np.where(-np.log10(z0_mat) >= -np.log10(0.05))[0]\n",
    "print('\\n'.join(['%d:%d-%d\\t%0.3f' % (chroms0[i], intervals0[0, i], intervals0[1, i], z0_mat[i]) for i in indices]))\n"
   ]
  },
  {
   "cell_type": "code",
   "execution_count": 144,
   "metadata": {},
   "outputs": [
    {
     "data": {
      "image/png": "[encoded data removed]",
      "text/plain": [
       "<Figure size 432x288 with 1 Axes>"
      ]
     },
     "metadata": {
      "needs_background": "light"
     },
     "output_type": "display_data"
    }
   ],
   "source": [
    "plt.scatter(np.clip(np.log10(z2), -2, None), np.clip(np.log10(z2_cross), -2, None))\n",
    "plt.plot([-2, 0], [-2, 0], color='black', linestyle='--')\n",
    "plt.show()"
   ]
  },
  {
   "cell_type": "code",
   "execution_count": 145,
   "metadata": {},
   "outputs": [
    {
     "data": {
      "image/png": "[encoded data removed]",
      "text/plain": [
       "<Figure size 1008x360 with 1 Axes>"
      ]
     },
     "metadata": {
      "needs_background": "light"
     },
     "output_type": "display_data"
    }
   ],
   "source": [
    "import matplotlib\n",
    "matplotlib.rcParams.update({'font.size': 24})\n",
    "plt.figure(figsize=(14, 5))\n",
    "\n",
    "\n",
    "#plt.scatter(x0, -np.log10(z0), label='nt-nt', alpha=0.5, marker='.')\n",
    "#plt.scatter(x3, -np.log10(z3), label='aut-nt', alpha=0.5, marker='.')\n",
    "plt.scatter(x2, -np.log10(z2), label='aut-aut', color='#4db6ac')\n",
    "#plt.scatter(x2, -np.log10(z2_pat), label='paternal', color='#ef6c00')\n",
    "plt.scatter(x2, np.clip(-np.log10(z2_cross), -2, None), label='cross', color='#ef6c00')\n",
    "#plt.plot(x3, -np.log10(z3), label='aut-nt', alpha=0.5, marker='.')\n",
    "#plt.plot(x4, -np.log10(z4), label='aut-aut', alpha=0.5, marker='.')\n",
    "\n",
    "plt.axhline(-np.log10(0.05), color='black', linestyle='--')\n",
    "plt.xticks(offset[1:15].tolist() + offset[16:23:2].tolist(), [str(x) for x in range(1, 15)] + [str(x) for x in range(16, 23, 2)] + [23], rotation=90)\n",
    "plt.yticks([0, -np.log10(0.05), 2], ['1', '0.05', '0.01'])\n",
    "plt.xlabel('Chromosome')\n",
    "plt.ylabel('Adjusted pvalue')\n",
    "#plt.xlim([offset[8]+72897465, offset[8]+73361654])\n",
    "#plt.legend()\n",
    "#plt.text(offset[4], 0.2, 'chr8:72897465-73361654')\n",
    "#plt.text(x2[np.argmin(z2)]-650000000, 1.5, 'chr17:6778683-6892329')\n",
    "#plt.ylim([0, 2.1])\n",
    "plt.legend()\n",
    "plt.tight_layout()\n",
    "\n",
    "plt.show()"
   ]
  },
  {
   "cell_type": "code",
   "execution_count": 146,
   "metadata": {},
   "outputs": [
    {
     "data": {
      "image/png": "[encoded data removed]",
      "text/plain": [
       "<Figure size 1080x1080 with 1 Axes>"
      ]
     },
     "metadata": {
      "needs_background": "light"
     },
     "output_type": "display_data"
    }
   ],
   "source": [
    "import matplotlib\n",
    "matplotlib.rcParams.update({'font.size': 16})\n",
    "plt.figure(figsize=(15, 15))\n",
    "\n",
    "plt.subplot(3, 1, 1)\n",
    "plt.scatter(x0, -np.log10(z0), label='nt-nt', alpha=0.5, marker='.')\n",
    "#plt.scatter(x1, -np.log10(z1), label='aut-nt', alpha=0.5, marker='.')\n",
    "plt.scatter(x2, -np.log10(z2), label='aut-aut', alpha=0.5, marker='.')\n",
    "plt.scatter(x0, -np.log10(z0_cross), label='nt-nt cross', alpha=0.5, marker='.')\n",
    "#plt.scatter(x1, -np.log10(z1_cross), label='aut-nt cross', alpha=0.5, marker='.')\n",
    "plt.scatter(x2, -np.log10(z2_cross), label='aut-aut cross', alpha=0.5, marker='.')\n",
    "#plt.scatter(x2[np.mod(chroms2, 2)==1], -np.log10(z2[np.mod(chroms2, 2)==1]), label='aut-aut', alpha=0.5, marker='.', color='#ef6c00')\n",
    "#plt.plot(x3, -np.log10(z3), label='aut-nt', alpha=0.5, marker='.')\n",
    "#plt.plot(x4, -np.log10(z4), label='aut-aut', alpha=0.5, marker='.')\n",
    "\n",
    "plt.legend()\n",
    "plt.axhline(-np.log10(0.05), color='black', linestyle='--')\n",
    "plt.xticks(offset[1:23].tolist(), [str(x) for x in range(1, 23)], rotation=90)\n",
    "plt.yticks([0, -np.log10(0.05), 2], ['1', '0.05', '0.01'])\n",
    "plt.xlabel('Chromosome')\n",
    "plt.ylabel('Adjusted pvalue')\n",
    "plt.title('Both')\n",
    "\n",
    "#plt.subplot(3, 1, 2)\n",
    "#plt.scatter(x0, -np.log10(z0_mat), label='nt-nt', alpha=0.5, marker='.')\n",
    "#plt.scatter(x1, -np.log10(z1_mat), label='aut-nt', alpha=0.5, marker='.')\n",
    "#plt.scatter(x2, -np.log10(z2_mat), label='aut-aut', alpha=0.5, marker='.')\n",
    "#plt.scatter(x2[np.mod(chroms2, 2)==1], -np.log10(z2[np.mod(chroms2, 2)==1]), label='aut-aut', alpha=0.5, marker='.', color='#ef6c00')\n",
    "#plt.plot(x3, -np.log10(z3), label='aut-nt', alpha=0.5, marker='.')\n",
    "#plt.plot(x4, -np.log10(z4), label='aut-aut', alpha=0.5, marker='.')\n",
    "\n",
    "#plt.legend()\n",
    "#plt.axhline(-np.log10(0.05), color='black', linestyle='--')\n",
    "#plt.xticks(offset[1:23].tolist(), [str(x) for x in range(1, 23)], rotation=90)\n",
    "#plt.yticks([0, -np.log10(0.05), 2], ['1', '0.05', '0.01'])\n",
    "#plt.xlabel('Chromosome')\n",
    "#plt.ylabel('Adjusted pvalue')\n",
    "#plt.title('Mat')\n",
    "\n",
    "#plt.subplot(3, 1, 3)\n",
    "#plt.scatter(x0, -np.log10(z0_pat), label='nt-nt', alpha=0.5, marker='.')\n",
    "#plt.scatter(x1, -np.log10(z1_pat), label='aut-nt', alpha=0.5, marker='.')\n",
    "#plt.scatter(x2, -np.log10(z2_pat), label='aut-aut', alpha=0.5, marker='.')\n",
    "#plt.scatter(x2[np.mod(chroms2, 2)==1], -np.log10(z2[np.mod(chroms2, 2)==1]), label='aut-aut', alpha=0.5, marker='.', color='#ef6c00')\n",
    "#plt.plot(x3, -np.log10(z3), label='aut-nt', alpha=0.5, marker='.')\n",
    "#plt.plot(x4, -np.log10(z4), label='aut-aut', alpha=0.5, marker='.')\n",
    "#plt.title('Pat')\n",
    "\n",
    "#plt.legend()\n",
    "#plt.axhline(-np.log10(0.05), color='black', linestyle='--')\n",
    "#plt.xticks(offset[1:23].tolist(), [str(x) for x in range(1, 23)], rotation=90)\n",
    "#plt.yticks([0, -np.log10(0.05), 2], ['1', '0.05', '0.01'])\n",
    "#plt.xlabel('Chromosome')\n",
    "#plt.ylabel('Adjusted pvalue')\n",
    "#plt.xlim([offset[8]+72897465, offset[8]+73361654])\n",
    "#plt.legend()\n",
    "#plt.text(offset[4], 0.2, 'chr8:72897465-73361654')\n",
    "#plt.text(offset[10]+50000000, 0.6, 'chr17:6426749-6978790')\n",
    "#plt.ylim([0, 2.1])\n",
    "plt.tight_layout()\n",
    "\n",
    "plt.show()"
   ]
  },
  {
   "cell_type": "code",
   "execution_count": 15,
   "metadata": {
    "scrolled": true
   },
   "outputs": [
    {
     "ename": "NameError",
     "evalue": "name 'actual0' is not defined",
     "output_type": "error",
     "traceback": [
      "\u001b[0;31m---------------------------------------------------------------------------\u001b[0m",
      "\u001b[0;31mNameError\u001b[0m                                 Traceback (most recent call last)",
      "\u001b[0;32m<ipython-input-15-cc41cb5489a9>\u001b[0m in \u001b[0;36m<module>\u001b[0;34m\u001b[0m\n\u001b[1;32m      1\u001b[0m \u001b[0mplt\u001b[0m\u001b[0;34m.\u001b[0m\u001b[0mfigure\u001b[0m\u001b[0;34m(\u001b[0m\u001b[0mfigsize\u001b[0m\u001b[0;34m=\u001b[0m\u001b[0;34m(\u001b[0m\u001b[0;36m15\u001b[0m\u001b[0;34m,\u001b[0m \u001b[0;36m5\u001b[0m\u001b[0;34m)\u001b[0m\u001b[0;34m)\u001b[0m\u001b[0;34m\u001b[0m\u001b[0;34m\u001b[0m\u001b[0m\n\u001b[1;32m      2\u001b[0m \u001b[0;34m\u001b[0m\u001b[0m\n\u001b[0;32m----> 3\u001b[0;31m \u001b[0mp\u001b[0m \u001b[0;34m=\u001b[0m \u001b[0mplt\u001b[0m\u001b[0;34m.\u001b[0m\u001b[0mplot\u001b[0m\u001b[0;34m(\u001b[0m\u001b[0mintervals0\u001b[0m\u001b[0;34m[\u001b[0m\u001b[0;36m0\u001b[0m\u001b[0;34m,\u001b[0m \u001b[0mchroms0\u001b[0m\u001b[0;34m==\u001b[0m\u001b[0;36m10\u001b[0m\u001b[0;34m]\u001b[0m\u001b[0;34m,\u001b[0m \u001b[0mactual0\u001b[0m\u001b[0;34m[\u001b[0m\u001b[0mchroms0\u001b[0m\u001b[0;34m==\u001b[0m\u001b[0;36m10\u001b[0m\u001b[0;34m]\u001b[0m\u001b[0;34m,\u001b[0m \u001b[0mmarker\u001b[0m\u001b[0;34m=\u001b[0m\u001b[0;34m'.'\u001b[0m\u001b[0;34m)\u001b[0m\u001b[0;34m\u001b[0m\u001b[0;34m\u001b[0m\u001b[0m\n\u001b[0m\u001b[1;32m      4\u001b[0m \u001b[0mplt\u001b[0m\u001b[0;34m.\u001b[0m\u001b[0maxhline\u001b[0m\u001b[0;34m(\u001b[0m\u001b[0mcutoff0\u001b[0m\u001b[0;34m,\u001b[0m \u001b[0mcolor\u001b[0m\u001b[0;34m=\u001b[0m\u001b[0mp\u001b[0m\u001b[0;34m[\u001b[0m\u001b[0;36m0\u001b[0m\u001b[0;34m]\u001b[0m\u001b[0;34m.\u001b[0m\u001b[0mget_color\u001b[0m\u001b[0;34m(\u001b[0m\u001b[0;34m)\u001b[0m\u001b[0;34m)\u001b[0m\u001b[0;34m\u001b[0m\u001b[0;34m\u001b[0m\u001b[0m\n\u001b[1;32m      5\u001b[0m \u001b[0;34m\u001b[0m\u001b[0m\n",
      "\u001b[0;31mNameError\u001b[0m: name 'actual0' is not defined"
     ]
    },
    {
     "data": {
      "text/plain": [
       "<Figure size 1080x360 with 0 Axes>"
      ]
     },
     "metadata": {},
     "output_type": "display_data"
    }
   ],
   "source": [
    "plt.figure(figsize=(15, 5))\n",
    "\n",
    "p = plt.plot(intervals0[0, chroms0==10], actual0[chroms0==10], marker='.')\n",
    "plt.axhline(cutoff0, color=p[0].get_color())\n",
    "\n",
    "p = plt.plot(intervals2[0, chroms2==10], actual2[chroms2==10], marker='.')\n",
    "plt.axhline(cutoff2, color=p[0].get_color())\n",
    "plt.xlim([124000000, 128000000])\n",
    "plt.axhline(0, color='black', linestyle='--')\n",
    "#plt.xlim([123796859-1000000, 126684943+1000000])\n",
    "plt.axvline(125500000)\n",
    "plt.axvline(126500000)\n",
    "\n",
    "plt.show()"
   ]
  },
  {
   "cell_type": "code",
   "execution_count": null,
   "metadata": {
    "scrolled": true
   },
   "outputs": [],
   "source": [
    "print('pvalue', np.sum(z0>=np.max(actual0))/len(z0))"
   ]
  },
  {
   "cell_type": "code",
   "execution_count": null,
   "metadata": {
    "scrolled": true
   },
   "outputs": [],
   "source": [
    "sig_start = intervals0[0, chroms0==10][actual0[chroms0==10]>=cutoff0][0]\n",
    "sig_end = intervals0[1, chroms0==10][actual0[chroms0==10]>=cutoff0][-1]\n",
    "\n",
    "print(sig_start, sig_end, sig_end-sig_start)\n"
   ]
  },
  {
   "cell_type": "code",
   "execution_count": null,
   "metadata": {
    "scrolled": true
   },
   "outputs": [],
   "source": [
    "exome_targets = []\n",
    "with open('../../FamilySeqError/data/VCRome_2.1_design_files/VCRome_2_1_hg38_primary_targets_liftover_ordered.bed', 'r') as f:\n",
    "    for line in f:\n",
    "        pieces = line.strip().split('\\t')\n",
    "        s, e = int(pieces[1]), int(pieces[2])\n",
    "        if pieces[0]=='chr10' and (min(sig_end+1000000, e)-max(sig_start-1000000, s) > 0):\n",
    "            exome_targets.append((s, e))"
   ]
  },
  {
   "cell_type": "code",
   "execution_count": null,
   "metadata": {
    "scrolled": true
   },
   "outputs": [],
   "source": [
    "plt.figure(figsize=(15, 5))\n",
    "\n",
    "p = plt.plot(intervals0[0, chroms0==10], actual0[chroms0==10], marker='.')\n",
    "plt.axhline(cutoff0, color=p[0].get_color())\n",
    "\n",
    "#p = plt.plot(intervals2[0, chroms2==10], actual2[chroms2==10], marker='.')\n",
    "#plt.axhline(cutoff2, color=p[0].get_color())\n",
    "plt.xlim([123000000, 128000000])\n",
    "plt.axhline(0, color='black', linestyle='--')\n",
    "#plt.xlim([123796859-1000000, 126684943+1000000])\n",
    "plt.axvline(125500000)\n",
    "plt.axvline(126500000)\n",
    "plt.axvline(sig_start, color='black')\n",
    "plt.axvline(sig_end, color='black')\n",
    "\n",
    "#for s, e in exome_targets:\n",
    "#    plt.plot([s, e], [0, 0], color='red', linewidth=20)\n",
    "\n",
    "\n",
    "plt.show()"
   ]
  },
  {
   "cell_type": "markdown",
   "metadata": {},
   "source": [
    "# Ancestry Validation"
   ]
  },
  {
   "cell_type": "code",
   "execution_count": 67,
   "metadata": {
    "scrolled": true
   },
   "outputs": [],
   "source": [
    "permutation_results = '../permutation_tests/ancestry.chr10.125067164-126635114'\n",
    "#permutation_results = '../permutation_tests/mssng.chr10.125067164-126635114'\n",
    "#permutation_results = '../permutation_tests/ssc.chr10.125067164-126635114'\n",
    "\n",
    "#permutation_results = '../permutation_tests/ihart.chr10.125067164-126635114'\n"
   ]
  },
  {
   "cell_type": "code",
   "execution_count": 68,
   "metadata": {
    "scrolled": true
   },
   "outputs": [],
   "source": [
    "try:\n",
    "    z0 = np.load('%s.0.npy' % permutation_results)\n",
    "    chroms0 = np.load('%s.0.chroms.npy' % permutation_results)\n",
    "    intervals0 = np.load('%s.0.intervals.npy' % permutation_results)\n",
    "    actual0 = np.load('%s.0.actual.npy' % permutation_results)\n",
    "    actual0_IBD = np.load('%s.0.actual_IBD.npy' % permutation_results)\n",
    "    actual0_noIBD = np.load('%s.0.actual_noIBD.npy' % permutation_results)\n",
    "    cutoff0 = np.quantile(z0, 0.95)\n",
    "except:\n",
    "    z0 = []\n",
    "    chroms0 = []\n",
    "    intervals0 = []\n",
    "    actual0 = []\n",
    "    cutoff0 = 0\n",
    "\n",
    "z1 = np.load('%s.1.npy' % permutation_results)\n",
    "chroms1 = np.load('%s.1.chroms.npy' % permutation_results)\n",
    "intervals1 = np.load('%s.1.intervals.npy' % permutation_results)\n",
    "actual1 = np.load('%s.1.actual.npy' % permutation_results)\n",
    "cutoff1 = np.quantile(z1, 0.05)\n",
    "actual1_IBD = np.load('%s.1.actual_IBD.npy' % permutation_results)\n",
    "actual1_noIBD = np.load('%s.1.actual_noIBD.npy' % permutation_results)\n",
    "\n",
    "try:\n",
    "    z2 = np.load('%s.2.npy' % permutation_results)\n",
    "    chroms2 = np.load('%s.2.chroms.npy' % permutation_results)\n",
    "    intervals2 = np.load('%s.2.intervals.npy' % permutation_results)\n",
    "    actual2 = np.load('%s.2.actual.npy' % permutation_results)\n",
    "    actual2_IBD = np.load('%s.2.actual_IBD.npy' % permutation_results)\n",
    "    actual2_noIBD = np.load('%s.2.actual_noIBD.npy' % permutation_results)\n",
    "    cutoff2 = np.quantile(z2, 0.95)\n",
    "except:\n",
    "    z2 = []\n",
    "    chroms2 = []\n",
    "    intervals2 = []\n",
    "    actual2 = []\n",
    "    cutoff2 = 0\n"
   ]
  },
  {
   "cell_type": "code",
   "execution_count": 69,
   "metadata": {
    "scrolled": false
   },
   "outputs": [
    {
     "data": {
      "image/png": "[encoded data removed]",
      "text/plain": [
       "<Figure size 1080x576 with 2 Axes>"
      ]
     },
     "metadata": {
      "needs_background": "light"
     },
     "output_type": "display_data"
    }
   ],
   "source": [
    "plt.figure(figsize=(15, 8))\n",
    "\n",
    "plt.subplot(2, 1, 1)\n",
    "if len(z0)>0:\n",
    "    plt.plot(intervals0[0, :], actual0, label='nt-nt', marker='.')\n",
    "    plt.axhline(cutoff0, color=p[0].get_color())\n",
    "p = plt.plot(intervals1[0, :], actual1, label='aut-nt', marker='.')\n",
    "plt.axhline(cutoff1, color=p[0].get_color())\n",
    "if len(z2)>0:\n",
    "    p = plt.plot(intervals2[0, :], actual2, label='aut-aut', marker='.')\n",
    "    plt.axhline(cutoff2, color=p[0].get_color())\n",
    "plt.legend()\n",
    "plt.axhline(0, color='black')\n",
    "plt.ylabel('Sibpairs IBD - no_IBD')\n",
    "plt.xlabel('Chromosome 10')\n",
    "\n",
    "plt.subplot(2, 1, 2)\n",
    "if len(z0)>0:\n",
    "    plt.plot(intervals0[0, :], -np.log10([np.sum(z0>=a)/len(z0) for a in actual0]), label='nt-nt', marker='.')\n",
    "plt.plot(intervals1[0, :], -np.log10([np.sum(z1<=a)/len(z1) for a in actual1]), label='aut-nt', marker='.')\n",
    "if len(z2)>0:\n",
    "    plt.plot(intervals2[0, :], -np.log10([np.sum(z2>=a)/len(z2) for a in actual2]), label='aut-aut', marker='.')\n",
    "\n",
    "plt.legend()\n",
    "plt.axhline(-np.log10(0.05), color='black')\n",
    "plt.ylabel('$-log_{10}(pvalue)$')\n",
    "plt.xlabel('Chromosome 10')\n",
    "\n",
    "plt.tight_layout()\n",
    "plt.show()\n"
   ]
  },
  {
   "cell_type": "code",
   "execution_count": 70,
   "metadata": {},
   "outputs": [
    {
     "name": "stdout",
     "output_type": "stream",
     "text": [
      "pvalue 0.011\n"
     ]
    }
   ],
   "source": [
    "print('pvalue', np.sum(z0>=np.max(actual0))/len(z0))"
   ]
  },
  {
   "cell_type": "code",
   "execution_count": 66,
   "metadata": {},
   "outputs": [
    {
     "ename": "TypeError",
     "evalue": "list indices must be integers or slices, not tuple",
     "output_type": "error",
     "traceback": [
      "\u001b[0;31m---------------------------------------------------------------------------\u001b[0m",
      "\u001b[0;31mTypeError\u001b[0m                                 Traceback (most recent call last)",
      "\u001b[0;32m<ipython-input-66-e8a17d3ca91a>\u001b[0m in \u001b[0;36m<module>\u001b[0;34m\u001b[0m\n\u001b[1;32m      1\u001b[0m \u001b[0mplt\u001b[0m\u001b[0;34m.\u001b[0m\u001b[0mfigure\u001b[0m\u001b[0;34m(\u001b[0m\u001b[0mfigsize\u001b[0m\u001b[0;34m=\u001b[0m\u001b[0;34m(\u001b[0m\u001b[0;36m15\u001b[0m\u001b[0;34m,\u001b[0m \u001b[0;36m5\u001b[0m\u001b[0;34m)\u001b[0m\u001b[0;34m)\u001b[0m\u001b[0;34m\u001b[0m\u001b[0;34m\u001b[0m\u001b[0m\n\u001b[1;32m      2\u001b[0m \u001b[0;34m\u001b[0m\u001b[0m\n\u001b[0;32m----> 3\u001b[0;31m \u001b[0mp\u001b[0m \u001b[0;34m=\u001b[0m \u001b[0mplt\u001b[0m\u001b[0;34m.\u001b[0m\u001b[0mplot\u001b[0m\u001b[0;34m(\u001b[0m\u001b[0mintervals0\u001b[0m\u001b[0;34m[\u001b[0m\u001b[0;36m0\u001b[0m\u001b[0;34m,\u001b[0m \u001b[0;34m:\u001b[0m\u001b[0;34m]\u001b[0m\u001b[0;34m,\u001b[0m \u001b[0mactual0\u001b[0m\u001b[0;34m,\u001b[0m \u001b[0mlabel\u001b[0m\u001b[0;34m=\u001b[0m\u001b[0;34m'nt-nt'\u001b[0m\u001b[0;34m,\u001b[0m \u001b[0mmarker\u001b[0m\u001b[0;34m=\u001b[0m\u001b[0;34m'.'\u001b[0m\u001b[0;34m)\u001b[0m\u001b[0;34m\u001b[0m\u001b[0;34m\u001b[0m\u001b[0m\n\u001b[0m\u001b[1;32m      4\u001b[0m \u001b[0mplt\u001b[0m\u001b[0;34m.\u001b[0m\u001b[0maxhline\u001b[0m\u001b[0;34m(\u001b[0m\u001b[0mcutoff0\u001b[0m\u001b[0;34m,\u001b[0m \u001b[0mcolor\u001b[0m\u001b[0;34m=\u001b[0m\u001b[0mp\u001b[0m\u001b[0;34m[\u001b[0m\u001b[0;36m0\u001b[0m\u001b[0;34m]\u001b[0m\u001b[0;34m.\u001b[0m\u001b[0mget_color\u001b[0m\u001b[0;34m(\u001b[0m\u001b[0;34m)\u001b[0m\u001b[0;34m)\u001b[0m\u001b[0;34m\u001b[0m\u001b[0;34m\u001b[0m\u001b[0m\n\u001b[1;32m      5\u001b[0m \u001b[0mplt\u001b[0m\u001b[0;34m.\u001b[0m\u001b[0maxhline\u001b[0m\u001b[0;34m(\u001b[0m\u001b[0;36m0\u001b[0m\u001b[0;34m,\u001b[0m \u001b[0mcolor\u001b[0m\u001b[0;34m=\u001b[0m\u001b[0;34m'black'\u001b[0m\u001b[0;34m)\u001b[0m\u001b[0;34m\u001b[0m\u001b[0;34m\u001b[0m\u001b[0m\n",
      "\u001b[0;31mTypeError\u001b[0m: list indices must be integers or slices, not tuple"
     ]
    },
    {
     "data": {
      "text/plain": [
       "<Figure size 1080x360 with 0 Axes>"
      ]
     },
     "metadata": {},
     "output_type": "display_data"
    }
   ],
   "source": [
    "plt.figure(figsize=(15, 5))\n",
    "\n",
    "p = plt.plot(intervals0[0, :], actual0, label='nt-nt', marker='.')\n",
    "plt.axhline(cutoff0, color=p[0].get_color())\n",
    "plt.axhline(0, color='black')\n",
    "plt.ylabel('Sibpairs IBD - no_IBD')\n",
    "plt.xlabel('Chromosome 10')\n",
    "\n",
    "plt.show()\n"
   ]
  },
  {
   "cell_type": "code",
   "execution_count": 46,
   "metadata": {
    "scrolled": true
   },
   "outputs": [
    {
     "name": "stderr",
     "output_type": "stream",
     "text": [
      "//anaconda3/lib/python3.7/site-packages/scipy/stats/contingency.py:108: RuntimeWarning: invalid value encountered in true_divide\n",
      "  expected = reduce(np.multiply, margsums) / observed.sum() ** (d - 1)\n"
     ]
    }
   ],
   "source": [
    "assert np.all(intervals0==intervals1)\n",
    "assert np.all(intervals0==intervals2)\n",
    "chi2_pvalues = np.ones(actual0.shape)\n",
    "\n",
    "for i in range(actual0.shape[0]):\n",
    "    try:\n",
    "        chi2_pvalues[i] = stats.chi2_contingency([[actual0_IBD[i], actual0_noIBD[i]],\n",
    "                                              [actual1_IBD[i], actual1_noIBD[i]],\n",
    "                                              [actual2_IBD[i], actual2_noIBD[i]]])[1]\n",
    "        \n",
    "    except:\n",
    "        pass"
   ]
  },
  {
   "cell_type": "code",
   "execution_count": 28,
   "metadata": {
    "scrolled": false
   },
   "outputs": [
    {
     "ename": "NameError",
     "evalue": "name 'chi2_pvalues' is not defined",
     "output_type": "error",
     "traceback": [
      "\u001b[0;31m---------------------------------------------------------------------------\u001b[0m",
      "\u001b[0;31mNameError\u001b[0m                                 Traceback (most recent call last)",
      "\u001b[0;32m<ipython-input-28-34f157776b56>\u001b[0m in \u001b[0;36m<module>\u001b[0;34m\u001b[0m\n\u001b[1;32m      1\u001b[0m \u001b[0mplt\u001b[0m\u001b[0;34m.\u001b[0m\u001b[0mfigure\u001b[0m\u001b[0;34m(\u001b[0m\u001b[0mfigsize\u001b[0m\u001b[0;34m=\u001b[0m\u001b[0;34m(\u001b[0m\u001b[0;36m15\u001b[0m\u001b[0;34m,\u001b[0m \u001b[0;36m8\u001b[0m\u001b[0;34m)\u001b[0m\u001b[0;34m)\u001b[0m\u001b[0;34m\u001b[0m\u001b[0;34m\u001b[0m\u001b[0m\n\u001b[1;32m      2\u001b[0m \u001b[0mplt\u001b[0m\u001b[0;34m.\u001b[0m\u001b[0msubplot\u001b[0m\u001b[0;34m(\u001b[0m\u001b[0;36m2\u001b[0m\u001b[0;34m,\u001b[0m \u001b[0;36m1\u001b[0m\u001b[0;34m,\u001b[0m \u001b[0;36m1\u001b[0m\u001b[0;34m)\u001b[0m\u001b[0;34m\u001b[0m\u001b[0;34m\u001b[0m\u001b[0m\n\u001b[0;32m----> 3\u001b[0;31m \u001b[0mplt\u001b[0m\u001b[0;34m.\u001b[0m\u001b[0mplot\u001b[0m\u001b[0;34m(\u001b[0m\u001b[0mintervals0\u001b[0m\u001b[0;34m[\u001b[0m\u001b[0;36m0\u001b[0m\u001b[0;34m,\u001b[0m \u001b[0;34m:\u001b[0m\u001b[0;34m]\u001b[0m\u001b[0;34m,\u001b[0m \u001b[0;34m-\u001b[0m\u001b[0mnp\u001b[0m\u001b[0;34m.\u001b[0m\u001b[0mlog10\u001b[0m\u001b[0;34m(\u001b[0m\u001b[0mchi2_pvalues\u001b[0m\u001b[0;34m)\u001b[0m\u001b[0;34m)\u001b[0m\u001b[0;34m\u001b[0m\u001b[0;34m\u001b[0m\u001b[0m\n\u001b[0m\u001b[1;32m      4\u001b[0m \u001b[0mplt\u001b[0m\u001b[0;34m.\u001b[0m\u001b[0maxhline\u001b[0m\u001b[0;34m(\u001b[0m\u001b[0;34m-\u001b[0m\u001b[0mnp\u001b[0m\u001b[0;34m.\u001b[0m\u001b[0mlog10\u001b[0m\u001b[0;34m(\u001b[0m\u001b[0;36m0.05\u001b[0m\u001b[0;34m)\u001b[0m\u001b[0;34m,\u001b[0m \u001b[0mcolor\u001b[0m\u001b[0;34m=\u001b[0m\u001b[0;34m'red'\u001b[0m\u001b[0;34m)\u001b[0m\u001b[0;34m\u001b[0m\u001b[0;34m\u001b[0m\u001b[0m\n\u001b[1;32m      5\u001b[0m \u001b[0;31m#plt.scatter(intervals0[0, :], -np.log10(chi2_pvalues_phen))\u001b[0m\u001b[0;34m\u001b[0m\u001b[0;34m\u001b[0m\u001b[0;34m\u001b[0m\u001b[0m\n",
      "\u001b[0;31mNameError\u001b[0m: name 'chi2_pvalues' is not defined"
     ]
    },
    {
     "data": {
      "image/png": "[encoded data removed]",
      "text/plain": [
       "<Figure size 1080x576 with 1 Axes>"
      ]
     },
     "metadata": {
      "needs_background": "light"
     },
     "output_type": "display_data"
    }
   ],
   "source": [
    "plt.figure(figsize=(15, 8))\n",
    "plt.subplot(2, 1, 1)\n",
    "plt.plot(intervals0[0, :], -np.log10(chi2_pvalues))\n",
    "plt.axhline(-np.log10(0.05), color='red')\n",
    "#plt.scatter(intervals0[0, :], -np.log10(chi2_pvalues_phen))\n",
    "#plt.xlim([125892000, 125928000])\n",
    "\n",
    "plt.subplot(2, 1, 2)\n",
    "plt.plot(intervals0[0, :], actual0_IBD/(actual0_IBD+actual0_noIBD), alpha=0.5, label='nt-nt')\n",
    "plt.plot(intervals1[0, :], actual1_IBD/(actual1_IBD+actual1_noIBD), alpha=0.5, label='nt-aut')\n",
    "plt.plot(intervals2[0, :], actual2_IBD/(actual2_IBD+actual2_noIBD), alpha=0.5, label='aut-aut')\n",
    "plt.legend()\n",
    "#plt.xlim([125892000, 125928000])\n",
    "plt.ylabel('IBD Fraction')\n",
    "plt.show()"
   ]
  },
  {
   "cell_type": "markdown",
   "metadata": {},
   "source": [
    "# sort out GC peak"
   ]
  },
  {
   "cell_type": "code",
   "execution_count": null,
   "metadata": {},
   "outputs": [],
   "source": []
  },
  {
   "cell_type": "markdown",
   "metadata": {},
   "source": [
    "# Figuring out GC"
   ]
  },
  {
   "cell_type": "code",
   "execution_count": 455,
   "metadata": {
    "scrolled": true
   },
   "outputs": [
    {
     "name": "stdout",
     "output_type": "stream",
     "text": [
      "Optimization terminated successfully.\n",
      "         Current function value: 0.801571\n",
      "         Iterations 7\n",
      "                          MNLogit Regression Results                          \n",
      "==============================================================================\n",
      "Dep. Variable:                      y   No. Observations:                 1474\n",
      "Model:                        MNLogit   Df Residuals:                     1466\n",
      "Method:                           MLE   Df Model:                            6\n",
      "Date:                Wed, 07 Apr 2021   Pseudo R-squ.:                 0.03768\n",
      "Time:                        21:50:10   Log-Likelihood:                -1181.5\n",
      "converged:                       True   LL-Null:                       -1227.8\n",
      "Covariance Type:            nonrobust   LLR p-value:                 9.104e-18\n",
      "==============================================================================\n",
      "       y=1       coef    std err          z      P>|z|      [0.025      0.975]\n",
      "------------------------------------------------------------------------------\n",
      "x1         -8.849e-06   4.29e-06     -2.063      0.039   -1.73e-05   -4.43e-07\n",
      "x2             1.5597      0.295      5.280      0.000       0.981       2.139\n",
      "x3             1.5309      0.286      5.351      0.000       0.970       2.092\n",
      "const          0.0755      0.228      0.331      0.740      -0.371       0.522\n",
      "------------------------------------------------------------------------------\n",
      "       y=2       coef    std err          z      P>|z|      [0.025      0.975]\n",
      "------------------------------------------------------------------------------\n",
      "x1           -4.3e-06   4.07e-06     -1.056      0.291   -1.23e-05    3.68e-06\n",
      "x2             2.3039      0.273      8.444      0.000       1.769       2.839\n",
      "x3             1.7275      0.266      6.485      0.000       1.205       2.250\n",
      "const          0.4748      0.208      2.278      0.023       0.066       0.883\n",
      "==============================================================================\n"
     ]
    }
   ],
   "source": [
    "import statsmodels.api as sm\n",
    "\n",
    "model = sm.MNLogit(np.hstack((num_affected, num_affected)), np.hstack((shared[:, np.newaxis], np.hstack((num_males, num_males))[:, np.newaxis]==2, np.hstack((num_males, num_males))[:, np.newaxis]==1, np.ones((shared.shape[0], 1)))))\n",
    "result = model.fit()\n",
    "print(result.summary())\n"
   ]
  },
  {
   "cell_type": "code",
   "execution_count": 461,
   "metadata": {
    "scrolled": true
   },
   "outputs": [
    {
     "name": "stdout",
     "output_type": "stream",
     "text": [
      "Optimization terminated successfully.\n",
      "         Current function value: 0.111998\n",
      "         Iterations 8\n",
      "                           Logit Regression Results                           \n",
      "==============================================================================\n",
      "Dep. Variable:                      y   No. Observations:                  978\n",
      "Model:                          Logit   Df Residuals:                      974\n",
      "Method:                           MLE   Df Model:                            3\n",
      "Date:                Wed, 07 Apr 2021   Pseudo R-squ.:                 0.02793\n",
      "Time:                        21:55:05   Log-Likelihood:                -109.53\n",
      "converged:                       True   LL-Null:                       -112.68\n",
      "Covariance Type:            nonrobust   LLR p-value:                   0.09810\n",
      "==============================================================================\n",
      "                 coef    std err          z      P>|z|      [0.025      0.975]\n",
      "------------------------------------------------------------------------------\n",
      "x1         -4.362e-06   8.06e-06     -0.541      0.589   -2.02e-05    1.14e-05\n",
      "x2             1.0453      0.415      2.517      0.012       0.231       1.859\n",
      "x3             0.0462      0.479      0.096      0.923      -0.893       0.986\n",
      "const          3.0115      0.465      6.482      0.000       2.101       3.922\n",
      "==============================================================================\n"
     ]
    }
   ],
   "source": [
    "import statsmodels.api as sm\n",
    "\n",
    "y = np.hstack(([x.sibling1_aff for x in sibpairs_of_interest], [x.sibling1_aff for x in sibpairs_of_interest]))\n",
    "X = np.hstack((shared[:, np.newaxis], \n",
    "                            np.hstack(([x.sibling1_male for x in sibpairs_of_interest], [x.sibling1_male for x in sibpairs_of_interest]))[:, np.newaxis], \n",
    "                            np.hstack(([x.sibling2_male for x in sibpairs_of_interest], [x.sibling2_male for x in sibpairs_of_interest]))[:, np.newaxis], \n",
    "                            np.hstack(([x.sibling2_aff for x in sibpairs_of_interest], [x.sibling2_aff for x in sibpairs_of_interest]))[:, np.newaxis], \n",
    "                            np.ones((shared.shape[0], 1))))\n",
    "\n",
    "# predict of siblings of autistic children have autism\n",
    "model = sm.Logit(y[X[:, 3]==1], X[X[:, 3]==1, :][:, [0, 1, 2, 4]])\n",
    "result = model.fit()\n",
    "print(result.summary())\n"
   ]
  },
  {
   "cell_type": "code",
   "execution_count": 462,
   "metadata": {
    "scrolled": true
   },
   "outputs": [
    {
     "name": "stdout",
     "output_type": "stream",
     "text": [
      "Optimization terminated successfully.\n",
      "         Current function value: 0.454273\n",
      "         Iterations 6\n",
      "                           Logit Regression Results                           \n",
      "==============================================================================\n",
      "Dep. Variable:                      y   No. Observations:                  496\n",
      "Model:                          Logit   Df Residuals:                      492\n",
      "Method:                           MLE   Df Model:                            3\n",
      "Date:                Wed, 07 Apr 2021   Pseudo R-squ.:                  0.1496\n",
      "Time:                        21:55:10   Log-Likelihood:                -225.32\n",
      "converged:                       True   LL-Null:                       -264.94\n",
      "Covariance Type:            nonrobust   LLR p-value:                 4.451e-17\n",
      "==============================================================================\n",
      "                 coef    std err          z      P>|z|      [0.025      0.975]\n",
      "------------------------------------------------------------------------------\n",
      "x1          -1.08e-05   4.71e-06     -2.292      0.022      -2e-05   -1.57e-06\n",
      "x2             2.0271      0.245      8.282      0.000       1.547       2.507\n",
      "x3            -0.4727      0.242     -1.955      0.051      -0.946       0.001\n",
      "const          0.1723      0.206      0.836      0.403      -0.232       0.576\n",
      "==============================================================================\n"
     ]
    }
   ],
   "source": [
    "# predict if siblings of nt children have autism\n",
    "model = sm.Logit(y[X[:, 3]==0], X[X[:, 3]==0, :][:, [0, 1, 2, 4]])\n",
    "result = model.fit()\n",
    "print(result.summary())"
   ]
  },
  {
   "cell_type": "code",
   "execution_count": 275,
   "metadata": {
    "scrolled": true
   },
   "outputs": [
    {
     "name": "stdout",
     "output_type": "stream",
     "text": [
      "(737, 4, 5015) (5015,)\n"
     ]
    }
   ],
   "source": [
    "data_dir = '../../DATA/mssng/genotypes'\n",
    "ped_file = '../../DATA/mssng/mssng.ped.quads.ped'\n",
    "start_pos, end_pos = 125880000, 125930000\n",
    "\n",
    "gen_files = sorted([f for f in listdir(data_dir) if ('chr.%s.' % chrom) in f and 'gen.npz' in f], key=lambda x: int(x.split('.')[2]))\n",
    "coord_files = sorted([f for f in listdir(data_dir) if ('chr.%s.' % chrom) in f and 'gen.coordinates.npy' in f], key=lambda x: int(x.split('.')[2]))\n",
    "sample_file = '%s/samples.json' % data_dir\n",
    "\n",
    "# read samples\n",
    "with open(sample_file, 'r') as f:\n",
    "    samples = json.load(f)\n",
    "    sample_id_to_index = dict([(x, i) for i, x in enumerate(samples)])\n",
    "\n",
    "indices = np.array([(sample_id_to_index[sp.mom], sample_id_to_index[sp.dad], \n",
    "                     sample_id_to_index[sp.sibling1], sample_id_to_index[sp.sibling2]) for sp in sibpairs_of_interest])\n",
    "\n",
    "gens, snp_positions = [], []\n",
    "total_pos = 0\n",
    "for gen_file, coord_file in zip(gen_files, coord_files):\n",
    "    coords = np.load('%s/%s' % (data_dir, coord_file))\n",
    "\n",
    "    if coords.shape[0]>0:\n",
    "        poss = coords[:, 1]\n",
    "        is_snp = coords[:, 2]==1\n",
    "        is_pass = coords[:, 3]==1\n",
    "\n",
    "        in_interval = (coords[:, 1]>=start_pos) & (coords[:, 1]<=end_pos)\n",
    "        if np.sum(is_snp & is_pass & in_interval)>0:\n",
    "            gen = sparse.load_npz('%s/%s' % (data_dir, gen_file))[:, in_interval].A[indices, :]\n",
    "            gens.append(gen)\n",
    "            snp_positions.append(poss[in_interval])\n",
    "\n",
    "gens = np.hstack(gens)\n",
    "snp_positions = np.hstack(snp_positions)\n",
    "print(gens.shape, snp_positions.shape)\n"
   ]
  },
  {
   "cell_type": "code",
   "execution_count": 282,
   "metadata": {
    "scrolled": true
   },
   "outputs": [
    {
     "data": {
      "image/png": "[encoded data removed]",
      "text/plain": [
       "<Figure size 1080x720 with 3 Axes>"
      ]
     },
     "metadata": {
      "needs_background": "light"
     },
     "output_type": "display_data"
    }
   ],
   "source": [
    "\n",
    "plt.figure(figsize=(15, 10))\n",
    "\n",
    "plt.subplot(3, 1, 1)\n",
    "index = np.random.randint(0, np.sum(num_affected==0))\n",
    "plt.imshow(gen[num_affected==0, :][index, :], aspect='auto')\n",
    "\n",
    "plt.subplot(3, 1, 2)\n",
    "index = np.random.randint(0, np.sum(num_affected==1))\n",
    "plt.imshow(gen[num_affected==1, :][index, :], aspect='auto')\n",
    "\n",
    "plt.subplot(3, 1, 3)\n",
    "index = np.random.randint(0, np.sum(num_affected==2))\n",
    "plt.imshow(gen[num_affected==2, :][index, :], aspect='auto')\n",
    "\n",
    "plt.show()"
   ]
  },
  {
   "cell_type": "code",
   "execution_count": 272,
   "metadata": {
    "scrolled": true
   },
   "outputs": [
    {
     "data": {
      "image/png": "[encoded data removed]",
      "text/plain": [
       "<Figure size 432x288 with 1 Axes>"
      ]
     },
     "metadata": {
      "needs_background": "light"
     },
     "output_type": "display_data"
    }
   ],
   "source": [
    "plt.hist(np.sum((gens[num_affected==0, 0, :]==0) & (gens[num_affected==0, 1, :]==0), axis=0)/np.sum(num_affected==0), alpha=0.5, bins=np.arange(0, 1, 0.05))\n",
    "plt.hist(np.sum((gens[num_affected==1, 0, :]==0) & (gens[num_affected==1, 1, :]==0), axis=0)/np.sum(num_affected==1), alpha=0.5, bins=np.arange(0, 1, 0.05))\n",
    "plt.hist(np.sum((gens[num_affected==2, 0, :]==0) & (gens[num_affected==2, 1, :]==0), axis=0)/np.sum(num_affected==2), alpha=0.5, bins=np.arange(0, 1, 0.05))\n",
    "\n",
    "plt.show()"
   ]
  },
  {
   "cell_type": "code",
   "execution_count": 274,
   "metadata": {
    "scrolled": true
   },
   "outputs": [
    {
     "data": {
      "image/png": "[encoded data removed]",
      "text/plain": [
       "<Figure size 432x288 with 1 Axes>"
      ]
     },
     "metadata": {
      "needs_background": "light"
     },
     "output_type": "display_data"
    }
   ],
   "source": [
    "plt.hist(np.sum((gens[num_affected==0, 0, :]==1) & (gens[num_affected==0, 1, :]==1), axis=0)/np.sum(num_affected==0), alpha=0.5, bins=np.arange(0.05, 1.05, 0.05))\n",
    "plt.hist(np.sum((gens[num_affected==1, 0, :]==1) & (gens[num_affected==1, 1, :]==1), axis=0)/np.sum(num_affected==1), alpha=0.5, bins=np.arange(0.05, 1.05, 0.05))\n",
    "plt.hist(np.sum((gens[num_affected==2, 0, :]==1) & (gens[num_affected==2, 1, :]==1), axis=0)/np.sum(num_affected==2), alpha=0.5, bins=np.arange(0.05, 1.05, 0.05))\n",
    "\n",
    "plt.show()"
   ]
  },
  {
   "cell_type": "code",
   "execution_count": 270,
   "metadata": {
    "scrolled": true
   },
   "outputs": [
    {
     "data": {
      "image/png": "[encoded data removed]",
      "text/plain": [
       "<Figure size 432x288 with 1 Axes>"
      ]
     },
     "metadata": {
      "needs_background": "light"
     },
     "output_type": "display_data"
    }
   ],
   "source": [
    "plt.hist(np.sum(((gens[num_affected==0, 0, :]==0) & (gens[num_affected==0, 1, :]==1)) | ((gens[num_affected==0, 0, :]==1) & (gens[num_affected==0, 1, :]==0)), axis=0)/np.sum(num_affected==0), alpha=0.5, bins=np.arange(0.05, 1.05, 0.05))\n",
    "plt.hist(np.sum(((gens[num_affected==1, 0, :]==0) & (gens[num_affected==1, 1, :]==1)) | ((gens[num_affected==1, 0, :]==1) & (gens[num_affected==1, 1, :]==0)), axis=0)/np.sum(num_affected==1), alpha=0.5, bins=np.arange(0.05, 1.05, 0.05))\n",
    "plt.hist(np.sum(((gens[num_affected==2, 0, :]==0) & (gens[num_affected==2, 1, :]==1)) | ((gens[num_affected==2, 0, :]==1) & (gens[num_affected==2, 1, :]==0)), axis=0)/np.sum(num_affected==2), alpha=0.5, bins=np.arange(0.05, 1.05, 0.05))\n",
    "\n",
    "plt.show()"
   ]
  },
  {
   "cell_type": "code",
   "execution_count": 186,
   "metadata": {
    "scrolled": true
   },
   "outputs": [
    {
     "name": "stdout",
     "output_type": "stream",
     "text": [
      "[125880401 125880533 125880722 125881178 125881863 125882496 125884204\n",
      " 125884446 125885273 125885447 125885978 125886197 125887621 125888061\n",
      " 125888233 125888240 125888243 125888718 125889474 125889512 125890484\n",
      " 125890771 125890990 125891138 125892202 125892203 125892446 125893451\n",
      " 125893653 125893654 125893968 125894180 125894199 125894280 125894783\n",
      " 125894784 125895919 125895978 125896024 125896611 125897454 125897455\n",
      " 125898041 125898101 125898398 125898578 125899776 125900367 125900368\n",
      " 125900376 125901215 125901395 125901507 125903514 125903515 125903817\n",
      " 125903975 125904174 125904846 125904892 125905265 125905266 125905304\n",
      " 125905305 125905373 125905425 125905976 125906119 125906363 125906410\n",
      " 125906411 125906548 125906608 125906832 125907151 125907251 125907536\n",
      " 125907906 125907993 125909245 125910310 125910963 125916913 125917966\n",
      " 125917991 125917992 125918596 125918693 125918694 125918843 125918924\n",
      " 125919698 125919771 125920553 125920708 125921148 125923829 125924307\n",
      " 125925260 125926357 125926358 125926468 125926469 125926492]\n"
     ]
    }
   ],
   "source": [
    "print(interval_bins_val[actual>=np.quantile(z, 0.95)])"
   ]
  },
  {
   "cell_type": "code",
   "execution_count": 169,
   "metadata": {
    "scrolled": true
   },
   "outputs": [
    {
     "name": "stdout",
     "output_type": "stream",
     "text": [
      "[125880401 125880533 125880722 125881178 125881863 125882496 125884204\n",
      " 125884446 125885273 125885447 125885978 125886197 125887621 125888240\n",
      " 125888243 125888718 125889512 125890771 125890990 125891138 125892202\n",
      " 125892203 125892446 125893451 125893653 125893654 125893968 125894199\n",
      " 125894280 125894783 125894784 125895919 125895978 125896024 125896611\n",
      " 125897454 125897455 125898041 125898101 125898398 125898578 125899776\n",
      " 125900376 125901215 125901395 125901507 125903514 125903515 125903817\n",
      " 125903975 125904174 125904846 125904892 125905266 125905304 125905305\n",
      " 125905373 125905976 125906119 125906410 125906411 125906548 125906608\n",
      " 125906832 125907536 125907906 125907993 125909245 125910310 125910963\n",
      " 125916913 125917966 125917991 125917992 125918693 125918694 125918843\n",
      " 125919771 125920553 125921148 125923829 125924307 125925260 125926357\n",
      " 125926358 125926468 125926469 125926492]\n"
     ]
    }
   ],
   "source": [
    "print(interval_bins_val[actual>=np.quantile(z, 0.9)])"
   ]
  },
  {
   "cell_type": "code",
   "execution_count": 158,
   "metadata": {
    "scrolled": true
   },
   "outputs": [
    {
     "name": "stdout",
     "output_type": "stream",
     "text": [
      "[125894783 125896611 125897454 125900367 125900368 125901507 125903975\n",
      " 125905265 125905304]\n"
     ]
    }
   ],
   "source": [
    "print(interval_bins_val[actual>=np.quantile(z, 0.9)])"
   ]
  },
  {
   "cell_type": "markdown",
   "metadata": {},
   "source": [
    "# Markov Chain"
   ]
  },
  {
   "cell_type": "code",
   "execution_count": null,
   "metadata": {
    "scrolled": true
   },
   "outputs": [],
   "source": [
    "n = 112 + 55\n",
    "t = 10000*n\n",
    "\n",
    "a = np.random.rand(t)\n",
    "obs = np.zeros((t,), dtype=int)\n",
    "obs[0] = n/2\n",
    "for i in range(1, t):\n",
    "    if a[i] < (n-obs[i-1])/n:\n",
    "        obs[i] = obs[i-1]+1\n",
    "    else:\n",
    "        obs[i] = obs[i-1]-1"
   ]
  },
  {
   "cell_type": "code",
   "execution_count": null,
   "metadata": {
    "scrolled": true
   },
   "outputs": [],
   "source": [
    "plt.figure(figsize=(15, 5))\n",
    "plt.plot(obs)\n",
    "plt.axhline(n/2, color='black', linestyle='--')\n",
    "plt.show()"
   ]
  },
  {
   "cell_type": "code",
   "execution_count": null,
   "metadata": {
    "scrolled": true
   },
   "outputs": [],
   "source": [
    "plt.hist(obs, bins=np.arange(60, 120))\n",
    "plt.axvline(112)\n",
    "plt.show()"
   ]
  },
  {
   "cell_type": "code",
   "execution_count": null,
   "metadata": {
    "scrolled": true
   },
   "outputs": [],
   "source": [
    "P = np.zeros((n+1,n+1))\n",
    "for i in range(n+1):\n",
    "    if i+1<n+1:\n",
    "        P[i, i+1] = (n-i)/n\n",
    "    if i-1>=0:\n",
    "        P[i, i-1] = i/n\n",
    "assert np.all(np.isclose(np.sum(P, axis=1), 1))\n",
    "print(P)"
   ]
  },
  {
   "cell_type": "code",
   "execution_count": null,
   "metadata": {
    "scrolled": true
   },
   "outputs": [],
   "source": [
    "eigval, eigvec = scipy.linalg.eig(P, left=True, right=False)\n",
    "print(eigval[0])\n",
    "stationary = eigvec[:, 0]/np.sum(eigvec[:, 0])\n",
    "stationary[stationary<0] = 0\n",
    "stationary = stationary/np.sum(stationary)"
   ]
  },
  {
   "cell_type": "code",
   "execution_count": null,
   "metadata": {
    "scrolled": true
   },
   "outputs": [],
   "source": [
    "min_bound = np.argmax(np.cumsum(stationary)>0.025)\n",
    "max_bound = n-np.argmax(np.cumsum(np.flip(stationary))>0.025)\n",
    "print(min_bound, max_bound)"
   ]
  },
  {
   "cell_type": "code",
   "execution_count": null,
   "metadata": {
    "scrolled": true
   },
   "outputs": [],
   "source": [
    "plt.plot(stationary)\n",
    "plt.axvline(min_bound)\n",
    "plt.axvline(max_bound)\n",
    "plt.show()"
   ]
  },
  {
   "cell_type": "code",
   "execution_count": null,
   "metadata": {
    "scrolled": true
   },
   "outputs": [],
   "source": [
    "print(np.sum(stationary[112:]))"
   ]
  },
  {
   "cell_type": "code",
   "execution_count": null,
   "metadata": {
    "scrolled": true
   },
   "outputs": [],
   "source": [
    "plt.plot(-np.log10(stationary))\n",
    "plt.axhline(-np.log10(0.05))\n",
    "plt.show()"
   ]
  },
  {
   "cell_type": "code",
   "execution_count": null,
   "metadata": {
    "scrolled": true
   },
   "outputs": [],
   "source": []
  }
 ],
 "metadata": {
  "kernelspec": {
   "display_name": "Python 3",
   "language": "python",
   "name": "python3"
  },
  "language_info": {
   "codemirror_mode": {
    "name": "ipython",
    "version": 3
   },
   "file_extension": ".py",
   "mimetype": "text/x-python",
   "name": "python",
   "nbconvert_exporter": "python",
   "pygments_lexer": "ipython3",
   "version": "3.7.3"
  }
 },
 "nbformat": 4,
 "nbformat_minor": 2
}
