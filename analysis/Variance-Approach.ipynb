{
 "cells": [
  {
   "cell_type": "code",
   "execution_count": 8,
   "metadata": {},
   "outputs": [],
   "source": [
    "import numpy as np\n",
    "import scipy.linalg\n",
    "from collections import defaultdict, namedtuple, Counter\n",
    "from itertools import combinations, islice\n",
    "import numpy as np\n",
    "import scipy.stats as stats\n",
    "import sys\n",
    "from os import listdir\n",
    "import json\n",
    "import random\n",
    "import csv\n",
    "import sys\n",
    "import cvxpy as cp\n",
    "import matplotlib.pyplot as plt\n",
    "import scipy.sparse as sparse"
   ]
  },
  {
   "cell_type": "markdown",
   "metadata": {},
   "source": [
    "# First, let's look at head circumference"
   ]
  },
  {
   "cell_type": "code",
   "execution_count": 9,
   "metadata": {},
   "outputs": [],
   "source": [
    "child_to_headcirc = dict()\n",
    "with open('../../PhasingFamilies/phenotypes/ihart/AGRE_PhysMeas1.csv', 'r') as f:\n",
    "    reader = csv.reader(f)\n",
    "    header = next(reader)\n",
    "    head_circ_index = header.index('Maximum_Head_Circumference')\n",
    "    age_index = header.index('age')\n",
    "    id_index = header.index('Individual ID')\n",
    "    \n",
    "    for pieces in reader:\n",
    "        c = float(pieces[head_circ_index])\n",
    "        if c != 0 and c != -1:\n",
    "            child_to_headcirc[pieces[id_index]] = c\n",
    "    \n",
    "    "
   ]
  },
  {
   "cell_type": "code",
   "execution_count": 10,
   "metadata": {},
   "outputs": [
    {
     "name": "stdout",
     "output_type": "stream",
     "text": [
      "ped loaded\n"
     ]
    }
   ],
   "source": [
    "ped_file = '../../DATA/ihart.ms2/ihart.ped'\n",
    "\n",
    "# pull affected status\n",
    "# (0=unknown; 1=unaffected; 2=affected)\n",
    "mother_to_children = defaultdict(set)\n",
    "father_to_children = defaultdict(set)\n",
    "child_to_mother = dict()\n",
    "child_to_father = dict()\n",
    "\n",
    "with open(ped_file, 'r') as f:\n",
    "    for line in f:\n",
    "        pieces = line.strip().split('\\t')\n",
    "        if len(pieces) >= 6:\n",
    "            fam_id, child_id, f_id, m_id, sex, disease_status = pieces[0:6]\n",
    "            \n",
    "            if 'LCL' not in child_id and f_id != '0' and m_id != '0':\n",
    "                mother_to_children[m_id].add(child_id)\n",
    "                father_to_children[f_id].add(child_id)\n",
    "                child_to_mother[child_id] = m_id\n",
    "                child_to_father[child_id] = f_id\n",
    "\n",
    "\n",
    "print('ped loaded')\n"
   ]
  },
  {
   "cell_type": "code",
   "execution_count": 37,
   "metadata": {},
   "outputs": [],
   "source": [
    "sibpairs = []\n",
    "\n",
    "# pull identicals\n",
    "with open('../../PhasingFamilies/phased_ihart.ms2_quads_del/identicals.txt', 'r') as f:\n",
    "    for line in f:\n",
    "        pieces = line.strip().split('\\t')\n",
    "        if pieces[2] == 'identical':\n",
    "            sibs = [pieces[0], pieces[1]]\n",
    "            random.shuffle(sibs)\n",
    "            if sibs[0] in child_to_headcirc and sibs[1] in child_to_headcirc:\n",
    "                sibpairs.append((sibs, 'identical'))\n",
    "            \n",
    "# pull full sibs and mat half sibs\n",
    "for mother, children in mother_to_children.items():\n",
    "    for sib1, sib2 in combinations(children, r=2):\n",
    "        sibs = [sib1, sib2]\n",
    "        random.shuffle(sibs)\n",
    "        if sibs[0] in child_to_headcirc and sibs[1] in child_to_headcirc:\n",
    "            if child_to_father[sib1] == child_to_father[sib2]:\n",
    "                sibpairs.append((sibs, 'full'))\n",
    "            else:\n",
    "                sibpairs.append((sibs, 'mat half'))\n",
    "            \n",
    "# pull pat half sibs\n",
    "for father, children in father_to_children.items():\n",
    "    for sib1, sib2 in combinations(children, r=2):\n",
    "        sibs = [sib1, sib2]\n",
    "        random.shuffle(sibs)\n",
    "        if sibs[0] in child_to_headcirc and sibs[1] in child_to_headcirc:\n",
    "            if child_to_mother[sib1] != child_to_mother[sib2]:\n",
    "                sibpairs.append((sibs, 'pat half'))\n",
    "                \n",
    "\n"
   ]
  },
  {
   "cell_type": "code",
   "execution_count": 38,
   "metadata": {},
   "outputs": [],
   "source": [
    "# you need to interrupt this after a few seconds, because it just keeps going - no need to have all pairs\n",
    "\n",
    "children = list(set(sum([list(x) for x in mother_to_children.values()], [])))\n",
    "random.shuffle(children)\n",
    "\n",
    "unrelated_sibpairs = list(combinations(children, r=2))\n",
    "random.shuffle(unrelated_sibpairs)\n",
    "\n",
    "for sib1, sib2 in unrelated_sibpairs[:1000]:\n",
    "    if child_to_father[sib1] != child_to_father[sib2] and child_to_mother[sib1] != child_to_mother[sib2]:\n",
    "        sibs = [sib1, sib2]\n",
    "        random.shuffle(sibs)\n",
    "        if sibs[0] in child_to_headcirc and sibs[1] in child_to_headcirc:\n",
    "            sibpairs.append((sibs, 'unrelated'))"
   ]
  },
  {
   "cell_type": "code",
   "execution_count": 39,
   "metadata": {},
   "outputs": [
    {
     "name": "stdout",
     "output_type": "stream",
     "text": [
      "55 1391 101 390\n"
     ]
    }
   ],
   "source": [
    "circ = np.array([child_to_headcirc[sibpair[0][0]]-child_to_headcirc[sibpair[0][1]] for sibpair in sibpairs])\n",
    "is_identical = np.array([sibpair[1]=='identical' for sibpair in sibpairs])\n",
    "is_full = np.array([sibpair[1]=='full' for sibpair in sibpairs])\n",
    "is_half_mat = np.array([sibpair[1]=='mat half' for sibpair in sibpairs])\n",
    "is_half_pat = np.array([sibpair[1]=='pat half' for sibpair in sibpairs])\n",
    "is_unrelated = np.array([sibpair[1]=='unrelated' for sibpair in sibpairs])\n",
    "print(np.sum(is_identical), np.sum(is_full), np.sum(is_half_mat|is_half_pat), np.sum(is_unrelated))"
   ]
  },
  {
   "cell_type": "code",
   "execution_count": 40,
   "metadata": {},
   "outputs": [
    {
     "data": {
      "image/png": "[encoded data removed]",
      "text/plain": [
       "<Figure size 432x288 with 1 Axes>"
      ]
     },
     "metadata": {
      "needs_background": "light"
     },
     "output_type": "display_data"
    }
   ],
   "source": [
    "plt.hist(circ[is_identical], bins=np.arange(-15, 15), alpha=0.5, density=True)\n",
    "plt.hist(circ[is_full], bins=np.arange(-15, 15), alpha=0.5, density=True)\n",
    "plt.hist(circ[is_half_mat | is_half_pat], bins=np.arange(-15, 15), alpha=0.5, density=True)\n",
    "plt.hist(circ[is_unrelated], bins=np.arange(-15, 15), alpha=0.5, density=True)\n",
    "\n",
    "plt.show()"
   ]
  },
  {
   "cell_type": "code",
   "execution_count": 41,
   "metadata": {},
   "outputs": [
    {
     "data": {
      "image/png": "[encoded data removed]",
      "text/plain": [
       "<Figure size 432x288 with 1 Axes>"
      ]
     },
     "metadata": {
      "needs_background": "light"
     },
     "output_type": "display_data"
    },
    {
     "name": "stdout",
     "output_type": "stream",
     "text": [
      "-11.671480223971832 13.374117393889588\n"
     ]
    }
   ],
   "source": [
    "plt.plot([0, 0.5, 1], [np.var(circ[is_unrelated]), np.var(circ[is_full]), np.var(circ[is_identical])], marker='o')\n",
    "plt.xlabel('Genomic similarity')\n",
    "plt.ylabel('Variance')\n",
    "plt.show()\n",
    "\n",
    "m, b = np.polyfit([0, 0.5, 1], \n",
    "                  [np.var(circ[is_unrelated]), np.var(circ[is_full]), np.var(circ[is_identical])], \n",
    "                  1)\n",
    "print(m, b)"
   ]
  },
  {
   "cell_type": "code",
   "execution_count": 42,
   "metadata": {},
   "outputs": [],
   "source": [
    "# we conclude that var is linear in genomic similarity"
   ]
  },
  {
   "cell_type": "markdown",
   "metadata": {},
   "source": [
    "# Now let's expand to include more detailed genomic similarity\n",
    "## We also switch to using  SPARK rather than iHART"
   ]
  },
  {
   "cell_type": "code",
   "execution_count": 106,
   "metadata": {},
   "outputs": [],
   "source": [
    "#dataset = 'recomb_spark'\n",
    "#ped_file = '../../DATA/spark/sparkfam.ped.quads.ped'\n",
    "\n",
    "dataset = 'recomb_ihart.ms2'\n",
    "ped_file = '../../DATA/ihart.ms2/ihart.ped.quads.ped'"
   ]
  },
  {
   "cell_type": "code",
   "execution_count": 107,
   "metadata": {},
   "outputs": [
    {
     "name": "stdout",
     "output_type": "stream",
     "text": [
      "Overall\n",
      "families 845\n",
      "sibpairs 2011\n"
     ]
    }
   ],
   "source": [
    "with open('../../PhasingFamilies/%s/sibpairs.json' % dataset, 'r') as f:\n",
    "\tsibpairs = json.load(f)\n",
    "    \n",
    "# These lines include identical sibpairs into the analysis\n",
    "\n",
    "with open('../../PhasingFamilies/%s/identical_sibpairs.json' % dataset, 'r') as f:\n",
    "\tsibpairs.extend(json.load(f))\n",
    "    \n",
    "sibpairs = [x for x in sibpairs if ('LCL' not in x['sibling1']) and ('LCL' not in x['sibling2'])]\n",
    "    \n",
    "print('Overall')\n",
    "print('families', len(set([x['family'].split('.')[0] for x in sibpairs])))\n",
    "print('sibpairs', len(sibpairs))\n",
    "num_sibpairs = len(sibpairs)"
   ]
  },
  {
   "cell_type": "code",
   "execution_count": 108,
   "metadata": {},
   "outputs": [],
   "source": [
    "#sample_to_affected = dict()\n",
    "##with open('../../PhasingFamilies/phenotypes/spark_v5/spark_v5-scq-prep.csv', 'r') as f:\n",
    "#    reader = csv.reader(f)\n",
    "#    for pieces in reader:\n",
    "#        phen = pieces[13:53]\n",
    "#        sample_to_affected[pieces[2]] = phen"
   ]
  },
  {
   "cell_type": "code",
   "execution_count": 109,
   "metadata": {},
   "outputs": [],
   "source": [
    "sample_to_affected = child_to_headcirc"
   ]
  },
  {
   "cell_type": "code",
   "execution_count": 110,
   "metadata": {},
   "outputs": [
    {
     "name": "stdout",
     "output_type": "stream",
     "text": [
      "ped loaded 2635\n"
     ]
    }
   ],
   "source": [
    "# pull affected status\n",
    "# (0=unknown; 1=unaffected; 2=affected)\n",
    "child_to_sex = dict()\n",
    "\n",
    "with open(ped_file, 'r') as f:\n",
    "    for line in f:\n",
    "        pieces = line.strip().split('\\t')\n",
    "        if len(pieces) >= 6:\n",
    "            fam_id, child_id, f_id, m_id, sex, disease_status = pieces[0:6]\n",
    "            if sex=='1' or sex=='2':\n",
    "                child_to_sex[child_id] = sex\n",
    "\n",
    "\n",
    "print('ped loaded', len(child_to_sex))\n"
   ]
  },
  {
   "cell_type": "code",
   "execution_count": 111,
   "metadata": {},
   "outputs": [
    {
     "name": "stdout",
     "output_type": "stream",
     "text": [
      "1200\n"
     ]
    }
   ],
   "source": [
    "sibpairs = [x for x in sibpairs if (x['sibling1'] in sample_to_affected) and (x['sibling2'] in sample_to_affected) and (x['sibling1'] in child_to_sex) and (x['sibling2'] in child_to_sex)]\n",
    "for sibpair in sibpairs:\n",
    "    if random.randint(1, 2)==1:\n",
    "        sibpair['sibling1'], sibpair['sibling2'] = sibpair['sibling2'], sibpair['sibling1']\n",
    "print(len(sibpairs))\n"
   ]
  },
  {
   "cell_type": "code",
   "execution_count": 112,
   "metadata": {},
   "outputs": [
    {
     "name": "stdout",
     "output_type": "stream",
     "text": [
      "590 246 229 135\n"
     ]
    }
   ],
   "source": [
    "is_mm = np.array([child_to_sex[sibpair['sibling1']]=='1' and child_to_sex[sibpair['sibling2']]=='1' for sibpair in sibpairs])\n",
    "is_mf = np.array([child_to_sex[sibpair['sibling1']]=='1' and child_to_sex[sibpair['sibling2']]=='2' for sibpair in sibpairs])\n",
    "is_fm = np.array([child_to_sex[sibpair['sibling1']]=='2' and child_to_sex[sibpair['sibling2']]=='1' for sibpair in sibpairs])\n",
    "is_ff = np.array([child_to_sex[sibpair['sibling1']]=='2' and child_to_sex[sibpair['sibling2']]=='2' for sibpair in sibpairs])\n",
    "\n",
    "assert np.all(is_mm | is_mf | is_fm | is_ff)\n",
    "assert np.all(is_mm.astype(int) + is_mf.astype(int) + is_fm.astype(int) + is_ff.astype(int) == 1)\n",
    "\n",
    "print(np.sum(is_mm), np.sum(is_mf), np.sum(is_fm), np.sum(is_ff))"
   ]
  },
  {
   "cell_type": "code",
   "execution_count": 113,
   "metadata": {},
   "outputs": [
    {
     "name": "stdout",
     "output_type": "stream",
     "text": [
      "(1200, 2) (1200,)\n"
     ]
    }
   ],
   "source": [
    "X = np.array([[sibpair['maternal_ibd'], sibpair['paternal_ibd']] for sibpair in sibpairs])\n",
    "\n",
    "#P = np.array([[-1 if ((x not in {'1.0', '0.0'}) or (y not in {'1.0', '0.0'})) else int(x!=y) for x, y in zip(sample_to_affected[sibpair['sibling1']], sample_to_affected[sibpair['sibling2']])] for sibpair in sibpairs])\n",
    "\n",
    "P = np.array([sample_to_affected[sibpair['sibling1']]-sample_to_affected[sibpair['sibling2']] for sibpair in sibpairs])\n",
    "\n",
    "print(X.shape, P.shape)\n"
   ]
  },
  {
   "cell_type": "code",
   "execution_count": 114,
   "metadata": {},
   "outputs": [
    {
     "data": {
      "image/png": "[encoded data removed]",
      "text/plain": [
       "<Figure size 432x288 with 1 Axes>"
      ]
     },
     "metadata": {
      "needs_background": "light"
     },
     "output_type": "display_data"
    },
    {
     "name": "stdout",
     "output_type": "stream",
     "text": [
      "maternal 0.5226233847470284 0.012437404944197502\n",
      "paternal 0.5235476635069236 0.014460564017782748\n"
     ]
    }
   ],
   "source": [
    "plt.hist(X[:, 0], alpha=0.5, bins=np.arange(0, 1, 0.05))\n",
    "plt.hist(X[:, 1], alpha=0.5, bins=np.arange(0, 1, 0.05))\n",
    "plt.show()\n",
    "\n",
    "print('maternal', np.mean(X[:, 0]), np.var(X[:, 0]))\n",
    "print('paternal', np.mean(X[:, 1]), np.var(X[:, 1]))"
   ]
  },
  {
   "cell_type": "code",
   "execution_count": 74,
   "metadata": {},
   "outputs": [],
   "source": [
    "# Paternal similarity has a higher variance than maternal similarity\n",
    "# Both have means near 0.5 as expected"
   ]
  },
  {
   "cell_type": "code",
   "execution_count": null,
   "metadata": {},
   "outputs": [],
   "source": [
    "# Below we do MLE\n",
    "# We assume Y is a random variable in {-1, 0, 1}\n",
    "# We know that the distribution of Y must be symmetric (by symmetry of sibpairs)\n",
    "# From head circumference, we know we want to model var(Y) = a*g_mat + b*g_pat + e\n",
    "# where a captures the variance component driven by maternal genomic similarity, \n",
    "# b captures the variance component driven by paternal genomic similarity\n",
    "# and e is all the rest of the variance\n",
    "# we expect a, b <= 0 and e >= 0\n",
    "\n",
    "# Let \n",
    "# p_1 = P[Y=-1]\n",
    "# p_2 = P[Y=0]\n",
    "# p_3 = P[Y=1]\n",
    "\n",
    "# by symmetry p_1 = p_3\n",
    "\n",
    "# by definition, since E[Y] = 0,\n",
    "# var(Y) = p_1(-1)^2 + p_2(0)^2 + p_3(1)^2\n",
    "#        = 2p_1\n",
    "# p_1 = var(Y)/2\n",
    "# p_2 = 1 - var(Y)\n",
    "# p_3 = var(Y)/2\n",
    "\n",
    "# putting this all together, the log likelihood of our data under this model is\n",
    "# \\sum_{Y_i in {-1, 1}} \\log(a*g_mat^i + b*g_pat^i + e)/2\n",
    "# + \\sum_{Y_i = 0} \\log(1- (a*g_mat^i + b*g_pat^i + e))\n",
    "\n",
    "# Luckily for us, the above is concave, so we solve with cvxpy\n",
    "# Then we do a bunch of permutation tests to figure out if anything is meaningful"
   ]
  },
  {
   "cell_type": "code",
   "execution_count": null,
   "metadata": {},
   "outputs": [],
   "source": [
    "def solve(G, p):\n",
    "    a = cp.Variable()\n",
    "    b = cp.Variable()\n",
    "    e = cp.Variable()\n",
    "\n",
    "    v = a*(1-G[:, 0]) + b*(1-G[:, 1]) + e\n",
    "    prob = cp.Problem(cp.Maximize(cp.sum(cp.log(v[p==1]/2)) + cp.sum(cp.log(1-v[p==0]))),\n",
    "                     [a>=0, b>=0, e>=0])\n",
    "    prob.solve(solver='ECOS')\n",
    "    \n",
    "    return np.array([a.value, b.value, e.value])\n",
    "\n",
    "var_components = np.zeros((40, 3))\n",
    "var_baseline = np.zeros((40, 3, 5000))\n",
    "indices = np.arange(0, X.shape[0])\n",
    "\n",
    "for phen_index in range(40):\n",
    "    var_components[phen_index, :] = solve(X, P[:, phen_index])\n",
    "\n",
    "for j in range(5000):\n",
    "    print(j, end=' ')\n",
    "    \n",
    "    np.random.shuffle(indices)\n",
    "    Z = X[indices, :]\n",
    "    \n",
    "    for phen_index in range(40):    \n",
    "        var_baseline[phen_index, :, j] = solve(Z, P[:, phen_index])"
   ]
  },
  {
   "cell_type": "code",
   "execution_count": null,
   "metadata": {},
   "outputs": [],
   "source": [
    "aut_response = ['0.0', '0.0', '1.0', '1.0', '1.0',\n",
    "                '1.0', '1.0', '1.0', '0.0', '1.0',\n",
    "                '1.0', '1.0', '1.0', '1.0', '1.0',\n",
    "                '1.0', '1.0', '1.0', '0.0', '0.0',\n",
    "                '0.0', '0.0', '0.0', '0.0', '0.0',\n",
    "                '0.0', '0.0', '0.0', '0.0', '0.0',\n",
    "                '0.0', '0.0', '0.0', '0.0', '0.0',\n",
    "                '0.0', '0.0', '0.0', '0.0', '0.0']\n",
    "\n",
    "def pull_phenotype(indices):\n",
    "    phen = np.zeros((len(sibpairs),), dtype=int)\n",
    "    has_missing = np.zeros((len(sibpairs),), dtype=bool)\n",
    "    for i, sibpair in enumerate(sibpairs):\n",
    "        for j in indices:\n",
    "            sib1_phen, sib2_phen = sample_to_affected[sibpair['sibling1']][j], sample_to_affected[sibpair['sibling2']][j]\n",
    "            if (sib1_phen in {'1.0', '0.0'}) and (sib2_phen in {'1.0', '0.0'}):\n",
    "                phen[i] += (int(sib1_phen==aut_response[j]) - int(sib2_phen==aut_response[j]))\n",
    "            else:\n",
    "                has_missing[i] = True\n",
    "    return phen, has_missing"
   ]
  },
  {
   "cell_type": "code",
   "execution_count": null,
   "metadata": {},
   "outputs": [],
   "source": [
    "bootstrap_pvalues = np.ones((40, 3))\n",
    "for i in range(40):\n",
    "    for j in range(3):\n",
    "        bootstrap_pvalues[i, j] = np.sum(var_components[i, j] <= var_baseline[i, j, :1000])/1000\n"
   ]
  },
  {
   "cell_type": "code",
   "execution_count": null,
   "metadata": {},
   "outputs": [],
   "source": [
    "plt.figure(figsize=(15, 10))\n",
    "\n",
    "plt.subplot(2, 1, 1)\n",
    "plt.violinplot(var_baseline[:, 0, :].T, showmedians=True)\n",
    "plt.scatter(np.arange(1, 41), var_components[:, 0])\n",
    "\n",
    "plt.subplot(2, 1, 2)\n",
    "plt.violinplot(var_baseline[:, 1, :].T, showmedians=True)\n",
    "plt.scatter(np.arange(1, 41), var_components[:, 1])\n",
    "\n",
    "plt.show()"
   ]
  },
  {
   "cell_type": "code",
   "execution_count": null,
   "metadata": {
    "scrolled": false
   },
   "outputs": [],
   "source": [
    "for j in range(2):\n",
    "    plt.plot(np.clip(-np.log10(bootstrap_pvalues[:, j]), None, 3))\n",
    "plt.axhline(-np.log10(0.05/40))\n",
    "plt.show()\n",
    "\n",
    "for i in range(40):\n",
    "    if np.any(bootstrap_pvalues[i, :]<0.01):\n",
    "        print('SCQ', i+1, bootstrap_pvalues[i, :], ['%0.2f' % x for x in var_components[i, :]], \n",
    "              ['%0.2f' % x for x in var_components[i, :]])\n",
    "        print(var_components[i, :]/np.sum(var_components[i, :]))\n",
    "        \n",
    "        "
   ]
  },
  {
   "cell_type": "code",
   "execution_count": null,
   "metadata": {},
   "outputs": [],
   "source": [
    "phen_index = 2\n",
    "plt.hist(X[P[:, phen_index]==0, 1], alpha=0.5, bins=np.arange(0.2, 1.2, 0.02), density=True)\n",
    "plt.hist(X[P[:, phen_index]==1, 1], alpha=0.5, bins=np.arange(0.2, 1.2, 0.02), density=True)\n",
    "plt.show()"
   ]
  },
  {
   "cell_type": "markdown",
   "metadata": {},
   "source": [
    "# subscore"
   ]
  },
  {
   "cell_type": "code",
   "execution_count": 115,
   "metadata": {},
   "outputs": [
    {
     "name": "stdout",
     "output_type": "stream",
     "text": [
      "-10.5 10.5\n"
     ]
    }
   ],
   "source": [
    "print(np.min(P), np.max(P))"
   ]
  },
  {
   "cell_type": "code",
   "execution_count": 138,
   "metadata": {},
   "outputs": [
    {
     "name": "stdout",
     "output_type": "stream",
     "text": [
      "(20, 20, 20) (20, 20, 20) (20, 20, 20)\n",
      "(20, 20, 20)\n"
     ]
    }
   ],
   "source": [
    "y = P\n",
    "k = 12\n",
    "\n",
    "na, nb, nc = (20, 20, 20)\n",
    "a = np.linspace(0.1, 2, na)\n",
    "b = np.linspace(0.1, 2, nb)\n",
    "c = np.linspace(0.1, 10, nc)\n",
    "x = np.arange(-k, k+1)\n",
    "\n",
    "av, bv, cv = np.meshgrid(a, b, c, indexing='ij')\n",
    "\n",
    "print(av.shape, bv.shape, cv.shape)\n",
    "\n",
    "v = av[:, :, :, np.newaxis]*X[:, 0].T + bv[:, :, :, np.newaxis]*X[:, 1].T + cv[:, :, :, np.newaxis]*np.ones((1, X.shape[0]))\n",
    "\n",
    "norm = np.log(np.sum(np.exp((-0.5/v[:, :, :, :, np.newaxis])*((x**2).T)), axis=4))\n",
    "\n",
    "ll = np.sum((-0.5*(y**2)/v) - norm, axis=3)\n",
    "\n",
    "print(ll.shape)"
   ]
  },
  {
   "cell_type": "code",
   "execution_count": 139,
   "metadata": {},
   "outputs": [
    {
     "name": "stdout",
     "output_type": "stream",
     "text": [
      "(array([0]), array([0]), array([15])) [0.1] [0.1] [7.91578947]\n"
     ]
    }
   ],
   "source": [
    "indices = np.where(ll==np.max(ll))\n",
    "print(indices, a[indices[0]], b[indices[1]], c[indices[2]])"
   ]
  },
  {
   "cell_type": "code",
   "execution_count": 141,
   "metadata": {},
   "outputs": [
    {
     "data": {
      "image/png": "[encoded data removed]",
      "text/plain": [
       "<Figure size 432x288 with 2 Axes>"
      ]
     },
     "metadata": {
      "needs_background": "light"
     },
     "output_type": "display_data"
    }
   ],
   "source": [
    "plt.contourf(a, b, ll[:, :, 15])\n",
    "plt.axis('scaled')\n",
    "plt.colorbar()\n",
    "plt.show()"
   ]
  },
  {
   "cell_type": "code",
   "execution_count": 147,
   "metadata": {},
   "outputs": [
    {
     "name": "stdout",
     "output_type": "stream",
     "text": [
      "10.186338605619147 8.719367320261437\n",
      "8.537130710115967 8.148883764648437\n",
      "7.60625728588756 9.099024807112855\n",
      "7.045853695130314 6.939119742057075\n"
     ]
    },
    {
     "data": {
      "image/png": "[encoded data removed]",
      "text/plain": [
       "<Figure size 432x288 with 1 Axes>"
      ]
     },
     "metadata": {
      "needs_background": "light"
     },
     "output_type": "display_data"
    }
   ],
   "source": [
    "plt.hist(y[X[:, 0]<0.45], bins=np.arange(-10, 10), alpha=0.5, density=True)\n",
    "plt.hist(y[(X[:, 0]>=0.45) & (X[:, 0]<0.5)], bins=np.arange(-10, 10), alpha=0.5, density=True)\n",
    "plt.hist(y[(X[:, 0]>=0.5) & (X[:, 0]<0.55)], bins=np.arange(-10, 10), alpha=0.5, density=True)\n",
    "plt.hist(y[X[:, 0]>=0.55], bins=np.arange(-10, 10), alpha=0.5, density=True)\n",
    "\n",
    "print(np.var(y[X[:, 0]<0.45]), np.var(y[X[:, 1]<0.45]))\n",
    "print(np.var(y[(X[:, 0]>=0.45) & (X[:, 0]<0.5)]), np.var(y[(X[:, 1]>=0.45) & (X[:, 1]<0.5)]))\n",
    "print(np.var(y[(X[:, 0]>=0.5) & (X[:, 0]<0.55)]), np.var(y[(X[:, 1]>=0.5) & (X[:, 1]<0.55)]))\n",
    "print(np.var(y[X[:, 0]>=0.55]), np.var(y[X[:, 1]>=0.55]))\n",
    "\n",
    "plt.show()"
   ]
  },
  {
   "cell_type": "code",
   "execution_count": 129,
   "metadata": {},
   "outputs": [
    {
     "name": "stdout",
     "output_type": "stream",
     "text": [
      "(-0.04042107999942966, 0.17111796405754934)\n",
      "(0.005560416925170207, 0.8507237238050084)\n"
     ]
    },
    {
     "data": {
      "image/png": "[encoded data removed]",
      "text/plain": [
       "<Figure size 432x288 with 1 Axes>"
      ]
     },
     "metadata": {
      "needs_background": "light"
     },
     "output_type": "display_data"
    }
   ],
   "source": [
    "plt.scatter(X[:, 0], np.abs(y), marker='.')\n",
    "plt.scatter(X[:, 1], np.abs(y), marker='.')\n",
    "print(stats.pearsonr(X[X[:, 0]<0.9, 0], np.abs(y[X[:, 0]<0.9])))\n",
    "print(stats.pearsonr(X[X[:, 1]<0.9, 1], np.abs(y[X[:, 1]<0.9])))"
   ]
  },
  {
   "cell_type": "code",
   "execution_count": null,
   "metadata": {},
   "outputs": [],
   "source": [
    "# Let \n",
    "# p_1 = P[Y=-2]\n",
    "# p_2 = P[Y=-1]\n",
    "# p_3 = P[Y=0]\n",
    "# p_4 = P[Y=1]\n",
    "# p_5 = P[Y=2]\n",
    "\n",
    "# by symmetry p_1 = p_5, p_2 = p_4\n",
    "\n",
    "# because it's a probability distribution we know p_1 + p_2 + p_3 + p_4 + p_5 = 1\n",
    "\n",
    "# we also enforce a linear relationship between p_1, p_2, p_3 so\n",
    "# \n",
    "\n",
    "# by definition, since E[Y] = 0,\n",
    "# var(Y) = p_1(-2)^2 + p_2(-1)^2 + p_3(0)^2 + p_2(1)^2 + p_1(2)^2\n",
    "#        = 8p_1 + 2p_2\n",
    "# p_1 = var(Y)/2\n",
    "# p_2 = 1 - var(Y)\n",
    "# p_3 = var(Y)/2\n",
    "\n",
    "# putting this all together, the log likelihood of our data under this model is\n",
    "# \\sum_{Y_i in {-1, 1}} \\log(a*g_mat^i + b*g_pat^i + e)/2\n",
    "# + \\sum_{Y_i = 0} \\log(1- (a*g_mat^i + b*g_pat^i + e))\n",
    "\n",
    "# Luckily for us, the above is concave, so we solve with cvxpy\n",
    "# Then we do a bunch of permutation tests to figure out if anything is meaningful"
   ]
  },
  {
   "cell_type": "code",
   "execution_count": null,
   "metadata": {},
   "outputs": [],
   "source": [
    "plt.figure(figsize=(15, 5))\n",
    "\n",
    "plt.subplot(1, 2, 1)\n",
    "plt.scatter(var_components[:, 0], var_components[:, 1])\n",
    "\n",
    "plt.subplot(1, 2, 2)\n",
    "plt.scatter(var_components[:, 2], var_components[:, 0])\n",
    "plt.scatter(var_components[:, 2], var_components[:, 1])"
   ]
  },
  {
   "cell_type": "code",
   "execution_count": null,
   "metadata": {},
   "outputs": [],
   "source": [
    "plt.scatter(var_components[:, 0], np.clip(-np.log10(bootstrap_pvalues[:, 0]), None, 3))\n",
    "plt.scatter(var_components[:, 1], np.clip(-np.log10(bootstrap_pvalues[:, 1]), None, 3))\n",
    "plt.scatter(var_components[:, 2], np.clip(-np.log10(bootstrap_pvalues[:, 2]), None, 3))"
   ]
  },
  {
   "cell_type": "code",
   "execution_count": null,
   "metadata": {},
   "outputs": [],
   "source": []
  }
 ],
 "metadata": {
  "kernelspec": {
   "display_name": "Python 3",
   "language": "python",
   "name": "python3"
  },
  "language_info": {
   "codemirror_mode": {
    "name": "ipython",
    "version": 3
   },
   "file_extension": ".py",
   "mimetype": "text/x-python",
   "name": "python",
   "nbconvert_exporter": "python",
   "pygments_lexer": "ipython3",
   "version": "3.7.3"
  }
 },
 "nbformat": 4,
 "nbformat_minor": 2
}
