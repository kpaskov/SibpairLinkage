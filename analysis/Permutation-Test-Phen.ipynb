{
 "cells": [
  {
   "cell_type": "code",
   "execution_count": 9,
   "metadata": {},
   "outputs": [],
   "source": [
    "import numpy as np\n",
    "import scipy.linalg\n",
    "from collections import defaultdict, namedtuple, Counter\n",
    "from itertools import combinations\n",
    "import numpy as np\n",
    "import scipy.stats as stats\n",
    "import sys\n",
    "from os import listdir\n",
    "import json\n",
    "import random\n",
    "import csv\n",
    "import sys"
   ]
  },
  {
   "cell_type": "code",
   "execution_count": 10,
   "metadata": {},
   "outputs": [],
   "source": [
    "dataset = 'ssc.hg38'\n",
    "subtype = 'current' #current/life\n",
    "num_trials = 1000\n",
    "interval_chrom, interval_start_pos, interval_end_pos = None, None, None\n",
    "\n",
    "output_file = dataset"
   ]
  },
  {
   "cell_type": "code",
   "execution_count": 12,
   "metadata": {},
   "outputs": [],
   "source": [
    "is_reverse_scored = [False]*8 + [True] + [False]*9 + [True]*22\n",
    "\n",
    "if interval_chrom is not None:\n",
    "\toutput_file+= '.chr%s' % interval_chrom\n",
    "if interval_start_pos is not None or interval_end_pos is not None:\n",
    "\toutput_file += '.%d-%d' % (interval_start_pos, interval_end_pos)\n",
    "\n",
    "def header_to_inds(header):\n",
    "\theader = header.strip().split('\\t')\n",
    "\treturn [header[i][:-4] for i in range(5, len(header)-3, 2)]"
   ]
  },
  {
   "cell_type": "code",
   "execution_count": 13,
   "metadata": {},
   "outputs": [
    {
     "name": "stdout",
     "output_type": "stream",
     "text": [
      "Overall\n",
      "families 1905\n",
      "sibpairs 1905\n"
     ]
    }
   ],
   "source": [
    "with open('../../PhasingFamilies/%s/sibpairs.json' % dataset, 'r') as f:\n",
    "\tsibpairs = json.load(f)\n",
    "\n",
    "print('Overall')\n",
    "print('families', len(set([x['family'].split('.')[0] for x in sibpairs])))\n",
    "print('sibpairs', len(sibpairs))\n",
    "num_sibpairs = len(sibpairs)"
   ]
  },
  {
   "cell_type": "code",
   "execution_count": 67,
   "metadata": {},
   "outputs": [],
   "source": [
    "def apply_interval_filter(chrom, start_pos, end_pos):\n",
    "\tif interval_start_pos is not None or interval_end_pos is not None:\n",
    "\t\tstart_pos = np.clip(start_pos, interval_start_pos, interval_end_pos)\n",
    "\t\tend_pos = np.clip(end_pos, interval_start_pos, interval_end_pos)\n",
    "\tis_ok = (interval_chrom is None or interval_chrom == chrom) and (end_pos-start_pos>0)\n",
    "\treturn is_ok, start_pos, end_pos\n",
    "\n",
    "def process_phase_file(sibpair):\n",
    "\twith open('../../PhasingFamilies/%s/%s.phased.txt' % (sibpair['phase_dir'], sibpair['family']), 'r')  as f:\n",
    "\t\theader = next(f) # skip header\n",
    "\t\tinds = header_to_inds(header)\n",
    "\t\tsib1_ind_index, sib2_ind_index = inds.index(sibpair['sibling1']), inds.index(sibpair['sibling2'])\n",
    "\t\tsib1_mat_index, sib2_mat_index = 4+(2*sib1_ind_index), 4+(2*sib2_ind_index)\n",
    "\t\tsib1_pat_index, sib2_pat_index = 5+(2*sib1_ind_index), 5+(2*sib2_ind_index)\n",
    "\t\tsib_phase_indices = [sib1_mat_index, sib2_mat_index, sib1_pat_index, sib2_pat_index]\n",
    "\n",
    "\t\tcurrent_chrom, current_start_pos, current_end_pos, current_state = None, None, None, None\n",
    "\t\tfor line in f:\n",
    "\t\t\tpieces = line.strip().split('\\t')\n",
    "\t\t\tchrom = pieces[0][3:]\n",
    "\t\t\tstart_pos, end_pos = [int(x) for x in pieces[-2:]]\n",
    "\t\t\tstate = np.array([int(x) for x in pieces[1:-2]])[sib_phase_indices]\n",
    "\n",
    "\t\t\tif current_chrom is None:\n",
    "\t\t\t\tcurrent_chrom, current_start_pos, current_end_pos, current_state = chrom, start_pos, end_pos, state\n",
    "\t\t\telif current_chrom != chrom or np.any(current_state != state):\n",
    "\t\t\t\tis_ok, current_start_pos, current_end_pos = apply_interval_filter(current_chrom, current_start_pos, current_end_pos)\n",
    "\t\t\t\tif is_ok:\n",
    "\t\t\t\t\tyield current_chrom, current_start_pos, current_end_pos, current_state\n",
    "\t\t\t\tcurrent_chrom, current_start_pos, current_end_pos, current_state = chrom, start_pos, end_pos, state\n",
    "\t\t\telse:\n",
    "\t\t\t\tcurrent_end_pos = end_pos\n",
    "\t\tis_ok, current_start_pos, current_end_pos = apply_interval_filter(current_chrom, current_start_pos, current_end_pos)\n",
    "\t\tif is_ok:\n",
    "\t\t\tyield current_chrom, current_start_pos, current_end_pos, current_state"
   ]
  },
  {
   "cell_type": "code",
   "execution_count": 68,
   "metadata": {},
   "outputs": [
    {
     "name": "stdout",
     "output_type": "stream",
     "text": [
      "intervals 568577\n"
     ]
    }
   ],
   "source": [
    "# pull intervals\n",
    "positions = set()\n",
    "for sibpair in sibpairs:\n",
    "\t#print(sibpair)\n",
    "\tfor chrom, start_pos, end_pos, state in process_phase_file(sibpair):\n",
    "\t\t#print(chrom, start_pos, end_pos, state)\n",
    "\t\tpositions.add((chrom, start_pos))\n",
    "\t\tpositions.add((chrom, end_pos))\n",
    "\n",
    "positions = sorted(positions, key=lambda x: (int(x[0]), x[1]) if x[0].isdigit() else x)\n",
    "chroms, interval_starts, interval_ends = [], [], []\n",
    "prev_chrom, prev_pos = None, None\n",
    "for c, p in positions:\n",
    "\tif prev_chrom is not None and prev_chrom == c:\n",
    "\t\tchroms.append(c)\n",
    "\t\tinterval_starts.append(prev_pos)\n",
    "\t\tinterval_ends.append(p)\n",
    "\tprev_chrom, prev_pos = c, p\n",
    "\n",
    "\n",
    "interval_starts = np.array(interval_starts)\n",
    "interval_ends = np.array(interval_ends)\n",
    "num_intervals = len(interval_starts)\n",
    "print('intervals', num_intervals)"
   ]
  },
  {
   "cell_type": "code",
   "execution_count": 69,
   "metadata": {},
   "outputs": [
    {
     "name": "stdout",
     "output_type": "stream",
     "text": [
      "(6925, 386437) (6925, 386437)\n"
     ]
    }
   ],
   "source": [
    "# sibpair, interval\n",
    "is_mat_match = np.zeros((num_sibpairs, num_intervals), dtype=int)\n",
    "is_pat_match = np.zeros((num_sibpairs, num_intervals), dtype=int)\n",
    "\n",
    "interval_start_to_index = dict([((chrom, x), i) for i, (chrom, x) in enumerate(zip(chroms, interval_starts))])\n",
    "interval_end_to_index = dict([((chrom, x), i) for i, (chrom, x) in enumerate(zip(chroms, interval_ends))])\n",
    "\n",
    "for sibpair_index, sibpair in enumerate(sibpairs):\n",
    "\tfor chrom, start_pos, end_pos, state in process_phase_file(sibpair):\n",
    "\t\tstart_index, end_index = interval_start_to_index[(chrom, start_pos)], interval_end_to_index[(chrom, end_pos)]+1\n",
    "\n",
    "\t\tif state[0]==-1 or state[1]==-1:\n",
    "\t\t\tpass\n",
    "\t\telif state[0]==state[1]:\n",
    "\t\t\tis_mat_match[sibpair_index, start_index:end_index] = 1\n",
    "\t\telse:\n",
    "\t\t\tis_mat_match[sibpair_index, start_index:end_index] = -1\n",
    "\t\t\t\n",
    "\t\tif state[2]==-1 or state[3]==-1:\n",
    "\t\t\t\tpass\n",
    "\t\telif state[2]==state[3]:\n",
    "\t\t\tis_pat_match[sibpair_index, start_index:end_index] = 1\n",
    "\t\telse:\n",
    "\t\t\tis_pat_match[sibpair_index, start_index:end_index] = -1\n",
    "\n",
    "\n",
    "is_ok = interval_ends - interval_starts > 1\n",
    "interval_starts = interval_starts[is_ok]\n",
    "interval_ends = interval_ends[is_ok]\n",
    "chroms = np.array([int(c) for c in chroms])[is_ok]\n",
    "is_mat_match = is_mat_match[:, is_ok]\n",
    "is_pat_match = is_pat_match[:, is_ok]\n",
    "num_intervals = np.sum(is_ok)\n",
    "\n",
    "print(is_mat_match.shape, is_pat_match.shape)\n",
    "\n",
    "np.save('../permutation_tests/phen.%s.chroms.npy' % output_file, chroms)\n",
    "np.save('../permutation_tests/phen.%s.intervals.npy' % output_file, np.array([interval_starts, interval_ends]))\n"
   ]
  },
  {
   "cell_type": "code",
   "execution_count": 81,
   "metadata": {},
   "outputs": [
    {
     "name": "stdout",
     "output_type": "stream",
     "text": [
      "ready\n"
     ]
    }
   ],
   "source": [
    "# take into account sibling structure across quads\n",
    "individuals = sorted(set([x['sibling1'] for x in sibpairs] + [x['sibling2'] for x in sibpairs]))\n",
    "ind_to_index = dict([(x, i) for i, x in enumerate(individuals)])\n",
    "sibling1_indices = np.array([ind_to_index[x['sibling1']] for x in sibpairs])\n",
    "sibling2_indices = np.array([ind_to_index[x['sibling2']] for x in sibpairs])\n",
    "\n",
    "A = np.random.randint(0, high=2, size=(num_trials+1, len(individuals), 2))\n",
    "X1 = (A[:, sibling1_indices, 0] == A[:, sibling2_indices, 0]).astype(int)\n",
    "X2 = (A[:, sibling1_indices, 1] == A[:, sibling2_indices, 1]).astype(int)\n",
    "\n",
    "# randomly flip IBD in sibpairs\n",
    "#X1 = np.random.randint(0, high=2, size=(num_trials+1, len(sibpairs)))\n",
    "#X2 = np.random.randint(0, high=2, size=(num_trials+1, len(sibpairs)))\n",
    "\n",
    "X1[X1==0] = -1\n",
    "X2[X2==0] = -1\n",
    "\n",
    "# first entry is actual IBD relationships\n",
    "X1[0, :] = 1\n",
    "X2[0, :] = 1\n",
    "\n",
    "print('ready')"
   ]
  },
  {
   "cell_type": "code",
   "execution_count": null,
   "metadata": {},
   "outputs": [],
   "source": []
  },
  {
   "cell_type": "code",
   "execution_count": 21,
   "metadata": {},
   "outputs": [],
   "source": [
    "phen_index = 0\n"
   ]
  },
  {
   "cell_type": "code",
   "execution_count": 22,
   "metadata": {},
   "outputs": [],
   "source": [
    "sample_to_affected = dict()\n",
    "\n",
    "if dataset == 'ssc.hg38':\n",
    "\toutput_file = output_file + '.' + subtype\n",
    "\n",
    "\told_id_to_new_id = dict()\n",
    "\t# p1 vs s1 are random, but it's ok since we know they're all quads\n",
    "\tfor sibpair in sibpairs:\n",
    "\t\told_id_to_new_id['%s.p1' % sibpair['family']] = sibpair['sibling1']\n",
    "\t\told_id_to_new_id['%s.s1' % sibpair['family']] = sibpair['sibling2']\n",
    "\n",
    "\twith open('../../PhasingFamilies/phenotypes/ssc/proband.data/scq_%s_raw.csv' % subtype, 'r') as f:\n",
    "\t\treader = csv.reader(f)\n",
    "\t\tfor pieces in reader:\n",
    "\t\t\tphen = pieces[2+phen_index]\n",
    "\t\t\tif (pieces[0] in old_id_to_new_id) and (phen=='yes' or phen=='no'):\n",
    "\t\t\t\tsample_to_affected[old_id_to_new_id[pieces[0]]] = 1 if phen =='yes' else 0\n",
    "\n",
    "\twith open('../../PhasingFamilies/phenotypes/ssc/designated.unaffected.sibling.data/scq_%s_raw.csv' % subtype, 'r') as f:\n",
    "\t\treader = csv.reader(f)\n",
    "\t\tfor pieces in reader:\n",
    "\t\t\tphen = pieces[2+phen_index]\n",
    "\t\t\tif (pieces[0] in old_id_to_new_id) and (phen=='yes' or phen=='no'):\n",
    "\t\t\t\tsample_to_affected[old_id_to_new_id[pieces[0]]] = 1 if phen =='yes' else 0"
   ]
  },
  {
   "cell_type": "code",
   "execution_count": 23,
   "metadata": {},
   "outputs": [],
   "source": [
    "if dataset == 'spark':\n",
    "    sample_to_affected = dict()\n",
    "    with open('../../PhasingFamilies/phenotypes/spark_v5/spark_v5-scq-prep.csv', 'r') as f:\n",
    "        reader = csv.reader(f)\n",
    "        for pieces in reader:\n",
    "            phen = pieces[13+phen_index]\n",
    "            if phen=='1.0' or phen=='0.0':\n",
    "                sample_to_affected[pieces[2]] = '1' if phen =='1.0' else '0'"
   ]
  },
  {
   "cell_type": "code",
   "execution_count": 24,
   "metadata": {},
   "outputs": [
    {
     "name": "stdout",
     "output_type": "stream",
     "text": [
      "Counter({-1: 1265, 2: 572, 1: 68})\n",
      "0 0 "
     ]
    }
   ],
   "source": [
    "num_affected = np.array([-1 if (x['sibling1'] not in sample_to_affected or x['sibling2'] not in sample_to_affected) else int(sample_to_affected[x['sibling1']])+int(sample_to_affected[x['sibling2']]) for x in sibpairs])\n",
    "#num_affected = np.array([-1 if (x.family + '.p1' not in sample_to_affected or x.family + '.s1' not in sample_to_affected) else int(sample_to_affected[x.family + '.p1'])+int(sample_to_affected[x.family + '.s1']) for x in sibpairs])\n",
    "print(Counter(num_affected))\n",
    "na = 2 if is_reverse_scored[phen_index] else 0\n",
    "print(na, np.sum(num_affected==na), end=' ')\n"
   ]
  },
  {
   "cell_type": "code",
   "execution_count": 145,
   "metadata": {},
   "outputs": [
    {
     "name": "stdout",
     "output_type": "stream",
     "text": [
      "386437 (2118, 160661)\n"
     ]
    }
   ],
   "source": [
    "\n",
    "is_match_reduced, reduced_inverse = np.unique(np.vstack((is_mat_match[num_affected==na, :],\n",
    "                                                                 is_pat_match[num_affected==na, :])), axis=1, return_inverse=True)\n",
    "print(is_mat_match.shape[1], is_match_reduced.shape)\n"
   ]
  },
  {
   "cell_type": "code",
   "execution_count": null,
   "metadata": {},
   "outputs": [],
   "source": [
    "num_intervals = is_match_reduced.shape[1]\n",
    "\n",
    "all_pvalues_reduced = np.zeros((num_intervals, ))\n",
    "\n",
    "# trial, interval, mat/pat\n",
    "rand_pvalue = np.hstack((X1[:, num_affected==na], X2[:, num_affected==na])).dot(is_match_reduced)\n",
    "\n",
    "# -------------------- implementing Westfall-Young max T stepdown procedure\n",
    "\n",
    "# indices are sorted along interval axis from interval with most IBD sharing\n",
    "# to least IBD sharing\n",
    "\n",
    "orig_indices = np.flip(np.argsort(rand_pvalue[0, :]))\n",
    "\n",
    "max_t_k = np.zeros((num_trials+1, num_intervals+1))\n",
    "max_t_k[:, -1] = np.min(rand_pvalue, axis=1)\n",
    "for i, j in list(reversed(list(enumerate(orig_indices)))):\n",
    "\tmax_t_k[:, i] = np.maximum(max_t_k[:, i+1], rand_pvalue[:, j])\n",
    "max_t_k = max_t_k[:, :-1]\n",
    "\t\t\t\t\n",
    "assert np.all(max_t_k[0, :] == rand_pvalue[0, orig_indices])\n",
    "\n",
    "# calculate pi(j)\n",
    "pvalues = np.sum(max_t_k[1:, :] >= np.tile(max_t_k[0, :], (num_trials, 1)), axis=0)/num_trials\n",
    "pvalues = np.array([np.max(pvalues[:(i+1)]) for i in np.arange(num_intervals)])\n",
    "all_pvalues_reduced[orig_indices] = pvalues\n",
    "\n",
    "all_pvalues = all_pvalues_reduced[reduced_inverse]\n",
    "print(all_pvalues.shape)"
   ]
  },
  {
   "cell_type": "code",
   "execution_count": null,
   "metadata": {},
   "outputs": [],
   "source": [
    "print(np.min(all_pvalues))"
   ]
  },
  {
   "cell_type": "code",
   "execution_count": null,
   "metadata": {},
   "outputs": [],
   "source": [
    "np.save('../permutation_tests/scq%d.%s.npy' % (phen_index+1, output_file), all_pvalues)\n"
   ]
  },
  {
   "cell_type": "code",
   "execution_count": null,
   "metadata": {},
   "outputs": [],
   "source": []
  },
  {
   "cell_type": "code",
   "execution_count": null,
   "metadata": {},
   "outputs": [],
   "source": []
  }
 ],
 "metadata": {
  "kernelspec": {
   "display_name": "Python 3",
   "language": "python",
   "name": "python3"
  },
  "language_info": {
   "codemirror_mode": {
    "name": "ipython",
    "version": 3
   },
   "file_extension": ".py",
   "mimetype": "text/x-python",
   "name": "python",
   "nbconvert_exporter": "python",
   "pygments_lexer": "ipython3",
   "version": "3.7.3"
  }
 },
 "nbformat": 4,
 "nbformat_minor": 2
}
