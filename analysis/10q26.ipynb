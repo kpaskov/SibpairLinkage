{
 "cells": [
  {
   "cell_type": "code",
   "execution_count": 8,
   "metadata": {},
   "outputs": [
    {
     "name": "stderr",
     "output_type": "stream",
     "text": [
      "//anaconda3/lib/python3.7/site-packages/statsmodels/tools/_testing.py:19: FutureWarning: pandas.util.testing is deprecated. Use the functions in the public API at pandas.testing instead.\n",
      "  import pandas.util.testing as tm\n",
      "//anaconda3/lib/python3.7/site-packages/statsmodels/compat/pandas.py:23: FutureWarning: The Panel class is removed from pandas. Accessing it from the top-level namespace will also be removed in the next version\n",
      "  data_klasses = (pandas.Series, pandas.DataFrame, pandas.Panel)\n"
     ]
    }
   ],
   "source": [
    "from collections import defaultdict, namedtuple, Counter\n",
    "import numpy as np\n",
    "from os import listdir\n",
    "from itertools import combinations, product\n",
    "import scipy.stats as stats\n",
    "import csv\n",
    "import matplotlib.pyplot as plt\n",
    "import scipy.sparse as sparse\n",
    "import json\n",
    "import statsmodels.api as sm\n",
    "import random"
   ]
  },
  {
   "cell_type": "code",
   "execution_count": 35,
   "metadata": {},
   "outputs": [],
   "source": [
    "#phase_dir = '../../PhasingFamilies/phased_spark_quads'\n",
    "#identicals_file = '../../PhasingFamilies/sibpair_similarity/spark_quads_identicals.txt'\n",
    "#ped_file = '../../DATA/spark/spark.ped.quads.ped'\n",
    "#build = '38'\n",
    "#orig_ped_file = '../../DATA/spark/spark.ped'\n",
    "#data_dir = '../../DATA/spark/genotypes'\n",
    "\n",
    "#phase_dir = '../../PhasingFamilies/phased_ihart.ms2_quads_del'\n",
    "#identicals_file = '../../PhasingFamilies/sibpair_similarity/ihart.ms2_quads_identicals.txt'\n",
    "#ped_file = '../../DATA/ihart.ms2/ihart.ped.quads.ped'\n",
    "#build = '38'\n",
    "#orig_ped_file = '../../DATA/ihart.ms2/ihart.ped'\n",
    "#data_dir = '../../DATA/ihart.ms2/genotypes'\n",
    "\n",
    "phase_dir = '../../PhasingFamilies/phased_mssng_quads'\n",
    "identicals_file = '../../PhasingFamilies/sibpair_similarity/mssng_quads_identicals.txt'\n",
    "ped_file = '../../DATA/mssng/mssng.ped.quads.ped'\n",
    "build = '38'\n",
    "orig_ped_file = '../../DATA/mssng/mssng.ped'\n",
    "data_dir = '../../DATA/mssng/genotypes'\n",
    "\n",
    "#phase_dir = '../../PhasingFamilies/phased_ssc.hg38'\n",
    "#identicals_file = '../../PhasingFamilies/sibpair_similarity/ssc.hg38_identicals.txt'\n",
    "#ped_file = '../../DATA/ssc.hg38/ssc.ped'\n",
    "#build = '38'\n",
    "#orig_ped_file = '../../DATA/ssc.hg38/ssc.ped'\n",
    "\n",
    "#phase_dir = '../../PhasingFamilies/phased_ancestry_quads'\n",
    "#identicals_file = '../../PhasingFamilies/sibpair_similarity/ancestry_quads_identicals.txt'\n",
    "#ped_file = '../../DATA/ancestry/ancestry.ped.quads.ped'\n",
    "#build = '37'\n",
    "#orig_ped_file = '../../DATA/ancestry/ancestry.ped'\n"
   ]
  },
  {
   "cell_type": "code",
   "execution_count": 51,
   "metadata": {},
   "outputs": [],
   "source": [
    "chrom = '10'\n",
    "if build == '37':\n",
    "    #ctbp2_start_interval, ctbp2_end_interval = 127188569, 127688569\n",
    "    ctbp2_start_interval, ctbp2_end_interval = 127188569, 128188569\n",
    "    #zeb1_start_interval, zeb1_end_interval = 31607424, 31818742\n",
    "elif build == '38':\n",
    "    #ctbp2_start_interval, ctbp2_end_interval = 125500000, 126000000\n",
    "    #ctbp2_start_interval, ctbp2_end_interval = 125500000, 126500000\n",
    "    #ctbp2_start_interval, ctbp2_end_interval = 125050581, 126917556\n",
    "    ctbp2_start_interval, ctbp2_end_interval = 125800000, 126000367\n",
    "    #zeb1_start_interval, zeb1_end_interval = 31318417, 31529814"
   ]
  },
  {
   "cell_type": "code",
   "execution_count": 52,
   "metadata": {},
   "outputs": [],
   "source": [
    "#chrom = '13'\n",
    "#if build == '38':\n",
    "#    ctbp2_start_interval, ctbp2_end_interval = 0, 1000000"
   ]
  },
  {
   "cell_type": "code",
   "execution_count": 53,
   "metadata": {},
   "outputs": [],
   "source": [
    "def sample_to_multiplex(orig_ped_file):\n",
    "    family_to_num_affected = defaultdict(int)\n",
    "    family_to_num_unaffected = defaultdict(int)\n",
    "    family_to_inds = defaultdict(list)\n",
    "    with open(orig_ped_file, 'r') as f:\n",
    "        for line in f:\n",
    "            pieces = line.strip().split('\\t')\n",
    "            family_to_inds[(pieces[0], pieces[2], pieces[3])].append(pieces[1])\n",
    "            if pieces[5]=='2':\n",
    "                family_to_num_affected[(pieces[0], pieces[2], pieces[3])] += 1\n",
    "            if pieces[5]=='1':\n",
    "                family_to_num_unaffected[(pieces[0], pieces[2], pieces[3])] += 1\n",
    "                \n",
    "    sample_to_family_type = dict()\n",
    "    for family, inds in family_to_inds.items():\n",
    "        is_multiplex = family_to_num_affected[family] > 1\n",
    "        is_unmultiplex = family_to_num_unaffected[family] > 1\n",
    "        for ind in inds:\n",
    "            sample_to_family_type[ind] = ('multiplex' if is_multiplex else 'simplex',\n",
    "                                          'unmultiplex' if is_unmultiplex else 'unsimplex')\n",
    "    return sample_to_family_type\n",
    "sample_to_family_type = sample_to_multiplex(orig_ped_file)"
   ]
  },
  {
   "cell_type": "code",
   "execution_count": 54,
   "metadata": {},
   "outputs": [],
   "source": [
    "def pull_phenotype_ped(ped_file):\n",
    "\tsample_to_sex = dict()\n",
    "\tsample_to_affected = dict()\n",
    "\twith open(ped_file, 'r') as f:\n",
    "\t\tfor line in f:\n",
    "\t\t\tpieces = line.strip().split('\\t')\n",
    "\t\t\tsample_to_sex[pieces[1]] = pieces[4]\n",
    "\t\t\tsample_to_affected[pieces[1]] = pieces[5]\n",
    "\treturn sample_to_affected, sample_to_sex\n",
    "\n",
    "sample_to_affected, sample_to_sex = pull_phenotype_ped(ped_file)\n"
   ]
  },
  {
   "cell_type": "code",
   "execution_count": 55,
   "metadata": {},
   "outputs": [],
   "source": [
    "Sibpair = namedtuple('Sibpair', ['family', 'sibling1', 'sibling2', 'mom', 'dad', 'phase_dir', 'num_affected', 'num_males', 'is_multiplex', 'is_unmultiplex'])\n",
    "def pull_sibpairs(phase_dir, identicals_file, sample_to_affected, sample_to_sex):\n",
    "\n",
    "    # pull identicals\n",
    "    leave_out = set()\n",
    "    with open(identicals_file, 'r') as f:\n",
    "        for line in f:\n",
    "            pieces = line.strip().split('\\t')\n",
    "            leave_out.update(pieces[1:])\n",
    "\n",
    "    # pull individuals\n",
    "    family_to_inds = defaultdict(list)\n",
    "    sibpairs = list()\n",
    "    for filename in listdir(phase_dir):\n",
    "        if filename.endswith('.phased.txt'):\n",
    "            family_key = filename[:-11]\n",
    "            try:\n",
    "                with open('%s/%s' % (phase_dir, filename), 'r')  as f:\n",
    "                    header = next(f).strip().split('\\t')\n",
    "                    # check that we have a typical nuclear family structure\n",
    "                    if tuple(header[1:5]) == ('m1_del', 'm2_del', 'p1_del', 'p2_del'):\n",
    "                        individuals = [header[i][:-4] for i in range(5, len(header)-3, 2)]\n",
    "                        family_to_inds[family_key] = individuals\n",
    "                        for child1, child2 in combinations(individuals[2:], 2):\n",
    "                            if child1 not in leave_out and child2 not in leave_out and child1 in sample_to_affected and child2 in sample_to_affected:\n",
    "                                sibpairs.append(Sibpair(family_key, child1, child2, individuals[0], individuals[1], \n",
    "                                    phase_dir,\n",
    "                                    int(sample_to_affected[child1]=='2')+int(sample_to_affected[child2]=='2'),\n",
    "                                    int(sample_to_sex[child1]=='1')+int(sample_to_sex[child2]=='1'),\n",
    "                                    'multiplex' in sample_to_family_type[child1],\n",
    "                                    'unmultiplex' in sample_to_family_type[child1]))\n",
    "            except StopIteration:\n",
    "                pass\n",
    "\n",
    "    sibpairs = sorted(sibpairs)\n",
    "\n",
    "    assert len(sibpairs) == len(set(sibpairs)) # should have no duplicates\n",
    "    return family_to_inds, sibpairs\n",
    "\n",
    "family_to_inds, sibpairs = pull_sibpairs(phase_dir, identicals_file, sample_to_affected, sample_to_sex)\n"
   ]
  },
  {
   "cell_type": "code",
   "execution_count": 56,
   "metadata": {},
   "outputs": [
    {
     "name": "stdout",
     "output_type": "stream",
     "text": [
      "Overall\n",
      "families 770\n",
      "sibpairs 727\n",
      "num_affected Counter({2: 475, 1: 196, 0: 56})\n",
      "is_multiplex Counter({True: 532, False: 195})\n",
      "is_unmultiplex Counter({False: 654, True: 73})\n"
     ]
    }
   ],
   "source": [
    "print('Overall')\n",
    "print('families', len(family_to_inds))\n",
    "print('sibpairs', len(sibpairs))\n",
    "print('num_affected', Counter([x.num_affected for x in sibpairs]))\n",
    "print('is_multiplex', Counter([x.is_multiplex for x in sibpairs]))\n",
    "print('is_unmultiplex', Counter([x.is_unmultiplex for x in sibpairs]))"
   ]
  },
  {
   "cell_type": "code",
   "execution_count": 57,
   "metadata": {},
   "outputs": [],
   "source": [
    "\n",
    "def pull_sibpair_matches(sibpairs, family_to_inds, start_interval, end_interval):\n",
    "    \n",
    "    length_interval = end_interval-start_interval\n",
    "    sibpair_to_index = dict([((x.family, x.sibling1, x.sibling2), i) for i, x in enumerate(sibpairs)])\n",
    "\n",
    "    # pull phase data\n",
    "    # sibpair, interval, nomatch/match\n",
    "    is_mat_match = -np.ones((len(sibpair_to_index),), dtype=int)\n",
    "    is_pat_match = -np.ones((len(sibpair_to_index),), dtype=int)\n",
    "\n",
    "    for sibpair_index, sibpair in enumerate(sibpairs):\n",
    "        mat_match_data = np.zeros((2,), dtype=int)\n",
    "        pat_match_data = np.zeros((2,), dtype=int)\n",
    "        with open('%s/%s.phased.txt' % (sibpair.phase_dir, sibpair.family), 'r')  as f:\n",
    "            next(f) # skip header\n",
    "\n",
    "            for line in f:\n",
    "                pieces = line.strip().split('\\t')\n",
    "                if pieces[0][3:] == chrom:\n",
    "                    start_pos, end_pos = [int(x) for x in pieces[-2:]]\n",
    "                    state = np.array([int(x) for x in pieces[1:-2]])\n",
    "\n",
    "                    inds = family_to_inds[sibpair.family]\n",
    "                    sib1_ind_index, sib2_ind_index = inds.index(sibpair.sibling1), inds.index(sibpair.sibling2)\n",
    "                    sib1_mat_index, sib2_mat_index = 4+2*sib1_ind_index, 4+2*sib2_ind_index\n",
    "                    sib1_pat_index, sib2_pat_index = 5+2*sib1_ind_index, 5+2*sib2_ind_index\n",
    "\n",
    "                    overlap = min(end_interval, end_pos) - max(start_interval, start_pos)\n",
    "                    if overlap > 0:\n",
    "                        if (state[sib1_mat_index] != -1) and (state[sib2_mat_index] != -1):\n",
    "                            mat_match_data[int(state[sib1_mat_index]==state[sib2_mat_index])] += overlap\n",
    "\n",
    "                        if (state[sib1_pat_index] != -1) and (state[sib2_pat_index] != -1):\n",
    "                            pat_match_data[int(state[sib1_pat_index]==state[sib2_pat_index])] += overlap\n",
    "\n",
    "        assert np.sum(mat_match_data) <= length_interval\n",
    "        assert np.sum(pat_match_data) <= length_interval\n",
    "\n",
    "        if mat_match_data[0]>=0.9*length_interval:\n",
    "            is_mat_match[sibpair_index] = 0\n",
    "        if mat_match_data[1]>=0.9*length_interval:\n",
    "            is_mat_match[sibpair_index] = 1\n",
    "        if pat_match_data[0]>=0.9*length_interval:\n",
    "            is_pat_match[sibpair_index] = 0\n",
    "        if pat_match_data[1]>=0.9*length_interval:\n",
    "            is_pat_match[sibpair_index] = 1\n",
    "\n",
    "    return is_mat_match, is_pat_match\n",
    "\n",
    "ctbp2_is_mat_match, ctbp2_is_pat_match = pull_sibpair_matches(sibpairs, family_to_inds, ctbp2_start_interval, ctbp2_end_interval)\n",
    "#zeb1_is_mat_match, zeb1_is_pat_match = pull_sibpair_matches(sibpairs, family_to_inds, zeb1_start_interval, zeb1_end_interval)\n",
    "\n"
   ]
  },
  {
   "cell_type": "code",
   "execution_count": 58,
   "metadata": {},
   "outputs": [
    {
     "name": "stdout",
     "output_type": "stream",
     "text": [
      "17 20 19\n",
      "All 56\n",
      "54\n",
      "94\n",
      "0.08983250740401501\n",
      "0.032454323536136094\n",
      "0.559802089359664\n",
      "multiplex\n",
      "0.11328125000000001\n",
      "0.0625\n",
      "0.6875\n",
      "simplex\n",
      "0.18999969820595916\n",
      "0.11102641007801138\n",
      "0.5626853438097896\n",
      "MM 17\n",
      "MM 0.22912915982306015\n",
      "MM 0.16615295410156253\n",
      "MM 0.6127929687499998\n",
      "MF 20\n",
      "MF 0.4300250329542902\n",
      "MF 0.49999999999999983\n",
      "MF 0.4999999999999999\n",
      "FF 19\n",
      "FF 0.14810318429954358\n",
      "FF 0.04812622070312499\n",
      "FF 0.696380615234375\n"
     ]
    }
   ],
   "source": [
    "is_aff_aff = np.array([sp.num_affected==2 for sp in sibpairs])\n",
    "is_aff_typ = np.array([sp.num_affected==1 for sp in sibpairs])\n",
    "is_typ_typ = np.array([sp.num_affected==0 for sp in sibpairs])\n",
    "\n",
    "is_m_m = np.array([sp.num_males==2 for sp in sibpairs])\n",
    "is_m_f = np.array([sp.num_males==1 for sp in sibpairs])\n",
    "is_f_f = np.array([sp.num_males==0 for sp in sibpairs])\n",
    "\n",
    "is_multiplex = np.array([sp.is_multiplex for sp in sibpairs])\n",
    "is_unmultiplex = np.array([sp.is_unmultiplex for sp in sibpairs])\n",
    "\n",
    "print(np.sum(is_m_m & is_typ_typ), np.sum(is_m_f & is_typ_typ), np.sum(is_f_f & is_typ_typ))\n",
    "\n",
    "print('All', np.sum(is_typ_typ))\n",
    "print(np.sum(ctbp2_is_mat_match[is_typ_typ]==1) + np.sum(ctbp2_is_pat_match[is_typ_typ]==1))\n",
    "print(np.sum(ctbp2_is_mat_match[is_typ_typ]!=-1) + np.sum(ctbp2_is_pat_match[is_typ_typ]!=-1))\n",
    "print(stats.binom_test(np.sum(ctbp2_is_mat_match[is_typ_typ]==1) + np.sum(ctbp2_is_pat_match[is_typ_typ]==1), \n",
    "                             np.sum(ctbp2_is_mat_match[is_typ_typ]!=-1) + np.sum(ctbp2_is_pat_match[is_typ_typ]!=-1),\n",
    "                             p=0.5, alternative='greater'))\n",
    "print(stats.binom_test(np.sum(ctbp2_is_mat_match[is_typ_typ]==1), \n",
    "                             np.sum(ctbp2_is_mat_match[is_typ_typ]!=-1),\n",
    "                             p=0.5, alternative='greater'))\n",
    "print(stats.binom_test(np.sum(ctbp2_is_pat_match[is_typ_typ]==1), \n",
    "                              np.sum(ctbp2_is_pat_match[is_typ_typ]!=-1),\n",
    "                             p=0.5, alternative='greater'))\n",
    "\n",
    "print('multiplex')\n",
    "print(stats.binom_test(np.sum(ctbp2_is_mat_match[is_typ_typ & is_multiplex]==1) + np.sum(ctbp2_is_pat_match[is_typ_typ & is_multiplex]==1), \n",
    "                             np.sum(ctbp2_is_mat_match[is_typ_typ & is_multiplex]!=-1) + np.sum(ctbp2_is_pat_match[is_typ_typ & is_multiplex]!=-1),\n",
    "                             p=0.5, alternative='greater'))\n",
    "print(stats.binom_test(np.sum(ctbp2_is_mat_match[is_typ_typ & is_multiplex]==1), \n",
    "                             np.sum(ctbp2_is_mat_match[is_typ_typ & is_multiplex]!=-1),\n",
    "                             p=0.5, alternative='greater'))\n",
    "print(stats.binom_test(np.sum(ctbp2_is_pat_match[is_typ_typ & is_multiplex]==1), \n",
    "                              np.sum(ctbp2_is_pat_match[is_typ_typ & is_multiplex]!=-1),\n",
    "                             p=0.5, alternative='greater'))\n",
    "\n",
    "print('simplex')\n",
    "print(stats.binom_test(np.sum(ctbp2_is_mat_match[is_typ_typ & ~is_multiplex]==1) + np.sum(ctbp2_is_pat_match[is_typ_typ & ~is_multiplex]==1), \n",
    "                             np.sum(ctbp2_is_mat_match[is_typ_typ & ~is_multiplex]!=-1) + np.sum(ctbp2_is_pat_match[is_typ_typ & ~is_multiplex]!=-1),\n",
    "                             p=0.5, alternative='greater'))\n",
    "print(stats.binom_test(np.sum(ctbp2_is_mat_match[is_typ_typ & ~is_multiplex]==1), \n",
    "                             np.sum(ctbp2_is_mat_match[is_typ_typ & ~is_multiplex]!=-1),\n",
    "                             p=0.5, alternative='greater'))\n",
    "print(stats.binom_test(np.sum(ctbp2_is_pat_match[is_typ_typ & ~is_multiplex]==1), \n",
    "                              np.sum(ctbp2_is_pat_match[is_typ_typ & ~is_multiplex]!=-1),\n",
    "                             p=0.5, alternative='greater'))\n",
    "\n",
    "print('MM', np.sum(is_typ_typ & is_m_m))\n",
    "print('MM', stats.binom_test(np.sum(ctbp2_is_mat_match[is_typ_typ & is_m_m]==1) + np.sum(ctbp2_is_pat_match[is_typ_typ & is_m_m]==1), \n",
    "                             np.sum(ctbp2_is_mat_match[is_typ_typ & is_m_m]!=-1) + np.sum(ctbp2_is_pat_match[is_typ_typ & is_m_m]!=-1),\n",
    "                             p=0.5, alternative='greater'))\n",
    "print('MM', stats.binom_test(np.sum(ctbp2_is_mat_match[is_typ_typ & is_m_m]==1), \n",
    "                             np.sum(ctbp2_is_mat_match[is_typ_typ & is_m_m]!=-1),\n",
    "                             p=0.5, alternative='greater'))\n",
    "print('MM', stats.binom_test(np.sum(ctbp2_is_pat_match[is_typ_typ & is_m_m]==1), \n",
    "                              np.sum(ctbp2_is_pat_match[is_typ_typ & is_m_m]!=-1),\n",
    "                             p=0.5, alternative='greater'))\n",
    "\n",
    "print('MF', np.sum(is_typ_typ & is_m_f))\n",
    "print('MF', stats.binom_test(np.sum(ctbp2_is_mat_match[is_typ_typ & is_m_f]==1) + np.sum(ctbp2_is_pat_match[is_typ_typ & is_m_f]==1), \n",
    "                             np.sum(ctbp2_is_mat_match[is_typ_typ & is_m_f]!=-1) + np.sum(ctbp2_is_pat_match[is_typ_typ & is_m_f]!=-1),\n",
    "                             p=0.5, alternative='greater'))\n",
    "print('MF', stats.binom_test(np.sum(ctbp2_is_mat_match[is_typ_typ & is_m_f]==1), \n",
    "                             np.sum(ctbp2_is_mat_match[is_typ_typ & is_m_f]!=-1),\n",
    "                             p=0.5, alternative='greater'))\n",
    "print('MF', stats.binom_test(np.sum(ctbp2_is_pat_match[is_typ_typ & is_m_f]==1), \n",
    "                              np.sum(ctbp2_is_pat_match[is_typ_typ & is_m_f]!=-1),\n",
    "                             p=0.5, alternative='greater'))\n",
    "\n",
    "print('FF', np.sum(is_typ_typ & is_f_f))\n",
    "print('FF', stats.binom_test(np.sum(ctbp2_is_mat_match[is_typ_typ & is_f_f]==1) + np.sum(ctbp2_is_pat_match[is_typ_typ & is_f_f]==1), \n",
    "                             np.sum(ctbp2_is_mat_match[is_typ_typ & is_f_f]!=-1) + np.sum(ctbp2_is_pat_match[is_typ_typ & is_f_f]!=-1),\n",
    "                             p=0.5, alternative='greater'))\n",
    "print('FF', stats.binom_test(np.sum(ctbp2_is_mat_match[is_typ_typ & is_f_f]==1), \n",
    "                             np.sum(ctbp2_is_mat_match[is_typ_typ & is_f_f]!=-1),\n",
    "                             p=0.5, alternative='greater'))\n",
    "print('FF', stats.binom_test(np.sum(ctbp2_is_pat_match[is_typ_typ & is_f_f]==1), \n",
    "                              np.sum(ctbp2_is_pat_match[is_typ_typ & is_f_f]!=-1),\n",
    "                             p=0.5, alternative='greater'))"
   ]
  },
  {
   "cell_type": "code",
   "execution_count": 59,
   "metadata": {},
   "outputs": [
    {
     "name": "stdout",
     "output_type": "stream",
     "text": [
      "266 179 30\n",
      "All 475\n",
      "433\n",
      "808\n",
      "0.02243459723346344\n",
      "0.05864859387693734\n",
      "0.11012782128861183\n",
      "multiplex\n",
      "0.02243459723346344\n",
      "0.05864859387693734\n",
      "0.11012782128861183\n",
      "simplex\n",
      "1.0\n",
      "1.0\n",
      "1.0\n",
      "MM 266\n",
      "MM 0.0015333726729683734\n",
      "MM 0.016333325267066583\n",
      "MM 0.02359562295902576\n",
      "MF 179\n",
      "MF 0.7158730486616511\n",
      "MF 0.5\n",
      "MF 0.804784916018647\n",
      "FF 30\n",
      "FF 0.38543349728651377\n",
      "FF 0.7293719053268433\n",
      "FF 0.20243644714355474\n"
     ]
    }
   ],
   "source": [
    "is_aff_aff = np.array([sp.num_affected==2 for sp in sibpairs])\n",
    "is_aff_typ = np.array([sp.num_affected==1 for sp in sibpairs])\n",
    "is_typ_typ = np.array([sp.num_affected==0 for sp in sibpairs])\n",
    "\n",
    "is_m_m = np.array([sp.num_males==2 for sp in sibpairs])\n",
    "is_m_f = np.array([sp.num_males==1 for sp in sibpairs])\n",
    "is_f_f = np.array([sp.num_males==0 for sp in sibpairs])\n",
    "\n",
    "is_multiplex = np.array([sp.is_multiplex for sp in sibpairs])\n",
    "is_unmultiplex = np.array([sp.is_unmultiplex for sp in sibpairs])\n",
    "\n",
    "print(np.sum(is_m_m & is_aff_aff), np.sum(is_m_f & is_aff_aff), np.sum(is_f_f & is_aff_aff))\n",
    "\n",
    "print('All', np.sum(is_aff_aff))\n",
    "print(np.sum(ctbp2_is_mat_match[is_aff_aff]==1) + np.sum(ctbp2_is_pat_match[is_aff_aff]==1))\n",
    "print(np.sum(ctbp2_is_mat_match[is_aff_aff]!=-1) + np.sum(ctbp2_is_pat_match[is_aff_aff]!=-1))\n",
    "print(stats.binom_test(np.sum(ctbp2_is_mat_match[is_aff_aff]==1) + np.sum(ctbp2_is_pat_match[is_aff_aff]==1), \n",
    "                             np.sum(ctbp2_is_mat_match[is_aff_aff]!=-1) + np.sum(ctbp2_is_pat_match[is_aff_aff]!=-1),\n",
    "                             p=0.5, alternative='greater'))\n",
    "print(stats.binom_test(np.sum(ctbp2_is_mat_match[is_aff_aff]==1), \n",
    "                             np.sum(ctbp2_is_mat_match[is_aff_aff]!=-1),\n",
    "                             p=0.5, alternative='greater'))\n",
    "print(stats.binom_test(np.sum(ctbp2_is_pat_match[is_aff_aff]==1), \n",
    "                              np.sum(ctbp2_is_pat_match[is_aff_aff]!=-1),\n",
    "                             p=0.5, alternative='greater'))\n",
    "\n",
    "print('multiplex')\n",
    "print(stats.binom_test(np.sum(ctbp2_is_mat_match[is_aff_aff & is_multiplex]==1) + np.sum(ctbp2_is_pat_match[is_aff_aff & is_multiplex]==1), \n",
    "                             np.sum(ctbp2_is_mat_match[is_aff_aff & is_multiplex]!=-1) + np.sum(ctbp2_is_pat_match[is_aff_aff & is_multiplex]!=-1),\n",
    "                             p=0.5, alternative='greater'))\n",
    "print(stats.binom_test(np.sum(ctbp2_is_mat_match[is_aff_aff & is_multiplex]==1), \n",
    "                             np.sum(ctbp2_is_mat_match[is_aff_aff & is_multiplex]!=-1),\n",
    "                             p=0.5, alternative='greater'))\n",
    "print(stats.binom_test(np.sum(ctbp2_is_pat_match[is_aff_aff & is_multiplex]==1), \n",
    "                              np.sum(ctbp2_is_pat_match[is_aff_aff & is_multiplex]!=-1),\n",
    "                             p=0.5, alternative='greater'))\n",
    "\n",
    "print('simplex')\n",
    "print(stats.binom_test(np.sum(ctbp2_is_mat_match[is_aff_aff & ~is_multiplex]==1) + np.sum(ctbp2_is_pat_match[is_aff_aff & ~is_multiplex]==1), \n",
    "                             np.sum(ctbp2_is_mat_match[is_aff_aff & ~is_multiplex]!=-1) + np.sum(ctbp2_is_pat_match[is_aff_aff & ~is_multiplex]!=-1),\n",
    "                             p=0.5, alternative='greater'))\n",
    "print(stats.binom_test(np.sum(ctbp2_is_mat_match[is_aff_aff & ~is_multiplex]==1), \n",
    "                             np.sum(ctbp2_is_mat_match[is_aff_aff & ~is_multiplex]!=-1),\n",
    "                             p=0.5, alternative='greater'))\n",
    "print(stats.binom_test(np.sum(ctbp2_is_pat_match[is_aff_aff & ~is_multiplex]==1), \n",
    "                              np.sum(ctbp2_is_pat_match[is_aff_aff & ~is_multiplex]!=-1),\n",
    "                             p=0.5, alternative='greater'))\n",
    "\n",
    "print('MM', np.sum(is_aff_aff & is_m_m))\n",
    "print('MM', stats.binom_test(np.sum(ctbp2_is_mat_match[is_aff_aff & is_m_m]==1) + np.sum(ctbp2_is_pat_match[is_aff_aff & is_m_m]==1), \n",
    "                             np.sum(ctbp2_is_mat_match[is_aff_aff & is_m_m]!=-1) + np.sum(ctbp2_is_pat_match[is_aff_aff & is_m_m]!=-1),\n",
    "                             p=0.5, alternative='greater'))\n",
    "print('MM', stats.binom_test(np.sum(ctbp2_is_mat_match[is_aff_aff & is_m_m]==1), \n",
    "                             np.sum(ctbp2_is_mat_match[is_aff_aff & is_m_m]!=-1),\n",
    "                             p=0.5, alternative='greater'))\n",
    "print('MM', stats.binom_test(np.sum(ctbp2_is_pat_match[is_aff_aff & is_m_m]==1), \n",
    "                              np.sum(ctbp2_is_pat_match[is_aff_aff & is_m_m]!=-1),\n",
    "                             p=0.5, alternative='greater'))\n",
    "\n",
    "print('MF', np.sum(is_aff_aff & is_m_f))\n",
    "print('MF', stats.binom_test(np.sum(ctbp2_is_mat_match[is_aff_aff & is_m_f]==1) + np.sum(ctbp2_is_pat_match[is_aff_aff & is_m_f]==1), \n",
    "                             np.sum(ctbp2_is_mat_match[is_aff_aff & is_m_f]!=-1) + np.sum(ctbp2_is_pat_match[is_aff_aff & is_m_f]!=-1),\n",
    "                             p=0.5, alternative='greater'))\n",
    "print('MF', stats.binom_test(np.sum(ctbp2_is_mat_match[is_aff_aff & is_m_f]==1), \n",
    "                             np.sum(ctbp2_is_mat_match[is_aff_aff & is_m_f]!=-1),\n",
    "                             p=0.5, alternative='greater'))\n",
    "print('MF', stats.binom_test(np.sum(ctbp2_is_pat_match[is_aff_aff & is_m_f]==1), \n",
    "                              np.sum(ctbp2_is_pat_match[is_aff_aff & is_m_f]!=-1),\n",
    "                             p=0.5, alternative='greater'))\n",
    "\n",
    "print('FF', np.sum(is_aff_aff & is_f_f))\n",
    "print('FF', stats.binom_test(np.sum(ctbp2_is_mat_match[is_aff_aff & is_f_f]==1) + np.sum(ctbp2_is_pat_match[is_aff_aff & is_f_f]==1), \n",
    "                             np.sum(ctbp2_is_mat_match[is_aff_aff & is_f_f]!=-1) + np.sum(ctbp2_is_pat_match[is_aff_aff & is_f_f]!=-1),\n",
    "                             p=0.5, alternative='greater'))\n",
    "print('FF', stats.binom_test(np.sum(ctbp2_is_mat_match[is_aff_aff & is_f_f]==1), \n",
    "                             np.sum(ctbp2_is_mat_match[is_aff_aff & is_f_f]!=-1),\n",
    "                             p=0.5, alternative='greater'))\n",
    "print('FF', stats.binom_test(np.sum(ctbp2_is_pat_match[is_aff_aff & is_f_f]==1), \n",
    "                              np.sum(ctbp2_is_pat_match[is_aff_aff & is_f_f]!=-1),\n",
    "                             p=0.5, alternative='greater'))"
   ]
  },
  {
   "cell_type": "code",
   "execution_count": 60,
   "metadata": {},
   "outputs": [
    {
     "name": "stdout",
     "output_type": "stream",
     "text": [
      "[[22 22]\n",
      " [76 86]]\n",
      "(1.131578947368421, 0.7364021381194903)\n",
      "[[14 22]\n",
      " [76 86]]\n",
      "(0.7200956937799043, 0.46036926571274844)\n",
      "[[221, 195], [76, 86]]\n",
      "(1.2824561403508772, 0.19503030834415233)\n"
     ]
    }
   ],
   "source": [
    "c = np.array([[np.sum((ctbp2_is_pat_match==1) & is_typ_typ), np.sum((ctbp2_is_pat_match==0) & is_typ_typ)],\n",
    "                              [np.sum((ctbp2_is_pat_match==1) & is_aff_typ), np.sum((ctbp2_is_pat_match==0) & is_aff_typ)]])\n",
    "print(c)\n",
    "print(stats.fisher_exact(c))\n",
    "\n",
    "c = np.array([[np.sum((ctbp2_is_pat_match==1) & (ctbp2_is_mat_match==1) & is_typ_typ), np.sum((ctbp2_is_pat_match==0) & is_typ_typ)],\n",
    "                              [np.sum((ctbp2_is_pat_match==1) & is_aff_typ), np.sum((ctbp2_is_pat_match==0) & is_aff_typ)]])\n",
    "print(c)\n",
    "print(stats.fisher_exact(c))\n",
    "\n",
    "c = [[np.sum((ctbp2_is_pat_match==1) & is_aff_aff), np.sum((ctbp2_is_pat_match==0) & is_aff_aff)],\n",
    "                              [np.sum((ctbp2_is_pat_match==1) & is_aff_typ), np.sum((ctbp2_is_pat_match==0) & is_aff_typ)]]\n",
    "print(c)\n",
    "print(stats.fisher_exact(c))"
   ]
  },
  {
   "cell_type": "code",
   "execution_count": 61,
   "metadata": {},
   "outputs": [],
   "source": [
    "def exact_confidence_interval(count, n, p=0.25):\n",
    "    p_hat = count/n\n",
    "    alpha = 0.05\n",
    "    ps = np.arange(0, 1, 0.0001)\n",
    "\n",
    "    conf = np.zeros((2, len(count)))\n",
    "    for i in range(len(count)):\n",
    "        conf[0, i] = p_hat[i] - ps[np.searchsorted(-stats.binom.cdf(count[i]-1, n[i], ps), -(1 - alpha/2))]\n",
    "        conf[1, i] = ps[np.searchsorted(-stats.binom.cdf(count[i], n[i], ps), -alpha/2)] - p_hat[i]\n",
    "        print(i, p_hat[i], conf[:, i], stats.binom_test(count[i], n[i], p=p))\n",
    "    return p_hat, conf\n",
    "\n",
    "#print(exact_confidence_interval(both_counts, n))\n"
   ]
  },
  {
   "cell_type": "code",
   "execution_count": 62,
   "metadata": {},
   "outputs": [
    {
     "name": "stdout",
     "output_type": "stream",
     "text": [
      "0 0.3684210526315789 [0.15022105 0.17167895] 0.09449248536714791\n",
      "1 0.3488372093023256 [0.08173721 0.08896279] 0.014193430732473866\n",
      "2 0.39820359281437123 [0.05280359 0.05479641] 2.8601211255904665e-09\n",
      "0 0.10526315789473684 [0.07576316 0.14283684] 0.0390715989994117\n",
      "1 0.11627906976744186 [0.04967907 0.06832093] 0.0002223856226648219\n",
      "2 0.12275449101796407 [0.03315449 0.04014551] 9.722575650865914e-09\n",
      "0 0.2631578947368421 [0.12905789 0.16794211] 0.8519340037371725\n",
      "1 0.18604651162790697 [0.06304651 0.07805349] 0.1035722041876087\n",
      "2 0.12574850299401197 [0.0335485 0.0404515] 2.8630076948512133e-08\n",
      "0 0.2631578947368421 [0.12905789 0.16794211] 0.8519340037371725\n",
      "1 0.3488372093023256 [0.08173721 0.08896279] 0.014193430732473866\n",
      "2 0.3532934131736527 [0.05119341 0.05390659] 2.7716525097086133e-05\n"
     ]
    },
    {
     "data": {
      "image/png": "[encoded data removed]",
      "text/plain": [
       "<Figure size 504x360 with 1 Axes>"
      ]
     },
     "metadata": {
      "needs_background": "light"
     },
     "output_type": "display_data"
    }
   ],
   "source": [
    "import matplotlib\n",
    "matplotlib.rcParams.update({'font.size': 15})\n",
    "colors = ['#695d46ff', '#ce93d8ff', '#ef6c00ff', '#4db6acff']\n",
    "\n",
    "def plot_with_error(counts, n, x, color, label, p=0.25):\n",
    "    p_hat, conf = exact_confidence_interval(counts[n!=0], n[n!=0], p=0.25)\n",
    "    plt.bar(x[n!=0], p_hat, width, \n",
    "                 color=color, label=label)\n",
    "    plt.errorbar(x[n!=0], p_hat, yerr=conf, \n",
    "                 color='black', linestyle='', capsize=5)\n",
    "    \n",
    "\n",
    "n = np.array([np.sum((ctbp2_is_pat_match!=-1) & (ctbp2_is_mat_match!=-1) & is_typ_typ), \n",
    "              np.sum((ctbp2_is_pat_match!=-1) & (ctbp2_is_mat_match!=-1) & is_aff_typ), \n",
    "              np.sum((ctbp2_is_pat_match!=-1) & (ctbp2_is_mat_match!=-1) & is_aff_aff)])\n",
    "\n",
    "both_counts = np.array([np.sum((ctbp2_is_pat_match==1) & (ctbp2_is_mat_match==1) & is_typ_typ),\n",
    "               np.sum((ctbp2_is_pat_match==1) & (ctbp2_is_mat_match==1) & is_aff_typ),\n",
    "               np.sum((ctbp2_is_pat_match==1) & (ctbp2_is_mat_match==1) & is_aff_aff)])\n",
    "\n",
    "pat_only_counts = np.array([np.sum((ctbp2_is_pat_match==1) & (ctbp2_is_mat_match==0) & is_typ_typ),\n",
    "               np.sum((ctbp2_is_pat_match==1) & (ctbp2_is_mat_match==0) & is_aff_typ),\n",
    "               np.sum((ctbp2_is_pat_match==1) & (ctbp2_is_mat_match==0) & is_aff_aff)])\n",
    "\n",
    "mat_only_counts = np.array([np.sum((ctbp2_is_pat_match==0) & (ctbp2_is_mat_match==1) & is_typ_typ),\n",
    "               np.sum((ctbp2_is_pat_match==0) & (ctbp2_is_mat_match==1) & is_aff_typ),\n",
    "               np.sum((ctbp2_is_pat_match==0) & (ctbp2_is_mat_match==1) & is_aff_aff)])\n",
    "    \n",
    "neither_counts = np.array([np.sum((ctbp2_is_pat_match==0) & (ctbp2_is_mat_match==0) & is_typ_typ),\n",
    "               np.sum((ctbp2_is_pat_match==0) & (ctbp2_is_mat_match==0) & is_aff_typ),\n",
    "               np.sum((ctbp2_is_pat_match==0) & (ctbp2_is_mat_match==0) & is_aff_aff)])\n",
    "    \n",
    "plt.figure(figsize=(7, 5))\n",
    "width = 0.15\n",
    "\n",
    "plot_with_error(both_counts, n, np.arange(3), colors[0], 'maternal and\\npaternal IBD')\n",
    "plot_with_error(pat_only_counts, n, np.arange(3)+1.25*width, colors[1], 'paternal\\nIBD only')\n",
    "plot_with_error(mat_only_counts, n, np.arange(3)+2.50*width, colors[2], 'maternal\\nIBD only')\n",
    "plot_with_error(neither_counts, n, np.arange(3)+3.75*width, colors[3], 'no IBD')\n",
    "\n",
    "plt.axhline(0.25, color='black', linestyle='--')\n",
    "#plt.axhline(0.5, color='black', linestyle='--')\n",
    "#plt.axhline(0.75, color='black', linestyle='--')\n",
    "plt.xticks(np.arange(3)+1.85*width, ['neurotypical-\\nneurotypical', 'autism-\\nneurotypical', 'autism-\\nautism'])\n",
    "plt.legend(loc='upper center', ncol=2)\n",
    "#plt.ylim([0, 1.4])\n",
    "plt.yticks(np.arange(0, 1.25, 0.25))\n",
    "plt.ylabel('Fraction of sibling pairs')\n",
    "plt.show()"
   ]
  },
  {
   "cell_type": "code",
   "execution_count": 63,
   "metadata": {},
   "outputs": [
    {
     "name": "stdout",
     "output_type": "stream",
     "text": [
      "0 0.3684210526315789 [0.15022105 0.17167895] 0.09449248536714791\n",
      "1 0.3488372093023256 [0.08173721 0.08896279] 0.014193430732473866\n",
      "2 0.39820359281437123 [0.05280359 0.05479641] 2.8601211255904665e-09\n",
      "0 0.3684210526315789 [0.15022105 0.17167895] 0.09449248536714791\n",
      "1 0.3023255813953488 [0.07762558 0.08707442] 0.18576854278069466\n",
      "2 0.24850299401197604 [0.04540299 0.04999701] 1.0\n",
      "0 0.2631578947368421 [0.12905789 0.16794211] 0.8519340037371725\n",
      "1 0.3488372093023256 [0.08173721 0.08896279] 0.014193430732473866\n",
      "2 0.3532934131736527 [0.05119341 0.05390659] 2.7716525097086133e-05\n"
     ]
    },
    {
     "data": {
      "image/png": "[encoded data removed]",
      "text/plain": [
       "<Figure size 504x360 with 1 Axes>"
      ]
     },
     "metadata": {
      "needs_background": "light"
     },
     "output_type": "display_data"
    }
   ],
   "source": [
    "n = np.array([np.sum((ctbp2_is_pat_match!=-1) & (ctbp2_is_mat_match!=-1) & is_typ_typ), \n",
    "              np.sum((ctbp2_is_pat_match!=-1) & (ctbp2_is_mat_match!=-1) & is_aff_typ), \n",
    "              np.sum((ctbp2_is_pat_match!=-1) & (ctbp2_is_mat_match!=-1) & is_aff_aff)])\n",
    "\n",
    "counts2 = np.array([np.sum((ctbp2_is_pat_match==1) & (ctbp2_is_mat_match==1) & is_typ_typ),\n",
    "               np.sum((ctbp2_is_pat_match==1) & (ctbp2_is_mat_match==1) & is_aff_typ),\n",
    "               np.sum((ctbp2_is_pat_match==1) & (ctbp2_is_mat_match==1) & is_aff_aff)])\n",
    "\n",
    "counts1 = np.array([np.sum((ctbp2_is_pat_match==1) & (ctbp2_is_mat_match==0) & is_typ_typ),\n",
    "               np.sum((ctbp2_is_pat_match==1) & (ctbp2_is_mat_match==0) & is_aff_typ),\n",
    "               np.sum((ctbp2_is_pat_match==1) & (ctbp2_is_mat_match==0) & is_aff_aff)])\n",
    "\n",
    "counts1 += np.array([np.sum((ctbp2_is_pat_match==0) & (ctbp2_is_mat_match==1) & is_typ_typ),\n",
    "               np.sum((ctbp2_is_pat_match==0) & (ctbp2_is_mat_match==1) & is_aff_typ),\n",
    "               np.sum((ctbp2_is_pat_match==0) & (ctbp2_is_mat_match==1) & is_aff_aff)])\n",
    "    \n",
    "counts0 = np.array([np.sum((ctbp2_is_pat_match==0) & (ctbp2_is_mat_match==0) & is_typ_typ),\n",
    "               np.sum((ctbp2_is_pat_match==0) & (ctbp2_is_mat_match==0) & is_aff_typ),\n",
    "               np.sum((ctbp2_is_pat_match==0) & (ctbp2_is_mat_match==0) & is_aff_aff)])\n",
    "    \n",
    "plt.figure(figsize=(7, 5))\n",
    "width = 0.15\n",
    "\n",
    "plot_with_error(counts2, n, np.arange(3), colors[0], '2')\n",
    "plot_with_error(counts1, n, np.arange(3)+1.25*width, colors[1], '1')\n",
    "plot_with_error(counts0, n, np.arange(3)+2.5*width, colors[3], '0')\n",
    "\n",
    "plt.axhline(0.25, color='black', linestyle='--')\n",
    "plt.axhline(0.5, color='black', linestyle='--')\n",
    "#plt.axhline(0.75, color='black', linestyle='--')\n",
    "plt.xticks(np.arange(3)+1.85*width, ['neurotypical-\\nneurotypical', 'autism-\\nneurotypical', 'autism-\\nautism'])\n",
    "plt.legend(loc='upper center')\n",
    "#plt.ylim([0, 1.4])\n",
    "plt.yticks(np.arange(0, 1.25, 0.25))\n",
    "plt.ylabel('Fraction of sibling pairs')\n",
    "plt.show()"
   ]
  },
  {
   "cell_type": "code",
   "execution_count": 64,
   "metadata": {},
   "outputs": [
    {
     "name": "stdout",
     "output_type": "stream",
     "text": [
      "[ 38 129 334]\n"
     ]
    }
   ],
   "source": [
    "print(n)"
   ]
  },
  {
   "cell_type": "code",
   "execution_count": 65,
   "metadata": {},
   "outputs": [
    {
     "name": "stdout",
     "output_type": "stream",
     "text": [
      "[(0, 2), (0, 3), (1, 2), (1, 3)]\n"
     ]
    }
   ],
   "source": [
    "print(list(product(*[[0, 1], [2, 3]])))"
   ]
  },
  {
   "cell_type": "code",
   "execution_count": 66,
   "metadata": {},
   "outputs": [
    {
     "name": "stdout",
     "output_type": "stream",
     "text": [
      "0.7881705639614855\n"
     ]
    },
    {
     "data": {
      "image/png": "[encoded data removed]",
      "text/plain": [
       "<Figure size 1080x1080 with 12 Axes>"
      ]
     },
     "metadata": {
      "needs_background": "light"
     },
     "output_type": "display_data"
    }
   ],
   "source": [
    "plt.figure(figsize=(15, 15))\n",
    "\n",
    "p_aut = (2*np.sum(is_aff_aff) + np.sum(is_aff_typ))/(2*np.sum(is_aff_aff + is_aff_typ + is_typ_typ))\n",
    "print(p_aut)\n",
    "p = np.arange(0, 1, 0.01)\n",
    "\n",
    "def get_p_share(p, a, b, c):\n",
    "    # typ-typ/aut-typ/aut-aut, share0/share1/share2, afs\n",
    "    p_share = np.zeros((3, 3, len(p)))\n",
    "    prob_of_autism = [a, b, c]\n",
    "    \n",
    "    for anc_vars in product([0, 1], repeat=4):\n",
    "        prob_of_vars = np.prod([p if x==1 else (1-p) for x in anc_vars], axis=0)\n",
    "        for inherit in product(*[[0, 1], [2, 3], [0, 1], [2, 3], [0, 1], [2, 3]]):\n",
    "            # typ-typ\n",
    "            prob_of_event = prob_of_vars/64\n",
    "            #prob_of_event *= (1-prob_of_autism[anc_vars[0]+anc_vars[1]]) # mom no autism\n",
    "            #prob_of_event *= (1-prob_of_autism[anc_vars[2]+anc_vars[3]]) # dad no autism\n",
    "            prob_of_event *= (1-prob_of_autism[anc_vars[inherit[0]]+anc_vars[inherit[1]]]) # child1 no autism\n",
    "            prob_of_event *= (1-prob_of_autism[anc_vars[inherit[2]]+anc_vars[inherit[3]]]) # child2 no autism\n",
    "            prob_of_event *= prob_of_autism[anc_vars[inherit[4]]+anc_vars[inherit[5]]] # child3 autism\n",
    "            p_share[0, int(inherit[0]==inherit[2]) + int(inherit[1]==inherit[3]), :] += prob_of_event\n",
    "            \n",
    "            # aut-typ\n",
    "            prob_of_event = prob_of_vars/64\n",
    "            #prob_of_event *= (1-prob_of_autism[anc_vars[0]+anc_vars[1]]) # mom no autism\n",
    "            #prob_of_event *= (1-prob_of_autism[anc_vars[2]+anc_vars[3]]) # dad no autism\n",
    "            prob_of_event *= prob_of_autism[anc_vars[inherit[0]]+anc_vars[inherit[1]]] # child1 autism\n",
    "            prob_of_event *= (1-prob_of_autism[anc_vars[inherit[2]]+anc_vars[inherit[3]]]) # child2 no autism\n",
    "            p_share[1, int(inherit[0]==inherit[2]) + int(inherit[1]==inherit[3]), :] += prob_of_event\n",
    "            prob_of_event = prob_of_vars/64\n",
    "            #prob_of_event *= (1-prob_of_autism[anc_vars[0]+anc_vars[1]]) # mom no autism\n",
    "            #prob_of_event *= (1-prob_of_autism[anc_vars[2]+anc_vars[3]]) # dad no autism\n",
    "            prob_of_event *= (1-prob_of_autism[anc_vars[inherit[0]]+anc_vars[inherit[1]]]) # child1 no autism\n",
    "            prob_of_event *= prob_of_autism[anc_vars[inherit[2]]+anc_vars[inherit[3]]] # child2 autism\n",
    "            p_share[1, int(inherit[0]==inherit[2]) + int(inherit[1]==inherit[3]), :] += prob_of_event\n",
    "            # aut-aut\n",
    "            prob_of_event = prob_of_vars/64\n",
    "            #prob_of_event *= (1-prob_of_autism[anc_vars[0]+anc_vars[1]]) # mom no autism\n",
    "            #prob_of_event *= (1-prob_of_autism[anc_vars[2]+anc_vars[3]]) # dad no autism\n",
    "            prob_of_event *= prob_of_autism[anc_vars[inherit[0]]+anc_vars[inherit[1]]] # child1 autism\n",
    "            prob_of_event *= prob_of_autism[anc_vars[inherit[2]]+anc_vars[inherit[3]]] # child2 autism\n",
    "            p_share[2, int(inherit[0]==inherit[2]) + int(inherit[1]==inherit[3]), :] += prob_of_event\n",
    "\n",
    "    #print(np.sum(p_share, axis=(0, 1)))\n",
    "    #assert np.all(np.isclose(np.sum(p_share, axis=(0, 1)), 1))\n",
    "    p_share[0, :, :] = p_share[0, :, :]/np.sum(p_share[0, :, :], axis=0)\n",
    "    p_share[1, :, :] = p_share[1, :, :]/np.sum(p_share[1, :, :], axis=0)\n",
    "    p_share[2, :, :] = p_share[2, :, :]/np.sum(p_share[2, :, :], axis=0)\n",
    "    \n",
    "    #print(np.sum(p_share, axis=1))\n",
    "    assert np.all(np.isclose(np.sum(p_share, axis=1), 1))\n",
    "    return p_share\n",
    "\n",
    "ax = plt.subplot(4, 3, 1)\n",
    "\n",
    "labels = ['typ-typ', 'aff-typ', 'aff-aff']\n",
    "\n",
    "p_share = get_p_share(p, 0.5, 0.9, 0.9)\n",
    "for status in range(3):\n",
    "    plt.subplot(4, 3, status+1, sharey=ax)\n",
    "    x = plt.plot(p, p_share[status, 0, :])\n",
    "    #plt.axhline(counts0[status]/n[status], linestyle='--', color = x[0].get_color())\n",
    "    x = plt.plot(p, p_share[status, 1, :])\n",
    "    #plt.axhline(counts1[status]/n[status], linestyle='--', color = x[0].get_color())\n",
    "    x = plt.plot(p, p_share[status, 2, :])\n",
    "    #plt.axhline(counts2[status]/n[status], linestyle='--', color = x[0].get_color())\n",
    "\n",
    "    #plt.axhline(0.25, color='black', linestyle='--')\n",
    "    #plt.axhline(0.5, color='black', linestyle='--')\n",
    "    plt.title('Dominant Risk Variant\\n%s' % labels[status])\n",
    "    \n",
    "p_share = get_p_share(p, 0.5, 0.1, 0.1)\n",
    "for status in range(3):\n",
    "    plt.subplot(4, 3, status+4, sharey=ax)\n",
    "    x = plt.plot(p, p_share[status, 0, :])\n",
    "   # plt.axhline(counts0[status]/n[status], linestyle='--', color = x[0].get_color())\n",
    "    x = plt.plot(p, p_share[status, 1, :])\n",
    "    #plt.axhline(counts1[status]/n[status], linestyle='--', color = x[0].get_color())\n",
    "    x = plt.plot(p, p_share[status, 2, :])\n",
    "    #plt.axhline(counts2[status]/n[status], linestyle='--', color = x[0].get_color())\n",
    "\n",
    "    #plt.axhline(0.25, color='black', linestyle='--')\n",
    "    #plt.axhline(0.5, color='black', linestyle='--')\n",
    "    plt.title('Dominant Protective Variant\\n%s' % labels[status])\n",
    "    \n",
    "p_share = get_p_share(p, 0.5, 0.5, 0.9)\n",
    "for status in range(3):\n",
    "    plt.subplot(4, 3, status+7, sharey=ax)\n",
    "    x = plt.plot(p, p_share[status, 0, :])\n",
    "    #plt.axhline(counts0[status]/n[status], linestyle='--', color = x[0].get_color())\n",
    "    x = plt.plot(p, p_share[status, 1, :])\n",
    "    #plt.axhline(counts1[status]/n[status], linestyle='--', color = x[0].get_color())\n",
    "    x = plt.plot(p, p_share[status, 2, :])\n",
    "    #plt.axhline(counts2[status]/n[status], linestyle='--', color = x[0].get_color())\n",
    "\n",
    "    #plt.axhline(0.25, color='black', linestyle='--')\n",
    "    #plt.axhline(0.5, color='black', linestyle='--')\n",
    "    plt.title('Recessive Risk Variant\\n%s' % labels[status])\n",
    "    \n",
    "p_share = get_p_share(p, 0.5, 0.5, 0.1)\n",
    "for status in range(3):\n",
    "    plt.subplot(4, 3, status+10, sharey=ax)\n",
    "    x = plt.plot(p, p_share[status, 0, :])\n",
    "    #plt.axhline(counts0[status]/n[status], linestyle='--', color = x[0].get_color())\n",
    "    x = plt.plot(p, p_share[status, 1, :])\n",
    "    #plt.axhline(counts1[status]/n[status], linestyle='--', color = x[0].get_color())\n",
    "    x = plt.plot(p, p_share[status, 2, :])\n",
    "    #plt.axhline(counts2[status]/n[status], linestyle='--', color = x[0].get_color())\n",
    "\n",
    "    #plt.axhline(0.25, color='black', linestyle='--')\n",
    "    #plt.axhline(0.5, color='black', linestyle='--')\n",
    "    plt.title('Recessive Protective Variant\\n%s' % labels[status])\n",
    "\n",
    "plt.tight_layout()\n",
    "plt.show()"
   ]
  },
  {
   "cell_type": "code",
   "execution_count": 67,
   "metadata": {},
   "outputs": [],
   "source": [
    "actual_value = np.zeros((3, 3))\n",
    "actual_value[0, 0] = counts0[0]\n",
    "actual_value[0, 1] = counts1[0]\n",
    "actual_value[0, 2] = counts2[0]\n",
    "actual_value[1, 0] = counts0[1]\n",
    "actual_value[1, 1] = counts1[1]\n",
    "actual_value[1, 2] = counts2[1]\n",
    "actual_value[2, 0] = counts0[2]\n",
    "actual_value[2, 1] = counts1[2]\n",
    "actual_value[2, 2] = counts2[2]"
   ]
  },
  {
   "cell_type": "code",
   "execution_count": 68,
   "metadata": {},
   "outputs": [
    {
     "name": "stdout",
     "output_type": "stream",
     "text": [
      "[[-18.66385973 -18.66376101 -18.66347028 -18.6629958  -18.66234596\n",
      "  -18.66152929 -18.66055436 -18.65942982 -18.65816436 -18.65676666\n",
      "  -18.65524538 -18.65360913 -18.65186649 -18.65002592 -18.64809579\n",
      "  -18.64608433 -18.64399966 -18.64184971 -18.63964227 -18.63738493\n",
      "  -18.63508508 -18.63274992 -18.63038643 -18.62800137 -18.62560127\n",
      "  -18.62319242 -18.62078089 -18.61837251 -18.61597284 -18.61358725\n",
      "  -18.61122081 -18.6088784  -18.60656462 -18.60428388 -18.60204032\n",
      "  -18.59983786 -18.59768022 -18.59557087 -18.59351309 -18.59150994\n",
      "  -18.5895643  -18.58767884 -18.58585605 -18.58409826 -18.58240759\n",
      "  -18.58078605 -18.57923546 -18.57775752 -18.57635377 -18.57502565\n",
      "  -18.57377446 -18.57260142 -18.57150762 -18.57049408 -18.56956174\n",
      "  -18.56871148 -18.56794411 -18.56726039 -18.56666105 -18.56614681\n",
      "  -18.56571837 -18.56537642 -18.56512169 -18.56495491 -18.5648769\n",
      "  -18.5648885  -18.56499066 -18.56518443 -18.56547098 -18.56585164\n",
      "  -18.56632791 -18.5669015  -18.56757437 -18.56834877 -18.56922727\n",
      "  -18.57021282 -18.57130882 -18.57251917 -18.57384836 -18.57530158\n",
      "  -18.57688477 -18.57860482 -18.58046966 -18.58248849 -18.58467193\n",
      "  -18.58703232 -18.58958401 -18.59234374 -18.59533104 -18.59856883\n",
      "  -18.60208407 -18.60590856 -18.61008002 -18.61464336 -18.61965231\n",
      "  -18.62517148 -18.63127908 -18.63807035 -18.64566207 -18.65419857]]\n"
     ]
    }
   ],
   "source": [
    "print(actual_value[0, np.newaxis, :].dot(np.log10(p_share[0, :, :])))"
   ]
  },
  {
   "cell_type": "code",
   "execution_count": 69,
   "metadata": {},
   "outputs": [
    {
     "name": "stdout",
     "output_type": "stream",
     "text": [
      "260.6919762450068 10000000\n",
      "258.58286568870153 260.6919762450068\n",
      "256.978364521621 258.58286568870153\n",
      "256.07897828674584 256.978364521621\n",
      "255.5141252905576 256.07897828674584\n",
      "255.1356302459208 255.5141252905576\n",
      "254.86794662354163 255.1356302459208\n",
      "254.6751180933698 254.86794662354163\n",
      "254.5014502058305 254.6751180933698\n",
      "254.40832522709803 254.5014502058305\n",
      "254.38239912388866 254.40832522709803\n",
      "254.31880410900897 254.38239912388866\n",
      "254.26314021086577 254.31880410900897\n",
      "[0.15000000000000002, 0.9500000000000002] [0.05, 0.05] [0.9500000000000002, 0.15000000000000002] [0.14, 0.86] 254.26314021086577\n"
     ]
    }
   ],
   "source": [
    "def calculate_loss(p_share, actual_counts):\n",
    "    loss = np.zeros((len(p),))\n",
    "    loss -= actual_counts[0, np.newaxis, :].dot(np.log10(p_share[0, :, :])).flatten()\n",
    "    loss -= actual_counts[1, np.newaxis, :].dot(np.log10(p_share[1, :, :])).flatten()\n",
    "    loss -= actual_counts[2, np.newaxis, :].dot(np.log10(p_share[2, :, :])).flatten()\n",
    "    return loss\n",
    "\n",
    "best_as, best_bs, best_cs, best_ps = [], [], [], []\n",
    "best_loss = 10000000\n",
    "\n",
    "for a in np.arange(0.05, 1.0, 0.1):\n",
    "    for b in np.arange(0.05, 1.0, 0.1):\n",
    "        for c in np.arange(0.05, 1.0, 0.1):\n",
    "            p_share = get_p_share(p, a, b, c)\n",
    "            loss = calculate_loss(p_share, actual_value)\n",
    "            if np.isclose(best_loss, np.min(loss)):\n",
    "                best_as.append(a)\n",
    "                best_bs.append(b)\n",
    "                best_cs.append(c)\n",
    "                best_ps.append(p[np.argmin(loss)])\n",
    "            elif np.min(loss)<best_loss:\n",
    "                print(np.min(loss), best_loss)\n",
    "                best_loss = np.min(loss)\n",
    "                best_as, best_bs, best_cs = [a], [b], [c]\n",
    "                best_ps = [p[np.argmin(loss)]]\n",
    "                \n",
    "print(best_as, best_bs, best_cs, best_ps, best_loss)"
   ]
  },
  {
   "cell_type": "code",
   "execution_count": 70,
   "metadata": {},
   "outputs": [
    {
     "name": "stderr",
     "output_type": "stream",
     "text": [
      "//anaconda3/lib/python3.7/site-packages/matplotlib/backends/backend_agg.py:211: RuntimeWarning: Glyph 9 missing from current font.\n",
      "  font.set_text(s, 0.0, flags=flags)\n",
      "//anaconda3/lib/python3.7/site-packages/matplotlib/backends/backend_agg.py:180: RuntimeWarning: Glyph 9 missing from current font.\n",
      "  font.set_text(s, 0, flags=flags)\n"
     ]
    },
    {
     "data": {
      "image/png": "[encoded data removed]",
      "text/plain": [
       "<Figure size 1080x1080 with 6 Axes>"
      ]
     },
     "metadata": {
      "needs_background": "light"
     },
     "output_type": "display_data"
    }
   ],
   "source": [
    "plt.figure(figsize=(15, 15))\n",
    "\n",
    "for i, (best_a, best_b, best_c, best_p) in enumerate(zip(best_as, best_bs, best_cs, best_ps)):\n",
    "    p_share = get_p_share(p, best_a, best_b, best_c)\n",
    "    #print(p_share)\n",
    "    for status in range(3):\n",
    "        plt.subplot(len(best_as), 3, status+1+(3*i), sharey=ax)\n",
    "        plt.title('a=%0.2f\\tb=%0.2f\\tc=%0.2f' % (best_a, best_b, best_c))\n",
    "        x = plt.plot(p, p_share[status, 0, :], marker='o')\n",
    "        plt.axhline(counts0[status]/n[status], linestyle='--', color = x[0].get_color())\n",
    "        x = plt.plot(p, p_share[status, 1, :], marker='o')\n",
    "        plt.axhline(counts1[status]/n[status], linestyle='--', color = x[0].get_color())\n",
    "        x = plt.plot(p, p_share[status, 2, :], marker='o')\n",
    "        plt.axhline(counts2[status]/n[status], linestyle='--', color = x[0].get_color())\n",
    "\n",
    "        plt.axvline(best_p, color='black', linestyle='--')\n",
    "        \n",
    "    \n",
    "\n",
    "plt.tight_layout()\n",
    "plt.show()"
   ]
  },
  {
   "cell_type": "code",
   "execution_count": 71,
   "metadata": {},
   "outputs": [
    {
     "name": "stdout",
     "output_type": "stream",
     "text": [
      "0 0.3684210526315789 [0.15022105 0.17167895] 0.09449248536714791\n",
      "1 0.10526315789473684 [0.07576316 0.14283684] 0.0390715989994117\n",
      "2 0.2631578947368421 [0.12905789 0.16794211] 0.8519340037371725\n",
      "3 0.2631578947368421 [0.12905789 0.16794211] 0.8519340037371725\n",
      "0 0.39820359281437123 [0.05280359 0.05479641] 2.8601211255904665e-09\n",
      "1 0.12275449101796407 [0.03315449 0.04014551] 9.722575650865914e-09\n",
      "2 0.12574850299401197 [0.0335485 0.0404515] 2.8630076948512133e-08\n",
      "3 0.3532934131736527 [0.05119341 0.05390659] 2.7716525097086133e-05\n"
     ]
    },
    {
     "data": {
      "image/png": "[encoded data removed]",
      "text/plain": [
       "<Figure size 504x360 with 1 Axes>"
      ]
     },
     "metadata": {
      "needs_background": "light"
     },
     "output_type": "display_data"
    }
   ],
   "source": [
    "import matplotlib\n",
    "matplotlib.rcParams.update({'font.size': 15})\n",
    "colors = ['#695d46ff', '#ce93d8ff', '#ef6c00ff', '#4db6acff']\n",
    " \n",
    "\n",
    "n_typ = np.sum((ctbp2_is_pat_match!=-1) & (ctbp2_is_mat_match!=-1) & is_typ_typ)\n",
    "n_aff = np.sum((ctbp2_is_pat_match!=-1) & (ctbp2_is_mat_match!=-1) & is_aff_aff)\n",
    "\n",
    "typ_typ_counts = np.array([np.sum((ctbp2_is_pat_match==1) & (ctbp2_is_mat_match==1) & is_typ_typ),\n",
    "                           np.sum((ctbp2_is_pat_match==1) & (ctbp2_is_mat_match==0) & is_typ_typ),\n",
    "                           np.sum((ctbp2_is_pat_match==0) & (ctbp2_is_mat_match==1) & is_typ_typ),\n",
    "                           np.sum((ctbp2_is_pat_match==0) & (ctbp2_is_mat_match==0) & is_typ_typ)])\n",
    "\n",
    "aff_aff_counts = np.array([np.sum((ctbp2_is_pat_match==1) & (ctbp2_is_mat_match==1) & is_aff_aff),\n",
    "                           np.sum((ctbp2_is_pat_match==1) & (ctbp2_is_mat_match==0) & is_aff_aff),\n",
    "                           np.sum((ctbp2_is_pat_match==0) & (ctbp2_is_mat_match==1) & is_aff_aff),\n",
    "                           np.sum((ctbp2_is_pat_match==0) & (ctbp2_is_mat_match==0) & is_aff_aff)])\n",
    "    \n",
    "plt.figure(figsize=(7, 5))\n",
    "width = 0.25\n",
    "\n",
    "plot_with_error(typ_typ_counts, n_typ*np.ones((4,)), np.arange(4), colors[3], 'neurotypical-neurotypical')\n",
    "plot_with_error(aff_aff_counts, n_aff*np.ones((4,)), np.arange(4)+1.25*width, colors[2], 'autism-autism')\n",
    "\n",
    "plt.axhline(0.25, color='black', linestyle='--')\n",
    "#plt.axhline(0.5, color='black', linestyle='--')\n",
    "#plt.axhline(0.75, color='black', linestyle='--')\n",
    "plt.xticks(np.arange(4)+0.6*width, ['maternal and\\npaternal IBD', 'paternal\\nIBD only', 'maternal\\nIBD only', 'no IBD'])\n",
    "plt.legend()\n",
    "#plt.ylim([0, 1.4])\n",
    "plt.yticks(np.arange(0, 1.25, 0.25))\n",
    "plt.ylabel('Fraction of sibling pairs')\n",
    "plt.show()"
   ]
  },
  {
   "cell_type": "code",
   "execution_count": null,
   "metadata": {},
   "outputs": [],
   "source": [
    "import matplotlib\n",
    "matplotlib.rcParams.update({'font.size': 15})\n",
    "colors = ['#695d46ff', '#ce93d8ff', '#ef6c00ff', '#4db6acff']\n",
    " \n",
    "plt.figure(figsize=(15, 5))\n",
    "width = 0.25\n",
    "\n",
    "plt.subplot(1, 3, 1)\n",
    "a, b = np.sum((ctbp2_is_mat_match==1) & is_typ_typ), np.sum((ctbp2_is_pat_match==1) & is_typ_typ)\n",
    "c, d = np.sum((ctbp2_is_mat_match==1) & (is_aff_typ | is_aff_aff)), np.sum((ctbp2_is_pat_match==1) & (is_aff_typ | is_aff_aff))\n",
    "plot_with_error(np.array([a, b, a+b]), np.array([a+c, b+d, a+b+c+d]), np.arange(3), colors[2], 'IBD')\n",
    "\n",
    "e, f = np.sum((ctbp2_is_mat_match==0) & is_typ_typ), np.sum((ctbp2_is_pat_match==0) & is_typ_typ)\n",
    "g, h = np.sum((ctbp2_is_mat_match==0) & (is_aff_typ | is_aff_aff)), np.sum((ctbp2_is_pat_match==0) & (is_aff_typ | is_aff_aff))\n",
    "plot_with_error(np.array([e, f, e+f]), np.array([e+g, f+h, e+f+g+h]), np.arange(3)+1.25*width, colors[3], 'no IBD')\n",
    "\n",
    "print('typ_typ mat', stats.chi2_contingency([[a, e], [c, g]])[1])\n",
    "print('typ_typ pat', stats.chi2_contingency([[b, f], [d, h]])[1])\n",
    "print('typ_typ all', stats.chi2_contingency([[a+b, e+f], [c+d, g+h]])[1])\n",
    "\n",
    "baseline = np.sum(is_typ_typ)/np.sum((is_typ_typ | is_aff_typ | is_aff_aff))\n",
    "plt.axhline(baseline, color='black', linestyle='--')\n",
    "\n",
    "plt.title('typ-typ (n=%d)' % np.sum(is_typ_typ))\n",
    "plt.ylim(np.clip(baseline-0.1, 0, 1), baseline+0.1, 0, 1)\n",
    "plt.xticks(np.arange(3)+0.6*width, ['mat', 'pat', 'all'])\n",
    "plt.ylabel('Fraction of sibling pairs')\n",
    "plt.legend()\n",
    "\n",
    "plt.subplot(1, 3, 2)\n",
    "a, b = np.sum((ctbp2_is_mat_match==1) & is_aff_typ), np.sum((ctbp2_is_pat_match==1) & is_aff_typ)\n",
    "c, d = np.sum((ctbp2_is_mat_match==1) & (is_typ_typ | is_aff_aff)), np.sum((ctbp2_is_pat_match==1) & (is_typ_typ | is_aff_aff))\n",
    "plot_with_error(np.array([a, b, a+b]), np.array([a+c, b+d, a+b+c+d]), np.arange(3), colors[2], 'IBD')\n",
    "\n",
    "e, f = np.sum((ctbp2_is_mat_match==0) & is_aff_typ), np.sum((ctbp2_is_pat_match==0) & is_aff_typ)\n",
    "g, h = np.sum((ctbp2_is_mat_match==0) & (is_typ_typ | is_aff_aff)), np.sum((ctbp2_is_pat_match==0) & (is_typ_typ | is_aff_aff))\n",
    "plot_with_error(np.array([e, f, e+f]), np.array([e+g, f+h, e+f+g+h]), np.arange(3)+1.25*width, colors[3], 'no IBD')\n",
    "\n",
    "print('aff_typ mat', stats.chi2_contingency([[a, e], [c, g]])[1])\n",
    "print('aff_typ pat', stats.chi2_contingency([[b, f], [d, h]])[1])\n",
    "print('aff_typ all', stats.chi2_contingency([[a+b, e+f], [c+d, g+h]])[1])\n",
    "\n",
    "baseline = np.sum(is_aff_typ)/np.sum((is_typ_typ | is_aff_typ | is_aff_aff))\n",
    "plt.axhline(baseline, color='black', linestyle='--')\n",
    "\n",
    "plt.title('aff-typ (n=%d)' % np.sum(is_aff_typ))\n",
    "plt.ylim(np.clip(baseline-0.1, 0, 1), np.clip(baseline+0.1, 0, 1))\n",
    "plt.xticks(np.arange(3)+0.6*width, ['mat', 'pat', 'all'])\n",
    "plt.ylabel('Fraction of sibling pairs')\n",
    "plt.legend()\n",
    "\n",
    "plt.subplot(1, 3, 3)\n",
    "a, b = np.sum((ctbp2_is_mat_match==1) & is_aff_aff), np.sum((ctbp2_is_pat_match==1) & is_aff_aff)\n",
    "c, d = np.sum((ctbp2_is_mat_match==1) & (is_typ_typ | is_aff_typ)), np.sum((ctbp2_is_pat_match==1) & (is_typ_typ | is_aff_typ))\n",
    "plot_with_error(np.array([a, b, a+b]), np.array([a+c, b+d, a+b+c+d]), np.arange(3), colors[2], 'IBD')\n",
    "\n",
    "e, f = np.sum((ctbp2_is_mat_match==0) & is_aff_aff), np.sum((ctbp2_is_pat_match==0) & is_aff_aff)\n",
    "g, h = np.sum((ctbp2_is_mat_match==0) & (is_typ_typ | is_aff_typ)), np.sum((ctbp2_is_pat_match==0) & (is_typ_typ | is_aff_typ))\n",
    "plot_with_error(np.array([e, f, e+f]), np.array([e+g, f+h, e+f+g+h]), np.arange(3)+1.25*width, colors[3], 'no IBD')\n",
    "\n",
    "print('aff_aff mat', stats.chi2_contingency([[a, e], [c, g]])[1])\n",
    "print('aff_aff pat', stats.chi2_contingency([[b, f], [d, h]])[1])\n",
    "print('aff_aff all', stats.chi2_contingency([[a+b, e+f], [c+d, g+h]])[1])\n",
    "\n",
    "baseline = np.sum(is_aff_aff)/np.sum((is_typ_typ | is_aff_typ | is_aff_aff))\n",
    "plt.axhline(baseline, color='black', linestyle='--')\n",
    "\n",
    "plt.title('aff-aff (n=%d)' % np.sum(is_aff_aff))\n",
    "plt.ylim(np.clip(baseline-0.1, 0, 1), np.clip(baseline+0.1, 0, 1))\n",
    "plt.xticks(np.arange(3)+0.6*width, ['mat', 'pat', 'all'])\n",
    "plt.ylabel('Fraction of sibling pairs')\n",
    "plt.legend()\n",
    "\n",
    "#plt.axhline(0.25, color='black', linestyle='--')\n",
    "#plt.axhline(0.5, color='black', linestyle='--')\n",
    "#plt.axhline(0.75, color='black', linestyle='--')\n",
    "#plt.legend()\n",
    "#plt.ylim([0, 1.4])\n",
    "#plt.yticks(np.arange(0, 1.25, 0.25))\n",
    "\n",
    "plt.tight_layout()\n",
    "plt.show()"
   ]
  },
  {
   "cell_type": "code",
   "execution_count": null,
   "metadata": {},
   "outputs": [],
   "source": [
    "print(np.sum((ctbp2_is_mat_match==1) & is_typ_typ) + np.sum((ctbp2_is_pat_match==1) & is_typ_typ))\n",
    "print(np.sum((ctbp2_is_mat_match==0) & is_typ_typ) + np.sum((ctbp2_is_pat_match==0) & is_typ_typ))\n",
    "print(len(is_typ_typ))"
   ]
  },
  {
   "cell_type": "code",
   "execution_count": null,
   "metadata": {},
   "outputs": [],
   "source": [
    "\n",
    "plt.figure(figsize=(15, 5))\n",
    "plt.subplot(1, 2, 1)\n",
    "a, b = np.sum((ctbp2_is_mat_match==1) & is_typ_typ), np.sum((ctbp2_is_pat_match==1) & is_typ_typ)\n",
    "c, d = np.sum((ctbp2_is_mat_match==1) & is_aff_typ), np.sum((ctbp2_is_pat_match==1) & is_aff_typ)\n",
    "plot_with_error(np.array([a, b, a+b]), np.array([a+c, b+d, a+b+c+d]), np.arange(3), colors[2], 'IBD')\n",
    "\n",
    "e, f = np.sum((ctbp2_is_mat_match==0) & is_typ_typ), np.sum((ctbp2_is_pat_match==0) & is_typ_typ)\n",
    "g, h = np.sum((ctbp2_is_mat_match==0) & is_aff_typ), np.sum((ctbp2_is_pat_match==0) & is_aff_typ)\n",
    "plot_with_error(np.array([e, f, e+f]), np.array([e+g, f+h, e+f+g+h]), np.arange(3)+1.25*width, colors[3], 'no IBD')\n",
    "\n",
    "baseline = np.sum(is_typ_typ)/np.sum((is_typ_typ | is_aff_typ))\n",
    "plt.axhline(baseline, color='black', linestyle='--')\n",
    "\n",
    "plt.title('IBD Sharing with NT sibling (n=%d)' % (np.sum(is_typ_typ)+np.sum(is_aff_typ)))\n",
    "plt.ylim(np.clip(baseline-0.1, 0, 1), baseline+0.1, 0, 1)\n",
    "plt.xticks(np.arange(3)+0.6*width, ['mat', 'pat', 'all'])\n",
    "plt.ylabel('Probability child is NT')\n",
    "plt.legend()\n",
    "\n",
    "print('mat', stats.chi2_contingency([[a, e], [c, g]])[1])\n",
    "print('pat', stats.chi2_contingency([[b, f], [d, h]])[1])\n",
    "print('all', stats.chi2_contingency([[a+b, e+f], [c+d, g+h]])[1])\n",
    "\n",
    "plt.subplot(1, 2, 2)\n",
    "a, b = np.sum((ctbp2_is_mat_match==1) & is_aff_typ), np.sum((ctbp2_is_pat_match==1) & is_aff_typ)\n",
    "c, d = np.sum((ctbp2_is_mat_match==1) & is_aff_aff), np.sum((ctbp2_is_pat_match==1) & is_aff_aff)\n",
    "plot_with_error(np.array([a, b, a+b]), np.array([a+c, b+d, a+b+c+d]), np.arange(3), colors[2], 'IBD')\n",
    "\n",
    "e, f = np.sum((ctbp2_is_mat_match==0) & is_aff_typ), np.sum((ctbp2_is_pat_match==0) & is_aff_typ)\n",
    "g, h = np.sum((ctbp2_is_mat_match==0) & is_aff_aff), np.sum((ctbp2_is_pat_match==0) & is_aff_aff)\n",
    "plot_with_error(np.array([e, f, e+f]), np.array([e+g, f+h, e+f+g+h]), np.arange(3)+1.25*width, colors[3], 'no IBD')\n",
    "\n",
    "baseline = np.sum(is_aff_typ)/np.sum((is_aff_aff | is_aff_typ))\n",
    "plt.axhline(baseline, color='black', linestyle='--')\n",
    "\n",
    "plt.title('IBD Sharing with AUT sibling (n=%d)' % (np.sum(is_aff_aff)+np.sum(is_aff_typ)))\n",
    "plt.ylim(np.clip(baseline-0.1, 0, 1), baseline+0.1, 0, 1)\n",
    "plt.xticks(np.arange(3)+0.6*width, ['mat', 'pat', 'all'])\n",
    "plt.ylabel('Probability child is NT')\n",
    "plt.legend()\n",
    "\n",
    "print('mat', stats.chi2_contingency([[a, e], [c, g]])[1])\n",
    "print('pat', stats.chi2_contingency([[b, f], [d, h]])[1])\n",
    "print('all', stats.chi2_contingency([[a+b, e+f], [c+d, g+h]])[1])\n",
    "\n",
    "\n",
    "plt.show()"
   ]
  },
  {
   "cell_type": "code",
   "execution_count": null,
   "metadata": {},
   "outputs": [],
   "source": [
    "#json_sibpairs = []\n",
    "#for x, mm, pm in zip(sibpairs, ctbp2_is_mat_match, ctbp2_is_pat_match):\n",
    "#    json_sibpairs.append(x._asdict())\n",
    "#    json_sibpairs[-1]['mat_share'] = int(mm)\n",
    "#    json_sibpairs[-1]['pat_share'] = int(pm)#\n",
    "#\n",
    "#with open('%s/spark_quads_sibpairs.json' % phase_dir, 'w+') as f:\n",
    "#    json.dump(json_sibpairs, f, indent=4)\n"
   ]
  },
  {
   "cell_type": "code",
   "execution_count": null,
   "metadata": {},
   "outputs": [],
   "source": [
    "import matplotlib\n",
    "matplotlib.rcParams.update({'font.size': 15})\n",
    "colors = ['#695d46ff', '#ce93d8ff', '#ef6c00ff', '#4db6acff']\n",
    "\n",
    "\n",
    "typ_typ_counts = np.array([np.sum((ctbp2_is_mat_match==1) & is_typ_typ),\n",
    "                           np.sum((ctbp2_is_pat_match==1) & is_typ_typ)])\n",
    "\n",
    "aff_typ_counts = np.array([np.sum((ctbp2_is_mat_match==1) & is_aff_typ),\n",
    "                           np.sum((ctbp2_is_pat_match==1) & is_aff_typ)])\n",
    "\n",
    "aff_aff_counts = np.array([np.sum((ctbp2_is_mat_match==1) & is_aff_aff),\n",
    "                           np.sum((ctbp2_is_pat_match==1) & is_aff_aff)])\n",
    "    \n",
    "plt.figure(figsize=(7, 5))\n",
    "width = 0.15\n",
    "\n",
    "if np.sum(is_typ_typ)>0:\n",
    "    plot_with_error(typ_typ_counts, np.array([np.sum((ctbp2_is_mat_match!=-1) & is_typ_typ),\n",
    "                                     np.sum((ctbp2_is_pat_match!=-1) & is_typ_typ)]), \n",
    "                    np.arange(2), colors[3], 'neurotypical-neurotypical', p=0.5)\n",
    "if np.sum(is_aff_typ)>0:\n",
    "    plot_with_error(aff_typ_counts, np.array([np.sum((ctbp2_is_mat_match!=-1) & is_aff_typ),\n",
    "                                     np.sum((ctbp2_is_pat_match!=-1) & is_aff_typ)]), \n",
    "                    np.arange(2)+1.25*width, colors[1], 'autism-neurotypical', p=0.5)\n",
    "if np.sum(is_aff_aff)>0:\n",
    "    plot_with_error(aff_aff_counts, np.array([np.sum((ctbp2_is_mat_match!=-1) & is_aff_aff),\n",
    "                                 np.sum((ctbp2_is_pat_match!=-1) & is_aff_aff)]), \n",
    "                np.arange(2)+2.5*width, colors[2], 'autism-autism', p=0.5)\n",
    "\n",
    "plt.axhline(0.5, color='black', linestyle='--')\n",
    "#plt.axhline(0.5, color='black', linestyle='--')\n",
    "#plt.axhline(0.75, color='black', linestyle='--')\n",
    "plt.xticks(np.arange(2)+0.6*width, ['maternal IBD', 'paternal IBD'])\n",
    "plt.legend()\n",
    "#plt.ylim([0, 1.4])\n",
    "plt.yticks(np.arange(0, 1.25, 0.25))\n",
    "plt.ylabel('Fraction of sibling pairs')\n",
    "\n",
    "plt.show()"
   ]
  },
  {
   "cell_type": "markdown",
   "metadata": {},
   "source": [
    "# Can we predict autism based on sibling IBD?"
   ]
  },
  {
   "cell_type": "code",
   "execution_count": 36,
   "metadata": {},
   "outputs": [
    {
     "name": "stdout",
     "output_type": "stream",
     "text": [
      "451 Counter({2: 236, 3: 182, 4: 29, 7: 2, 5: 2})\n"
     ]
    }
   ],
   "source": [
    "parents_to_children = defaultdict(set)\n",
    "for x in sibpairs:\n",
    "    parents_to_children[(x.mom, x.dad, x.family.split('.')[0])].add(x.sibling1)\n",
    "    parents_to_children[(x.mom, x.dad, x.family.split('.')[0])].add(x.sibling2)\n",
    "print(len(parents_to_children), Counter([len(x[1]) for x in parents_to_children.items()]))"
   ]
  },
  {
   "cell_type": "code",
   "execution_count": 37,
   "metadata": {},
   "outputs": [],
   "source": [
    "sibpair_to_index = dict([((x.sibling1, x.sibling2), i) for i, x in enumerate(sibpairs)] + \\\n",
    "                        [((x.sibling2, x.sibling1), i) for i, x in enumerate(sibpairs)])"
   ]
  },
  {
   "cell_type": "code",
   "execution_count": 38,
   "metadata": {},
   "outputs": [
    {
     "ename": "NameError",
     "evalue": "name 'phen_child_to_index' is not defined",
     "output_type": "error",
     "traceback": [
      "\u001b[0;31m---------------------------------------------------------------------------\u001b[0m",
      "\u001b[0;31mNameError\u001b[0m                                 Traceback (most recent call last)",
      "\u001b[0;32m<ipython-input-38-da00185ddeca>\u001b[0m in \u001b[0;36m<module>\u001b[0;34m\u001b[0m\n\u001b[1;32m     10\u001b[0m \u001b[0;34m\u001b[0m\u001b[0m\n\u001b[1;32m     11\u001b[0m         \u001b[0;32mfor\u001b[0m \u001b[0mchild\u001b[0m \u001b[0;32min\u001b[0m \u001b[0;34m[\u001b[0m\u001b[0mx\u001b[0m \u001b[0;32mfor\u001b[0m \u001b[0mx\u001b[0m \u001b[0;32min\u001b[0m \u001b[0mchildren\u001b[0m \u001b[0;32mif\u001b[0m \u001b[0mx\u001b[0m \u001b[0;34m!=\u001b[0m \u001b[0mtyp_child\u001b[0m\u001b[0;34m]\u001b[0m\u001b[0;34m:\u001b[0m\u001b[0;34m\u001b[0m\u001b[0;34m\u001b[0m\u001b[0m\n\u001b[0;32m---> 12\u001b[0;31m             \u001b[0;32mif\u001b[0m \u001b[0;34m(\u001b[0m\u001b[0mtyp_child\u001b[0m\u001b[0;34m,\u001b[0m \u001b[0mchild\u001b[0m\u001b[0;34m)\u001b[0m \u001b[0;32min\u001b[0m \u001b[0msibpair_to_index\u001b[0m \u001b[0;32mand\u001b[0m \u001b[0mtyp_child\u001b[0m \u001b[0;32min\u001b[0m \u001b[0mphen_child_to_index\u001b[0m\u001b[0;34m:\u001b[0m\u001b[0;34m\u001b[0m\u001b[0;34m\u001b[0m\u001b[0m\n\u001b[0m\u001b[1;32m     13\u001b[0m                 X_nt.append([ctbp2_is_mat_match[sibpair_to_index[(typ_child, child)]],\n\u001b[1;32m     14\u001b[0m                                \u001b[0mctbp2_is_pat_match\u001b[0m\u001b[0;34m[\u001b[0m\u001b[0msibpair_to_index\u001b[0m\u001b[0;34m[\u001b[0m\u001b[0;34m(\u001b[0m\u001b[0mtyp_child\u001b[0m\u001b[0;34m,\u001b[0m \u001b[0mchild\u001b[0m\u001b[0;34m)\u001b[0m\u001b[0;34m]\u001b[0m\u001b[0;34m]\u001b[0m\u001b[0;34m,\u001b[0m\u001b[0;34m\u001b[0m\u001b[0;34m\u001b[0m\u001b[0m\n",
      "\u001b[0;31mNameError\u001b[0m: name 'phen_child_to_index' is not defined"
     ]
    }
   ],
   "source": [
    "# family_keys, mat_share, pat_share\n",
    "X_nt = []\n",
    "y_nt = []\n",
    "\n",
    "for (mom, dad, fam), children in parents_to_children.items():\n",
    "    aut_children = [x for x in children if sample_to_affected[x]=='2']\n",
    "    typ_children = [x for x in children if sample_to_affected[x]=='1']\n",
    "    if len(typ_children)>0:\n",
    "        typ_child = random.choice(typ_children)\n",
    "        \n",
    "        for child in [x for x in children if x != typ_child]:\n",
    "            if (typ_child, child) in sibpair_to_index and typ_child in phen_child_to_index:\n",
    "                X_nt.append([ctbp2_is_mat_match[sibpair_to_index[(typ_child, child)]],\n",
    "                               ctbp2_is_pat_match[sibpair_to_index[(typ_child, child)]],\n",
    "                               1 if sample_to_sex[typ_child]=='1' else 0,\n",
    "                               1 if sample_to_sex[child]=='1' else 0,\n",
    "                               1] + list(phenotype[phen_child_to_index[typ_child], :]))\n",
    "                y_nt.append(sample_to_affected[child]=='2')\n",
    "                 \n",
    "X_nt = np.array(X_nt)\n",
    "y_nt = np.array(y_nt)\n",
    "print(X_nt.shape, y_nt.shape)\n",
    "print(np.sum(y_nt)/y_nt.shape[0])"
   ]
  },
  {
   "cell_type": "code",
   "execution_count": 30,
   "metadata": {},
   "outputs": [
    {
     "name": "stdout",
     "output_type": "stream",
     "text": [
      "Predicting Diagnosis Using NT Siblings\n"
     ]
    },
    {
     "ename": "NameError",
     "evalue": "name 'sm' is not defined",
     "output_type": "error",
     "traceback": [
      "\u001b[0;31m---------------------------------------------------------------------------\u001b[0m",
      "\u001b[0;31mNameError\u001b[0m                                 Traceback (most recent call last)",
      "\u001b[0;32m<ipython-input-30-0101c3873d2f>\u001b[0m in \u001b[0;36m<module>\u001b[0;34m\u001b[0m\n\u001b[1;32m      1\u001b[0m \u001b[0mprint\u001b[0m\u001b[0;34m(\u001b[0m\u001b[0;34m'Predicting Diagnosis Using NT Siblings'\u001b[0m\u001b[0;34m)\u001b[0m\u001b[0;34m\u001b[0m\u001b[0;34m\u001b[0m\u001b[0m\n\u001b[0;32m----> 2\u001b[0;31m \u001b[0mmodel\u001b[0m \u001b[0;34m=\u001b[0m \u001b[0msm\u001b[0m\u001b[0;34m.\u001b[0m\u001b[0mLogit\u001b[0m\u001b[0;34m(\u001b[0m\u001b[0my_nt\u001b[0m\u001b[0;34m,\u001b[0m \u001b[0mX_nt\u001b[0m\u001b[0;34m)\u001b[0m\u001b[0;34m\u001b[0m\u001b[0;34m\u001b[0m\u001b[0m\n\u001b[0m\u001b[1;32m      3\u001b[0m model.exog_names[:] = ['mat. IBD with NT sibling', 'pat. IBD with NT sibling', \n\u001b[1;32m      4\u001b[0m                        \u001b[0;34m'NT sibling is M'\u001b[0m\u001b[0;34m,\u001b[0m\u001b[0;34m\u001b[0m\u001b[0;34m\u001b[0m\u001b[0m\n\u001b[1;32m      5\u001b[0m                        'child is M', 'const'] + ['phen_%d' % d for d in range(40)]\n",
      "\u001b[0;31mNameError\u001b[0m: name 'sm' is not defined"
     ]
    }
   ],
   "source": [
    "print('Predicting Diagnosis Using NT Siblings')\n",
    "model = sm.Logit(y_nt, X_nt)\n",
    "model.exog_names[:] = ['mat. IBD with NT sibling', 'pat. IBD with NT sibling', \n",
    "                       'NT sibling is M', \n",
    "                       'child is M', 'const'] + ['phen_%d' % d for d in range(40)]\n",
    "res = model.fit()\n",
    "print(res.summary())\n",
    "\n",
    "for i in np.where(res.pvalues < 0.05)[0]:\n",
    "    if model.exog_names[i] != 'const':\n",
    "        print(model.exog_names[i], '\\n',\n",
    "              'pvalue %0.2e\\n'% res.pvalues[i],\n",
    "              'OR %0.2f\\n' % np.exp(res.params[i]),\n",
    "              'OR 95 CI [%0.2f, %0.2f]\\n\\n' % (np.exp(res.conf_int()[i, 0]), np.exp(res.conf_int()[i, 1])))\n",
    "\n",
    "print('chi2 mat IBD', stats.chi2_contingency(\n",
    "                             [[np.sum((X_nt[:, 0]==1) & (y_nt==1)),\n",
    "                               np.sum((X_nt[:, 0]==0) & (y_nt==1))], \n",
    "                              [np.sum((X_nt[:, 0]==1) & (y_nt==0)),\n",
    "                               np.sum((X_nt[:, 0]==0) & (y_nt==0))]])[1])\n",
    "\n",
    "print('chi2 pat IBD', stats.chi2_contingency(\n",
    "                             [[np.sum((X_nt[:, 1]==1) & (y_nt==1)),\n",
    "                               np.sum((X_nt[:, 1]==0) & (y_nt==1))], \n",
    "                              [np.sum((X_nt[:, 1]==1) & (y_nt==0)),\n",
    "                               np.sum((X_nt[:, 1]==0) & (y_nt==0))]])[1])"
   ]
  },
  {
   "cell_type": "code",
   "execution_count": 1210,
   "metadata": {},
   "outputs": [
    {
     "name": "stdout",
     "output_type": "stream",
     "text": [
      "(3069, 45) (3069,)\n"
     ]
    }
   ],
   "source": [
    "# family_keys, mat_share, pat_share\n",
    "X_aut = []\n",
    "y_aut = []\n",
    "\n",
    "for (mom, dad, fam), children in parents_to_children.items():\n",
    "    aut_children = [x for x in children if sample_to_affected[x]=='2']\n",
    "    typ_children = [x for x in children if sample_to_affected[x]=='1']\n",
    "    if len(aut_children)>0:\n",
    "        aut_child = random.choice(aut_children)\n",
    "        \n",
    "        for child in [x for x in children if x != aut_child]:\n",
    "            if (aut_child, child) in sibpair_to_index and aut_child in phen_child_to_index:\n",
    "                X_aut.append([ctbp2_is_mat_match[sibpair_to_index[(aut_child, child)]],\n",
    "                               ctbp2_is_pat_match[sibpair_to_index[(aut_child, child)]],\n",
    "                               1 if sample_to_sex[aut_child]=='1' else 0,\n",
    "                               1 if sample_to_sex[child]=='1' else 0,\n",
    "                               1] + list(phenotype[phen_child_to_index[aut_child], :]))\n",
    "                y_aut.append(sample_to_affected[child]=='2')\n",
    "                 \n",
    "X_aut = np.array(X_aut)\n",
    "y_aut = np.array(y_aut)\n",
    "print(X_aut.shape, y_aut.shape)"
   ]
  },
  {
   "cell_type": "code",
   "execution_count": 1211,
   "metadata": {
    "scrolled": false
   },
   "outputs": [
    {
     "name": "stdout",
     "output_type": "stream",
     "text": [
      "Predicting Diagnosis Using AUT Siblings\n",
      "Optimization terminated successfully.\n",
      "         Current function value: 0.414643\n",
      "         Iterations 6\n",
      "                           Logit Regression Results                           \n",
      "==============================================================================\n",
      "Dep. Variable:                      y   No. Observations:                 3069\n",
      "Model:                          Logit   Df Residuals:                     3024\n",
      "Method:                           MLE   Df Model:                           44\n",
      "Date:                Wed, 16 Dec 2020   Pseudo R-squ.:                 0.07157\n",
      "Time:                        23:45:41   Log-Likelihood:                -1272.5\n",
      "converged:                       True   LL-Null:                       -1370.6\n",
      "Covariance Type:            nonrobust   LLR p-value:                 4.135e-21\n",
      "=============================================================================================\n",
      "                                coef    std err          z      P>|z|      [0.025      0.975]\n",
      "---------------------------------------------------------------------------------------------\n",
      "mat. IBD with AUT sibling     0.0442      0.088      0.502      0.615      -0.128       0.217\n",
      "pat. IBD with AUT sibling     0.0821      0.093      0.883      0.377      -0.100       0.264\n",
      "AUT sibling is M             -0.4405      0.124     -3.563      0.000      -0.683      -0.198\n",
      "child is M                    1.1014      0.114      9.659      0.000       0.878       1.325\n",
      "const                        -1.5911      0.240     -6.619      0.000      -2.062      -1.120\n",
      "phen_0                       -0.8837      0.235     -3.755      0.000      -1.345      -0.422\n",
      "phen_1                       -0.1541      0.144     -1.071      0.284      -0.436       0.128\n",
      "phen_2                       -0.7221      0.174     -4.155      0.000      -1.063      -0.381\n",
      "phen_3                       -0.0696      0.132     -0.528      0.598      -0.328       0.189\n",
      "phen_4                        0.1045      0.128      0.814      0.415      -0.147       0.356\n",
      "phen_5                        0.0249      0.130      0.192      0.848      -0.229       0.279\n",
      "phen_6                        0.2186      0.157      1.390      0.165      -0.090       0.527\n",
      "phen_7                        0.0822      0.128      0.640      0.522      -0.169       0.334\n",
      "phen_8                       -0.0225      0.113     -0.200      0.842      -0.244       0.199\n",
      "phen_9                       -0.0111      0.116     -0.096      0.924      -0.239       0.217\n",
      "phen_10                      -0.0459      0.126     -0.365      0.715      -0.292       0.200\n",
      "phen_11                       0.0431      0.129      0.334      0.738      -0.210       0.296\n",
      "phen_12                      -0.1639      0.133     -1.230      0.219      -0.425       0.097\n",
      "phen_13                      -0.0412      0.117     -0.353      0.724      -0.270       0.187\n",
      "phen_14                      -0.1459      0.121     -1.203      0.229      -0.384       0.092\n",
      "phen_15                       0.1760      0.123      1.426      0.154      -0.066       0.418\n",
      "phen_16                       0.1475      0.107      1.380      0.168      -0.062       0.357\n",
      "phen_17                       0.1471      0.108      1.360      0.174      -0.065       0.359\n",
      "phen_18                       0.0018      0.116      0.015      0.988      -0.226       0.229\n",
      "phen_19                       0.2954      0.132      2.234      0.025       0.036       0.555\n",
      "phen_20                      -0.0459      0.117     -0.393      0.694      -0.275       0.183\n",
      "phen_21                      -0.0059      0.129     -0.046      0.964      -0.258       0.246\n",
      "phen_22                      -0.0944      0.112     -0.844      0.399      -0.314       0.125\n",
      "phen_23                       0.0592      0.165      0.359      0.720      -0.264       0.383\n",
      "phen_24                       0.0202      0.160      0.126      0.900      -0.294       0.334\n",
      "phen_25                      -0.1893      0.123     -1.538      0.124      -0.430       0.052\n",
      "phen_26                      -0.2474      0.127     -1.949      0.051      -0.496       0.001\n",
      "phen_27                      -0.0304      0.141     -0.216      0.829      -0.306       0.245\n",
      "phen_28                       0.1862      0.130      1.435      0.151      -0.068       0.441\n",
      "phen_29                      -0.0653      0.133     -0.491      0.623      -0.326       0.195\n",
      "phen_30                       0.1620      0.120      1.356      0.175      -0.072       0.396\n",
      "phen_31                       0.3249      0.133      2.437      0.015       0.064       0.586\n",
      "phen_32                      -0.1038      0.126     -0.825      0.410      -0.351       0.143\n",
      "phen_33                       0.0882      0.124      0.714      0.475      -0.154       0.330\n",
      "phen_34                      -0.0439      0.131     -0.336      0.737      -0.300       0.212\n",
      "phen_35                      -0.3108      0.131     -2.377      0.017      -0.567      -0.055\n",
      "phen_36                       0.2339      0.126      1.850      0.064      -0.014       0.482\n",
      "phen_37                      -0.2922      0.124     -2.364      0.018      -0.534      -0.050\n",
      "phen_38                       0.1755      0.152      1.156      0.248      -0.122       0.473\n",
      "phen_39                      -0.0450      0.133     -0.339      0.734      -0.305       0.215\n",
      "=============================================================================================\n",
      "AUT sibling is M \n",
      " pvalue 3.67e-04\n",
      " OR 0.64\n",
      " OR 95 CI [0.51, 0.82]\n",
      "\n",
      "\n",
      "child is M \n",
      " pvalue 4.49e-22\n",
      " OR 3.01\n",
      " OR 95 CI [2.41, 3.76]\n",
      "\n",
      "\n",
      "phen_0 \n",
      " pvalue 1.73e-04\n",
      " OR 0.41\n",
      " OR 95 CI [0.26, 0.66]\n",
      "\n",
      "\n",
      "phen_2 \n",
      " pvalue 3.26e-05\n",
      " OR 0.49\n",
      " OR 95 CI [0.35, 0.68]\n",
      "\n",
      "\n",
      "phen_19 \n",
      " pvalue 2.55e-02\n",
      " OR 1.34\n",
      " OR 95 CI [1.04, 1.74]\n",
      "\n",
      "\n",
      "phen_31 \n",
      " pvalue 1.48e-02\n",
      " OR 1.38\n",
      " OR 95 CI [1.07, 1.80]\n",
      "\n",
      "\n",
      "phen_35 \n",
      " pvalue 1.74e-02\n",
      " OR 0.73\n",
      " OR 95 CI [0.57, 0.95]\n",
      "\n",
      "\n",
      "phen_37 \n",
      " pvalue 1.81e-02\n",
      " OR 0.75\n",
      " OR 95 CI [0.59, 0.95]\n",
      "\n",
      "\n"
     ]
    }
   ],
   "source": [
    "print('Predicting Diagnosis Using AUT Siblings')\n",
    "model = sm.Logit(y_aut, X_aut)\n",
    "model.exog_names[:] = ['mat. IBD with AUT sibling', 'pat. IBD with AUT sibling', 'AUT sibling is M', \n",
    "                       'child is M', 'const'] + ['phen_%d' % d for d in range(40)]\n",
    "res = model.fit()\n",
    "print(res.summary())\n",
    "\n",
    "for i in np.where(res.pvalues < 0.05)[0]:\n",
    "    if model.exog_names[i] != 'const':\n",
    "        print(model.exog_names[i], '\\n',\n",
    "              'pvalue %0.2e\\n'% res.pvalues[i],\n",
    "              'OR %0.2f\\n' % np.exp(res.params[i]),\n",
    "              'OR 95 CI [%0.2f, %0.2f]\\n\\n' % (np.exp(res.conf_int()[i, 0]), np.exp(res.conf_int()[i, 1])))\n",
    "\n"
   ]
  },
  {
   "cell_type": "code",
   "execution_count": 1158,
   "metadata": {},
   "outputs": [
    {
     "name": "stdout",
     "output_type": "stream",
     "text": [
      "(228, 8) (228,)\n"
     ]
    }
   ],
   "source": [
    "# family_keys, mat_share, pat_share\n",
    "X_trio = []\n",
    "y_trio = []\n",
    "\n",
    "sibpair_to_index = dict([((x.sibling1, x.sibling2), i) for i, x in enumerate(sibpairs)] + \\\n",
    "                        [((x.sibling2, x.sibling1), i) for i, x in enumerate(sibpairs)])\n",
    "\n",
    "for (mom, dad, fam), children in parents_to_children.items():\n",
    "    aut_children = [x for x in children if sample_to_affected[x]=='2']\n",
    "    typ_children = [x for x in children if sample_to_affected[x]=='1']\n",
    "    if len(aut_children)>0 and len(typ_children)>0:\n",
    "        aut_child = random.choice(aut_children)\n",
    "        typ_child = random.choice(typ_children)\n",
    "        \n",
    "        for child in [x for x in children if x != aut_child and x != typ_child]:\n",
    "            if (aut_child, child) in sibpair_to_index and (typ_child, child) in sibpair_to_index:\n",
    "                X_trio.append([ctbp2_is_mat_match[sibpair_to_index[(aut_child, child)]],\n",
    "                               ctbp2_is_pat_match[sibpair_to_index[(aut_child, child)]],\n",
    "                               1 if sample_to_sex[aut_child]=='1' else 0,\n",
    "                               ctbp2_is_mat_match[sibpair_to_index[(typ_child, child)]],\n",
    "                               ctbp2_is_pat_match[sibpair_to_index[(typ_child, child)]],\n",
    "                               1 if sample_to_sex[typ_child]=='1' else 0,\n",
    "                               1 if sample_to_sex[child]=='1' else 0,\n",
    "                               1])\n",
    "                y_trio.append(sample_to_affected[child]=='2')\n",
    "                 \n",
    "X_trio = np.array(X_trio)\n",
    "y_trio = np.array(y_trio)\n",
    "print(X_trio.shape, y_trio.shape)"
   ]
  },
  {
   "cell_type": "code",
   "execution_count": 1159,
   "metadata": {},
   "outputs": [
    {
     "name": "stdout",
     "output_type": "stream",
     "text": [
      "Predicting Diagnosis Using AUT and NT Siblings\n",
      "Optimization terminated successfully.\n",
      "         Current function value: 0.481083\n",
      "         Iterations 6\n",
      "                           Logit Regression Results                           \n",
      "==============================================================================\n",
      "Dep. Variable:                      y   No. Observations:                  228\n",
      "Model:                          Logit   Df Residuals:                      220\n",
      "Method:                           MLE   Df Model:                            7\n",
      "Date:                Wed, 16 Dec 2020   Pseudo R-squ.:                  0.1717\n",
      "Time:                        23:13:32   Log-Likelihood:                -109.69\n",
      "converged:                       True   LL-Null:                       -132.42\n",
      "Covariance Type:            nonrobust   LLR p-value:                 1.108e-07\n",
      "=============================================================================================\n",
      "                                coef    std err          z      P>|z|      [0.025      0.975]\n",
      "---------------------------------------------------------------------------------------------\n",
      "mat. IBD with AUT sibling     0.2257      0.307      0.735      0.463      -0.376       0.828\n",
      "pat. IBD with AUT sibling    -0.2518      0.329     -0.765      0.444      -0.897       0.393\n",
      "AUT sibling is M             -0.2593      0.403     -0.643      0.520      -1.049       0.531\n",
      "mat. IBD with NT sibling     -0.3487      0.277     -1.261      0.207      -0.891       0.193\n",
      "pat. IBD with NT sibling     -1.1918      0.348     -3.426      0.001      -1.874      -0.510\n",
      "NT sibling is M              -0.6594      0.351     -1.878      0.060      -1.348       0.029\n",
      "child is M                    1.5537      0.345      4.497      0.000       0.877       2.231\n",
      "const                         1.4513      0.498      2.911      0.004       0.474       2.428\n",
      "=============================================================================================\n",
      "pat. IBD with NT sibling \n",
      " pvalue 6.13e-04\n",
      " OR 0.30\n",
      " OR 95 CI [0.15, 0.60]\n",
      "\n",
      "\n",
      "child is M \n",
      " pvalue 6.88e-06\n",
      " OR 4.73\n",
      " OR 95 CI [2.40, 9.31]\n",
      "\n",
      "\n"
     ]
    }
   ],
   "source": [
    "print('Predicting Diagnosis Using AUT and NT Siblings')\n",
    "model = sm.Logit(y_trio, X_trio)\n",
    "model.exog_names[:] = ['mat. IBD with AUT sibling', 'pat. IBD with AUT sibling', 'AUT sibling is M', \n",
    "                       'mat. IBD with NT sibling', 'pat. IBD with NT sibling', 'NT sibling is M', \n",
    "                       'child is M', 'const']\n",
    "res = model.fit()\n",
    "print(res.summary())\n",
    "\n",
    "for i in np.where(res.pvalues < 0.05)[0]:\n",
    "    if model.exog_names[i] != 'const':\n",
    "        print(model.exog_names[i], '\\n',\n",
    "              'pvalue %0.2e\\n'% res.pvalues[i],\n",
    "              'OR %0.2f\\n' % np.exp(res.params[i]),\n",
    "              'OR 95 CI [%0.2f, %0.2f]\\n\\n' % (np.exp(res.conf_int()[i, 0]), np.exp(res.conf_int()[i, 1])))\n",
    "\n"
   ]
  },
  {
   "cell_type": "code",
   "execution_count": 1160,
   "metadata": {},
   "outputs": [
    {
     "name": "stdout",
     "output_type": "stream",
     "text": [
      "children 43184\n",
      "(43184, 40)\n"
     ]
    }
   ],
   "source": [
    "# q, typ_response, aff_response\n",
    "qs = [('q01_phrases', '1', '0'), \n",
    "      ('q02_conversation', '1', '0'),\n",
    "      ('q03_odd_phrase', '0', '1'), \n",
    "      ('q04_inappropriate_question', '0', '1'), \n",
    "      ('q05_pronouns_mixed', '0', '1'), \n",
    "      ('q06_invented_words', '0', '1'), \n",
    "      ('q07_same_over', '0', '1'), \n",
    "      ('q08_particular_way', '0', '1'), \n",
    "      ('q09_expressions_appropriate', '1', '0'), \n",
    "      ('q10_hand_tool', '0', '1'), \n",
    "      ('q11_interest_preoccupy', '0', '1'), \n",
    "      ('q12_parts_object', '0', '1'), \n",
    "      ('q13_interests_intensity', '0', '1'), \n",
    "      ('q14_senses', '0', '1'), \n",
    "      ('q15_odd_ways', '0', '1'),\n",
    "      ('q16_complicated_movements', '0', '1'), \n",
    "      ('q17_injured_deliberately', '0', '1'), \n",
    "      ('q18_objects_carry', '0', '1'), \n",
    "      ('q19_best_friend', '1', '0'), \n",
    "      ('q20_talk_friendly', '1', '0'), \n",
    "      ('q21_copy_you', '1', '0'),\n",
    "      ('q22_point_things', '1', '0'), \n",
    "      ('q23_gestures_wanted', '1', '0'), \n",
    "      ('q24_nod_head', '1', '0'), \n",
    "      ('q25_shake_head', '1', '0'), \n",
    "      ('q26_look_directly', '1', '0'), \n",
    "      ('q27_smile_back', '1', '0'), \n",
    "      ('q28_things_interested', '1', '0'), \n",
    "      ('q29_share', '1', '0'), \n",
    "      ('q30_join_enjoyment', '1', '0'), \n",
    "      ('q31_comfort', '1', '0'),\n",
    "      ('q32_help_attention', '1', '0'), \n",
    "      ('q33_range_expressions', '1', '0'), \n",
    "      ('q34_copy_actions', '1', '0'), \n",
    "      ('q35_make_believe', '1', '0'), \n",
    "      ('q36_same_age', '1', '0'), \n",
    "      ('q37_respond_positively', '1', '0'), \n",
    "      ('q38_pay_attention', '1', '0'), \n",
    "      ('q39_imaginative_games', '1', '0'), \n",
    "      ('q40_cooperatively_games', '1', '0')]\n",
    "\n",
    "# pull individuals from phenotype file\n",
    "phen_children = []\n",
    "with open('../../PhasingFamilies/phenotypes/spark/scq.csv', 'r') as f:\n",
    "    reader = csv.reader(f)\n",
    "    header = next(reader)\n",
    "    phen_children = [pieces[0] for pieces in reader]\n",
    "print('children', len(phen_children))\n",
    "phen_child_to_index = dict([(x, i) for i, x in enumerate(phen_children)])\n",
    "\n",
    "\n",
    "phenotype = []\n",
    "with open('../../PhasingFamilies/phenotypes/spark/scq.csv', 'r') as f:\n",
    "    reader = csv.reader(f)\n",
    "    header = next(reader)\n",
    "    for pieces in reader:\n",
    "        phenotype.append([])\n",
    "        for q, typ_response, aff_response in qs:\n",
    "            q_index = header.index(q)\n",
    "            phenotype[-1].append(1 if pieces[q_index]==aff_response else 0 if pieces[q_index]==typ_response else 0)\n",
    "phenotype = np.array(phenotype)\n",
    "print(phenotype.shape)"
   ]
  },
  {
   "cell_type": "code",
   "execution_count": 1181,
   "metadata": {},
   "outputs": [
    {
     "name": "stdout",
     "output_type": "stream",
     "text": [
      "(3013, 48) (3013,)\n"
     ]
    }
   ],
   "source": [
    "# family_keys, mat_share, pat_share\n",
    "X_phen = []\n",
    "y_phen = []\n",
    "\n",
    "sibpair_to_index = dict([((x.sibling1, x.sibling2), i) for i, x in enumerate(sibpairs)] + \\\n",
    "                        [((x.sibling2, x.sibling1), i) for i, x in enumerate(sibpairs)])\n",
    "\n",
    "for (mom, dad, fam), children in parents_to_children.items():\n",
    "    focus_child = random.choice(list(children))\n",
    "    for child in [x for x in children if x != focus_child]:\n",
    "        if (focus_child, child) in sibpair_to_index and focus_child in phen_child_to_index:\n",
    "            mm, pm = ctbp2_is_mat_match[sibpair_to_index[(focus_child, child)]], ctbp2_is_pat_match[sibpair_to_index[(focus_child, child)]]\n",
    "            X_phen.append([mm==1 and sample_to_affected[focus_child]=='2', \n",
    "                           mm==1 and sample_to_affected[focus_child]=='1', \n",
    "                           pm==1 and sample_to_affected[focus_child]=='2', \n",
    "                           pm==1 and sample_to_affected[focus_child]=='1',\n",
    "                            1 if sample_to_sex[focus_child]=='1' else 0,\n",
    "                           1 if sample_to_affected[focus_child]=='2' else 0,\n",
    "                            1 if sample_to_sex[child]=='1' else 0,\n",
    "                           1] + list(phenotype[phen_child_to_index[focus_child], :]))\n",
    "            y_phen.append(sample_to_affected[child]=='2')\n",
    "                 \n",
    "X_phen = np.array(X_phen)\n",
    "y_phen = np.array(y_phen)\n",
    "print(X_phen.shape, y_phen.shape)"
   ]
  },
  {
   "cell_type": "code",
   "execution_count": 1182,
   "metadata": {
    "scrolled": false
   },
   "outputs": [
    {
     "name": "stdout",
     "output_type": "stream",
     "text": [
      "Predicting Diagnosis Using Sibling Phenotype\n",
      "Optimization terminated successfully.\n",
      "         Current function value: 0.350886\n",
      "         Iterations 8\n",
      "                           Logit Regression Results                           \n",
      "==============================================================================\n",
      "Dep. Variable:                      y   No. Observations:                 3013\n",
      "Model:                          Logit   Df Residuals:                     2965\n",
      "Method:                           MLE   Df Model:                           47\n",
      "Date:                Wed, 16 Dec 2020   Pseudo R-squ.:                  0.4901\n",
      "Time:                        23:36:00   Log-Likelihood:                -1057.2\n",
      "converged:                       True   LL-Null:                       -2073.2\n",
      "Covariance Type:            nonrobust   LLR p-value:                     0.000\n",
      "=============================================================================================\n",
      "                                coef    std err          z      P>|z|      [0.025      0.975]\n",
      "---------------------------------------------------------------------------------------------\n",
      "mat. IBD with AUT sibling     0.1123      0.116      0.968      0.333      -0.115       0.340\n",
      "mat. IBD with NT sibling      0.1468      0.369      0.397      0.691      -0.577       0.870\n",
      "pat. IBD with AUT sibling     0.0653      0.117      0.560      0.575      -0.163       0.294\n",
      "pat IBD with NT sibling      -0.8414      0.391     -2.153      0.031      -1.607      -0.075\n",
      "sibling is M                 -0.2634      0.135     -1.948      0.051      -0.528       0.002\n",
      "sibling is AUT               -5.2312      0.414    -12.625      0.000      -6.043      -4.419\n",
      "child is M                    1.0864      0.121      9.001      0.000       0.850       1.323\n",
      "const                         3.3646      0.377      8.930      0.000       2.626       4.103\n",
      "phen_0                       -0.5617      0.265     -2.121      0.034      -1.081      -0.043\n",
      "phen_1                       -0.2293      0.163     -1.410      0.159      -0.548       0.090\n",
      "phen_2                       -0.3919      0.194     -2.016      0.044      -0.773      -0.011\n",
      "phen_3                       -0.0466      0.146     -0.320      0.749      -0.332       0.239\n",
      "phen_4                        0.1841      0.145      1.273      0.203      -0.099       0.468\n",
      "phen_5                       -0.1900      0.138     -1.373      0.170      -0.461       0.081\n",
      "phen_6                        0.1222      0.173      0.706      0.480      -0.217       0.462\n",
      "phen_7                        0.1632      0.145      1.123      0.262      -0.122       0.448\n",
      "phen_8                       -0.0367      0.126     -0.292      0.770      -0.283       0.210\n",
      "phen_9                        0.1714      0.128      1.342      0.180      -0.079       0.422\n",
      "phen_10                      -0.3758      0.137     -2.735      0.006      -0.645      -0.106\n",
      "phen_11                       0.2355      0.146      1.608      0.108      -0.052       0.523\n",
      "phen_12                       0.0076      0.147      0.052      0.959      -0.281       0.296\n",
      "phen_13                       0.1805      0.133      1.361      0.173      -0.079       0.440\n",
      "phen_14                      -0.0725      0.138     -0.527      0.598      -0.342       0.197\n",
      "phen_15                       0.2753      0.141      1.957      0.050      -0.000       0.551\n",
      "phen_16                      -0.0902      0.121     -0.747      0.455      -0.327       0.147\n",
      "phen_17                       0.2270      0.119      1.903      0.057      -0.007       0.461\n",
      "phen_18                       0.2036      0.129      1.579      0.114      -0.049       0.456\n",
      "phen_19                       0.0668      0.148      0.452      0.651      -0.223       0.356\n",
      "phen_20                       0.0674      0.130      0.520      0.603      -0.187       0.322\n",
      "phen_21                       0.0499      0.144      0.345      0.730      -0.233       0.333\n",
      "phen_22                       0.1449      0.125      1.160      0.246      -0.100       0.390\n",
      "phen_23                      -0.1424      0.184     -0.773      0.439      -0.503       0.219\n",
      "phen_24                       0.1310      0.179      0.733      0.463      -0.219       0.481\n",
      "phen_25                      -0.0708      0.138     -0.512      0.609      -0.342       0.200\n",
      "phen_26                      -0.2131      0.142     -1.502      0.133      -0.491       0.065\n",
      "phen_27                      -0.1549      0.161     -0.962      0.336      -0.470       0.161\n",
      "phen_28                      -0.0022      0.146     -0.015      0.988      -0.289       0.284\n",
      "phen_29                       0.0086      0.152      0.057      0.955      -0.289       0.307\n",
      "phen_30                       0.0635      0.131      0.485      0.628      -0.193       0.320\n",
      "phen_31                       0.1640      0.153      1.071      0.284      -0.136       0.464\n",
      "phen_32                      -0.2443      0.144     -1.699      0.089      -0.526       0.038\n",
      "phen_33                       0.3010      0.139      2.171      0.030       0.029       0.573\n",
      "phen_34                      -0.0204      0.147     -0.139      0.890      -0.309       0.268\n",
      "phen_35                      -0.1886      0.145     -1.299      0.194      -0.473       0.096\n",
      "phen_36                       0.2441      0.141      1.730      0.084      -0.032       0.521\n",
      "phen_37                      -0.3323      0.138     -2.406      0.016      -0.603      -0.062\n",
      "phen_38                       0.1524      0.169      0.902      0.367      -0.179       0.484\n",
      "phen_39                      -0.0929      0.151     -0.615      0.539      -0.389       0.203\n",
      "=============================================================================================\n",
      "pat IBD with NT sibling \n",
      " pvalue 3.13e-02\n",
      " OR 0.43\n",
      " OR 95 CI [0.20, 0.93]\n",
      "\n",
      "\n",
      "sibling is AUT \n",
      " pvalue 1.53e-36\n",
      " OR 0.01\n",
      " OR 95 CI [0.00, 0.01]\n",
      "\n",
      "\n",
      "child is M \n",
      " pvalue 2.24e-19\n",
      " OR 2.96\n",
      " OR 95 CI [2.34, 3.75]\n",
      "\n",
      "\n",
      "phen_0 \n",
      " pvalue 3.39e-02\n",
      " OR 0.57\n",
      " OR 95 CI [0.34, 0.96]\n",
      "\n",
      "\n",
      "phen_2 \n",
      " pvalue 4.38e-02\n",
      " OR 0.68\n",
      " OR 95 CI [0.46, 0.99]\n",
      "\n",
      "\n",
      "phen_10 \n",
      " pvalue 6.24e-03\n",
      " OR 0.69\n",
      " OR 95 CI [0.52, 0.90]\n",
      "\n",
      "\n",
      "phen_33 \n",
      " pvalue 2.99e-02\n",
      " OR 1.35\n",
      " OR 95 CI [1.03, 1.77]\n",
      "\n",
      "\n",
      "phen_37 \n",
      " pvalue 1.61e-02\n",
      " OR 0.72\n",
      " OR 95 CI [0.55, 0.94]\n",
      "\n",
      "\n"
     ]
    }
   ],
   "source": [
    "print('Predicting Diagnosis Using Sibling Phenotype')\n",
    "model = sm.Logit(y_phen, X_phen)\n",
    "model.exog_names[:] = ['mat. IBD with AUT sibling', 'mat. IBD with NT sibling',\n",
    "                       'pat. IBD with AUT sibling', 'pat IBD with NT sibling',\n",
    "                       'sibling is M', 'sibling is AUT', 'child is M', 'const'] + \\\n",
    "                      ['phen_%d' % d for d in range(40)] \n",
    "res = model.fit()\n",
    "print(res.summary())\n",
    "\n",
    "for i in np.where(res.pvalues < 0.05)[0]:\n",
    "    if model.exog_names[i] != 'const':\n",
    "        print(model.exog_names[i], '\\n',\n",
    "              'pvalue %0.2e\\n'% res.pvalues[i],\n",
    "              'OR %0.2f\\n' % np.exp(res.params[i]),\n",
    "              'OR 95 CI [%0.2f, %0.2f]\\n\\n' % (np.exp(res.conf_int()[i, 0]), np.exp(res.conf_int()[i, 1])))\n",
    "\n"
   ]
  },
  {
   "cell_type": "markdown",
   "metadata": {},
   "source": [
    "# Detailed Phenotype"
   ]
  },
  {
   "cell_type": "code",
   "execution_count": 356,
   "metadata": {},
   "outputs": [
    {
     "data": {
      "image/png": "[encoded data removed]",
      "text/plain": [
       "<Figure size 432x288 with 1 Axes>"
      ]
     },
     "metadata": {},
     "output_type": "display_data"
    }
   ],
   "source": [
    "fig, ax = plt.subplots()\n",
    "ax.axis(\"off\")\n",
    "\n",
    "mu = 0\n",
    "variance = 1\n",
    "sigma = np.sqrt(variance)\n",
    "x = np.linspace(mu - 3*sigma, mu + 3*sigma, 100)\n",
    "\n",
    "for i in np.arange(100):\n",
    "    cmap = matplotlib.cm.get_cmap('RdYlGn')\n",
    "    rgba = cmap(i/100)\n",
    "    plt.fill_between(x[i:(i+3)], 0, stats.norm.pdf(x[i:(i+3)], mu, sigma), color=rgba)\n",
    "plt.xticks([])\n",
    "plt.yticks([])\n",
    "plt.show()"
   ]
  },
  {
   "cell_type": "code",
   "execution_count": 358,
   "metadata": {},
   "outputs": [
    {
     "name": "stdout",
     "output_type": "stream",
     "text": [
      "children 43184\n",
      "(43184, 40)\n"
     ]
    }
   ],
   "source": [
    "# q, typ_response, aff_response\n",
    "qs = [('q01_phrases', '1', '0'), \n",
    "      ('q02_conversation', '1', '0'),\n",
    "      ('q03_odd_phrase', '0', '1'), \n",
    "      ('q04_inappropriate_question', '0', '1'), \n",
    "      ('q05_pronouns_mixed', '0', '1'), \n",
    "      ('q06_invented_words', '0', '1'), \n",
    "      ('q07_same_over', '0', '1'), \n",
    "      ('q08_particular_way', '0', '1'), \n",
    "      ('q09_expressions_appropriate', '1', '0'), \n",
    "      ('q10_hand_tool', '0', '1'), \n",
    "      ('q11_interest_preoccupy', '0', '1'), \n",
    "      ('q12_parts_object', '0', '1'), \n",
    "      ('q13_interests_intensity', '0', '1'), \n",
    "      ('q14_senses', '0', '1'), \n",
    "      ('q15_odd_ways', '0', '1'),\n",
    "      ('q16_complicated_movements', '0', '1'), \n",
    "      ('q17_injured_deliberately', '0', '1'), \n",
    "      ('q18_objects_carry', '0', '1'), \n",
    "      ('q19_best_friend', '1', '0'), \n",
    "      ('q20_talk_friendly', '1', '0'), \n",
    "      ('q21_copy_you', '1', '0'),\n",
    "      ('q22_point_things', '1', '0'), \n",
    "      ('q23_gestures_wanted', '1', '0'), \n",
    "      ('q24_nod_head', '1', '0'), \n",
    "      ('q25_shake_head', '1', '0'), \n",
    "      ('q26_look_directly', '1', '0'), \n",
    "      ('q27_smile_back', '1', '0'), \n",
    "      ('q28_things_interested', '1', '0'), \n",
    "      ('q29_share', '1', '0'), \n",
    "      ('q30_join_enjoyment', '1', '0'), \n",
    "      ('q31_comfort', '1', '0'),\n",
    "      ('q32_help_attention', '1', '0'), \n",
    "      ('q33_range_expressions', '1', '0'), \n",
    "      ('q34_copy_actions', '1', '0'), \n",
    "      ('q35_make_believe', '1', '0'), \n",
    "      ('q36_same_age', '1', '0'), \n",
    "      ('q37_respond_positively', '1', '0'), \n",
    "      ('q38_pay_attention', '1', '0'), \n",
    "      ('q39_imaginative_games', '1', '0'), \n",
    "      ('q40_cooperatively_games', '1', '0')]\n",
    "\n",
    "# pull individuals from phenotype file\n",
    "phen_children = []\n",
    "with open('../../PhasingFamilies/phenotypes/spark/scq.csv', 'r') as f:\n",
    "    reader = csv.reader(f)\n",
    "    header = next(reader)\n",
    "    phen_children = [pieces[0] for pieces in reader]\n",
    "print('children', len(phen_children))\n",
    "phen_child_to_index = dict([(x, i) for i, x in enumerate(phen_children)])\n",
    "\n",
    "\n",
    "phenotype = []\n",
    "with open('../../PhasingFamilies/phenotypes/spark/scq.csv', 'r') as f:\n",
    "    reader = csv.reader(f)\n",
    "    header = next(reader)\n",
    "    for pieces in reader:\n",
    "        phenotype.append([])\n",
    "        for q, typ_response, aff_response in qs:\n",
    "            q_index = header.index(q)\n",
    "            phenotype[-1].append(1 if pieces[q_index]==aff_response else 0 if pieces[q_index]==typ_response else -1)\n",
    "phenotype = np.array(phenotype)\n",
    "print(phenotype.shape)"
   ]
  },
  {
   "cell_type": "code",
   "execution_count": 359,
   "metadata": {},
   "outputs": [
    {
     "data": {
      "image/png": "[encoded data removed]",
      "text/plain": [
       "<Figure size 432x288 with 1 Axes>"
      ]
     },
     "metadata": {
      "needs_background": "light"
     },
     "output_type": "display_data"
    }
   ],
   "source": [
    "aff_phen, typ_phen = [], []\n",
    "for i, phen_child in enumerate(phen_children):\n",
    "    if phen_child in sample_to_affected:\n",
    "        if sample_to_affected[phen_child] == '2':\n",
    "            aff_phen.append(np.sum(phenotype[i, :]==1))\n",
    "        elif sample_to_affected[phen_child] == '1':\n",
    "            typ_phen.append(np.sum(phenotype[i, :]==1))\n",
    "            \n",
    "plt.hist(aff_phen, np.arange(40), alpha=0.5)\n",
    "plt.hist(typ_phen, np.arange(40), alpha=0.5)\n",
    "plt.show()"
   ]
  },
  {
   "cell_type": "code",
   "execution_count": 360,
   "metadata": {},
   "outputs": [
    {
     "name": "stdout",
     "output_type": "stream",
     "text": [
      "Counter({'1': 8275, '2': 2078})\n",
      "Counter({'1': 3793, '2': 3724})\n"
     ]
    }
   ],
   "source": [
    "aff_sex, typ_sex = [], []\n",
    "for i, phen_child in enumerate(phen_children):\n",
    "    if phen_child in sample_to_affected:\n",
    "        if sample_to_affected[phen_child] == '2':\n",
    "            aff_sex.append(sample_to_sex[phen_child])\n",
    "        elif sample_to_affected[phen_child] == '1':\n",
    "            typ_sex.append(sample_to_sex[phen_child])\n",
    "            \n",
    "print(Counter(aff_sex))\n",
    "print(Counter(typ_sex))"
   ]
  },
  {
   "cell_type": "code",
   "execution_count": null,
   "metadata": {},
   "outputs": [],
   "source": []
  },
  {
   "cell_type": "code",
   "execution_count": 361,
   "metadata": {},
   "outputs": [
    {
     "name": "stdout",
     "output_type": "stream",
     "text": [
      "0\n",
      "Counter()\n"
     ]
    }
   ],
   "source": [
    "dads = set([x.dad for x in sibpairs if x in phen_child_to_index])\n",
    "print(len(dads))\n",
    "print(Counter([phenotype[phen_child_to_index[x], 7] for x in dads]))"
   ]
  },
  {
   "cell_type": "code",
   "execution_count": 362,
   "metadata": {},
   "outputs": [
    {
     "name": "stdout",
     "output_type": "stream",
     "text": [
      "\n",
      "q08_particular_way\n",
      "0.015736392883259582 680 602\n",
      "0.6838251706085956 309 320\n",
      "0.00028184453453606266 371 282\n"
     ]
    }
   ],
   "source": [
    "for i in range(40):\n",
    "    #is_aff_aff = np.array([sp.num_affected==2 for sp in sibpairs])\n",
    "    #is_aff_typ = np.array([sp.num_affected==1 for sp in sibpairs])\n",
    "    #is_typ_typ = np.array([sp.num_affected==0 for sp in sibpairs])\n",
    "    \n",
    "    phen1 = np.array([-1 if sp.sibling1 not in phen_child_to_index else phenotype[phen_child_to_index[sp.sibling1], i] for sp in sibpairs])\n",
    "    phen2 = np.array([-1 if sp.sibling2 not in phen_child_to_index else phenotype[phen_child_to_index[sp.sibling2], i] for sp in sibpairs])\n",
    "    \n",
    "    is_aff_aff = (phen1==1) & (phen2==1)\n",
    "    is_aff_typ = (((phen1==1) & (phen2==0)) | ((phen1==0) & (phen2==1)))\n",
    "    is_typ_typ = (phen1==0) & (phen2==0)\n",
    "\n",
    "    x = np.sum(ctbp2_is_mat_match[is_typ_typ]==1) + np.sum(ctbp2_is_pat_match[is_typ_typ]==1)\n",
    "    n = np.sum(ctbp2_is_mat_match[is_typ_typ]!=-1) + np.sum(ctbp2_is_pat_match[is_typ_typ]!=-1)\n",
    "    p = stats.binom_test(x, n, p=0.5, alternative='greater')\n",
    "                         \n",
    "    x_mat = np.sum(ctbp2_is_mat_match[is_typ_typ]==1)\n",
    "    n_mat = np.sum(ctbp2_is_mat_match[is_typ_typ]!=-1)\n",
    "    p_mat = stats.binom_test(x_mat, n_mat, p=0.5, alternative='greater')\n",
    "    \n",
    "    x_pat = np.sum(ctbp2_is_pat_match[is_typ_typ]==1)\n",
    "    n_pat = np.sum(ctbp2_is_pat_match[is_typ_typ]!=-1)\n",
    "    p_pat = stats.binom_test(x_pat, n_pat, p=0.5, alternative='greater')\n",
    "    \n",
    "    x_aut = np.sum(ctbp2_is_mat_match[is_aff_aff]==1) + np.sum(ctbp2_is_pat_match[is_aff_aff]==1)\n",
    "    n_aut = np.sum(ctbp2_is_mat_match[is_aff_aff]!=-1) + np.sum(ctbp2_is_pat_match[is_aff_aff]!=-1)\n",
    "    p_aut = stats.binom_test(x_aut, n_aut, p=0.5, alternative='greater')\n",
    "                         \n",
    "    x_mat_aut = np.sum(ctbp2_is_mat_match[is_aff_aff]==1)\n",
    "    n_mat_aut = np.sum(ctbp2_is_mat_match[is_aff_aff]!=-1)\n",
    "    p_mat_aut = stats.binom_test(x_mat_aut, n_mat_aut, p=0.5, alternative='greater')\n",
    "    \n",
    "    x_pat_aut = np.sum(ctbp2_is_pat_match[is_aff_aff]==1)\n",
    "    n_pat_aut = np.sum(ctbp2_is_pat_match[is_aff_aff]!=-1)\n",
    "    p_pat_aut = stats.binom_test(x_pat_aut, n_pat_aut, p=0.5, alternative='greater')\n",
    "    \n",
    "    if p<0.05/40 or p_mat<0.05/40 or p_pat<0.05/40:\n",
    "        print()\n",
    "        print(qs[i][0])\n",
    "        print(p, x, n-x)\n",
    "        print(p_mat, x_mat, n_mat-x_mat)\n",
    "        print(p_pat, x_pat, n_pat-x_pat)\n",
    "        \n",
    "        "
   ]
  },
  {
   "cell_type": "code",
   "execution_count": 364,
   "metadata": {},
   "outputs": [
    {
     "name": "stdout",
     "output_type": "stream",
     "text": [
      "0 0.4912559618441971 [0.03965596 0.03984404] 1.306734696436809e-38\n",
      "1 0.5681470137825421 [0.03894701 0.03845299] 9.40004444363301e-67\n",
      "0 0.5305084745762711 [0.04110847 0.04089153] 6.061563872757149e-48\n",
      "1 0.49022801302931596 [0.04012801 0.04037199] 1.6076375765340945e-37\n"
     ]
    },
    {
     "data": {
      "image/png": "[encoded data removed]",
      "text/plain": [
       "<Figure size 504x360 with 1 Axes>"
      ]
     },
     "metadata": {
      "needs_background": "light"
     },
     "output_type": "display_data"
    }
   ],
   "source": [
    "phen1 = np.array([-1 if sp.sibling1 not in phen_child_to_index else phenotype[phen_child_to_index[sp.sibling1], 7] for sp in sibpairs])\n",
    "phen2 = np.array([-1 if sp.sibling2 not in phen_child_to_index else phenotype[phen_child_to_index[sp.sibling2], 7] for sp in sibpairs])\n",
    "    \n",
    "is_aff_aff = (phen1==1) & (phen2==1)\n",
    "is_aff_typ = (((phen1==1) & (phen2==0)) | ((phen1==0) & (phen2==1)))\n",
    "is_typ_typ = (phen1==0) & (phen2==0)\n",
    "\n",
    "\n",
    "typ_typ_counts = np.array([np.sum((ctbp2_is_mat_match==1) & is_typ_typ),\n",
    "                           np.sum((ctbp2_is_pat_match==1) & is_typ_typ)])\n",
    "\n",
    "aff_aff_counts = np.array([np.sum((ctbp2_is_mat_match==1) & is_aff_aff),\n",
    "                           np.sum((ctbp2_is_pat_match==1) & is_aff_aff)])\n",
    "\n",
    "plt.figure(figsize=(7, 5))\n",
    "width = 0.25\n",
    "\n",
    "plot_with_error(typ_typ_counts, np.array([np.sum((ctbp2_is_mat_match!=-1) & is_typ_typ),\n",
    "                                 np.sum((ctbp2_is_pat_match!=-1) & is_typ_typ)]), \n",
    "                np.arange(2), colors[3], 'Both siblings respond \"No\"', p=0.5)\n",
    "plot_with_error(aff_aff_counts, np.array([np.sum((ctbp2_is_mat_match!=-1) & is_aff_aff),\n",
    "                                 np.sum((ctbp2_is_pat_match!=-1) & is_aff_aff)]), \n",
    "                np.arange(2)+1.25*width, colors[2], 'Both siblings respond \"Yes\"', p=0.5)\n",
    "\n",
    "plt.axhline(0.5, color='black', linestyle='--')\n",
    "#plt.axhline(0.5, color='black', linestyle='--')\n",
    "#plt.axhline(0.75, color='black', linestyle='--')\n",
    "plt.xticks(np.arange(2)+0.6*width, ['maternal IBD', 'paternal IBD'])\n",
    "plt.legend()\n",
    "#plt.ylim([0, 1.4])\n",
    "plt.yticks(np.arange(0, 1.25, 0.25))\n",
    "plt.ylabel('Fraction of sibling pairs')\n",
    "\n",
    "plt.tight_layout()\n",
    "plt.show()"
   ]
  },
  {
   "cell_type": "code",
   "execution_count": null,
   "metadata": {},
   "outputs": [],
   "source": [
    "# q, typ_response, aff_response\n",
    "q_groups = [('communication', [('q02_conversation', '1', '0'),\n",
    "                               ('q03_odd_phrase', '0', '1'), \n",
    "                               ('q04_inappropriate_question', '0', '1'), \n",
    "                               ('q05_pronouns_mixed', '0', '1'), \n",
    "                               ('q06_invented_words', '0', '1'),\n",
    "                               ('q20_talk_friendly', '1', '0'), \n",
    "                               ('q21_copy_you', '1', '0'),\n",
    "                               ('q22_point_things', '1', '0'), \n",
    "                               ('q23_gestures_wanted', '1', '0'), \n",
    "                               ('q24_nod_head', '1', '0'), \n",
    "                               ('q25_shake_head', '1', '0'), \n",
    "                               ('q34_copy_actions', '1', '0'), \n",
    "                               ('q35_make_believe', '1', '0')]),\n",
    "            ('social', [('q09_expressions_appropriate', '1', '0'),\n",
    "                        ('q10_hand_tool', '0', '1'), \n",
    "                        ('q19_best_friend', '1', '0'), \n",
    "                        ('q26_look_directly', '1', '0'), \n",
    "                        ('q27_smile_back', '1', '0'), \n",
    "                        ('q28_things_interested', '1', '0'), \n",
    "                        ('q29_share', '1', '0'), \n",
    "                        ('q30_join_enjoyment', '1', '0'), \n",
    "                        ('q31_comfort', '1', '0'),\n",
    "                        ('q32_help_attention', '1', '0'), \n",
    "                        ('q33_range_expressions', '1', '0'), \n",
    "                        ('q36_same_age', '1', '0'), \n",
    "                        ('q37_respond_positively', '1', '0'),\n",
    "                        ('q39_imaginative_games', '1', '0'), \n",
    "                        ('q40_cooperatively_games', '1', '0')]),\n",
    "            ('repetitive', [('q07_same_over', '0', '1'), \n",
    "                            ('q08_particular_way', '0', '1'),\n",
    "                            ('q11_interest_preoccupy', '0', '1'), \n",
    "                            ('q12_parts_object', '0', '1'), \n",
    "                            ('q13_interests_intensity', '0', '1'), \n",
    "                            ('q14_senses', '0', '1'), \n",
    "                            ('q15_odd_ways', '0', '1'),\n",
    "                            ('q16_complicated_movements', '0', '1')])\n",
    "           ]\n",
    "\n",
    "for g, qs in q_groups:\n",
    "    print()\n",
    "    child_to_phenotype = dict()\n",
    "    child_to_asd = dict()\n",
    "    with open('../phenotypes/spark/scq.csv', 'r') as f:\n",
    "        reader = csv.reader(f)\n",
    "        header = next(reader)\n",
    "        q_indices = [header.index(q[0]) for q in qs]\n",
    "        asd_index = header.index('asd')\n",
    "        for pieces in reader:\n",
    "            responses = [pieces[q_index] for q_index in q_indices]\n",
    "            if np.all([r==typ or r==aff for r, (_, typ, aff) in zip(responses, qs)]):\n",
    "                child_to_phenotype[pieces[0]] = np.sum([r==aff for r, (_, _, aff) in zip(responses, qs)]) \n",
    "                child_to_asd[pieces[0]] = pieces[asd_index]\n",
    "\n",
    "    plt.hist([child_to_phenotype[x] for x in child_to_phenotype.keys() if child_to_asd[x]=='TRUE'], alpha=0.5)\n",
    "    plt.hist([child_to_phenotype[x] for x in child_to_phenotype.keys() if child_to_asd[x]=='FALSE'], alpha=0.5)\n",
    "    plt.title(g)\n",
    "    plt.show()\n",
    "\n",
    "    cutoff = 0\n",
    "    is_aff_aff = np.array([sp.sibling1 in child_to_phenotype and sp.sibling2 in child_to_phenotype and child_to_phenotype[sp.sibling1]>cutoff and child_to_phenotype[sp.sibling2]>cutoff for sp in sibpairs])\n",
    "    is_aff_typ = np.array([sp.sibling1 in child_to_phenotype and sp.sibling2 in child_to_phenotype and ((child_to_phenotype[sp.sibling1]>cutoff and child_to_phenotype[sp.sibling2]<=cutoff) or (child_to_phenotype[sp.sibling1]<=cutoff and child_to_phenotype[sp.sibling2]>cutoff)) for sp in sibpairs])\n",
    "    is_typ_typ = np.array([sp.sibling1 in child_to_phenotype and sp.sibling2 in child_to_phenotype and child_to_phenotype[sp.sibling1]<=cutoff and child_to_phenotype[sp.sibling2]<=cutoff for sp in sibpairs])\n",
    "\n",
    "    print(np.sum(is_aff_aff), np.sum(is_aff_typ), np.sum(is_typ_typ))\n",
    "    \n",
    "    print(np.sum(is_mat_match[is_typ_typ]==1), np.sum(is_pat_match[is_typ_typ]==1))\n",
    "    print(np.sum(is_mat_match[is_typ_typ]==0), np.sum(is_pat_match[is_typ_typ]==0))\n",
    "    p = stats.binom_test(np.sum(is_mat_match[is_typ_typ]==1) + np.sum(is_pat_match[is_typ_typ]==1), \n",
    "                             np.sum(is_mat_match[is_typ_typ]!=-1) + np.sum(is_pat_match[is_typ_typ]!=-1),\n",
    "                             p=0.5, alternative='greater')\n",
    "    p_mat = stats.binom_test(np.sum(is_mat_match[is_typ_typ]==1), \n",
    "                             np.sum(is_mat_match[is_typ_typ]!=-1),\n",
    "                             p=0.5, alternative='greater')\n",
    "    p_pat = stats.binom_test(np.sum(is_pat_match[is_typ_typ]==1), \n",
    "                             np.sum(is_pat_match[is_typ_typ]!=-1),\n",
    "                             p=0.5, alternative='greater')\n",
    "    \n",
    "    print(g)\n",
    "    print(p, p_mat, p_pat)\n",
    "\n",
    "    #print(stats.binom_test(np.sum(is_mat_match[is_aff_typ]==1) + np.sum(is_pat_match[is_aff_typ]==1), \n",
    "    #                         np.sum(is_mat_match[is_aff_typ]!=-1) + np.sum(is_pat_match[is_aff_typ]!=-1),\n",
    "    #                         p=0.5, alternative='less'))\n",
    "    #print(stats.chi2_contingency([[np.sum(is_mat_match[is_aff_typ]==1) + np.sum(is_pat_match[is_aff_typ]==1), \n",
    "    #                         np.sum(is_mat_match[is_aff_typ]!=-1) + np.sum(is_pat_match[is_aff_typ]!=-1),\n",
    "    #                         p=0.5, alternative='less'))\n"
   ]
  },
  {
   "cell_type": "code",
   "execution_count": null,
   "metadata": {},
   "outputs": [],
   "source": [
    "print(np.sum(is_mat_match[is_typ_typ]==1) + np.sum(is_pat_match[is_typ_typ]==1))\n",
    "print(np.sum(is_mat_match[is_typ_typ]!=-1) + np.sum(is_pat_match[is_typ_typ]!=-1))\n",
    "print(stats.binom_test(np.sum(is_mat_match[is_typ_typ]==1) + np.sum(is_pat_match[is_typ_typ]==1), \n",
    "                             np.sum(is_mat_match[is_typ_typ]!=-1) + np.sum(is_pat_match[is_typ_typ]!=-1),\n",
    "                             p=0.5, alternative='greater'))\n"
   ]
  },
  {
   "cell_type": "code",
   "execution_count": null,
   "metadata": {},
   "outputs": [],
   "source": [
    "family_to_num_affected = defaultdict(set)\n",
    "with open(orig_ped_file, 'r') as f:\n",
    "    for line in f:\n",
    "        pieces = line.strip().split('\\t')\n",
    "        if pieces[5]=='2':\n",
    "            family_to_num_affected[pieces[0]].add(pieces[1])\n",
    "            \n",
    "is_multiplex = np.array([len(family_to_num_affected[x.family.split('.')[0]])>=2 for x in sibpairs])\n",
    "print(np.sum(is_multiplex), np.sum(~is_multiplex))"
   ]
  },
  {
   "cell_type": "code",
   "execution_count": null,
   "metadata": {},
   "outputs": [],
   "source": [
    "print(len([sibpairs[i] for i in np.where((is_mat_match==1) & (is_pat_match==1) & is_typ_typ & is_multiplex)[0]]))\n",
    "\n",
    "print(np.sum((is_mat_match==1) & (is_pat_match==1) & is_typ_typ & is_multiplex),\n",
    "      np.sum((is_mat_match==1) & (is_pat_match==1) & is_typ_typ & ~is_multiplex))\n"
   ]
  },
  {
   "cell_type": "code",
   "execution_count": null,
   "metadata": {},
   "outputs": [],
   "source": [
    "print(np.sum((is_mat_match==1) & (is_pat_match==0) & is_typ_typ & is_multiplex),\n",
    "      np.sum((is_mat_match==1) & (is_pat_match==0) & is_typ_typ & ~is_multiplex))\n"
   ]
  },
  {
   "cell_type": "code",
   "execution_count": null,
   "metadata": {},
   "outputs": [],
   "source": [
    "print(np.sum((is_mat_match==0) & (is_pat_match==1) & is_typ_typ & is_multiplex),\n",
    "      np.sum((is_mat_match==0) & (is_pat_match==1) & is_typ_typ & ~is_multiplex))\n",
    "\n"
   ]
  },
  {
   "cell_type": "code",
   "execution_count": null,
   "metadata": {},
   "outputs": [],
   "source": [
    "print(np.sum((is_mat_match==0) & (is_pat_match==0) & is_typ_typ & is_multiplex),\n",
    "      np.sum((is_mat_match==0) & (is_pat_match==0) & is_typ_typ & ~is_multiplex))"
   ]
  },
  {
   "cell_type": "code",
   "execution_count": null,
   "metadata": {},
   "outputs": [],
   "source": [
    "c = [\n",
    "    [\n",
    "        2*np.sum((is_mat_match==1) & (is_pat_match==1) & is_typ_typ & is_multiplex) + \\\n",
    "        np.sum((is_mat_match==1) & (is_pat_match==0) & is_typ_typ & is_multiplex) + \\\n",
    "        np.sum((is_mat_match==0) & (is_pat_match==1) & is_typ_typ & is_multiplex),\n",
    "        2*np.sum((is_mat_match==0) & (is_pat_match==0) & is_typ_typ & is_multiplex) + \\\n",
    "        np.sum((is_mat_match==1) & (is_pat_match==0) & is_typ_typ & is_multiplex) + \\\n",
    "        np.sum((is_mat_match==0) & (is_pat_match==1) & is_typ_typ & is_multiplex)\n",
    "    ],\n",
    "    [\n",
    "        2*np.sum((is_mat_match==1) & (is_pat_match==1) & is_typ_typ & ~is_multiplex) + \\\n",
    "        np.sum((is_mat_match==1) & (is_pat_match==0) & is_typ_typ & ~is_multiplex) + \\\n",
    "        np.sum((is_mat_match==0) & (is_pat_match==1) & is_typ_typ & ~is_multiplex),\n",
    "        2*np.sum((is_mat_match==0) & (is_pat_match==0) & is_typ_typ & ~is_multiplex) + \\\n",
    "        np.sum((is_mat_match==1) & (is_pat_match==0) & is_typ_typ & ~is_multiplex) + \\\n",
    "        np.sum((is_mat_match==0) & (is_pat_match==1) & is_typ_typ & ~is_multiplex)\n",
    "    ]]\n",
    "print(c)\n",
    "print(stats.chi2_contingency(c))"
   ]
  },
  {
   "cell_type": "code",
   "execution_count": null,
   "metadata": {},
   "outputs": [],
   "source": [
    "num_het_aff = []\n",
    "num_het_unaff = []\n",
    "for sibpair in sibpairs:\n",
    "    if sibpair.num_affected == 1:\n",
    "        if sample_to_affected[sibpair.sibling1]=='2' and sample_to_affected[sibpair.sibling2]=='1':\n",
    "            num_het_aff.append(np.sum(gen[sample_to_index[sibpair.sibling1], indices].A==1))\n",
    "            num_het_unaff.append(np.sum(gen[sample_to_index[sibpair.sibling2], indices].A==1))\n",
    "        elif sample_to_affected[sibpair.sibling1]=='1' and sample_to_affected[sibpair.sibling2]=='2':\n",
    "            num_het_unaff.append(np.sum(gen[sample_to_index[sibpair.sibling1], indices].A==1))\n",
    "            num_het_aff.append(np.sum(gen[sample_to_index[sibpair.sibling2], indices].A==1))\n",
    "        else:\n",
    "            print('Problem')\n",
    "            "
   ]
  },
  {
   "cell_type": "code",
   "execution_count": null,
   "metadata": {},
   "outputs": [],
   "source": [
    "num_het_aff = np.array(num_het_aff)\n",
    "num_het_unaff = np.array(num_het_unaff)\n"
   ]
  },
  {
   "cell_type": "code",
   "execution_count": 28,
   "metadata": {},
   "outputs": [
    {
     "data": {
      "image/png": "[encoded data removed]",
      "text/plain": [
       "<Figure size 432x288 with 1 Axes>"
      ]
     },
     "metadata": {
      "needs_background": "light"
     },
     "output_type": "display_data"
    }
   ],
   "source": [
    "mm = np.array([x for x, sibpair in zip(ctbp2_is_mat_match, sibpairs) if sibpair.num_affected==1]).astype(bool)\n",
    "pm = np.array([x for x, sibpair in zip(ctbp2_is_pat_match, sibpairs) if sibpair.num_affected==1]).astype(bool)\n",
    "plt.scatter(num_het_aff[mm & pm], num_het_unaff[mm & pm], marker='.')\n",
    "plt.scatter(num_het_aff[mm & ~pm], num_het_unaff[mm & ~pm], marker='.')\n",
    "plt.scatter(num_het_aff[~mm & pm], num_het_unaff[~mm & pm], marker='.')\n",
    "plt.scatter(num_het_aff[~mm & ~pm], num_het_unaff[~mm & ~pm], marker='.')\n",
    "plt.plot(plt.xlim(), plt.xlim(), color='black', linestyle='--')\n",
    "plt.show()"
   ]
  },
  {
   "cell_type": "code",
   "execution_count": 29,
   "metadata": {},
   "outputs": [
    {
     "name": "stdout",
     "output_type": "stream",
     "text": [
      "Ttest_relResult(statistic=0.6837116430350999, pvalue=0.4942083867350928)\n"
     ]
    }
   ],
   "source": [
    "print(stats.ttest_rel(num_het_aff, num_het_unaff))"
   ]
  },
  {
   "cell_type": "code",
   "execution_count": 91,
   "metadata": {},
   "outputs": [
    {
     "name": "stdout",
     "output_type": "stream",
     "text": [
      "1286\n",
      "1223\n",
      "591\n",
      "0.34455199303050726\n",
      "0.9373412694094969\n",
      "0.014568168099188818\n",
      "0.09603520693714412\n",
      "\n",
      "0.8521710588176694\n",
      "0.01875643305104364\n",
      "\n",
      "0.006318282695213842\n",
      "0.5621530738469471\n",
      "\n",
      "0.1078958805619051\n"
     ]
    }
   ],
   "source": [
    "print(np.sum(np.array(num_het_aff)>np.array(num_het_unaff)))\n",
    "print(np.sum(np.array(num_het_aff)<np.array(num_het_unaff)))\n",
    "print(np.sum(np.array(num_het_aff)==np.array(num_het_unaff)))\n",
    "\n",
    "print(stats.binom_test(np.sum(num_het_aff[mm & pm]>num_het_unaff[mm & pm]), np.sum(num_het_aff[mm & pm]!=num_het_unaff[mm & pm]), alternative='greater'))\n",
    "print(stats.binom_test(np.sum(num_het_aff[mm & ~pm]>num_het_unaff[mm & ~pm]), np.sum(num_het_aff[mm & ~pm]!=num_het_unaff[mm & ~pm]), alternative='greater'))\n",
    "print(stats.binom_test(np.sum(num_het_aff[~mm & pm]>num_het_unaff[~mm & pm]), np.sum(num_het_aff[~mm & pm]!=num_het_unaff[~mm & pm]), alternative='greater'))\n",
    "print(stats.binom_test(np.sum(num_het_aff[~mm & ~pm]>num_het_unaff[~mm & ~pm]), np.sum(num_het_aff[~mm & ~pm]!=num_het_unaff[~mm & ~pm]), alternative='greater'))\n",
    "print()\n",
    "print(stats.binom_test(np.sum(num_het_aff[mm]>num_het_unaff[mm]), np.sum(num_het_aff[mm]!=num_het_unaff[mm]), alternative='greater'))\n",
    "print(stats.binom_test(np.sum(num_het_aff[pm]>num_het_unaff[pm]), np.sum(num_het_aff[pm]!=num_het_unaff[pm]), alternative='greater'))\n",
    "print()\n",
    "print(stats.binom_test(np.sum(num_het_aff[~mm]>num_het_unaff[~mm]), np.sum(num_het_aff[~mm]!=num_het_unaff[~mm]), alternative='greater'))\n",
    "print(stats.binom_test(np.sum(num_het_aff[~pm]>num_het_unaff[~pm]), np.sum(num_het_aff[~pm]!=num_het_unaff[~pm]), alternative='greater'))\n",
    "print()\n",
    "print(stats.binom_test(np.sum(num_het_aff>num_het_unaff), np.sum(num_het_aff!=num_het_unaff), alternative='greater'))\n",
    "\n"
   ]
  },
  {
   "cell_type": "code",
   "execution_count": 57,
   "metadata": {},
   "outputs": [
    {
     "name": "stdout",
     "output_type": "stream",
     "text": [
      "Ttest_relResult(statistic=0.6837116430350999, pvalue=0.4942083867350928)\n"
     ]
    }
   ],
   "source": [
    "print(stats.ttest_rel(num_het_aff, num_het_unaff))"
   ]
  },
  {
   "cell_type": "code",
   "execution_count": 61,
   "metadata": {},
   "outputs": [],
   "source": [
    "num_het_aff = []\n",
    "num_het_unaff = []\n",
    "for sibpair in sibpairs:\n",
    "    par_avg = 0.5*(np.sum(gen[sample_to_index[sibpair.mom], indices].A==1) + np.sum(gen[sample_to_index[sibpair.dad], indices].A==1))\n",
    "    if sample_to_affected[sibpair.sibling1]=='2':\n",
    "        num_het_aff.append(np.sum(gen[sample_to_index[sibpair.sibling1], indices].A==1) - par_avg)\n",
    "    elif sample_to_affected[sibpair.sibling1]=='1':\n",
    "        num_het_unaff.append(np.sum(gen[sample_to_index[sibpair.sibling1], indices].A==1) - par_avg)\n",
    "        \n",
    "    if sample_to_affected[sibpair.sibling2]=='2':\n",
    "        num_het_aff.append(np.sum(gen[sample_to_index[sibpair.sibling2], indices].A==1) - par_avg)\n",
    "    elif sample_to_affected[sibpair.sibling2]=='1':\n",
    "        num_het_unaff.append(np.sum(gen[sample_to_index[sibpair.sibling2], indices].A==1) - par_avg)\n"
   ]
  },
  {
   "cell_type": "code",
   "execution_count": 62,
   "metadata": {},
   "outputs": [
    {
     "name": "stdout",
     "output_type": "stream",
     "text": [
      "Ttest_indResult(statistic=1.2001225757942358, pvalue=0.23012852722439786)\n"
     ]
    }
   ],
   "source": [
    "print(stats.ttest_ind(num_het_aff, num_het_unaff))"
   ]
  },
  {
   "cell_type": "code",
   "execution_count": 319,
   "metadata": {},
   "outputs": [],
   "source": [
    "gen_data = gen[:, indices].A\n",
    "gen_data[gen_data<0] = 0\n",
    "num_alleles_aut = np.sum(gen_data[has_autism, :], axis=0)\n",
    "num_alleles_typ = np.sum(gen_data[no_autism, :], axis=0)\n"
   ]
  },
  {
   "cell_type": "code",
   "execution_count": 320,
   "metadata": {},
   "outputs": [
    {
     "name": "stdout",
     "output_type": "stream",
     "text": [
      "[1.00000000e+00 7.94328235e-01 6.30957344e-01 5.01187234e-01\n",
      " 3.98107171e-01 3.16227766e-01 2.51188643e-01 1.99526231e-01\n",
      " 1.58489319e-01 1.25892541e-01 1.00000000e-01 7.94328235e-02\n",
      " 6.30957344e-02 5.01187234e-02 3.98107171e-02 3.16227766e-02\n",
      " 2.51188643e-02 1.99526231e-02 1.58489319e-02 1.25892541e-02\n",
      " 1.00000000e-02 7.94328235e-03 6.30957344e-03 5.01187234e-03\n",
      " 3.98107171e-03 3.16227766e-03 2.51188643e-03 1.99526231e-03\n",
      " 1.58489319e-03 1.25892541e-03 1.00000000e-03 7.94328235e-04\n",
      " 6.30957344e-04 5.01187234e-04 3.98107171e-04 3.16227766e-04\n",
      " 2.51188643e-04 1.99526231e-04 1.58489319e-04 1.25892541e-04\n",
      " 1.00000000e-04 7.94328235e-05 6.30957344e-05 5.01187234e-05\n",
      " 3.98107171e-05 3.16227766e-05 2.51188643e-05 1.99526231e-05\n",
      " 1.58489319e-05 1.25892541e-05]\n"
     ]
    }
   ],
   "source": [
    "af_bins = np.array([10**-x for x in np.arange(0, 5, 0.1)])\n",
    "af_bin_aut_counts = np.zeros((af_bins.shape[0]+1,), dtype=int)\n",
    "af_bin_typ_counts = np.zeros((af_bins.shape[0]+1,), dtype=int)\n",
    "print(af_bins)"
   ]
  },
  {
   "cell_type": "code",
   "execution_count": 321,
   "metadata": {},
   "outputs": [],
   "source": [
    "af_bin_aut_counts[np.digitize(af[indices], af_bins)] += num_alleles_aut\n",
    "af_bin_typ_counts[np.digitize(af[indices], af_bins)] += num_alleles_typ"
   ]
  },
  {
   "cell_type": "code",
   "execution_count": 329,
   "metadata": {},
   "outputs": [
    {
     "name": "stderr",
     "output_type": "stream",
     "text": [
      "//anaconda3/lib/python3.7/site-packages/ipykernel/__main__.py:2: RuntimeWarning: divide by zero encountered in log10\n",
      "  from ipykernel import kernelapp as app\n",
      "//anaconda3/lib/python3.7/site-packages/ipykernel/__main__.py:3: RuntimeWarning: divide by zero encountered in log10\n",
      "  app.launch_new_instance()\n"
     ]
    },
    {
     "data": {
      "image/png": "[encoded data removed]",
      "text/plain": [
       "<Figure size 1080x360 with 1 Axes>"
      ]
     },
     "metadata": {
      "needs_background": "light"
     },
     "output_type": "display_data"
    }
   ],
   "source": [
    "plt.figure(figsize=(15, 5))\n",
    "plt.plot(np.log10(af_bin_aut_counts/np.sum(af_bin_aut_counts)), alpha=0.5)\n",
    "plt.plot(np.log10(af_bin_typ_counts/np.sum(af_bin_typ_counts)), alpha=0.5)\n",
    "plt.show()"
   ]
  },
  {
   "cell_type": "code",
   "execution_count": 332,
   "metadata": {},
   "outputs": [
    {
     "name": "stdout",
     "output_type": "stream",
     "text": [
      "199\n",
      "128\n"
     ]
    }
   ],
   "source": [
    "print(np.sum(af_bin_aut_counts[20:]))\n",
    "print(np.sum(af_bin_typ_counts[20:]))"
   ]
  },
  {
   "cell_type": "code",
   "execution_count": 334,
   "metadata": {},
   "outputs": [
    {
     "name": "stdout",
     "output_type": "stream",
     "text": [
      "22\n"
     ]
    }
   ],
   "source": [
    "rare_indices = (coords[:, 1]>=start_interval) & (coords[:, 1]<=end_interval) & (coords[:, 2]==1) & (coords[:, 3]==1) & (af<=0.01)\n",
    "print(np.sum(rare_indices))"
   ]
  },
  {
   "cell_type": "code",
   "execution_count": 348,
   "metadata": {},
   "outputs": [
    {
     "data": {
      "image/png": "[encoded data removed]",
      "text/plain": [
       "<Figure size 1080x360 with 1 Axes>"
      ]
     },
     "metadata": {
      "needs_background": "light"
     },
     "output_type": "display_data"
    }
   ],
   "source": [
    "rare_gen_data = gen[:, rare_indices].A\n",
    "rare_gen_data[rare_gen_data<0] = 0\n",
    "\n",
    "plt.figure(figsize=(15, 5))\n",
    "\n",
    "plt.hist(np.sum(rare_gen_data[has_autism, :], axis=1), alpha=0.5, bins=np.arange(0, 100, 2), density=True, log=True)\n",
    "plt.hist(np.sum(rare_gen_data[no_autism, :], axis=1), alpha=0.5, bins=np.arange(0, 100, 2), density=True, log=True)\n",
    "plt.show()"
   ]
  },
  {
   "cell_type": "code",
   "execution_count": 350,
   "metadata": {},
   "outputs": [
    {
     "name": "stdout",
     "output_type": "stream",
     "text": [
      "Ttest_indResult(statistic=1.113230268760339, pvalue=0.26564906997354887)\n",
      "Ttest_indResult(statistic=1.2027245065123269, pvalue=0.22912500829869908)\n"
     ]
    }
   ],
   "source": [
    "print(stats.ttest_ind(np.sum(gen_data[has_autism, :], axis=1), np.sum(gen_data[no_autism, :], axis=1)))\n",
    "print(stats.ttest_ind(np.sum(rare_gen_data[has_autism, :], axis=1), np.sum(rare_gen_data[no_autism, :], axis=1)))"
   ]
  },
  {
   "cell_type": "code",
   "execution_count": null,
   "metadata": {},
   "outputs": [],
   "source": []
  }
 ],
 "metadata": {
  "kernelspec": {
   "display_name": "Python 3",
   "language": "python",
   "name": "python3"
  },
  "language_info": {
   "codemirror_mode": {
    "name": "ipython",
    "version": 3
   },
   "file_extension": ".py",
   "mimetype": "text/x-python",
   "name": "python",
   "nbconvert_exporter": "python",
   "pygments_lexer": "ipython3",
   "version": "3.7.3"
  }
 },
 "nbformat": 4,
 "nbformat_minor": 2
}
