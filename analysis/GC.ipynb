{
 "cells": [
  {
   "cell_type": "code",
   "execution_count": 1,
   "metadata": {},
   "outputs": [],
   "source": [
    "import numpy as np\n",
    "import matplotlib.pyplot as plt\n",
    "import scipy.linalg\n",
    "from collections import defaultdict, namedtuple, Counter\n",
    "from itertools import combinations, product\n",
    "import numpy as np\n",
    "import scipy.stats as stats\n",
    "import sys\n",
    "from os import listdir\n",
    "import json\n",
    "import argparse\n",
    "import random\n",
    "import scipy.sparse as sparse"
   ]
  },
  {
   "cell_type": "code",
   "execution_count": 2,
   "metadata": {},
   "outputs": [],
   "source": [
    "#data_dir = '../../DATA/ihart.ms2/genotypes'\n",
    "#ped_file = '../../DATA/ihart.ms2/ihart.ped.quads.ped'\n",
    "#phase_dir = '../../PhasingFamilies/phased_ihart.ms2_quads'\n",
    "#identicals_file = '../../PhasingFamilies/sibpair_similarity/ihart.ms2_quads_identicals.txt'\n",
    "\n",
    "data_dirs = [#'../../DATA/ihart.ms2/genotypes',\n",
    "             '../../DATA/mssng/genotypes',\n",
    "             #'../../DATA/ssc.hg38/genotypes/phase2'\n",
    "]\n",
    "ped_files = [#'../../DATA/ihart.ms2/ihart.ped.quads.ped',\n",
    "             '../../DATA/mssng/mssng.ped.quads.ped',\n",
    "             #'../../DATA/ssc.hg38/ssc.ped'\n",
    "]\n",
    "phase_dirs = [#'../../PhasingFamilies/phased_ihart.ms2_quads',\n",
    "              '../../PhasingFamilies/phased_mssng_quads',\n",
    "              #'../../PhasingFamilies/phased_ssc.hg38'\n",
    "]\n",
    "identicals_files = [#'../../PhasingFamilies/sibpair_similarity/ihart.ms2_quads_identicals.txt',\n",
    "                    '../../PhasingFamilies/sibpair_similarity/mssng_quads_identicals.txt',\n",
    "                    #'../../PhasingFamilies/sibpair_similarity/ssc_identicals.txt'\n",
    "]\n",
    "\n",
    "\n",
    "#data_dir = '../../DATA/mssng/genotypes'\n",
    "#ped_file = '../../DATA/mssng/mssng.ped.quads.ped'\n",
    "#phase_dir = '../../PhasingFamilies/phased_mssng_quads'\n",
    "#identicals_file = '../../PhasingFamilies/sibpair_similarity/mssng_quads_identicals.txt'\n",
    "\n",
    "\n",
    "start_pos, end_pos = 125880000, 125930000\n",
    "chrom = '10'"
   ]
  },
  {
   "cell_type": "code",
   "execution_count": 3,
   "metadata": {},
   "outputs": [],
   "source": [
    "def pull_phenotype_ped(ped_file):\n",
    "\tsample_to_sex = dict()\n",
    "\tsample_to_affected = dict()\n",
    "\tparents_to_children = defaultdict(list)\n",
    "\twith open(ped_file, 'r') as f:\n",
    "\t\tfor line in f:\n",
    "\t\t\tpieces = line.strip().split('\\t')\n",
    "\t\t\tsample_to_sex[pieces[1]] = pieces[4]\n",
    "\t\t\tsample_to_sex[pieces[3]] = '2'\n",
    "\t\t\tsample_to_sex[pieces[2]] = '1'\n",
    "\t\t\tsample_to_affected[pieces[1]] = pieces[5]\n",
    "\t\t\tparents_to_children[(pieces[0], pieces[3], pieces[2])].append(pieces[1])\n",
    "\treturn sample_to_affected, sample_to_sex, parents_to_children\n",
    "\n",
    "\n",
    "Sibpair = namedtuple('Sibpair', ['family', 'sibling1', 'sibling2', 'mom', 'dad', 'phase_dir', \n",
    "                                 'num_affected', 'num_males', \n",
    "                                 'sibling1_aff', 'sibling2_aff', 'sibling1_male', 'sibling2_male'])\n",
    "def pull_sibpairs(phase_dir, sample_to_affected, sample_to_sex, parents_to_children, identicals_file):\n",
    "\n",
    "\t# pull identicals\n",
    "\tleave_out = set()\n",
    "\twith open(identicals_file, 'r') as f:\n",
    "\t\tfor line in f:\n",
    "\t\t\tpieces = line.strip().split('\\t')\n",
    "\t\t\tfor sibling1, sibling2 in combinations(pieces, 2):\n",
    "\t\t\t\tleave_out.add((sibling1, sibling2))\n",
    "\t\t\t\tleave_out.add((sibling2, sibling1))\n",
    "\n",
    "\n",
    "\t# pull sibpairs with phase data\n",
    "\tsibpair_has_phase_data = set()\n",
    "\tfamily_to_inds = dict()\n",
    "\tfor filename in listdir(phase_dir):\n",
    "\t\tif filename.endswith('.phased.txt'):\n",
    "\t\t\tfamily_key = filename[:-11]\n",
    "\t\t\ttry:\n",
    "\t\t\t\twith open('%s/%s' % (phase_dir, filename), 'r')  as f:\n",
    "\t\t\t\t\theader = next(f).strip().split('\\t')\n",
    "\t\t\t\t\tindividuals = [header[i][:-4] for i in range(5, len(header)-3, 2)]\n",
    "\t\t\t\t\tfamily_to_inds[family_key] = individuals\n",
    "\t\t\t\t\tfor sibling1, sibling2 in combinations(individuals[2:], 2):\n",
    "\t\t\t\t\t\tif (sibling1, sibling2) not in leave_out:\n",
    "\t\t\t\t\t\t\tsibpair_has_phase_data.add((sibling1, sibling2))\n",
    "\t\t\t\t\t\t\tsibpair_has_phase_data.add((sibling2, sibling1))\n",
    "\t\t\texcept StopIteration:\n",
    "\t\t\t\tpass\n",
    "\n",
    "\n",
    "\n",
    "\tdef form_sibpair(family, sibling1, sibling2, mom, dad):\n",
    "\t\treturn Sibpair(family, sibling1, sibling2, mom, dad,\n",
    "\t\t\tphase_dir,\n",
    "\t\t\tint(sample_to_affected[sibling1]=='2')+int(sample_to_affected[sibling2]=='2'),\n",
    "\t\t\tint(sample_to_sex[sibling1]=='1')+int(sample_to_sex[sibling2]=='1'),\n",
    "\t\t\tsample_to_affected[sibling1]=='2', sample_to_affected[sibling2]=='2',\n",
    "\t\t\tsample_to_sex[sibling1]=='1', sample_to_sex[sibling2]=='1')\n",
    "\t# pull sibpairs from families\n",
    "\tsibpairs = []\n",
    "\tfor (family, mom, dad), children in parents_to_children.items():\n",
    "\t\tfor sibling1, sibling2 in combinations([x for x in children if x in sample_to_affected], 2):\n",
    "\t\t\tif (sibling1, sibling2) in sibpair_has_phase_data:\n",
    "\t\t\t\tsibpairs.append(form_sibpair(family, sibling1, sibling2, mom, dad))\n",
    "\tsibpairs = sorted(sibpairs)\n",
    "\n",
    "\tfor i in range(len(sibpairs)-1):\n",
    "\t\tif sibpairs[i] == sibpairs[i+1]:\n",
    "\t\t\tprint(sibpairs[i])\n",
    "\n",
    "\tassert len(sibpairs) == len(set(sibpairs)) # should have no duplicates\n",
    "\treturn sibpairs, family_to_inds\n",
    "\n",
    "\n"
   ]
  },
  {
   "cell_type": "code",
   "execution_count": 4,
   "metadata": {},
   "outputs": [],
   "source": [
    "Trio = namedtuple('Sibpair', ['family', 'child', 'mom', 'dad', 'phase_dir', \n",
    "                                 'is_affected', 'is_male'])\n",
    "def pull_trios(phase_dir, sample_to_affected, sample_to_sex, parents_to_children, identicals_file):\n",
    "\n",
    "\t# pull identicals\n",
    "\tleave_out = set()\n",
    "\twith open(identicals_file, 'r') as f:\n",
    "\t\tfor line in f:\n",
    "\t\t\tpieces = line.strip().split('\\t')\n",
    "\t\t\tleave_out.update(pieces)\n",
    "\n",
    "\n",
    "\t# pull sibpairs with phase data\n",
    "\tsibpair_has_phase_data = set()\n",
    "\tfamily_to_inds = dict()\n",
    "\tfor filename in listdir(phase_dir):\n",
    "\t\tif filename.endswith('.phased.txt'):\n",
    "\t\t\tfamily_key = filename[:-11]\n",
    "\t\t\ttry:\n",
    "\t\t\t\twith open('%s/%s' % (phase_dir, filename), 'r')  as f:\n",
    "\t\t\t\t\theader = next(f).strip().split('\\t')\n",
    "\t\t\t\t\tindividuals = [header[i][:-4] for i in range(5, len(header)-3, 2)]\n",
    "\t\t\t\t\tfamily_to_inds[family_key] = individuals\n",
    "\t\t\t\t\tfor child in individuals[2:]:\n",
    "\t\t\t\t\t\tif child not in leave_out:\n",
    "\t\t\t\t\t\t\tsibpair_has_phase_data.add(child)\n",
    "\t\t\texcept StopIteration:\n",
    "\t\t\t\tpass\n",
    "\n",
    "\n",
    "\n",
    "\tdef form_sibpair(family, child, mom, dad):\n",
    "\t\treturn Trio(family, child, mom, dad,\n",
    "\t\t\tphase_dir,\n",
    "\t\t\tsample_to_affected[child]=='2',\n",
    "\t\t\tsample_to_sex[child]=='1')\n",
    "\t# pull sibpairs from families\n",
    "\ttrios = []\n",
    "\tfor (family, mom, dad), children in parents_to_children.items():\n",
    "\t\tfor child in [x for x in children if x in sample_to_affected]:\n",
    "\t\t\tif child in sibpair_has_phase_data:\n",
    "\t\t\t\ttrios.append(form_sibpair(family, child, mom, dad))\n",
    "\ttrios = sorted(trios)\n",
    "\n",
    "\tfor i in range(len(trios)-1):\n",
    "\t\tif trios[i] == trios[i+1]:\n",
    "\t\t\tprint(trios[i])\n",
    "\n",
    "\tassert len(trios) == len(set(trios)) # should have no duplicates\n",
    "\treturn trios, family_to_inds\n",
    "\n"
   ]
  },
  {
   "cell_type": "code",
   "execution_count": 5,
   "metadata": {},
   "outputs": [],
   "source": [
    "def pull_counts(trios, sibpairs, data_dir):\n",
    "    gen_files = sorted([f for f in listdir(data_dir) if ('chr.%s.' % chrom) in f and 'gen.npz' in f], key=lambda x: int(x.split('.')[2]))\n",
    "    coord_files = sorted([f for f in listdir(data_dir) if ('chr.%s.' % chrom) in f and 'gen.coordinates.npy' in f], key=lambda x: int(x.split('.')[2]))\n",
    "    sample_file = '%s/samples.json' % data_dir\n",
    "\n",
    "    # read samples\n",
    "    with open(sample_file, 'r') as f:\n",
    "        samples = json.load(f)\n",
    "        sample_id_to_index = dict([(x, i) for i, x in enumerate(samples)])\n",
    "\n",
    "    trios = [x for x in trios if x.mom in sample_id_to_index and x.dad in sample_id_to_index and x.child in sample_id_to_index]\n",
    "    sibpairs = [x for x in sibpairs if x.mom in sample_id_to_index and x.dad in sample_id_to_index and x.sibling1 in sample_id_to_index and x.sibling2 in sample_id_to_index]\n",
    "    print(len(trios), len(sibpairs))\n",
    "    sp_indices = np.array([(sample_id_to_index[sp.mom], sample_id_to_index[sp.dad], \n",
    "                         sample_id_to_index[sp.sibling1], sample_id_to_index[sp.sibling2]) for sp in sibpairs])\n",
    "    trio_indices = np.array([(sample_id_to_index[sp.mom], sample_id_to_index[sp.dad], \n",
    "                         sample_id_to_index[sp.child]) for sp in trios])\n",
    "\n",
    "    sp_gens, trio_gens, snp_positions = [], [], []\n",
    "    total_pos = 0\n",
    "    for gen_file, coord_file in zip(gen_files, coord_files):\n",
    "        coords = np.load('%s/%s' % (data_dir, coord_file))\n",
    "\n",
    "        if coords.shape[0]>0:\n",
    "            poss = coords[:, 1]\n",
    "            is_snp = coords[:, 2]==1\n",
    "            is_pass = coords[:, 3]==1\n",
    "\n",
    "            in_interval = (coords[:, 1]>=start_pos) & (coords[:, 1]<=end_pos) & is_snp & is_pass\n",
    "            if np.sum(is_snp & is_pass & in_interval)>0:\n",
    "                gen = sparse.load_npz('%s/%s' % (data_dir, gen_file))[:, in_interval].A\n",
    "                sp_gens.append(gen[sp_indices, :])\n",
    "                trio_gens.append(gen[trio_indices, :])\n",
    "                snp_positions.append(poss[in_interval])\n",
    "\n",
    "    sp_gens = np.hstack(sp_gens)\n",
    "    trio_gens = np.hstack(trio_gens)\n",
    "    snp_positions = np.hstack(snp_positions)\n",
    "    print(sp_gens.shape, trio_gens.shape, snp_positions.shape)\n",
    "    \n",
    "    fam_has_variant = np.any(sp_gens!=0, axis=1)\n",
    "    print(fam_has_variant.shape)\n",
    "    \n",
    "    num_affected = np.array([sp.num_affected for sp in sibpairs])\n",
    "    sibpair_genotypes = [x for x in product(*[[0, 1, 2]]*4) if x[3]>=x[2] and x[1]>=x[0]]\n",
    "    counts = np.zeros((len(sibpair_genotypes), 3))\n",
    "    counts_pos = np.zeros((len(sibpair_genotypes), 3, len(snp_positions)))\n",
    "    for i, sibpair_gen in enumerate(sibpair_genotypes):\n",
    "        for na in [0, 1, 2]:\n",
    "            counts[i, na] = np.sum((((sp_gens[num_affected==na, 0, :]==sibpair_gen[0]) & (sp_gens[num_affected==na, 1, :]==sibpair_gen[1])) | ((sp_gens[num_affected==na, 0, :]==sibpair_gen[1]) & (sp_gens[num_affected==na, 1, :]==sibpair_gen[0]))) & \\\n",
    "                                   (((sp_gens[num_affected==na, 2, :]==sibpair_gen[2]) & (sp_gens[num_affected==na, 3, :]==sibpair_gen[3])) | ((sp_gens[num_affected==na, 2, :]==sibpair_gen[3]) & (sp_gens[num_affected==na, 3, :]==sibpair_gen[2]))))\n",
    "            \n",
    "            counts_pos[i, na, :] = np.sum((((sp_gens[num_affected==na, 0, :]==sibpair_gen[0]) & (sp_gens[num_affected==na, 1, :]==sibpair_gen[1])) | ((sp_gens[num_affected==na, 0, :]==sibpair_gen[1]) & (sp_gens[num_affected==na, 1, :]==sibpair_gen[0]))) & \\\n",
    "                                   (((sp_gens[num_affected==na, 2, :]==sibpair_gen[2]) & (sp_gens[num_affected==na, 3, :]==sibpair_gen[3])) | ((sp_gens[num_affected==na, 2, :]==sibpair_gen[3]) & (sp_gens[num_affected==na, 3, :]==sibpair_gen[2]))), axis=0)\n",
    "            \n",
    "            \n",
    "    is_aff = np.array([sp.is_affected for sp in trios])\n",
    "    is_male = np.array([sp.is_male for sp in trios])\n",
    "    trio_genotypes = [x for x in product(*[[0, 1, 2]]*3) if x[1]>=x[0]]\n",
    "    print(len(trio_genotypes))\n",
    "    trio_counts = np.zeros((len(trio_genotypes), 2))\n",
    "    trio_counts_male = np.zeros((len(trio_genotypes), 2))\n",
    "    trio_counts_pos = np.zeros((len(trio_genotypes), 2, len(snp_positions)))\n",
    "    for i, trio_gen in enumerate(trio_genotypes):\n",
    "\n",
    "        trio_counts[i, 1] = np.sum((((trio_gens[is_aff, 0]==trio_gen[0]) & (trio_gens[is_aff, 1]==trio_gen[1])) | ((trio_gens[is_aff, 0]==trio_gen[1]) & (trio_gens[is_aff, 1]==trio_gen[0]))) & \\\n",
    "                                     (trio_gens[is_aff, 2]==trio_gen[2]))\n",
    "        trio_counts[i, 0] = np.sum((((trio_gens[~is_aff, 0]==trio_gen[0]) & (trio_gens[~is_aff, 1]==trio_gen[1])) | ((trio_gens[~is_aff, 0]==trio_gen[1]) & (trio_gens[~is_aff, 1]==trio_gen[0]))) & \\\n",
    "                              (trio_gens[~is_aff, 2]==trio_gen[2]))\n",
    "\n",
    "        trio_counts_male[i, 1] = np.sum((((trio_gens[is_male, 0]==trio_gen[0]) & (trio_gens[is_male, 1]==trio_gen[1])) | ((trio_gens[is_male, 0]==trio_gen[1]) & (trio_gens[is_male, 1]==trio_gen[0]))) & \\\n",
    "                              (trio_gens[is_male, 2]==trio_gen[2]))\n",
    "        trio_counts_male[i, 0] = np.sum((((trio_gens[~is_male, 0]==trio_gen[0]) & (trio_gens[~is_male, 1]==trio_gen[1])) | ((trio_gens[~is_male, 0]==trio_gen[1]) & (trio_gens[~is_male, 1]==trio_gen[0]))) & \\\n",
    "                              (trio_gens[~is_male, 2]==trio_gen[2]))\n",
    "        \n",
    "        trio_counts_pos[i, 1, :] += np.sum((((trio_gens[is_aff, 0]==trio_gen[0]) & (trio_gens[is_aff, 1]==trio_gen[1])) | ((trio_gens[is_aff, 0]==trio_gen[1]) & (trio_gens[is_aff, 1]==trio_gen[0]))) & \\\n",
    "                              (trio_gens[is_aff, 2]==trio_gen[2]), axis=0)\n",
    "        trio_counts_pos[i, 0, :] += np.sum((((trio_gens[~is_aff, 0]==trio_gen[0]) & (trio_gens[~is_aff, 1]==trio_gen[1])) | ((trio_gens[~is_aff, 0]==trio_gen[1]) & (trio_gens[~is_aff, 1]==trio_gen[0]))) & \\\n",
    "                              (trio_gens[~is_aff, 2]==trio_gen[2]), axis=0)\n",
    "        \n",
    "    return sibpair_genotypes, counts, trio_genotypes, trio_counts, trio_counts_male, trio_counts_pos, counts_pos, snp_positions\n",
    "\n",
    "\n"
   ]
  },
  {
   "cell_type": "code",
   "execution_count": 6,
   "metadata": {},
   "outputs": [
    {
     "name": "stdout",
     "output_type": "stream",
     "text": [
      "1454 737\n",
      "(737, 4, 1989) (1454, 3, 1989) (1989,)\n",
      "(737, 1989)\n",
      "18\n"
     ]
    }
   ],
   "source": [
    "all_counts, all_trio_counts, all_trio_counts_male = [], [], []\n",
    "for ped_file, phase_dir, data_dir, identicals_file in zip(ped_files, phase_dirs, data_dirs, identicals_files):\n",
    "    sample_to_affected, sample_to_sex, parents_to_children = pull_phenotype_ped(ped_file)\n",
    "\n",
    "    sibpairs, family_to_inds = pull_sibpairs(phase_dir, sample_to_affected, sample_to_sex, parents_to_children, identicals_file)\n",
    "    trios, family_to_inds = pull_trios(phase_dir, sample_to_affected, sample_to_sex, parents_to_children, identicals_file)\n",
    "\n",
    "    sibpair_genotypes, counts, trio_genotypes, trio_counts, trio_counts_male, trio_counts_pos, counts_pos, snp_positions = pull_counts(trios, sibpairs, data_dir)\n",
    "    all_counts.append(counts)\n",
    "    all_trio_counts.append(trio_counts)\n",
    "    all_trio_counts_male.append(trio_counts_male)\n",
    "    "
   ]
  },
  {
   "cell_type": "code",
   "execution_count": 7,
   "metadata": {},
   "outputs": [
    {
     "name": "stdout",
     "output_type": "stream",
     "text": [
      "(18, 2, 1989) (1989,)\n"
     ]
    }
   ],
   "source": [
    "print(trio_counts_pos.shape, snp_positions.shape)"
   ]
  },
  {
   "cell_type": "code",
   "execution_count": 8,
   "metadata": {},
   "outputs": [
    {
     "name": "stdout",
     "output_type": "stream",
     "text": [
      "(0, 1, 0, 0) 0.0023357769153370704 0.0023082614056720097 0.0031468793270908978 7.056574660761814e-17\n",
      "(0, 1, 0, 1) 0.003332973983038666 0.005191122071516646 0.0045895505467491915 6.392687914766322e-14\n",
      "(0, 2, 0, 1) 3.593502946672416e-05 2.9593094944512948e-05 4.218336899585654e-06 0.004962135142967307\n",
      "(0, 2, 1, 1) 0.0028927698720712953 0.0019408138101109742 0.002083858428395313 1.755643294037882e-07\n",
      "(1, 1, 0, 0) 0.000880408221934742 0.0003378545006165228 0.000285792324946928 2.4213770054642498e-21\n",
      "(1, 1, 0, 1) 0.002236955584303579 0.0015166461159062884 0.001517546699625939 1.533719309221102e-06\n",
      "(1, 1, 0, 2) 0.0007276843467011643 0.0003255240443896424 0.0005009275068257964 6.336015837866594e-07\n",
      "(1, 1, 1, 1) 0.009037659910881127 0.00924537607891492 0.010017495552291032 0.0002760012189879733\n",
      "(1, 1, 1, 2) 0.0013924823918355614 0.0011467324290998766 0.0009185428598847762 6.075406173028687e-06\n",
      "(1, 1, 2, 2) 5.3902544200086246e-05 0.0003304562268803946 0.000285792324946928 0.0002122936054784523\n",
      "(1, 2, 1, 1) 0.0013745148771021993 0.0007669543773119606 0.0008004294266963778 2.1743595017067233e-08\n",
      "(1, 2, 1, 2) 0.0016799626275693547 0.0021479654747225646 0.0016419876381637158 3.4058575439120694e-08\n",
      "(2, 2, 2, 2) 0.0015991088112692253 0.002212083847102343 0.0022051356142584006 0.005305377870061271\n",
      "[(0, 0, 0, 0), (0, 0, 0, 1), (0, 0, 0, 2), (0, 0, 1, 1), (0, 0, 1, 2), (0, 0, 2, 2), (0, 1, 0, 0), (0, 1, 0, 1), (0, 1, 0, 2), (0, 1, 1, 1), (0, 1, 1, 2), (0, 1, 2, 2), (0, 2, 0, 0), (0, 2, 0, 1), (0, 2, 0, 2), (0, 2, 1, 1), (0, 2, 1, 2), (0, 2, 2, 2), (1, 1, 0, 0), (1, 1, 0, 1), (1, 1, 0, 2), (1, 1, 1, 1), (1, 1, 1, 2), (1, 1, 2, 2), (1, 2, 0, 0), (1, 2, 0, 1), (1, 2, 0, 2), (1, 2, 1, 1), (1, 2, 1, 2), (1, 2, 2, 2), (2, 2, 0, 0), (2, 2, 0, 1), (2, 2, 0, 2), (2, 2, 1, 1), (2, 2, 1, 2), (2, 2, 2, 2)]\n"
     ]
    }
   ],
   "source": [
    "\n",
    "        \n",
    "for i, sp_gen in enumerate(sibpair_genotypes):\n",
    "    try:\n",
    "        chi = stats.chi2_contingency([[counts[i, 0], counts[i, 1], counts[i, 2]], \n",
    "                                      [np.sum(counts[:, 0])-counts[i, 0],\n",
    "                                       np.sum(counts[:, 1])-counts[i, 1],\n",
    "                                       np.sum(counts[:, 2])-counts[i, 2]]])\n",
    "        if chi[1]*len(sibpair_genotypes) < 0.05:\n",
    "            print(sp_gen, \n",
    "                  counts[i, 0]/np.sum(counts[:, 0]),\n",
    "                  counts[i, 1]/np.sum(counts[:, 1]),\n",
    "                  counts[i, 2]/np.sum(counts[:, 2]),\n",
    "                  chi[1]*len(sibpair_genotypes))\n",
    "    except:\n",
    "        pass\n",
    "    \n",
    "print(sibpair_genotypes)"
   ]
  },
  {
   "cell_type": "code",
   "execution_count": 9,
   "metadata": {},
   "outputs": [
    {
     "name": "stderr",
     "output_type": "stream",
     "text": [
      "//anaconda3/lib/python3.7/site-packages/ipykernel/__main__.py:3: RuntimeWarning: divide by zero encountered in log10\n",
      "  app.launch_new_instance()\n",
      "//anaconda3/lib/python3.7/site-packages/ipykernel/__main__.py:4: RuntimeWarning: divide by zero encountered in log10\n",
      "//anaconda3/lib/python3.7/site-packages/ipykernel/__main__.py:5: RuntimeWarning: divide by zero encountered in log10\n"
     ]
    },
    {
     "data": {
      "image/png": "[encoded data removed]",
      "text/plain": [
       "<Figure size 1080x360 with 1 Axes>"
      ]
     },
     "metadata": {
      "needs_background": "light"
     },
     "output_type": "display_data"
    }
   ],
   "source": [
    "plt.figure(figsize=(15, 5))\n",
    "for counts in all_counts:\n",
    "    plt.plot(np.log10(counts[:, 0]/np.sum(counts[:, 0])), marker='o', alpha=0.5, color='red')\n",
    "    plt.plot(np.log10(counts[:, 1]/np.sum(counts[:, 1])), marker='o', alpha=0.5, color='blue')\n",
    "    plt.plot(np.log10(counts[:, 2]/np.sum(counts[:, 2])), marker='o', alpha=0.5, color='green')\n",
    "#plt.plot(np.log10(np.sum(counts[has_data, :], axis=1)/np.sum(counts[has_data, :])), marker='o', alpha=0.5, color='black')\n",
    "plt.xticks(np.arange(len(sibpair_genotypes)), [str(x) for x in sibpair_genotypes], rotation=90)\n",
    "plt.show()"
   ]
  },
  {
   "cell_type": "code",
   "execution_count": 10,
   "metadata": {},
   "outputs": [
    {
     "name": "stdout",
     "output_type": "stream",
     "text": [
      "(0, 0, 1) 0.0004361821012515561 0.0003076200944871032 1.880434207687167e-05\n",
      "(0, 1, 0) 0.004656323526134312 0.005370534149587342 6.916243628202052e-11\n",
      "(0, 1, 2) 1.2735243832162222e-05 2.209914471890109e-06 0.030003798010545975\n",
      "(0, 2, 0) 2.3878582185304164e-05 3.977846049402196e-06 7.774282169422728e-05\n",
      "(0, 2, 1) 0.0022907519843101795 0.00199069095627861 6.603404681121399e-05\n",
      "(1, 1, 0) 0.0018673051268907857 0.0012455077963572654 1.7507160029755422e-30\n",
      "(1, 1, 1) 0.010619601450544273 0.011227691465884888 0.0008692686242125913\n",
      "(1, 2, 1) 0.00200580090356555 0.001643292401297485 1.7554255843935806e-08\n",
      "(2, 2, 2) 0.001994657565212408 0.002235991462658412 0.005510307631273932\n"
     ]
    }
   ],
   "source": [
    "\n",
    "\n",
    "    \n",
    "for i, trio_gen in enumerate(trio_genotypes):\n",
    "    try:\n",
    "        chi = stats.chi2_contingency([[trio_counts[i, 0], trio_counts[i, 1]], \n",
    "                                            [np.sum(trio_counts[:, 0])-trio_counts[i, 0],\n",
    "                                             np.sum(trio_counts[:, 1])-trio_counts[i, 1]]])\n",
    "        if chi[1]*len(trio_genotypes) < 0.05:\n",
    "            print(trio_gen, \n",
    "                  trio_counts[i, 0]/np.sum(trio_counts[:, 0]),\n",
    "                  trio_counts[i, 1]/np.sum(trio_counts[:, 1]),\n",
    "                  chi[1]*len(trio_genotypes))\n",
    "    except:\n",
    "        pass\n",
    "        \n",
    "#print(sibpair_genotypes)"
   ]
  },
  {
   "cell_type": "code",
   "execution_count": 11,
   "metadata": {},
   "outputs": [
    {
     "name": "stderr",
     "output_type": "stream",
     "text": [
      "//anaconda3/lib/python3.7/site-packages/ipykernel/__main__.py:8: RuntimeWarning: divide by zero encountered in log10\n"
     ]
    },
    {
     "data": {
      "image/png": "[encoded data removed]",
      "text/plain": [
       "<Figure size 432x288 with 1 Axes>"
      ]
     },
     "metadata": {
      "needs_background": "light"
     },
     "output_type": "display_data"
    }
   ],
   "source": [
    "var = np.zeros((len(snp_positions),))\n",
    "novar = np.zeros((len(snp_positions),))\n",
    "for i, tgen in enumerate(trio_genotypes):\n",
    "    m = tgen[0]+tgen[1]\n",
    "    var += m*np.sum(trio_counts_pos[i, :, :], axis=0)\n",
    "    novar += (4-m)*np.sum(trio_counts_pos[i, :, :], axis=0)\n",
    "af = var/(var+novar)\n",
    "plt.hist(np.clip(-np.log10(af), None, 4), bins=np.arange(0, 5, 0.3))\n",
    "plt.show()"
   ]
  },
  {
   "cell_type": "code",
   "execution_count": 12,
   "metadata": {},
   "outputs": [
    {
     "ename": "IndentationError",
     "evalue": "unexpected indent (<ipython-input-12-799329422d73>, line 7)",
     "output_type": "error",
     "traceback": [
      "\u001b[0;36m  File \u001b[0;32m\"<ipython-input-12-799329422d73>\"\u001b[0;36m, line \u001b[0;32m7\u001b[0m\n\u001b[0;31m    indices = np.array([(x[0]==parent_gen[0] and x[1]==parent_gen[1]) or (x[0]==parent_gen[1] and x[1]==parent_gen[0]) for x in sibpair_genotypes])\u001b[0m\n\u001b[0m    ^\u001b[0m\n\u001b[0;31mIndentationError\u001b[0m\u001b[0;31m:\u001b[0m unexpected indent\n"
     ]
    }
   ],
   "source": [
    "plt.figure(figsize=(15, 15))\n",
    "\n",
    "#np.set_printoptions(precision=4)\n",
    "#np.set_printoptions(suppress=True)\n",
    "#pvalues_quad = np.ones((6, len(snp_positions)))\n",
    "#for j, parent_gen in enumerate([x for x in product(*[[0, 1, 2]]*2) if x[1]>=x[0]]):\n",
    "    indices = np.array([(x[0]==parent_gen[0] and x[1]==parent_gen[1]) or (x[0]==parent_gen[1] and x[1]==parent_gen[0]) for x in sibpair_genotypes])\n",
    "    c = np.array([counts[indices, 0], counts[indices, 1]])\n",
    "    print(parent_gen)\n",
    "    print((c.T/np.sum(c, axis=1)).T)\n",
    "    print(stats.chi2_contingency(c[np.sum(c, axis=1)>0, :][:, np.sum(c, axis=0)>0])[1])\n",
    "    \n",
    "    plt.subplot(6, 1, j+1)\n",
    "    for i in np.where(indices)[0]:\n",
    "        plt.scatter(snp_positions, trio_counts_pos[i, 0, :]/np.sum(trio_counts_pos[indices, 0, :], axis=0), label=trio_genotypes[i])\n",
    "        \n",
    "    for k in range(snp_positions.shape[0]):\n",
    "        try:\n",
    "            c = np.array([trio_counts_pos[indices, 0, k], trio_counts_pos[indices, 1, k]])\n",
    "            pvalues[j, k] = stats.chi2_contingency(c[np.sum(c, axis=1)>0, :][:, np.sum(c, axis=0)>0])[1]\n",
    "        except:\n",
    "            pass\n",
    "    plt.legend()\n",
    "    "
   ]
  },
  {
   "cell_type": "code",
   "execution_count": null,
   "metadata": {},
   "outputs": [],
   "source": [
    "plt.figure(figsize=(15, 15))\n",
    "\n",
    "np.set_printoptions(precision=4)\n",
    "np.set_printoptions(suppress=True)\n",
    "pvalues = np.ones((6, len(snp_positions)))\n",
    "for j, parent_gen in enumerate([x for x in product(*[[0, 1, 2]]*2) if x[1]>=x[0]]):\n",
    "    indices = np.array([(x[0]==parent_gen[0] and x[1]==parent_gen[1]) or (x[0]==parent_gen[1] and x[1]==parent_gen[0]) for x in trio_genotypes])\n",
    "    c = np.array([trio_counts[indices, 0], trio_counts[indices, 1]])\n",
    "    print(parent_gen)\n",
    "    print((c.T/np.sum(c, axis=1)).T)\n",
    "    print(stats.chi2_contingency(c[np.sum(c, axis=1)>0, :][:, np.sum(c, axis=0)>0])[1])\n",
    "    \n",
    "    plt.subplot(6, 1, j+1)\n",
    "    for i in np.where(indices)[0]:\n",
    "        plt.scatter(snp_positions, trio_counts_pos[i, 0, :]/np.sum(trio_counts_pos[indices, 0, :], axis=0), label=trio_genotypes[i])\n",
    "        \n",
    "    for k in range(snp_positions.shape[0]):\n",
    "        try:\n",
    "            c = np.array([trio_counts_pos[indices, 0, k], trio_counts_pos[indices, 1, k]])\n",
    "            pvalues[j, k] = stats.chi2_contingency(c[np.sum(c, axis=1)>0, :][:, np.sum(c, axis=0)>0])[1]\n",
    "        except:\n",
    "            pass\n",
    "    plt.legend()\n",
    "    "
   ]
  },
  {
   "cell_type": "code",
   "execution_count": null,
   "metadata": {},
   "outputs": [],
   "source": [
    "plt.figure(figsize=(15, 5))\n",
    "for i, pgen in enumerate([x for x in product(*[[0, 1, 2]]*2) if x[1]>=x[0]]):\n",
    "    plt.scatter(snp_positions, -np.log10(pvalues[i, :]), label=str(pgen), alpha=0.5)\n",
    "\n",
    "bon_cutoff = 0.05/(pvalues.shape[0]*pvalues.shape[1])\n",
    "plt.axhline(-np.log10(bon_cutoff), color='black', linestyle='--')\n",
    "plt.legend()\n",
    "plt.show()"
   ]
  },
  {
   "cell_type": "code",
   "execution_count": null,
   "metadata": {},
   "outputs": [],
   "source": [
    "print(trio_genotypes)"
   ]
  },
  {
   "cell_type": "code",
   "execution_count": null,
   "metadata": {},
   "outputs": [],
   "source": [
    "indices = np.array([x[0]==0 and x[1]==0 for x in trio_genotypes])\n",
    "\n",
    "aut_frac = trio_counts_pos[trio_genotypes.index((0, 0, 1)), 1, :]/np.sum(trio_counts_pos[indices, 1, :], axis=0)\n",
    "nt_frac = trio_counts_pos[trio_genotypes.index((0, 0, 1)), 0, :]/np.sum(trio_counts_pos[indices, 0, :], axis=0)\n",
    "\n",
    "plt.figure(figsize=(15, 5))\n",
    "#plt.subplot(2, 1, 1)\n",
    "plt.scatter(snp_positions[aut_frac>nt_frac], -np.log10(pvalues[0, aut_frac>nt_frac]), label=str(pgen), alpha=0.5)\n",
    "plt.scatter(snp_positions[aut_frac<nt_frac], np.log10(pvalues[0, aut_frac<nt_frac]), label=str(pgen), alpha=0.5)\n",
    "plt.axhline(-np.log10(bon_cutoff), color='black', linestyle='--')\n",
    "plt.axhline(np.log10(bon_cutoff), color='black', linestyle='--')\n",
    "\n",
    "#plt.subplot(2, 1, 2)\n",
    "#plt.plot(aut_frac, alpha=0.5)\n",
    "#plt.plot(nt_frac, alpha=0.5)\n",
    "plt.show()\n",
    "\n",
    "for j in np.where(pvalues[0, :]<bon_cutoff)[0]:\n",
    "    print(snp_positions[j], -np.log10(pvalues[:, j]))\n",
    "    indices = np.array([x[0]==0 and x[1]==0 for x in trio_genotypes])\n",
    "    print((0, 0))\n",
    "    print(trio_counts_pos[indices, :, j]/np.sum(trio_counts_pos[indices, :, j], axis=0))\n",
    "    indices = np.array([(x[0]==0 and x[1]==1) or (x[0]==1 and x[1]==0) for x in trio_genotypes])\n",
    "    print((0, 1))\n",
    "    print(trio_counts_pos[indices, :, j]/np.sum(trio_counts_pos[indices, :, j], axis=0))\n",
    "    indices = np.array([x[0]==1 and x[1]==1 for x in trio_genotypes])\n",
    "    print((1, 1))\n",
    "    print(trio_counts_pos[indices, :, j]/np.sum(trio_counts_pos[indices, :, j], axis=0))\n"
   ]
  },
  {
   "cell_type": "code",
   "execution_count": null,
   "metadata": {},
   "outputs": [],
   "source": [
    "indices = np.array([(x[0]==0 and x[1]==1) or (x[0]==1 and x[1]==0) for x in trio_genotypes])\n",
    "\n",
    "aut_frac = trio_counts_pos[trio_genotypes.index((0, 1, 1)), 1, :]/np.sum(trio_counts_pos[indices, 1, :], axis=0)\n",
    "nt_frac = trio_counts_pos[trio_genotypes.index((0, 1, 1)), 0, :]/np.sum(trio_counts_pos[indices, 0, :], axis=0)\n",
    "\n",
    "plt.figure(figsize=(15, 5))\n",
    "#plt.subplot(2, 1, 1)\n",
    "plt.scatter(snp_positions[aut_frac>nt_frac], -np.log10(pvalues[0, aut_frac>nt_frac]), label=str(pgen), alpha=0.5)\n",
    "plt.scatter(snp_positions[aut_frac<nt_frac], np.log10(pvalues[0, aut_frac<nt_frac]), label=str(pgen), alpha=0.5)\n",
    "plt.axhline(-np.log10(bon_cutoff), color='black', linestyle='--')\n",
    "plt.axhline(np.log10(bon_cutoff), color='black', linestyle='--')\n",
    "\n",
    "#plt.subplot(2, 1, 2)\n",
    "#plt.plot(aut_frac, alpha=0.5)\n",
    "#plt.plot(nt_frac, alpha=0.5)\n",
    "plt.show()\n",
    "\n",
    "for j in np.where(pvalues[0, :]<bon_cutoff)[0]:\n",
    "    print(snp_positions[j], -np.log10(pvalues[:, j]))\n",
    "    indices = np.array([x[0]==0 and x[1]==0 for x in trio_genotypes])\n",
    "    print((0, 0))\n",
    "    print(trio_counts_pos[indices, :, j]/np.sum(trio_counts_pos[indices, :, j], axis=0))\n",
    "    indices = np.array([(x[0]==0 and x[1]==1) or (x[0]==1 and x[1]==0) for x in trio_genotypes])\n",
    "    print((0, 1))\n",
    "    print(trio_counts_pos[indices, :, j]/np.sum(trio_counts_pos[indices, :, j], axis=0))\n",
    "    indices = np.array([x[0]==1 and x[1]==1 for x in trio_genotypes])\n",
    "    print((1, 1))\n",
    "    print(trio_counts_pos[indices, :, j]/np.sum(trio_counts_pos[indices, :, j], axis=0))\n"
   ]
  },
  {
   "cell_type": "code",
   "execution_count": null,
   "metadata": {},
   "outputs": [],
   "source": [
    "plt.hist(-np.log10(pvalues[0, :]), log=True, alpha=0.5, bins=np.arange(0, 10, 0.1))\n",
    "#plt.plot(np.arange(0, 10, 0.1), )\n",
    "plt.show()"
   ]
  },
  {
   "cell_type": "code",
   "execution_count": null,
   "metadata": {},
   "outputs": [],
   "source": [
    "#ihart\n",
    "print(snp_positions[pvalues[0, :]<bon_cutoff])\n",
    "index = list(snp_positions).index(125890769)\n",
    "print(-np.log10(pvalues[:, index]))\n",
    "index = list(snp_positions).index(125890800)\n",
    "print(-np.log10(pvalues[:, index]))\n",
    "index = list(snp_positions).index(125890819)\n",
    "print(-np.log10(pvalues[:, index]))"
   ]
  },
  {
   "cell_type": "code",
   "execution_count": null,
   "metadata": {},
   "outputs": [],
   "source": [
    "#mssng\n",
    "print(snp_positions[(pvalues[0, :]<bon_cutoff) & (nt_frac>aut_frac)])"
   ]
  },
  {
   "cell_type": "code",
   "execution_count": null,
   "metadata": {},
   "outputs": [],
   "source": [
    "index = list(snp_positions).index(125890769)\n",
    "print(-np.log10(pvalues[:, index]))\n",
    "index = list(snp_positions).index(125890800)\n",
    "print(-np.log10(pvalues[:, index]))\n",
    "index = list(snp_positions).index(125890819)\n",
    "print(-np.log10(pvalues[:, index]))"
   ]
  },
  {
   "cell_type": "code",
   "execution_count": null,
   "metadata": {},
   "outputs": [],
   "source": [
    "# identical\n",
    "\n",
    "same, diff = np.zeros((3,)), np.zeros((3,))\n",
    "for i, sgen in enumerate(sibpair_genotypes):\n",
    "    #if np.any(sgen!=0):\n",
    "    if sgen[2] != 0 or sgen[3] != 0:\n",
    "        if sgen[2]==sgen[3]:\n",
    "            same += counts[i, :]\n",
    "        else:\n",
    "            diff += counts[i, :]\n",
    "            \n",
    "print(same/(same+diff))\n",
    "plt.plot(same/(same+diff))\n",
    "print(stats.chi2_contingency([same, diff])[1])\n"
   ]
  },
  {
   "cell_type": "code",
   "execution_count": null,
   "metadata": {},
   "outputs": [],
   "source": [
    "# identical"
   ]
  },
  {
   "cell_type": "code",
   "execution_count": null,
   "metadata": {},
   "outputs": [],
   "source": [
    "plt.figure(figsize=(15, 5))\n",
    "for trio_counts in all_trio_counts:\n",
    "    plt.plot(np.log10(trio_counts[:, 0]/np.sum(trio_counts[:, 0])), marker='o', alpha=0.5, color='blue')\n",
    "    plt.plot(np.log10(trio_counts[:, 1]/np.sum(trio_counts[:, 1])), marker='o', alpha=0.5, color='red')\n",
    "    #plt.plot(np.log10(trio_counts_male[:, 0]/np.sum(trio_counts_male[:, 0])))\n",
    "    #plt.plot(np.log10(trio_counts_male[:, 1]/np.sum(trio_counts_male[:, 1])))\n",
    "plt.xticks(np.arange(len(trio_genotypes)), [str(x) for x in trio_genotypes], rotation=90)\n",
    "plt.show()"
   ]
  },
  {
   "cell_type": "code",
   "execution_count": 13,
   "metadata": {},
   "outputs": [
    {
     "name": "stdout",
     "output_type": "stream",
     "text": [
      "3.979763697550694e-05 1.3259486831340653e-05 4.084758964394738e-05\n",
      "0.000447325439604698 0.0003146918207971515 6.350827577002048e-07\n",
      "0.00048712307658020496 0.00032795130762849217 5.700607922435179e-09\n",
      "0.0004361821012515561 0.0003076200944871032 1.044685670937315e-06\n"
     ]
    }
   ],
   "source": [
    "# non-Mendelian\n",
    "a1 = trio_counts[trio_genotypes.index((0, 1, 2)), 0] + \\\n",
    "    trio_counts[trio_genotypes.index((0, 2, 0)), 0] + \\\n",
    "    trio_counts[trio_genotypes.index((0, 2, 2)), 0] + \\\n",
    "    trio_counts[trio_genotypes.index((1, 2, 0)), 0]\n",
    "\n",
    "a2 = trio_counts[trio_genotypes.index((0, 0, 1)), 0] + \\\n",
    "    trio_counts[trio_genotypes.index((0, 0, 2)), 0] + \\\n",
    "    trio_counts[trio_genotypes.index((2, 2, 0)), 0] + \\\n",
    "    trio_counts[trio_genotypes.index((2, 2, 1)), 0]\n",
    "\n",
    "b = trio_counts[trio_genotypes.index((0, 0, 0)), 0] + \\\n",
    "    trio_counts[trio_genotypes.index((0, 1, 0)), 0] + \\\n",
    "    trio_counts[trio_genotypes.index((0, 1, 1)), 0] + \\\n",
    "    trio_counts[trio_genotypes.index((0, 2, 1)), 0] + \\\n",
    "    trio_counts[trio_genotypes.index((1, 1, 0)), 0] + \\\n",
    "    trio_counts[trio_genotypes.index((1, 1, 1)), 0] + \\\n",
    "    trio_counts[trio_genotypes.index((1, 1, 2)), 0] + \\\n",
    "    trio_counts[trio_genotypes.index((1, 2, 1)), 0] + \\\n",
    "    trio_counts[trio_genotypes.index((1, 2, 2)), 0] + \\\n",
    "    trio_counts[trio_genotypes.index((2, 2, 2)), 0]\n",
    "\n",
    "c1 = trio_counts[trio_genotypes.index((0, 1, 2)), 1] + \\\n",
    "    trio_counts[trio_genotypes.index((0, 2, 0)), 1] + \\\n",
    "    trio_counts[trio_genotypes.index((0, 2, 2)), 1] + \\\n",
    "    trio_counts[trio_genotypes.index((1, 2, 0)), 1]\n",
    "\n",
    "c2 = trio_counts[trio_genotypes.index((0, 0, 1)), 1] + \\\n",
    "    trio_counts[trio_genotypes.index((0, 0, 2)), 1] + \\\n",
    "    trio_counts[trio_genotypes.index((2, 2, 0)), 1] + \\\n",
    "    trio_counts[trio_genotypes.index((2, 2, 1)), 1]\n",
    "\n",
    "d = trio_counts[trio_genotypes.index((0, 0, 0)), 1] + \\\n",
    "    trio_counts[trio_genotypes.index((0, 1, 0)), 1] + \\\n",
    "    trio_counts[trio_genotypes.index((0, 1, 1)), 1] + \\\n",
    "    trio_counts[trio_genotypes.index((0, 2, 1)), 1] + \\\n",
    "    trio_counts[trio_genotypes.index((1, 1, 0)), 1] + \\\n",
    "    trio_counts[trio_genotypes.index((1, 1, 1)), 1] + \\\n",
    "    trio_counts[trio_genotypes.index((1, 1, 2)), 1] + \\\n",
    "    trio_counts[trio_genotypes.index((1, 2, 1)), 1] + \\\n",
    "    trio_counts[trio_genotypes.index((1, 2, 2)), 1] + \\\n",
    "    trio_counts[trio_genotypes.index((2, 2, 2)), 1]\n",
    "\n",
    "print(a1/(a1+a2+b), c1/(c1+c2+d), stats.chi2_contingency([[a1, a2+b], [c1, c2+d]])[1])\n",
    "print(a2/(a1+a2+b), c2/(c1+c2+d), stats.chi2_contingency([[a2, a1+b], [c2, c1+d]])[1])\n",
    "print((a1+a2)/(a1+a2+b), (c1+c2)/(c1+c2+d), stats.chi2_contingency([[(a1+a2), b], [(c1+c2), d]])[1])\n",
    "print(trio_counts[trio_genotypes.index((0, 0, 1)), 0]/np.sum(trio_counts[:, 0]), \n",
    "      trio_counts[trio_genotypes.index((0, 0, 1)), 1]/np.sum(trio_counts[:, 1]),\n",
    "      stats.chi2_contingency([[trio_counts[trio_genotypes.index((0, 0, 1)), 0],\n",
    "                               np.sum(trio_counts[:, 0])-trio_counts[trio_genotypes.index((0, 0, 1)), 0]], \n",
    "                              [trio_counts[trio_genotypes.index((0, 0, 1)), 1],\n",
    "                               np.sum(trio_counts[:, 1])-trio_counts[trio_genotypes.index((0, 0, 1)), 1]]])[1])\n"
   ]
  },
  {
   "cell_type": "code",
   "execution_count": 14,
   "metadata": {},
   "outputs": [
    {
     "name": "stdout",
     "output_type": "stream",
     "text": [
      "unaff 13202.0 12090.0 0.47801676419421163\n",
      "aff 46908.0 45378.0 0.49171055197971525\n",
      "chi2 0.00011684369249401693\n"
     ]
    }
   ],
   "source": [
    "for trio_counts in all_trio_counts:\n",
    "    # TDT\n",
    "    a = trio_counts[trio_genotypes.index((0, 1, 0)), 0] + \\\n",
    "                           2*trio_counts[trio_genotypes.index((1, 1, 0)), 0] + \\\n",
    "                           trio_counts[trio_genotypes.index((1, 1, 1)), 0] + \\\n",
    "                           trio_counts[trio_genotypes.index((1, 2, 1)), 0]\n",
    "    b = trio_counts[trio_genotypes.index((0, 1, 1)), 0] + \\\n",
    "                           2*trio_counts[trio_genotypes.index((1, 1, 2)), 0] + \\\n",
    "                           trio_counts[trio_genotypes.index((1, 1, 1)), 0] + \\\n",
    "                           trio_counts[trio_genotypes.index((1, 2, 2)), 0]\n",
    "    print('unaff', a, b, b/(a+b))\n",
    "\n",
    "    c = trio_counts[trio_genotypes.index((0, 1, 0)), 1] + \\\n",
    "                           2*trio_counts[trio_genotypes.index((1, 1, 0)), 1] + \\\n",
    "                           trio_counts[trio_genotypes.index((1, 1, 1)), 1] + \\\n",
    "                           trio_counts[trio_genotypes.index((1, 2, 1)), 1]\n",
    "    d = trio_counts[trio_genotypes.index((0, 1, 1)), 1] + \\\n",
    "                           2*trio_counts[trio_genotypes.index((1, 1, 2)), 1] + \\\n",
    "                           trio_counts[trio_genotypes.index((1, 1, 1)), 1] + \\\n",
    "                           trio_counts[trio_genotypes.index((1, 2, 2)), 1]\n",
    "    print('aff', c, d, d/(c+d))\n",
    "\n",
    "    print('chi2', stats.chi2_contingency([[a, b], [c, d]])[1])"
   ]
  },
  {
   "cell_type": "code",
   "execution_count": 15,
   "metadata": {},
   "outputs": [
    {
     "name": "stdout",
     "output_type": "stream",
     "text": [
      "unaff 17837.0 17385.0 0.4935835557322128\n",
      "aff 42273.0 40083.0 0.4867040652775754\n",
      "chi2 0.03113895272603022\n"
     ]
    }
   ],
   "source": [
    "for trio_counts_male in all_trio_counts_male:\n",
    "    # TDT\n",
    "    a = trio_counts_male[trio_genotypes.index((0, 1, 0)), 0] + \\\n",
    "                           2*trio_counts_male[trio_genotypes.index((1, 1, 0)), 0] + \\\n",
    "                           trio_counts_male[trio_genotypes.index((1, 1, 1)), 0] + \\\n",
    "                           trio_counts_male[trio_genotypes.index((1, 2, 1)), 0]\n",
    "    b = trio_counts_male[trio_genotypes.index((0, 1, 1)), 0] + \\\n",
    "                           2*trio_counts_male[trio_genotypes.index((1, 1, 2)), 0] + \\\n",
    "                           trio_counts_male[trio_genotypes.index((1, 1, 1)), 0] + \\\n",
    "                           trio_counts_male[trio_genotypes.index((1, 2, 2)), 0]\n",
    "    print('unaff', a, b, b/(a+b))\n",
    "\n",
    "    c = trio_counts_male[trio_genotypes.index((0, 1, 0)), 1] + \\\n",
    "                           2*trio_counts_male[trio_genotypes.index((1, 1, 0)), 1] + \\\n",
    "                           trio_counts_male[trio_genotypes.index((1, 1, 1)), 1] + \\\n",
    "                           trio_counts_male[trio_genotypes.index((1, 2, 1)), 1]\n",
    "    d = trio_counts_male[trio_genotypes.index((0, 1, 1)), 1] + \\\n",
    "                           2*trio_counts_male[trio_genotypes.index((1, 1, 2)), 1] + \\\n",
    "                           trio_counts_male[trio_genotypes.index((1, 1, 1)), 1] + \\\n",
    "                           trio_counts_male[trio_genotypes.index((1, 2, 2)), 1]\n",
    "    print('aff', c, d, d/(c+d))\n",
    "\n",
    "    print('chi2', stats.chi2_contingency([[a, b], [c, d]])[1])"
   ]
  },
  {
   "cell_type": "code",
   "execution_count": null,
   "metadata": {},
   "outputs": [],
   "source": []
  },
  {
   "cell_type": "code",
   "execution_count": null,
   "metadata": {},
   "outputs": [],
   "source": []
  },
  {
   "cell_type": "code",
   "execution_count": null,
   "metadata": {},
   "outputs": [],
   "source": []
  }
 ],
 "metadata": {
  "kernelspec": {
   "display_name": "Python 3",
   "language": "python",
   "name": "python3"
  },
  "language_info": {
   "codemirror_mode": {
    "name": "ipython",
    "version": 3
   },
   "file_extension": ".py",
   "mimetype": "text/x-python",
   "name": "python",
   "nbconvert_exporter": "python",
   "pygments_lexer": "ipython3",
   "version": "3.7.3"
  }
 },
 "nbformat": 4,
 "nbformat_minor": 2
}
