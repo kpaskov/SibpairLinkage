{
 "cells": [
  {
   "cell_type": "code",
   "execution_count": 128,
   "metadata": {},
   "outputs": [],
   "source": [
    "import numpy as np\n",
    "import scipy.linalg\n",
    "from collections import defaultdict, namedtuple, Counter\n",
    "from itertools import combinations\n",
    "import numpy as np\n",
    "import scipy.stats as stats\n",
    "import sys\n",
    "from os import listdir\n",
    "import json\n",
    "import random\n",
    "import csv\n",
    "import matplotlib.pyplot as plt\n",
    "\n",
    "import sys\n",
    "sys.path.append('../../PhasingFamilies')\n",
    "sys.path.append('../../PhasingFamilies/phase')\n",
    "from phase.input_output import PhaseData"
   ]
  },
  {
   "cell_type": "code",
   "execution_count": 327,
   "metadata": {},
   "outputs": [],
   "source": [
    "dataset_name = 'spark'\n",
    "#dataset_name = 'ihart.ms2'\n",
    "#dataset_name = 'ssc.hg38'\n",
    "data_dir = '../../DATA/%s' % dataset_name\n",
    "phase_name = None\n",
    "ped_file = '../../DATA/spark/sparkfam.ped.quads.ped'\n",
    "#ped_file = '../../DATA/ihart.ms2/ihart.ped.quads.ped'\n",
    "#ped_file = '../../DATA/ssc.hg38/ssc.ped'\n",
    "na = 2"
   ]
  },
  {
   "cell_type": "code",
   "execution_count": 328,
   "metadata": {},
   "outputs": [],
   "source": [
    "# pull phenotype data\n",
    "sample_to_affected, sample_to_sex = dict(), dict()\n",
    "with open(ped_file, 'r') as f:\n",
    "\tfor line in f:\n",
    "\t\tpieces = line.strip().split('\\t')\n",
    "\t\tsample_to_sex[pieces[1]] = pieces[4]\n",
    "\t\tsample_to_sex[pieces[3]] = '2'\n",
    "\t\tsample_to_sex[pieces[2]] = '1'\n",
    "\t\tsample_to_affected[pieces[1]] = pieces[5]"
   ]
  },
  {
   "cell_type": "code",
   "execution_count": 329,
   "metadata": {},
   "outputs": [
    {
     "name": "stdout",
     "output_type": "stream",
     "text": [
      "sibpairs 7017\n"
     ]
    }
   ],
   "source": [
    "phase_data = PhaseData(data_dir, phase_name)\n",
    "\n",
    "sibpairs = phase_data.get_sibpairs()\n",
    "print('sibpairs', len(sibpairs))"
   ]
  },
  {
   "cell_type": "code",
   "execution_count": 330,
   "metadata": {},
   "outputs": [
    {
     "name": "stdout",
     "output_type": "stream",
     "text": [
      "not fully phased 0\n",
      "identicals 115\n",
      "ibd outliers 0\n",
      "crossover outliers 123\n"
     ]
    }
   ],
   "source": [
    "is_fully_phased = np.array([x['is_fully_phased'] for x in sibpairs])\n",
    "is_identical = np.array([x['is_identical'] for x in sibpairs])\n",
    "is_ibd_outlier = np.array([x['is_ibd_outlier'] for x in sibpairs], dtype=bool)\n",
    "is_co_outlier = np.array([x['is_crossover_outlier'] for x in sibpairs], dtype=bool)\n",
    "\n",
    "print('not fully phased', np.sum(~is_fully_phased))\n",
    "print('identicals', np.sum(is_identical))\n",
    "print('ibd outliers', np.sum(is_ibd_outlier))\n",
    "print('crossover outliers', np.sum(is_co_outlier))"
   ]
  },
  {
   "cell_type": "code",
   "execution_count": 331,
   "metadata": {},
   "outputs": [
    {
     "name": "stdout",
     "output_type": "stream",
     "text": [
      "Overall\n",
      "families 1167\n",
      "sibpairs 1469\n"
     ]
    }
   ],
   "source": [
    "sibpairs = [x for x in phase_data.get_sibpairs() if x['is_fully_phased'] and \\\n",
    "                                                    not x['is_identical'] and \\\n",
    "                                                    not x['is_ibd_outlier'] and \\\n",
    "                                                    not x['is_crossover_outlier']]\n",
    "\n",
    "family_chrom_to_cos = defaultdict(list)\n",
    "for co in phase_data.get_crossovers():\n",
    "    family_chrom_to_cos[(co['family'], co['chrom'])].append(co)\n",
    "\n",
    "for gc in phase_data.get_crossovers():\n",
    "    family_chrom_to_cos[(gc['family'], gc['chrom'])].append(gc)\n",
    "\n",
    "for sibpair in sibpairs:\n",
    "\tsibpair['num_affected'] = int(sample_to_affected[sibpair['sibling1']]=='2') + int(sample_to_affected[sibpair['sibling2']]=='2')\n",
    "\n",
    "if na == 3:\n",
    "\tsibpairs = [x for x in sibpairs if x['num_affected']>0]\n",
    "else:\n",
    "\tsibpairs = [x for x in sibpairs if x['num_affected']==na]\n",
    "num_sibpairs = len(sibpairs)\n",
    "\n",
    "\n",
    "print('Overall')\n",
    "print('families', len(set([x['family'].split('.')[0] for x in sibpairs])))\n",
    "print('sibpairs', len(sibpairs))\n",
    "#print('num_affected', Counter([x['num_affected'] for x in sibpairs]))\n"
   ]
  },
  {
   "cell_type": "code",
   "execution_count": 332,
   "metadata": {},
   "outputs": [],
   "source": [
    "def parse_interval(x):\n",
    "\treturn x.split(':')[0], int(x.split(':')[1].split('-')[0]), int(x.split(':')[1].split('-')[1])\n",
    "\n",
    "def process_phase_file(sibpair, interval):\n",
    "    inds = phase_data.get_phase_info(sibpair['family'])['individuals']\n",
    "    chroms, starts, ends, mat_phases, pat_phases, is_htss = phase_data.parse_phase_file_into_arrays(sibpair['family'])\n",
    "    sib1_ind_index, sib2_ind_index = inds.index(sibpair['sibling1']), inds.index(sibpair['sibling2'])\n",
    "       \n",
    "    mat_match = (mat_phases[sib1_ind_index, :]==mat_phases[sib2_ind_index, :]).astype(int)\n",
    "    mat_match[mat_match==0] = -1\n",
    "    mat_match[mat_phases[sib1_ind_index, :]==-1] = 0\n",
    "    mat_match[mat_phases[sib2_ind_index, :]==-1] = 0\n",
    "    mat_match[is_htss] = 0\n",
    "        \n",
    "    pat_match = (pat_phases[sib1_ind_index, :]==pat_phases[sib2_ind_index, :]).astype(int)\n",
    "    pat_match[pat_match==0] = -1\n",
    "    pat_match[pat_phases[sib1_ind_index, :]==-1] = 0\n",
    "    pat_match[pat_phases[sib2_ind_index, :]==-1] = 0\n",
    "    pat_match[is_htss] = 0\n",
    "    \n",
    "    # prune interval\n",
    "    is_selected = np.zeros((len(chroms),), dtype=bool)\n",
    "\n",
    "    chrom, start_pos, end_pos = parse_interval(interval)\n",
    "    is_in_chrom = np.array([c==chrom for c in chroms], dtype=bool)\n",
    "    is_selected_chrom = is_in_chrom & (np.minimum(ends, end_pos)-np.maximum(starts, start_pos)>0)\n",
    "    is_selected[is_selected_chrom] = True\n",
    "    starts[is_selected_chrom] = np.maximum(starts[is_selected_chrom], start_pos)\n",
    "    ends[is_selected_chrom] = np.minimum(ends[is_selected_chrom], end_pos)\n",
    "\n",
    "    chroms = [chroms[i] for i in np.where(is_selected)[0]]\n",
    "    starts = starts[is_selected]\n",
    "    ends = ends[is_selected]\n",
    "    mat_match = mat_match[is_selected]\n",
    "    pat_match = pat_match[is_selected]\n",
    "    assert np.all(c==chrom for c in chroms)\n",
    "\n",
    "    # we don't know what's going on inside crossovers\n",
    "    for co in family_chrom_to_cos[(sibpair['family'], chrom)]:\n",
    "        if co['is_mat']:\n",
    "            mat_match[np.minimum(ends, co['end_pos'])-np.maximum(starts, co['start_pos']+1)>0] = 0\n",
    "        else:\n",
    "            pat_match[np.minimum(ends, co['end_pos'])-np.maximum(starts, co['start_pos']+1)>0] = 0\n",
    "        \n",
    "    chrom_breaks = np.array([c1!=c2 for c1, c2 in zip(chroms[:-1], chroms[1:])])\n",
    "    \n",
    "    #print(len(chroms))\n",
    "    #for p in zip(chroms, starts, ends, mat_match, pat_match):\n",
    "    #    print(p)\n",
    "                \n",
    "    # collapse\n",
    "    num_intervals = len(chroms)\n",
    "    if num_intervals>1:\n",
    "        change_index = np.where(chrom_breaks | (mat_match[:-1] != mat_match[1:]) | (pat_match[:-1] != pat_match[1:]))[0]\n",
    "        chroms = [chroms[i] for i in np.hstack((change_index, num_intervals-1))]\n",
    "        starts = starts[np.hstack(([0], change_index+1))]\n",
    "        ends = ends[np.hstack((change_index, num_intervals-1))]\n",
    "        mat_match = mat_match[np.hstack((change_index, num_intervals-1))]\n",
    "        pat_match = pat_match[np.hstack((change_index, num_intervals-1))]\n",
    "    \n",
    "    #print(len(chroms))\n",
    "    #for p in zip(chroms, starts, ends, mat_match, pat_match):\n",
    "    #    print(p)\n",
    "    #print(chroms, starts, ends)\n",
    "    \n",
    "    return chroms, starts, ends, mat_match, pat_match"
   ]
  },
  {
   "cell_type": "code",
   "execution_count": 333,
   "metadata": {},
   "outputs": [],
   "source": [
    "def get_matches(interval):\n",
    "\n",
    "    # pull intervals\n",
    "    positions = set()\n",
    "    for sibpair in sibpairs:\n",
    "        chroms, starts, ends, mat_match, pat_match = process_phase_file(sibpair, interval)\n",
    "        for chrom, start_pos, end_pos in zip(chroms, starts, ends):\n",
    "            positions.add((chrom, start_pos))\n",
    "            positions.add((chrom, end_pos))\n",
    "\n",
    "    positions = sorted(positions, key=lambda x: (int(x[0]), x[1]) if x[0].isdigit() else (23, x[1]))\n",
    "    chroms, interval_starts, interval_ends = [], [], []\n",
    "    prev_chrom, prev_pos = None, None\n",
    "    for c, p in positions:\n",
    "        if prev_chrom is not None and prev_chrom == c:\n",
    "            chroms.append(c)\n",
    "            interval_starts.append(prev_pos)\n",
    "            interval_ends.append(p)\n",
    "        prev_chrom, prev_pos = c, p\n",
    "\n",
    "\n",
    "    interval_starts = np.array(interval_starts)\n",
    "    interval_ends = np.array(interval_ends)\n",
    "    num_intervals = len(interval_starts)\n",
    "    print('intervals', num_intervals)\n",
    "    \n",
    "    flip_match = {\n",
    "        0: 0,\n",
    "        1: -1,\n",
    "        -1: 1\n",
    "    }\n",
    "\n",
    "    # sibpair, interval\n",
    "    is_mat_match = np.zeros((num_sibpairs, num_intervals), dtype=np.int8)\n",
    "    is_pat_match = np.zeros((num_sibpairs, num_intervals), dtype=np.int8)\n",
    "\n",
    "    interval_start_to_index = dict([((chrom, x), i) for i, (chrom, x) in enumerate(zip(chroms, interval_starts))])\n",
    "    interval_end_to_index = dict([((chrom, x), i) for i, (chrom, x) in enumerate(zip(chroms, interval_ends))])\n",
    "\n",
    "    for sibpair_index, sibpair in enumerate(sibpairs):\n",
    "        for chrom, start_pos, end_pos, mat_match, pat_match in zip(*process_phase_file(sibpair, interval)):\n",
    "            start_index, end_index = interval_start_to_index[(chrom, start_pos)], interval_end_to_index[(chrom, end_pos)]+1\n",
    "            is_mat_match[sibpair_index, start_index:end_index] = mat_match if (sibpair['num_affected']==0) or (sibpair['num_affected']==2) else flip_match[mat_match]\n",
    "            is_pat_match[sibpair_index, start_index:end_index] = pat_match if (sibpair['num_affected']==0) or (sibpair['num_affected']==2) else flip_match[pat_match]\n",
    "    print(is_mat_match.shape)\n",
    "    return is_mat_match, is_pat_match"
   ]
  },
  {
   "cell_type": "code",
   "execution_count": 334,
   "metadata": {},
   "outputs": [
    {
     "name": "stdout",
     "output_type": "stream",
     "text": [
      "intervals 136\n",
      "(1469, 136)\n",
      "intervals 184\n",
      "(1469, 184)\n",
      "intervals 196\n",
      "(1469, 196)\n",
      "intervals 35\n",
      "(1469, 35)\n"
     ]
    }
   ],
   "source": [
    "mat_match, pat_match = np.zeros((len(sibpairs), 4)), np.zeros((len(sibpairs), 4))\n",
    "\n",
    "for i, interval in enumerate(['7:4099839-4870353', '10:86231469-89247715', '19:2935747-3782299', '19:4720513-4910913']):\n",
    "    is_mat_match, is_pat_match = get_matches(interval)\n",
    "    \n",
    "    mat_match[np.all(is_mat_match>=0, axis=1), i] = 1\n",
    "    mat_match[np.all(is_mat_match<=0, axis=1), i] = -1\n",
    "    mat_match[np.all(is_mat_match==0, axis=1), i] = 0\n",
    "    pat_match[np.all(is_pat_match>=0, axis=1), i] = 1\n",
    "    pat_match[np.all(is_pat_match<=0, axis=1), i] = -1\n",
    "    pat_match[np.all(is_pat_match==0, axis=1), i] = 0\n"
   ]
  },
  {
   "cell_type": "code",
   "execution_count": 335,
   "metadata": {},
   "outputs": [
    {
     "name": "stdout",
     "output_type": "stream",
     "text": [
      "712\n"
     ]
    }
   ],
   "source": [
    "print(np.sum(mat_match[:, 0]==1))"
   ]
  },
  {
   "cell_type": "code",
   "execution_count": 336,
   "metadata": {},
   "outputs": [
    {
     "name": "stdout",
     "output_type": "stream",
     "text": [
      "mat 0.7120963605218704\n",
      "pat 0.30686695059600355\n",
      "diff 0.3231207362157438\n",
      "mat 0.82919706492937\n",
      "pat 0.1653321934993798\n",
      "diff 0.258827574693996\n",
      "mat 0.10890270308516108\n",
      "pat 0.407724641789425\n",
      "diff 0.6307034634728395\n",
      "mat 0.12861026906748121\n",
      "pat 0.7722306391124489\n",
      "diff 0.20147974381463507\n",
      "\n",
      "flip both 0.547743755992488\n",
      "flip mat 0.2926639527776457\n",
      "flip pat 1.0\n",
      "negate both 0.6412042347838041\n",
      "negate mat 0.9260642591337068\n",
      "negate pat 0.6783441996809496\n",
      "flip both 0.018625113897905984\n",
      "flip mat 0.10539357757000897\n",
      "flip pat 0.06789443308226449\n",
      "negate both 0.013354316869682295\n",
      "negate mat 0.010164395362090583\n",
      "negate pat 0.0019218556585598732\n",
      "flip both 0.028350490442252508\n",
      "flip mat 0.04045730025098609\n",
      "flip pat 0.04080818188655803\n",
      "negate both 0.04998298513914985\n",
      "negate mat 0.009703190594912151\n",
      "negate pat 0.0017497366553243096\n"
     ]
    },
    {
     "name": "stderr",
     "output_type": "stream",
     "text": [
      "/var/folders/hp/72rjd_x140qf9f9d9f4hy40c0000gp/T/ipykernel_70201/2309420852.py:2: DeprecationWarning: 'binom_test' is deprecated in favour of 'binomtest' from version 1.7.0 and will be removed in Scipy 1.12.0.\n",
      "  print('mat', stats.binom_test([np.sum(mat_match[:, i]==1), np.sum(mat_match[:, i]==-1)], 0.5))\n",
      "/var/folders/hp/72rjd_x140qf9f9d9f4hy40c0000gp/T/ipykernel_70201/2309420852.py:3: DeprecationWarning: 'binom_test' is deprecated in favour of 'binomtest' from version 1.7.0 and will be removed in Scipy 1.12.0.\n",
      "  print('pat', stats.binom_test([np.sum(pat_match[:, i]==1), np.sum(pat_match[:, i]==-1)], 0.5))\n"
     ]
    }
   ],
   "source": [
    "for i in range(4):\n",
    "    print('mat', stats.binom_test([np.sum(mat_match[:, i]==1), np.sum(mat_match[:, i]==-1)], 0.5))\n",
    "    print('pat', stats.binom_test([np.sum(pat_match[:, i]==1), np.sum(pat_match[:, i]==-1)], 0.5))\n",
    "    print('diff', stats.chi2_contingency([[np.sum(mat_match[:, i]==1), np.sum(mat_match[:, i]==-1)], \n",
    "                                 [np.sum(pat_match[:, i]==1), np.sum(pat_match[:, i]==-1)]])[1])\n",
    "    \n",
    "print()\n",
    "for i in range(1, 4):\n",
    "    indices = (pat_match[:, 0]!=0) & (mat_match[:, i]!=0) & (pat_match[:, i]!=0)\n",
    "\n",
    "    print('flip both', stats.chi2_contingency([[np.sum((pat_match[indices, 0]==1) & (mat_match[indices, i]==1)), \n",
    "                                           np.sum((pat_match[indices, 0]==-1) | (mat_match[indices, i]==-1))],\n",
    "                                          [np.sum((mat_match[indices, 0]==1) & (pat_match[indices, i]==1)), \n",
    "                                           np.sum((mat_match[indices, 0]==-1) | (pat_match[indices, i]==-1))]])[1])\n",
    "    print('flip mat', stats.chi2_contingency([[np.sum((pat_match[indices, 0]==1) & (mat_match[indices, i]==1)), \n",
    "                                           np.sum((pat_match[indices, 0]==-1) | (mat_match[indices, i]==-1))],\n",
    "                                          [np.sum((pat_match[indices, 0]==1) & (pat_match[indices, i]==1)), \n",
    "                                           np.sum((pat_match[indices, 0]==-1) | (pat_match[indices, i]==-1))]])[1])\n",
    "    print('flip pat', stats.chi2_contingency([[np.sum((pat_match[indices, 0]==1) & (mat_match[indices, i]==1)), \n",
    "                                           np.sum((pat_match[indices, 0]==-1) | (mat_match[indices, i]==-1))],\n",
    "                                          [np.sum((mat_match[indices, 0]==1) & (mat_match[indices, i]==1)), \n",
    "                                           np.sum((mat_match[indices, 0]==-1) | (mat_match[indices, i]==-1))]])[1])\n",
    "    print('negate both', stats.chi2_contingency([[np.sum((pat_match[indices, 0]==1) & (mat_match[indices, i]==1)), \n",
    "                                           np.sum((pat_match[indices, 0]==-1) | (mat_match[indices, i]==-1))],\n",
    "                                          [np.sum((pat_match[indices, 0]==-1) & (mat_match[indices, i]==-1)), \n",
    "                                           np.sum((pat_match[indices, 0]==1) | (mat_match[indices, i]==1))]])[1])\n",
    "    print('negate mat', stats.chi2_contingency([[np.sum((pat_match[indices, 0]==1) & (mat_match[indices, i]==1)), \n",
    "                                           np.sum((pat_match[indices, 0]==-1) | (mat_match[indices, i]==-1))],\n",
    "                                          [np.sum((pat_match[indices, 0]==-1) & (mat_match[indices, i]==1)), \n",
    "                                           np.sum((pat_match[indices, 0]==1) | (mat_match[indices, i]==-1))]])[1])\n",
    "    print('negate pat', stats.chi2_contingency([[np.sum((pat_match[indices, 0]==1) & (mat_match[indices, i]==1)), \n",
    "                                           np.sum((pat_match[indices, 0]==-1) | (mat_match[indices, i]==-1))],\n",
    "                                          [np.sum((pat_match[indices, 0]==1) & (mat_match[indices, i]==-1)), \n",
    "                                           np.sum((pat_match[indices, 0]==-1) | (mat_match[indices, i]==1))]])[1])\n",
    "    "
   ]
  },
  {
   "cell_type": "code",
   "execution_count": 352,
   "metadata": {},
   "outputs": [
    {
     "name": "stdout",
     "output_type": "stream",
     "text": [
      "0.5140997830802603\n",
      "0.49672727272727274\n",
      "0.5217701641684511\n",
      "0.5202470830473576\n"
     ]
    },
    {
     "data": {
      "image/png": "[encoded data removed]",
      "text/plain": [
       "<Figure size 1500x500 with 1 Axes>"
      ]
     },
     "metadata": {},
     "output_type": "display_data"
    },
    {
     "name": "stdout",
     "output_type": "stream",
     "text": [
      "(1, -1, 1)\n",
      "(1, 1, 1)\n",
      "(-1, -1, -1)\n",
      "(-1, 1, -1)\n",
      "(-1, 1, 1)\n",
      "(1, -1, -1)\n",
      "(-1, -1, 1)\n",
      "(1, 1, -1)\n"
     ]
    }
   ],
   "source": [
    "print(np.sum(pat_match[:, 0]==1)/np.sum(pat_match[:, 0]!=0))\n",
    "print(np.sum(mat_match[:, 1]==1)/np.sum(mat_match[:, 1]!=0))\n",
    "print(np.sum(mat_match[:, 2]==1)/np.sum(mat_match[:, 2]!=0))\n",
    "print(np.sum(mat_match[:, 3]==1)/np.sum(mat_match[:, 3]!=0))\n",
    "\n",
    "c = Counter(zip(pat_match[:, 0].astype(int), \n",
    "                mat_match[:, 1].astype(int), \n",
    "                #mat_match[:, 2].astype(int), \n",
    "                mat_match[:, 3].astype(int)\n",
    "               ))\n",
    "\n",
    "c_rev = Counter(zip(pat_match[:, 0].astype(int), \n",
    "                #mat_match[:, 1].astype(int), \n",
    "                #mat_match[:, 2].astype(int), \n",
    "                mat_match[:, 3].astype(int)))\n",
    "keys = sorted([x for x in c.keys() if not np.any([z==0 for z in x])], key=lambda x: c[x], reverse=True)\n",
    "#keys = [\n",
    "#    (1, -1, 1, 1),\n",
    "#    (1, 1, 1, 1),\n",
    "#    (-1, -1, -1, -1),\n",
    "#    (-1, 1, -1, -1),\n",
    "#    (-1, 1, 1, 1),\n",
    "#    (1, 1, -1, -1),\n",
    "#    (1, -1, -1, -1),\n",
    "#    (-1, -1, 1, 1),#\n",
    "#\n",
    "#    (1, -1, -1, 1),\n",
    "#    (-1, 1, 1, -1),\n",
    "#    (-1, -1, 1, -1),\n",
    "#    (-1, -1, -1, 1),\n",
    "#    (-1, 1, -1, 1),\n",
    "#    (1, 1, -1, 1),\n",
    "#    (1, 1, 1, -1),\n",
    "#    (1, -1, 1, -1),\n",
    "#]\n",
    "\n",
    "\n",
    "plt.figure(figsize=(15, 5))\n",
    "#plt.subplot(2, 1, 1)\n",
    "plt.bar(np.arange(len(keys)), [c[k] for k in keys])\n",
    "plt.xticks(np.arange(len(keys)), [str(k) for k in keys], rotation=45, fontsize=18)\n",
    "\n",
    "#plt.subplot(2, 1, 2)\n",
    "#plt.bar(np.arange(len(keys)), [c_rev[k] for k in keys])\n",
    "#plt.xticks(np.arange(len(keys)), [str(k) for k in keys], rotation=45, fontsize=18)\n",
    "\n",
    "plt.tight_layout()\n",
    "plt.show()\n",
    "\n",
    "\n",
    "print('\\n'.join([str(k) for k in keys]))\n"
   ]
  },
  {
   "cell_type": "code",
   "execution_count": 351,
   "metadata": {},
   "outputs": [
    {
     "name": "stdout",
     "output_type": "stream",
     "text": [
      "387 343 325 317\n",
      "547\n",
      "502\n",
      "541\n"
     ]
    },
    {
     "data": {
      "text/plain": [
       "[<matplotlib.lines.Line2D at 0x7f8834d0d640>]"
      ]
     },
     "execution_count": 351,
     "metadata": {},
     "output_type": "execute_result"
    },
    {
     "data": {
      "image/png": "[encoded data removed]",
      "text/plain": [
       "<Figure size 640x480 with 1 Axes>"
      ]
     },
     "metadata": {},
     "output_type": "display_data"
    }
   ],
   "source": [
    "indices = (pat_match[:, 0]!=0) & (mat_match[:, 1]!=0) & (mat_match[:, 3]!=0)\n",
    "print(np.sum((mat_match[:, 3]==1) & (pat_match[:, 0]==1)),\n",
    "         np.sum((mat_match[:, 3]==-1) & (pat_match[:, 0]==-1)),\n",
    "         np.sum((mat_match[:, 3]==1) & (pat_match[:, 0]==-1)),\n",
    "         np.sum((mat_match[:, 3]==-1) & (pat_match[:, 0]==1)))\n",
    "\n",
    "c = Counter((pat_match[indices, 0]==1).astype(int) + \\\n",
    "              (mat_match[indices, 1]==1).astype(int) + \\\n",
    "              #(mat_match[:, 2]==1).astype(int) + \\\n",
    "              (mat_match[indices, 3]==1).astype(int))\n",
    "\n",
    "print(np.sum((pat_match[:, 0]==1) & np.any(mat_match[:, 1:]==1, axis=1)))\n",
    "print(np.sum((pat_match[:, 0]==-1) & np.any(mat_match[:, 1:]==-1, axis=1)))\n",
    "print(np.sum((mat_match[:, 0]==1) & np.any(pat_match[:, 1:]==1, axis=1)))\n",
    "\n",
    "plt.plot([c[0], c[1], c[2], c[3]])\n",
    "plt.plot([np.sum(indices)/8, 3*np.sum(indices)/8, 3*np.sum(indices)/8, np.sum(indices)/8])"
   ]
  },
  {
   "cell_type": "code",
   "execution_count": 353,
   "metadata": {},
   "outputs": [
    {
     "name": "stdout",
     "output_type": "stream",
     "text": [
      "69305\n"
     ]
    }
   ],
   "source": [
    "#sample_to_scq = dict()\n",
    "#with open('../../DATA/phenotypes/spark_v5/spark_v5-scq-prep.csv', 'r') as f:\n",
    "#\treader = csv.reader(f)\n",
    "#\tfor pieces in reader:\n",
    "#\t\tsample_to_scq[pieces[2]] = np.array([1 if x=='1.0' else -1 if x=='0.0' else 0 for x in pieces[13:53]])\n",
    "#print(len(sample_to_scq))\n",
    "\n",
    "aut_response = np.array([-1]*2 + [1]*6 + [-1] + [1]*9 + [-1]*22)\n",
    "\n",
    "sample_to_scq = dict()\n",
    "with open('../../DATA/phenotypes/spark_v5/scq.csv', 'r') as f:\n",
    "\treader = csv.reader(f)\n",
    "\tnext(reader) # skip header\n",
    "\tfor pieces in reader:\n",
    "\t\tsample_to_scq[pieces[0]] = aut_response*np.array([1 if x=='1' else -1 if x=='0' else 0 for x in pieces[11:51]])\n",
    "print(len(sample_to_scq))\n",
    "\n",
    "# compare SCQ scores for children who share mat + share pat vs children who don't share either\n",
    "# compare SCQ scores for children who share mat + share pat and opp (share opp imprinted parent)"
   ]
  },
  {
   "cell_type": "code",
   "execution_count": 354,
   "metadata": {},
   "outputs": [
    {
     "name": "stdout",
     "output_type": "stream",
     "text": [
      "1041\n"
     ]
    }
   ],
   "source": [
    "scq = np.zeros((len(sibpairs), 40), dtype=int)\n",
    "for i, sibpair in enumerate(sibpairs):\n",
    "    if (sibpair['sibling1'] in sample_to_scq) and (sibpair['sibling2'] in sample_to_scq):\n",
    "        a = sample_to_scq[sibpair['sibling1']]\n",
    "        b = sample_to_scq[sibpair['sibling2']]\n",
    "        scq[i, :] = a*b\n",
    "    \n",
    "has_scq = ~np.all(scq==0, axis=1)\n",
    "print(np.sum(has_scq))\n",
    "\n"
   ]
  },
  {
   "cell_type": "code",
   "execution_count": 357,
   "metadata": {},
   "outputs": [
    {
     "name": "stdout",
     "output_type": "stream",
     "text": [
      "0\n",
      "100\n",
      "200\n",
      "300\n",
      "400\n",
      "500\n",
      "600\n",
      "700\n",
      "800\n",
      "900\n",
      "1000\n",
      "[0.541 0.992 1.    1.    1.    1.    1.    1.    1.    1.    1.    1.\n",
      " 1.    1.    1.    1.    1.    1.    0.171 1.    1.    0.898 0.917 1.\n",
      " 0.999 1.    1.    1.    1.    1.    1.    1.    1.    1.    1.    1.\n",
      " 1.    1.    0.809 1.   ]\n",
      "0\n",
      "100\n",
      "200\n",
      "300\n",
      "400\n",
      "500\n",
      "600\n",
      "700\n",
      "800\n",
      "900\n",
      "1000\n",
      "[0.388 1.    1.    1.    1.    1.    0.99  1.    1.    1.    1.    1.\n",
      " 1.    1.    1.    1.    1.    1.    1.    0.438 1.    0.184 0.994 1.\n",
      " 0.999 0.99  0.992 1.    1.    1.    0.96  0.997 1.    1.    1.    0.8\n",
      " 0.979 0.998 1.    1.   ]\n",
      "0\n",
      "100\n",
      "200\n",
      "300\n",
      "400\n",
      "500\n",
      "600\n",
      "700\n",
      "800\n",
      "900\n",
      "1000\n",
      "[0.713 1.    0.999 1.    1.    1.    0.989 1.    1.    1.    1.    1.\n",
      " 1.    0.979 1.    1.    1.    1.    1.    0.999 1.    0.478 0.999 1.\n",
      " 0.919 0.999 0.996 1.    1.    1.    0.886 1.    1.    0.999 0.999 0.749\n",
      " 0.731 1.    1.    1.   ]\n"
     ]
    }
   ],
   "source": [
    "num_trials = 1000\n",
    "for i in range(1, 4):\n",
    "    pvalues = np.zeros((num_trials+1, 40))\n",
    "    for k in range(num_trials+1):\n",
    "        if k%100==0:\n",
    "            print(k)\n",
    "        if k == 0:\n",
    "            shuffled_indices = np.arange(len(sibpairs))\n",
    "        else:\n",
    "            shuffled_indices = np.random.permutation(len(sibpairs))\n",
    "        for j in range(40):\n",
    "            indices = (pat_match[shuffled_indices, 0]!=0) & (mat_match[shuffled_indices, i]!=0) & (scq[:, j]!=0)\n",
    "            pvalue = stats.chi2_contingency([[np.sum((pat_match[shuffled_indices[indices], 0]==1) & (mat_match[shuffled_indices[indices], i]==1) & (scq[indices, j]==1)), \n",
    "                                                 np.sum((pat_match[shuffled_indices[indices], 0]==1) & (mat_match[shuffled_indices[indices], i]==1) & (scq[indices, j]==-1))],\n",
    "                                                [np.sum((pat_match[shuffled_indices[indices], 0]==-1) & (mat_match[shuffled_indices[indices], i]==-1) & (scq[indices, j]==1)), \n",
    "                                                 np.sum((pat_match[shuffled_indices[indices], 0]==-1) & (mat_match[shuffled_indices[indices], i]==-1) & (scq[indices, j]==-1))]])[0]\n",
    "            \n",
    "            pvalues[k, j] = pvalue\n",
    "            \n",
    "    # -------------------- implementing Westfall-Young max T stepdown procedure\n",
    "\n",
    "    # indices are sorted along interval axis from interval with most IBD sharing\n",
    "    # to least IBD sharing\n",
    "    final_pvalues = np.zeros((40,))\n",
    "    \n",
    "    orig_indices = np.flip(np.argsort(pvalues[0, :]), axis=0)\n",
    "\n",
    "    max_t_k = np.zeros((num_trials+1, 41))\n",
    "    max_t_k[:, -1] = np.min(pvalues, axis=1)\n",
    "    for i, j in list(reversed(list(enumerate(orig_indices)))):\n",
    "        max_t_k[:, i] = np.maximum(max_t_k[:, i+1], pvalues[:, j])\n",
    "    max_t_k = max_t_k[:, :-1]\n",
    "\n",
    "    assert np.all(max_t_k[0, :] == pvalues[0, orig_indices])\n",
    "\n",
    "    # calculate pi(j)\n",
    "    ps = np.sum(max_t_k[1:, :] >= np.tile(max_t_k[0, :], (num_trials, 1)), axis=0)/num_trials\n",
    "    ps = np.array([np.max(ps[:(i+1)]) for i in np.arange(ps.shape[0])])\n",
    "    final_pvalues[orig_indices] = ps\n",
    "\n",
    "    print(final_pvalues)\n",
    "\n",
    "        "
   ]
  },
  {
   "cell_type": "code",
   "execution_count": 355,
   "metadata": {},
   "outputs": [
    {
     "data": {
      "image/png": "[encoded data removed]",
      "text/plain": [
       "<Figure size 640x480 with 1 Axes>"
      ]
     },
     "metadata": {},
     "output_type": "display_data"
    }
   ],
   "source": [
    "plt.hist(pvalues[0, :], density=True, alpha=0.5, bins=np.arange(0, 10, 0.5))\n",
    "for i in range(10):\n",
    "    plt.hist(pvalues[i+1, :], density=True, alpha=0.1, bins=np.arange(0, 10, 0.5), color='gray')\n",
    "plt.show()"
   ]
  },
  {
   "cell_type": "code",
   "execution_count": 137,
   "metadata": {},
   "outputs": [
    {
     "name": "stdout",
     "output_type": "stream",
     "text": [
      "[  0   1   2 ... 194 195 195]\n",
      "[  0   0   0 ... 194 194 195]\n"
     ]
    }
   ],
   "source": [
    "u = np.tile(np.arange(num_intervals), num_intervals)\n",
    "v = np.repeat(np.arange(num_intervals), num_intervals)\n",
    "\n",
    "indices = u >= v\n",
    "x = u[indices]\n",
    "y = v[indices]\n",
    "num_intervals = len(x)"
   ]
  },
  {
   "cell_type": "code",
   "execution_count": 138,
   "metadata": {},
   "outputs": [
    {
     "name": "stdout",
     "output_type": "stream",
     "text": [
      "(26, 196) (26, 196)\n",
      "ready\n"
     ]
    }
   ],
   "source": [
    "print(is_mat_match.shape, is_pat_match.shape)\n",
    "\n",
    "# take into account sibling structure across quads\n",
    "individuals = sorted(set([x['sibling1'] for x in sibpairs] + [x['sibling2'] for x in sibpairs]))\n",
    "ind_to_index = dict([(x, i) for i, x in enumerate(individuals)])\n",
    "sibling1_indices = np.array([ind_to_index[x['sibling1']] for x in sibpairs])\n",
    "sibling2_indices = np.array([ind_to_index[x['sibling2']] for x in sibpairs])\n",
    "\n",
    "A = np.random.randint(0, high=2, size=(num_trials+1, len(individuals), 2))\n",
    "X1 = (A[:, sibling1_indices, 0] == A[:, sibling2_indices, 0]).astype(int)\n",
    "X2 = (A[:, sibling1_indices, 1] == A[:, sibling2_indices, 1]).astype(int)\n",
    "\n",
    "# randomly flip IBD in sibpairs\n",
    "#X1 = np.random.randint(0, high=2, size=(num_trials+1, len(sibpairs)))\n",
    "#X2 = np.random.randint(0, high=2, size=(num_trials+1, len(sibpairs)))\n",
    "\n",
    "X1[X1==0] = -1\n",
    "X2[X2==0] = -1\n",
    "\n",
    "# first entry is actual IBD relationships\n",
    "X1[0, :] = 1\n",
    "X2[0, :] = 1\n",
    "\n",
    "# now make X1 and X2 the IBD-phen relationships\n",
    "is_discordant = np.array([sibpair['num_affected']==1 for sibpair in sibpairs])\n",
    "X1[:, is_discordant] = -X1[:, is_discordant]\n",
    "X2[:, is_discordant] = -X2[:, is_discordant]\n",
    "\n",
    "print('ready')\n",
    "\n",
    "if interval_chrom is not None:\n",
    "\tdataset_name += '.chr%s' % interval_chrom\n",
    "if interval_start_pos is not None or interval_end_pos is not None:\n",
    "\tdataset_name += '.%d-%d' % (interval_start_pos, interval_end_pos)\n",
    "\n",
    "\n"
   ]
  },
  {
   "cell_type": "code",
   "execution_count": 139,
   "metadata": {},
   "outputs": [],
   "source": [
    "## trial, interval, mat/pat\n",
    "#rand_pvalue = -is_mat_match.shape[0] * np.ones((num_trials+1, num_intervals), dtype=int)\n",
    "#\n",
    "##print(na, 'mat')\n",
    "##rand_pvalue[:, :, 0] = X1.dot(is_mat_match)\n",
    "##print(na, 'pat')\n",
    "##rand_pvalue[:, :, 1] = X2.dot(is_pat_match)\n",
    "##print(na, 'both')\n",
    "##rand_pvalue[:, :, 2] = rand_pvalue[:, :, 0]+rand_pvalue[:, :, 1]\n",
    "#\n",
    "#for j in range(num_sibpairs):\n",
    "#    print(j, end=' ')\n",
    "#    a = np.outer(X1[:, j], is_mat_match[j, :])\n",
    "#    b = np.outer(X2[:, j], is_pat_match[j, :])\n",
    "#    rand_pvalue[((a[:, x]>=0) & (b[:, y]>=0)) | ((a[:, y]>=0) & (b[:, x]>=0))] += 1\n",
    "#    rand_pvalue[((a[:, x]==1) & (b[:, y]==1)) | ((a[:, y]==1) & (b[:, x]==1))] += 1\n",
    "#    #rand_pvalue[(a==1) & (b==1)] += 1    "
   ]
  },
  {
   "cell_type": "code",
   "execution_count": 140,
   "metadata": {},
   "outputs": [],
   "source": [
    "#plt.hist(rand_pvalue[0, :], bins=np.arange(-50, 50, 10), alpha=0.5, density=True)\n",
    "#plt.hist(rand_pvalue[1:, :].flatten(), bins=np.arange(-50, 50, 10), alpha=0.5, density=True)\n",
    "#plt.axvline(0, color='black')\n",
    "#plt.show()"
   ]
  },
  {
   "cell_type": "code",
   "execution_count": 141,
   "metadata": {},
   "outputs": [],
   "source": [
    "## -------------------- implementing Westfall-Young max T stepdown procedure\n",
    "#\n",
    "## indices are sorted along interval axis from interval with most IBD sharing\n",
    "## to least IBD sharing\n",
    "#final_pvalues = np.zeros((num_intervals, ))\n",
    "#\n",
    "#orig_indices = np.flip(np.argsort(rand_pvalue[0, :]), axis=0)\n",
    "#\n",
    "#max_t_k = np.zeros((num_trials+1, num_intervals+1))\n",
    "#max_t_k[:, -1] = np.min(rand_pvalue, axis=1)\n",
    "#for i, j in list(reversed(list(enumerate(orig_indices)))):\n",
    "#\tmax_t_k[:, i] = np.maximum(max_t_k[:, i+1], rand_pvalue[:, j])\n",
    "#max_t_k = max_t_k[:, :-1]\n",
    "#\n",
    "##max_t_k = np.flip(np.sort(rand_pvalue[:, :, is_mat], axis=1), axis=1)\n",
    "#\n",
    "#assert np.all(max_t_k[0, :] == rand_pvalue[0, orig_indices])\n",
    "#\n",
    "## calculate pi(j)\n",
    "#pvalues = np.sum(max_t_k[1:, :] >= np.tile(max_t_k[0, :], (num_trials, 1)), axis=0)/num_trials\n",
    "#pvalues = np.array([np.max(pvalues[:(i+1)]) for i in np.arange(pvalues.shape[0])])\n",
    "#final_pvalues[orig_indices] = pvalues"
   ]
  },
  {
   "cell_type": "code",
   "execution_count": 149,
   "metadata": {},
   "outputs": [
    {
     "name": "stdout",
     "output_type": "stream",
     "text": [
      "(26, 196)\n",
      "(1001, 26)\n",
      "(1001, 26, 196)\n"
     ]
    }
   ],
   "source": [
    "print(is_mat_match.shape)\n",
    "print(X1.shape)\n",
    "print(np.tile(is_mat_match, (num_trials+1, 1, 1)).shape)\n",
    "#mat = X1*np.tile(is_mat_match[:, x[interval_index]], (num_trials+1, 1))\n",
    "#pat = X2*np.tile(is_pat_match[:, x[interval_index]], (num_trials+1, 1))\n",
    "#y_mat = X1*np.tile(is_mat_match[:, y[interval_index]], (num_trials+1, 1))\n",
    "#y_pat = X2*np.tile(is_pat_match[:, y[interval_index]], (num_trials+1, 1))\n"
   ]
  },
  {
   "cell_type": "code",
   "execution_count": 142,
   "metadata": {},
   "outputs": [],
   "source": [
    "\n",
    "def calc_trial(trial_index):\n",
    "    value = -num_sibpairs * np.ones((num_intervals,), dtype=int)\n",
    "    for j in range(num_sibpairs):\n",
    "        a = X1[trial_index, j]*is_mat_match[j, :]\n",
    "        b = X2[trial_index, j]*is_pat_match[j, :]\n",
    "        value[((a[x]>=0) & (b[y]>=0)) | ((a[y]>=0) & (b[x]>=0))] += 1\n",
    "        value[((a[x]==1) & (b[y]==1)) | ((a[y]==1) & (b[x]==1))] += 1\n",
    "    return value\n",
    "\n",
    "def calc_interval(interval_index):\n",
    "    x_mat = X1*np.tile(is_mat_match[:, x[interval_index]], (num_trials+1, 1))\n",
    "    x_pat = X2*np.tile(is_pat_match[:, x[interval_index]], (num_trials+1, 1))\n",
    "    y_mat = X1*np.tile(is_mat_match[:, y[interval_index]], (num_trials+1, 1))\n",
    "    y_pat = X2*np.tile(is_pat_match[:, y[interval_index]], (num_trials+1, 1))\n",
    "    \n",
    "    return np.sum(((x_mat>=0) & (y_pat>=0)) | ((y_mat>=0) & (x_pat>=0)), axis=1) + \\\n",
    "           np.sum(((x_mat==1) & (y_pat==1)) | ((y_mat==1) & (x_pat==1)), axis=1) + \\\n",
    "           -num_sibpairs\n",
    "\n",
    "#assert np.all(calc_trial(0)==rand_pvalue[0, :])\n",
    "#assert np.all(calc_trial(27)==rand_pvalue[27, :])\n",
    "#assert np.all(calc_trial(987)==rand_pvalue[987, :])\n",
    "#\n",
    "#assert np.all(calc_interval(0)==rand_pvalue[:, 0])\n",
    "#assert np.all(calc_interval(27)==rand_pvalue[:, 27])\n",
    "#assert np.all(calc_interval(987)==rand_pvalue[:, 987])"
   ]
  },
  {
   "cell_type": "code",
   "execution_count": 143,
   "metadata": {},
   "outputs": [
    {
     "name": "stdout",
     "output_type": "stream",
     "text": [
      "first trial complete\n",
      "[(19305, 18445), (19304, 18362), (19303, 18361), (19302, 18360), (19301, 18316)]\n",
      "[(19305, 18445, -24), (19304, 18362, -24), (19303, 18361, -24), (19302, 18360, -24), (19301, 18316, -24)]\n"
     ]
    }
   ],
   "source": [
    "v = calc_trial(0)\n",
    "orig_indices = np.argsort(v)\n",
    "print('first trial complete')\n",
    "\n",
    "print(list(reversed(list(enumerate(np.flip(orig_indices)))))[:5])\n",
    "print(list(zip(np.arange(num_intervals-1, -1, -1), orig_indices, v[orig_indices]))[:5])\n"
   ]
  },
  {
   "cell_type": "code",
   "execution_count": 144,
   "metadata": {},
   "outputs": [
    {
     "name": "stdout",
     "output_type": "stream",
     "text": [
      "19306\n",
      "1000 2000 3000 4000 5000 6000 7000 8000 9000 10000 11000 12000 13000 14000 15000 16000 17000 18000 19000 "
     ]
    }
   ],
   "source": [
    "print(num_intervals)\n",
    "\n",
    "# -------------------- implementing low-mem Westfall-Young max T stepdown procedure\n",
    "\n",
    "# indices are sorted along interval axis from interval with most IBD sharing\n",
    "# to least IBD sharing\n",
    "pvalues = np.ones((num_intervals,))\n",
    "max_t_k = -num_sibpairs * np.ones((num_trials+1,), dtype=int)\n",
    "q = np.zeros((num_intervals,), dtype=int)\n",
    "for i, j in zip(np.arange(num_intervals-1, -1, -1), orig_indices):\n",
    "    if (num_intervals-i)%1000==0:\n",
    "        print(num_intervals-i, end=' ')\n",
    "    max_t_k = np.maximum(max_t_k, calc_interval(j))\n",
    "    q[i] = max_t_k[0]\n",
    "    pvalues[i] = np.sum(max_t_k[1:] >= max_t_k[0])/num_trials\n",
    "    \n",
    "\n",
    "assert np.all(q == v[np.flip(orig_indices)])\n",
    "pvalues = np.array([np.max(pvalues[:(i+1)]) for i in np.arange(num_intervals)])\n",
    "\n",
    "final_pvalues_lowmem = np.zeros((num_intervals, ))\n",
    "final_pvalues_lowmem[np.flip(orig_indices)] = pvalues"
   ]
  },
  {
   "cell_type": "code",
   "execution_count": 145,
   "metadata": {},
   "outputs": [],
   "source": [
    "#assert np.all(final_pvalues == final_pvalues_lowmem)"
   ]
  },
  {
   "cell_type": "code",
   "execution_count": 146,
   "metadata": {},
   "outputs": [
    {
     "name": "stdout",
     "output_type": "stream",
     "text": [
      "0.374\n"
     ]
    }
   ],
   "source": [
    "print(np.min(final_pvalues_lowmem, axis=0))\n"
   ]
  },
  {
   "cell_type": "code",
   "execution_count": 147,
   "metadata": {},
   "outputs": [
    {
     "data": {
      "image/png": "[encoded data removed]",
      "text/plain": [
       "<Figure size 640x480 with 1 Axes>"
      ]
     },
     "metadata": {},
     "output_type": "display_data"
    }
   ],
   "source": [
    "plt.hist(np.clip(np.log10(final_pvalues_lowmem), -3, None), alpha=0.5, bins=np.arange(-3, 0, 0.1))\n",
    "plt.axvline(np.log10(0.05), color='black', linestyle='--')\n",
    "plt.show()"
   ]
  },
  {
   "cell_type": "code",
   "execution_count": 105,
   "metadata": {},
   "outputs": [],
   "source": [
    "for i in np.where(final_pvalues_lowmem<0.05)[0]:\n",
    "    print(chroms[u[i]], interval_starts[u[i]], interval_ends[u[i]], \n",
    "         chroms[v[i]], interval_starts[v[i]], interval_ends[v[i]],)"
   ]
  },
  {
   "cell_type": "code",
   "execution_count": null,
   "metadata": {},
   "outputs": [],
   "source": []
  }
 ],
 "metadata": {
  "kernelspec": {
   "display_name": "Python 3",
   "language": "python",
   "name": "python3"
  },
  "language_info": {
   "codemirror_mode": {
    "name": "ipython",
    "version": 3
   },
   "file_extension": ".py",
   "mimetype": "text/x-python",
   "name": "python",
   "nbconvert_exporter": "python",
   "pygments_lexer": "ipython3",
   "version": "3.9.13"
  }
 },
 "nbformat": 4,
 "nbformat_minor": 2
}
