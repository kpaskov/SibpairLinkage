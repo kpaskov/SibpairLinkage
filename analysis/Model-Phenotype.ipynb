{
 "cells": [
  {
   "cell_type": "code",
   "execution_count": 118,
   "metadata": {},
   "outputs": [],
   "source": [
    "import numpy as np\n",
    "import matplotlib.pyplot as plt\n",
    "import scipy.linalg\n",
    "from collections import defaultdict, namedtuple, Counter\n",
    "from itertools import combinations\n",
    "import numpy as np\n",
    "import scipy.stats as stats\n",
    "import sys\n",
    "from os import listdir\n",
    "import json\n",
    "import argparse\n",
    "import random\n",
    "import scipy.sparse as sparse\n",
    "import csv\n",
    "import cvxpy as cp\n",
    "import statsmodels.api as sm"
   ]
  },
  {
   "cell_type": "code",
   "execution_count": 40,
   "metadata": {},
   "outputs": [
    {
     "name": "stdout",
     "output_type": "stream",
     "text": [
      "1472\n"
     ]
    }
   ],
   "source": [
    "dataset = '../permutation_tests/spark.2'\n",
    "chroms = np.load('%s.chroms.npy' % dataset)\n",
    "intervals = np.load('%s.intervals.npy' % dataset)\n",
    "z = np.load('%s.npy' % dataset)[:, 2]\n",
    "\n",
    "with open('%s.sibpairs.json' % dataset, 'r') as f:\n",
    "    sibpairs = json.load(f)\n",
    "print(len(sibpairs))\n",
    "is_mat_match = np.load('%s.is_mat_match.npy' % dataset)\n",
    "is_pat_match = np.load('%s.is_pat_match.npy' % dataset)\n",
    "\n",
    "start_pos, end_pos = 72897465, 73361654\n"
   ]
  },
  {
   "cell_type": "code",
   "execution_count": 41,
   "metadata": {},
   "outputs": [
    {
     "name": "stdout",
     "output_type": "stream",
     "text": [
      "8 72897465 8 72901633\n",
      "[0.05]\n",
      "8 72902849 8 72908839\n",
      "[0.05]\n",
      "8 72920056 8 72938577\n",
      "[0.04 0.05 0.05 0.05]\n",
      "8 72939640 8 73361654\n",
      "[0.04 0.04 0.04 0.04 0.04 0.04 0.04 0.05 0.04 0.05 0.04 0.04 0.04 0.04\n",
      " 0.04 0.04 0.04 0.04 0.04 0.04 0.04 0.04 0.04 0.04 0.04 0.04 0.04 0.04\n",
      " 0.04 0.04 0.04 0.05 0.04 0.05 0.05]\n",
      "17 6426749 17 6666852\n",
      "[0.04 0.05 0.04 0.05 0.05 0.04 0.04 0.04 0.04 0.04 0.04 0.04 0.04 0.04\n",
      " 0.04 0.04 0.04 0.05 0.04 0.04 0.04 0.04 0.04 0.04 0.05 0.05 0.05 0.05]\n",
      "17 6669048 17 6669505\n",
      "[0.05]\n",
      "17 6670773 17 6965244\n",
      "[0.05 0.05 0.05 0.04 0.05 0.04 0.04 0.04 0.04 0.04 0.04 0.04 0.04 0.04\n",
      " 0.04 0.04 0.04 0.04 0.04 0.04 0.04 0.04 0.04 0.04 0.03 0.03 0.03 0.03\n",
      " 0.03 0.03 0.03 0.04 0.03 0.04 0.04 0.04 0.04 0.03 0.03 0.03 0.04 0.04\n",
      " 0.04 0.04 0.04 0.05 0.05 0.04 0.04 0.05]\n",
      "17 6977401 17 6978790\n",
      "[0.05]\n"
     ]
    }
   ],
   "source": [
    "peak_starts = np.where((z[1:]<=0.05) & (z[:-1]>0.05))[0]+1\n",
    "peak_ends = np.where((z[1:]>0.05) & (z[:-1]<=0.05))[0]+1\n",
    "\n",
    "for peak_start, peak_end in zip(peak_starts, peak_ends):\n",
    "    print(chroms[peak_start], intervals[0, peak_start], chroms[peak_end], intervals[0, peak_end])\n",
    "    print(z[peak_start:peak_end])"
   ]
  },
  {
   "cell_type": "code",
   "execution_count": 42,
   "metadata": {},
   "outputs": [
    {
     "name": "stdout",
     "output_type": "stream",
     "text": [
      "[0.05 0.06 0.05 0.06 0.04 0.05 0.05 0.05 0.06 0.04 0.04 0.04 0.04 0.04\n",
      " 0.04 0.04 0.05 0.04 0.05 0.04 0.04 0.04 0.04 0.04 0.04 0.04 0.04 0.04\n",
      " 0.04 0.04 0.04 0.04 0.04 0.04 0.04 0.04 0.04 0.04 0.04 0.04 0.05 0.04\n",
      " 0.05 0.05]\n"
     ]
    }
   ],
   "source": [
    "start_index, end_index = np.where(intervals[0, :]==start_pos)[0][0], np.where(intervals[0, :]==end_pos)[0][0]\n",
    "print(z[start_index:end_index])"
   ]
  },
  {
   "cell_type": "code",
   "execution_count": 133,
   "metadata": {},
   "outputs": [
    {
     "name": "stdout",
     "output_type": "stream",
     "text": [
      "0\n",
      "0\n",
      "(2944,)\n"
     ]
    }
   ],
   "source": [
    "# pick majority for each sibpair\n",
    "mat_ibd = is_mat_match[:, start_index:end_index].dot((intervals[1, start_index:end_index]-intervals[0, start_index:end_index]))\n",
    "print(np.sum(mat_ibd==0)) # if any sibpair is 0, we need to discard them\n",
    "mat_ibd = mat_ibd > 0\n",
    "\n",
    "pat_ibd = is_pat_match[:, start_index:end_index].dot((intervals[1, start_index:end_index]-intervals[0, start_index:end_index]))\n",
    "print(np.sum(pat_ibd==0)) # if any sibpair is 0, we need to discard them\n",
    "pat_ibd = pat_ibd > 0\n",
    "\n",
    "ibd = np.hstack((mat_ibd, pat_ibd))\n",
    "print(ibd.shape)\n",
    "\n"
   ]
  },
  {
   "cell_type": "code",
   "execution_count": 134,
   "metadata": {},
   "outputs": [],
   "source": [
    "sample_to_phen = dict()\n",
    "with open('../../PhasingFamilies/phenotypes/v5/scq.csv', 'r') as f:\n",
    "    reader = csv.reader(f)\n",
    "    for pieces in reader:\n",
    "        phen = [-1 if (x not in {'1', '0'}) else int(x) for x in pieces[11:51]]\n",
    "        sample_to_phen[pieces[0]] = phen\n",
    "        "
   ]
  },
  {
   "cell_type": "code",
   "execution_count": 135,
   "metadata": {},
   "outputs": [
    {
     "name": "stdout",
     "output_type": "stream",
     "text": [
      "('SP0000026', [1, 0, 1, 1, 1, 1, 1, 1, 1, 1, 1, -1, 1, 0, 1, 0, 0, 0, 1, 0, 1, 1, 0, 0, 1, 1, 0, 0, 0, 1, 0, -1, 0, 1, 1, 1, 0, 1, 1, 1])\n"
     ]
    }
   ],
   "source": [
    "print(list(sample_to_phen.items())[4])"
   ]
  },
  {
   "cell_type": "code",
   "execution_count": 136,
   "metadata": {},
   "outputs": [
    {
     "name": "stdout",
     "output_type": "stream",
     "text": [
      "['SF0000027.SP0000027.SP0000034', 'SP0000027', 'SP0000034', 'SP0000051', 'SP0000241', '../PhasingFamilies/phased_spark_wes1_array_quads_del', 2, 2, True, True, True, True]\n"
     ]
    }
   ],
   "source": [
    "print(sibpairs[0])"
   ]
  },
  {
   "cell_type": "code",
   "execution_count": 137,
   "metadata": {},
   "outputs": [],
   "source": [
    "phen_match = []\n",
    "for sibpair in sibpairs:\n",
    "    if sibpair[1] in sample_to_phen and sibpair[2] in sample_to_phen:\n",
    "        phen1 = sample_to_phen[sibpair[1]]\n",
    "        phen2 = sample_to_phen[sibpair[2]]\n",
    "        phen_match.append([-1 if (x==-1 or y==-1) else int(x==y) for x, y in zip(phen1, phen2)])\n",
    "    else:\n",
    "        phen_match.append([-1]*40)\n",
    "phen_match = np.array(phen_match)"
   ]
  },
  {
   "cell_type": "code",
   "execution_count": 138,
   "metadata": {},
   "outputs": [
    {
     "data": {
      "image/png": "[encoded data removed]",
      "text/plain": [
       "<Figure size 1080x360 with 1 Axes>"
      ]
     },
     "metadata": {
      "needs_background": "light"
     },
     "output_type": "display_data"
    }
   ],
   "source": [
    "plt.figure(figsize=(15, 5))\n",
    "plt.imshow(phen_match.T, aspect='auto')\n",
    "plt.show()"
   ]
  },
  {
   "cell_type": "code",
   "execution_count": 139,
   "metadata": {},
   "outputs": [
    {
     "name": "stdout",
     "output_type": "stream",
     "text": [
      "427\n"
     ]
    }
   ],
   "source": [
    "print(np.sum(np.all(phen_match==-1, axis=1)))"
   ]
  },
  {
   "cell_type": "code",
   "execution_count": 140,
   "metadata": {},
   "outputs": [
    {
     "name": "stdout",
     "output_type": "stream",
     "text": [
      "(2944, 2)\n"
     ]
    }
   ],
   "source": [
    "X = np.hstack((ibd[:, np.newaxis], np.ones((ibd.shape[0], 1))))\n",
    "print(X.shape)"
   ]
  },
  {
   "cell_type": "code",
   "execution_count": 141,
   "metadata": {},
   "outputs": [],
   "source": [
    "indices_x, indices_y = np.where(phen_match!=-1)"
   ]
  },
  {
   "cell_type": "code",
   "execution_count": 146,
   "metadata": {},
   "outputs": [
    {
     "name": "stdout",
     "output_type": "stream",
     "text": [
      "(2, 1042)\n"
     ]
    }
   ],
   "source": [
    "print(np.vstack((phen_match[indices, phen_index], phen_match[indices, phen_index])).shape)"
   ]
  },
  {
   "cell_type": "code",
   "execution_count": 147,
   "metadata": {},
   "outputs": [
    {
     "name": "stdout",
     "output_type": "stream",
     "text": [
      "15 0.010615379184064523\n",
      "26 0.01747741872242309\n",
      "31 0.041415722334935276\n"
     ]
    }
   ],
   "source": [
    "for phen_index in range(40):\n",
    "    indices = phen_match[:, phen_index]!=-1\n",
    "    model = sm.Logit(np.hstack((phen_match[indices, phen_index], phen_match[indices, phen_index])), \n",
    "                     X[indices.tolist()+indices.tolist(), :])\n",
    "    result = model.fit(disp=False)\n",
    "    if result.pvalues[0] < 0.05:\n",
    "        print(phen_index+1, result.pvalues[0])"
   ]
  },
  {
   "cell_type": "code",
   "execution_count": 153,
   "metadata": {},
   "outputs": [
    {
     "name": "stdout",
     "output_type": "stream",
     "text": [
      "Warning: Maximum number of iterations has been exceeded.\n",
      "         Current function value: 0.647617\n",
      "         Iterations: 35\n",
      "                           Logit Regression Results                           \n",
      "==============================================================================\n",
      "Dep. Variable:                      y   No. Observations:                 1472\n",
      "Model:                          Logit   Df Residuals:                     1392\n",
      "Method:                           MLE   Df Model:                           79\n",
      "Date:                Thu, 23 Sep 2021   Pseudo R-squ.:                 0.05989\n",
      "Time:                        21:45:31   Log-Likelihood:                -953.29\n",
      "converged:                      False   LL-Null:                       -1014.0\n",
      "Covariance Type:            nonrobust   LLR p-value:                  0.001525\n",
      "==============================================================================\n",
      "                 coef    std err          z      P>|z|      [0.025      0.975]\n",
      "------------------------------------------------------------------------------\n",
      "x1             0.2030      1.461      0.139      0.890      -2.661       3.067\n",
      "x2             0.2505      1.471      0.170      0.865      -2.633       3.134\n",
      "x3           -49.6029   9099.274     -0.005      0.996   -1.79e+04    1.78e+04\n",
      "x4           -49.7675   9099.274     -0.005      0.996   -1.79e+04    1.78e+04\n",
      "x5            -1.8006      1.967     -0.916      0.360      -5.655       2.054\n",
      "x6            -2.1441      1.953     -1.098      0.272      -5.972       1.684\n",
      "x7            16.7455   6190.475      0.003      0.998   -1.21e+04    1.21e+04\n",
      "x8            16.4203   6190.475      0.003      0.998   -1.21e+04    1.21e+04\n",
      "x9            18.9796   6189.426      0.003      0.998   -1.21e+04    1.22e+04\n",
      "x10           18.7449   6189.426      0.003      0.998   -1.21e+04    1.21e+04\n",
      "x11           16.1567   2483.121      0.007      0.995   -4850.670    4882.983\n",
      "x12           16.1906   2483.121      0.007      0.995   -4850.636    4883.017\n",
      "x13            0.0768      1.122      0.068      0.945      -2.122       2.276\n",
      "x14            0.0956      1.113      0.086      0.932      -2.086       2.278\n",
      "x15           -0.0932      1.218     -0.076      0.939      -2.480       2.294\n",
      "x16           -0.0724      1.214     -0.060      0.952      -2.452       2.307\n",
      "x17           -0.3579      1.467     -0.244      0.807      -3.233       2.517\n",
      "x18           -0.6924      1.462     -0.474      0.636      -3.558       2.173\n",
      "x19            0.3490      0.982      0.355      0.722      -1.576       2.275\n",
      "x20            0.1849      0.981      0.189      0.850      -1.737       2.107\n",
      "x21            0.4053      0.962      0.421      0.673      -1.480       2.290\n",
      "x22            0.4092      0.958      0.427      0.669      -1.469       2.287\n",
      "x23            2.9592      1.590      1.861      0.063      -0.157       6.075\n",
      "x24            2.8764      1.585      1.815      0.070      -0.230       5.983\n",
      "x25           -0.9901      1.367     -0.725      0.469      -3.668       1.688\n",
      "x26           -0.9241      1.361     -0.679      0.497      -3.593       1.744\n",
      "x27           -0.3361      1.229     -0.273      0.784      -2.745       2.073\n",
      "x28           -0.5203      1.221     -0.426      0.670      -2.913       1.873\n",
      "x29           -3.4450      2.462     -1.399      0.162      -8.270       1.380\n",
      "x30           -3.6538      2.460     -1.486      0.137      -8.474       1.167\n",
      "x31            1.3202      1.761      0.750      0.453      -2.131       4.771\n",
      "x32            1.1749      1.759      0.668      0.504      -2.272       4.622\n",
      "x33            0.3454      1.436      0.240      0.810      -2.470       3.161\n",
      "x34            0.1685      1.435      0.117      0.907      -2.645       2.982\n",
      "x35            1.6882      1.390      1.215      0.224      -1.035       4.412\n",
      "x36            1.7804      1.390      1.281      0.200      -0.943       4.504\n",
      "x37           -1.6963      1.956     -0.867      0.386      -5.530       2.137\n",
      "x38           -1.8981      1.950     -0.973      0.330      -5.720       1.924\n",
      "x39           -0.8049      1.004     -0.801      0.423      -2.773       1.164\n",
      "x40           -0.6530      1.001     -0.652      0.514      -2.615       1.309\n",
      "x41            0.4375      1.054      0.415      0.678      -1.628       2.503\n",
      "x42            0.3986      1.052      0.379      0.705      -1.664       2.461\n",
      "x43            1.1314      1.098      1.030      0.303      -1.021       3.284\n",
      "x44            0.8810      1.096      0.804      0.421      -1.267       3.029\n",
      "x45            2.7337      1.326      2.061      0.039       0.134       5.333\n",
      "x46            2.8523      1.329      2.147      0.032       0.248       5.457\n",
      "x47           -0.7063      1.048     -0.674      0.500      -2.759       1.347\n",
      "x48           -0.6306      1.045     -0.603      0.546      -2.679       1.418\n",
      "x49           -1.9876      1.206     -1.648      0.099      -4.352       0.376\n",
      "x50           -1.9600      1.197     -1.637      0.102      -4.306       0.386\n",
      "x51            0.6346      0.755      0.840      0.401      -0.846       2.115\n",
      "x52            1.0990      0.752      1.462      0.144      -0.375       2.573\n",
      "x53          -23.3247   1.42e+04     -0.002      0.999   -2.79e+04    2.78e+04\n",
      "x54          -23.4771   1.42e+04     -0.002      0.999   -2.79e+04    2.78e+04\n",
      "x55            0.4072      1.390      0.293      0.770      -2.318       3.132\n",
      "x56            0.4548      1.392      0.327      0.744      -2.273       3.182\n",
      "x57            0.7073      1.224      0.578      0.563      -1.691       3.106\n",
      "x58            0.8808      1.221      0.721      0.471      -1.513       3.275\n",
      "x59            2.2782      1.337      1.704      0.088      -0.343       4.899\n",
      "x60            2.1164      1.339      1.581      0.114      -0.508       4.741\n",
      "x61            1.4927      0.997      1.497      0.134      -0.461       3.447\n",
      "x62            1.7113      0.992      1.725      0.085      -0.233       3.656\n",
      "x63           -0.2931      1.604     -0.183      0.855      -3.437       2.851\n",
      "x64           -0.4057      1.603     -0.253      0.800      -3.548       2.737\n",
      "x65           79.8395   7.64e+04      0.001      0.999    -1.5e+05     1.5e+05\n",
      "x66           79.9032   7.64e+04      0.001      0.999    -1.5e+05     1.5e+05\n",
      "x67            1.9283      1.221      1.579      0.114      -0.465       4.322\n",
      "x68            1.7524      1.217      1.440      0.150      -0.633       4.138\n",
      "x69           -0.8931      1.344     -0.664      0.506      -3.528       1.742\n",
      "x70           -0.7395      1.341     -0.551      0.581      -3.368       1.889\n",
      "x71            0.6189      1.130      0.548      0.584      -1.595       2.833\n",
      "x72            0.6848      1.129      0.607      0.544      -1.528       2.897\n",
      "x73           -1.7795      1.056     -1.685      0.092      -3.850       0.291\n",
      "x74           -1.8445      1.054     -1.750      0.080      -3.911       0.222\n",
      "x75          -24.3632   7.39e+04     -0.000      1.000   -1.45e+05    1.45e+05\n",
      "x76          -24.1412   7.39e+04     -0.000      1.000   -1.45e+05    1.45e+05\n",
      "x77          -19.1904   1.05e+04     -0.002      0.999   -2.05e+04    2.05e+04\n",
      "x78          -19.6224   1.05e+04     -0.002      0.999   -2.05e+04    2.05e+04\n",
      "x79          -18.5849   7242.330     -0.003      0.998   -1.42e+04    1.42e+04\n",
      "x80          -18.1532   7242.330     -0.003      0.998   -1.42e+04    1.42e+04\n",
      "==============================================================================\n"
     ]
    },
    {
     "name": "stderr",
     "output_type": "stream",
     "text": [
      "//anaconda3/lib/python3.7/site-packages/statsmodels/base/model.py:568: ConvergenceWarning: Maximum Likelihood optimization failed to converge. Check mle_retvals\n",
      "  ConvergenceWarning)\n"
     ]
    }
   ],
   "source": [
    "W = np.zeros((phen_match.shape[0], 1 + 2*phen_match.shape[1]))\n",
    "for phen_index in range(40):\n",
    "    W[phen_match[:, phen_index]==0, 2*phen_index] = 1\n",
    "    W[phen_match[:, phen_index]==1, 2*phen_index + 1] = 1\n",
    "W[:, -1] = 1\n",
    "\n",
    "model = sm.Logit(ibd[:int(ibd.shape[0]/2)], W[:, :-1])\n",
    "result = model.fit()\n",
    "print(result.summary())"
   ]
  },
  {
   "cell_type": "code",
   "execution_count": 131,
   "metadata": {},
   "outputs": [
    {
     "name": "stdout",
     "output_type": "stream",
     "text": [
      "[ True  True  True ... False  True False]\n"
     ]
    }
   ],
   "source": [
    "print(ibd)"
   ]
  },
  {
   "cell_type": "code",
   "execution_count": null,
   "metadata": {},
   "outputs": [],
   "source": []
  }
 ],
 "metadata": {
  "kernelspec": {
   "display_name": "Python 3",
   "language": "python",
   "name": "python3"
  },
  "language_info": {
   "codemirror_mode": {
    "name": "ipython",
    "version": 3
   },
   "file_extension": ".py",
   "mimetype": "text/x-python",
   "name": "python",
   "nbconvert_exporter": "python",
   "pygments_lexer": "ipython3",
   "version": "3.7.3"
  }
 },
 "nbformat": 4,
 "nbformat_minor": 2
}
