{
 "cells": [
  {
   "cell_type": "code",
   "execution_count": 1,
   "metadata": {},
   "outputs": [],
   "source": [
    "import numpy as np\n",
    "import scipy.linalg\n",
    "from collections import defaultdict, namedtuple, Counter\n",
    "from itertools import combinations\n",
    "import numpy as np\n",
    "import scipy.stats as stats\n",
    "import sys\n",
    "from os import listdir\n",
    "import json\n",
    "import random\n",
    "import csv\n",
    "import matplotlib.pyplot as plt\n",
    "import statsmodels.api as sm\n"
   ]
  },
  {
   "cell_type": "code",
   "execution_count": 2,
   "metadata": {},
   "outputs": [
    {
     "name": "stdout",
     "output_type": "stream",
     "text": [
      "749 717\n",
      "761 705\n",
      "410 351 339 366 1056\n",
      "(4.68309661015152, 0.030460792260631253, 1, array([[388.80559345, 372.19440655],\n",
      "       [360.19440655, 344.80559345]]))\n",
      "24 3\n",
      "25 2\n",
      "22 3 2 0 5\n",
      "(0.421875, 0.5160029354435862, 1, array([[22.22222222,  2.77777778],\n",
      "       [ 1.77777778,  0.22222222]]))\n",
      "2670 2629\n",
      "2688 2604\n",
      "1348 1340 1316 1288 3951\n",
      "(0.06519290337136095, 0.7984689955270692, 1, array([[1353.14285714, 1334.85714286],\n",
      "       [1310.85714286, 1293.14285714]]))\n",
      "90 96\n",
      "85 101\n",
      "42 43 48 53 144\n",
      "(0.011938701223063262, 0.9129928107947131, 1, array([[41.12903226, 43.87096774],\n",
      "       [48.87096774, 52.12903226]]))\n"
     ]
    }
   ],
   "source": [
    "#dataset_name = 'spark'\n",
    "#dataset_dir = '../../PhasingFamilies/recomb_spark'\n",
    "#ped_file = '../../DATA/spark/sparkfam.ped.quads.ped'\n",
    "\n",
    "dataset_names = ['spark', 'ancestry']\n",
    "dataset_dirs = ['../../PhasingFamilies/recomb_spark', '../../PhasingFamilies/recomb_ancestry']\n",
    "ped_files = ['../../DATA/spark/sparkfam.ped.quads.ped', '../../DATA/ancestry/ancestry.ped.quads.ped']\n",
    "\n",
    "colors = ['#695d46ff', '#ce93d8ff', '#ef6c00ff', '#4db6acff']\n",
    "\n",
    "interval_chrom1, interval_start_pos1, interval_end_pos1 = '7', 4101620, 4747462\n",
    "interval_chrom2, interval_start_pos2, interval_end_pos2 = '19', 3604269, 3718439\n",
    "#dataset_name = 'ihart.ms2'\n",
    "#dataset_dir = '../../PhasingFamilies/recomb_ihart.ms2'\n",
    "#ped_file = '../../DATA/ihart.ms2/ihart.ped.quads.ped'\n",
    "\n",
    "#dataset_name = 'mssng'\n",
    "#dataset_dir = '../../PhasingFamilies/recomb_mssng'\n",
    "#ped_file = '../../DATA/mssng/mssng.ped.quads.ped'\n",
    "\n",
    "num_trials = 1000\n",
    "\n",
    "def pull_ibd(dataset_name, dataset_dir, ped_file, na):\n",
    "\n",
    "    # pull phenotype data\n",
    "    sample_to_affected, sample_to_sex = dict(), dict()\n",
    "    with open(ped_file, 'r') as f:\n",
    "        for line in f:\n",
    "            pieces = line.strip().split('\\t')\n",
    "            sample_to_sex[pieces[1]] = pieces[4]\n",
    "            sample_to_sex[pieces[3]] = '2'\n",
    "            sample_to_sex[pieces[2]] = '1'\n",
    "            sample_to_affected[pieces[1]] = pieces[5]\n",
    "\n",
    "    sibpairs = []\n",
    "    sibpair_keys = set()\n",
    "    with open('%s/sibpairs.json' % dataset_dir, 'r') as f:\n",
    "        for sibpair in json.load(f):\n",
    "            sib_key = (sibpair['sibling1'], sibpair['sibling2'])\n",
    "            if sib_key not in sibpair_keys:\n",
    "                sibpairs.append(sibpair)\n",
    "                sibpair_keys.add(sib_key)\n",
    "                sibpair_keys.add((sib_key[1], sib_key[0]))\n",
    "\n",
    "    for sibpair in sibpairs:\n",
    "        sibpair['num_affected'] = int(sample_to_affected[sibpair['sibling1']]=='2') + int(sample_to_affected[sibpair['sibling2']]=='2')\n",
    "\n",
    "    if na == 3:\n",
    "        sibpairs = [x for x in sibpairs if (x['num_affected']>0)]\n",
    "    else:\n",
    "        sibpairs = [x for x in sibpairs if (x['num_affected']==na)]\n",
    "    num_sibpairs = len(sibpairs)\n",
    "\n",
    "\n",
    "    is_pat_match1 = np.load('../permutation_tests/%s.chr%s.%d-%d.%d.is_pat_match.npy' % (dataset_name, interval_chrom1, interval_start_pos1, interval_end_pos1, na))\n",
    "    intervals1 = np.load('../permutation_tests/%s.chr%s.%d-%d.%d.intervals.npy' % (dataset_name, interval_chrom1, interval_start_pos1, interval_end_pos1, na))\n",
    "    is_mat_match2 = np.load('../permutation_tests/%s.chr%s.%d-%d.%d.is_mat_match.npy' % (dataset_name, interval_chrom2, interval_start_pos2, interval_end_pos2, na))\n",
    "    intervals2 = np.load('../permutation_tests/%s.chr%s.%d-%d.%d.intervals.npy' % (dataset_name, interval_chrom2, interval_start_pos2, interval_end_pos2, na))\n",
    "\n",
    "    interval_lengths1 = intervals1[1, :] - intervals1[0, :]\n",
    "    is_pat_ibd = np.sign(is_pat_match1.dot(interval_lengths1))\n",
    "    print(np.sum(is_pat_ibd==1), np.sum(is_pat_ibd==-1))\n",
    "\n",
    "    interval_lengths2 = intervals2[1, :] - intervals2[0, :]\n",
    "    is_mat_ibd = np.sign(is_mat_match2.dot(interval_lengths2))\n",
    "    print(np.sum(is_mat_ibd==1), np.sum(is_mat_ibd==-1))\n",
    "\n",
    "    print(np.sum((is_mat_ibd==1) & (is_pat_ibd==1)),\n",
    "          np.sum((is_mat_ibd==1) & (is_pat_ibd==-1)),\n",
    "          np.sum((is_mat_ibd==-1) & (is_pat_ibd==1)),\n",
    "          np.sum((is_mat_ibd==-1) & (is_pat_ibd==-1)),\n",
    "          np.sum(~((is_mat_ibd==1) & (is_pat_ibd==1))))\n",
    "    print(stats.chi2_contingency([[np.sum((is_mat_ibd==1) & (is_pat_ibd==1)),\n",
    "          np.sum((is_mat_ibd==1) & (is_pat_ibd==-1))],\n",
    "                                 [np.sum((is_mat_ibd==-1) & (is_pat_ibd==1)),\n",
    "          np.sum((is_mat_ibd==-1) & (is_pat_ibd==-1))]]))\n",
    "    return is_mat_ibd, is_pat_ibd, sibpairs\n",
    "\n",
    "is_mat_ibd_spark2, is_pat_ibd_spark2, sibpairs_spark2 = pull_ibd(dataset_names[0], dataset_dirs[0], ped_files[0], 2)\n",
    "is_mat_ibd_ancestry2, is_pat_ibd_ancestry2, sibpairs_ancestry2 = pull_ibd(dataset_names[1], dataset_dirs[1], ped_files[1], 2)\n",
    "is_mat_ibd_spark1, is_pat_ibd_spark1, sibpairs_spark1 = pull_ibd(dataset_names[0], dataset_dirs[0], ped_files[0], 1)\n",
    "is_mat_ibd_ancestry1, is_pat_ibd_ancestry1, sibpairs_ancestry1 = pull_ibd(dataset_names[1], dataset_dirs[1], ped_files[1], 1)             \n",
    "                     "
   ]
  },
  {
   "cell_type": "code",
   "execution_count": 3,
   "metadata": {},
   "outputs": [],
   "source": [
    "def plotbar(has_ibd_anc, no_ibd_anc, has_ibd_spark, no_ibd_spark, offset=0, color=colors[2], label=None):\n",
    "    anc_p = has_ibd_anc/(has_ibd_anc+no_ibd_anc)\n",
    "    anc_lb, anc_ub = sm.stats.proportion_confint(has_ibd_anc, (has_ibd_anc+no_ibd_anc),\n",
    "                                                      alpha=0.05, method='agresti_coull')\n",
    "\n",
    "    spark_p = has_ibd_spark/(has_ibd_spark+no_ibd_spark)\n",
    "    spark_lb, spark_ub = sm.stats.proportion_confint(has_ibd_spark, (has_ibd_spark+no_ibd_spark),\n",
    "                                                     alpha=0.05, method='agresti_coull')\n",
    "    \n",
    "    plt.bar([0+offset, 1+offset], [anc_p, spark_p], width=0.3, color=color, label=label)\n",
    "    plt.errorbar([0+offset, 1+offset], [anc_p, spark_p], \n",
    "                 yerr=[[anc_p-anc_lb, spark_p-spark_lb], \n",
    "                       [anc_ub-anc_p, spark_ub-spark_p]], \n",
    "                 color='black', linestyle='', capsize=5)\n"
   ]
  },
  {
   "cell_type": "code",
   "execution_count": 15,
   "metadata": {},
   "outputs": [
    {
     "data": {
      "image/png": "[encoded data removed]",
      "text/plain": [
       "<Figure size 1080x360 with 3 Axes>"
      ]
     },
     "metadata": {
      "needs_background": "light"
     },
     "output_type": "display_data"
    }
   ],
   "source": [
    "plt.figure(figsize=(15, 5))\n",
    "\n",
    "plt.subplot(1, 3, 1)\n",
    "plotbar(np.sum(is_mat_ibd_ancestry2==1), np.sum(is_mat_ibd_ancestry2==-1),\n",
    "        np.sum(is_mat_ibd_spark2==1), np.sum(is_mat_ibd_spark2==-1), color=colors[2], label='aut-aut')\n",
    "\n",
    "plotbar(np.sum(is_mat_ibd_ancestry1==1), np.sum(is_mat_ibd_ancestry1==-1),\n",
    "        np.sum(is_mat_ibd_spark1==1), np.sum(is_mat_ibd_spark1==-1), offset=0.35, color=colors[3], label='aut-nt')\n",
    "\n",
    "plt.axhline(0.5, color='black', linestyle='--')\n",
    "plt.ylabel('Fraction Sibpairs with IBD', fontsize=16)\n",
    "plt.xticks([0.175, 1.175], ['KidsFirst', 'SPARK'], fontsize=16)\n",
    "plt.ylim([0, 1.1])\n",
    "plt.title('Maternal IBD in 19p13.3 Region', fontsize=16)\n",
    "plt.text(1, 0.65, '+', fontsize=20, ha='center', va='center')\n",
    "plt.legend(fontsize=16)\n",
    "plt.yticks(fontsize=16)\n",
    "\n",
    "plt.subplot(1, 3, 2)\n",
    "plotbar(np.sum(is_pat_ibd_ancestry2==1), np.sum(is_pat_ibd_ancestry2==-1),\n",
    "        np.sum(is_pat_ibd_spark2==1), np.sum(is_pat_ibd_spark2==-1), color=colors[2], label='aut-aut')\n",
    "\n",
    "plotbar(np.sum(is_pat_ibd_ancestry1==1), np.sum(is_pat_ibd_ancestry1==-1),\n",
    "        np.sum(is_pat_ibd_spark1==1), np.sum(is_pat_ibd_spark1==-1), offset=0.35, color=colors[3], label='aut-nt')\n",
    "\n",
    "plt.axhline(0.5, color='black', linestyle='--')\n",
    "plt.xticks([0.175, 1.175], ['KidsFirst', 'SPARK'], fontsize=16)\n",
    "plt.ylim([0, 1.1])\n",
    "plt.yticks([])\n",
    "plt.title('Paternal IBD in 7p22 Region', fontsize=16)\n",
    "plt.legend(fontsize=16)\n",
    "\n",
    "\n",
    "plt.subplot(1, 3, 3)\n",
    "plotbar(np.sum((is_mat_ibd_ancestry2==1) & (is_pat_ibd_ancestry2==1)), \n",
    "        np.sum((is_mat_ibd_ancestry2==-1) | (is_pat_ibd_ancestry2==-1)),\n",
    "        np.sum((is_mat_ibd_spark2==1) & (is_pat_ibd_spark2==1)), \n",
    "        np.sum((is_mat_ibd_spark2==-1) | (is_pat_ibd_spark2==-1),), color=colors[2], label='aut-aut')\n",
    "\n",
    "plotbar(np.sum((is_mat_ibd_ancestry1==1) & (is_pat_ibd_ancestry1==1)), \n",
    "        np.sum((is_mat_ibd_ancestry1==-1) | (is_pat_ibd_ancestry1==-1)),\n",
    "        np.sum((is_mat_ibd_spark1==1) & (is_pat_ibd_spark1==1)), \n",
    "        np.sum((is_mat_ibd_spark1==-1) | (is_pat_ibd_spark1==-1)), offset=0.35, color=colors[3], label='aut-nt')\n",
    "\n",
    "plt.axhline(0.25, color='black', linestyle='--')\n",
    "plt.xticks([0.175, 1.175], ['KidsFirst', 'SPARK'], fontsize=16)\n",
    "plt.ylim([0, 1.1])\n",
    "plt.yticks([])\n",
    "plt.title('Maternal IBD in 19p13.3 Region and\\nPaternal IBD in 7p22 Region', fontsize=16)\n",
    "plt.text(1, 0.35, '**', fontsize=20, ha='center', va='center')\n",
    "plt.legend(fontsize=16)\n",
    "plt.savefig('../plots/ibd.png', bbox_inches='tight')\n",
    "\n",
    "plt.tight_layout()\n",
    "plt.show()"
   ]
  },
  {
   "cell_type": "code",
   "execution_count": 5,
   "metadata": {},
   "outputs": [
    {
     "name": "stdout",
     "output_type": "stream",
     "text": [
      "ancestry2\n",
      "ready\n",
      "mat 0.0\n",
      "pat 0.0\n",
      "both 0.0\n",
      "spark2\n",
      "ready\n",
      "mat 0.084\n",
      "pat 0.216\n",
      "both 0.005\n"
     ]
    }
   ],
   "source": [
    "def check_pvalue(is_mat_ibd, is_pat_ibd, sibpairs):\n",
    "\n",
    "    # take into account sibling structure across quads\n",
    "    individuals = sorted(set([x['sibling1'] for x in sibpairs] + [x['sibling2'] for x in sibpairs]))\n",
    "    ind_to_index = dict([(x, i) for i, x in enumerate(individuals)])\n",
    "    sibling1_indices = np.array([ind_to_index[x['sibling1']] for x in sibpairs])\n",
    "    sibling2_indices = np.array([ind_to_index[x['sibling2']] for x in sibpairs])\n",
    "\n",
    "    A = np.random.randint(0, high=2, size=(num_trials+1, len(individuals), 2))\n",
    "    X1 = (A[:, sibling1_indices, 0] == A[:, sibling2_indices, 0]).astype(int)\n",
    "    X2 = (A[:, sibling1_indices, 1] == A[:, sibling2_indices, 1]).astype(int)\n",
    "\n",
    "    # randomly flip IBD in sibpairs\n",
    "    #X1 = np.random.randint(0, high=2, size=(num_trials+1, len(sibpairs)))\n",
    "    #X2 = np.random.randint(0, high=2, size=(num_trials+1, len(sibpairs)))\n",
    "\n",
    "    X1[X1==0] = -1\n",
    "    X2[X2==0] = -1\n",
    "\n",
    "    # first entry is actual IBD relationships\n",
    "    X1[0, :] = 1\n",
    "    X2[0, :] = 1\n",
    "\n",
    "    # now make X1 and X2 the IBD-phen relationships\n",
    "    is_discordant = np.array([sibpair['num_affected']==1 for sibpair in sibpairs])\n",
    "    X1[:, is_discordant] = -X1[:, is_discordant]\n",
    "    X2[:, is_discordant] = -X2[:, is_discordant]\n",
    "\n",
    "    print('ready')\n",
    "\n",
    "    # trial, interval, mat/pat\n",
    "    \n",
    "    rand_pvalue_mat = np.sum((np.multiply(X2, np.tile(is_mat_ibd, (X2.shape[0], 1)))==1), axis=1)\n",
    "    \n",
    "    rand_pvalue_pat = np.sum((np.multiply(X1, np.tile(is_pat_ibd, (X1.shape[0], 1)))==1), axis=1)\n",
    "    \n",
    "    rand_pvalue_both = np.sum((np.multiply(X1, np.tile(is_pat_ibd, (X1.shape[0], 1)))==1) & \\\n",
    "                         (np.multiply(X2, np.tile(is_mat_ibd, (X2.shape[0], 1)))==1), axis=1)\n",
    "\n",
    "    print('mat', np.sum(rand_pvalue_mat[1:] >= rand_pvalue_mat[0])/num_trials)\n",
    "    print('pat', np.sum(rand_pvalue_pat[1:] >= rand_pvalue_pat[0])/num_trials)\n",
    "    print('both', np.sum(rand_pvalue_both[1:] >= rand_pvalue_both[0])/num_trials)\n",
    "    \n",
    "print('ancestry2')\n",
    "check_pvalue(is_mat_ibd_ancestry2, is_pat_ibd_ancestry2, sibpairs_ancestry2)\n",
    "print('spark2')\n",
    "check_pvalue(is_mat_ibd_spark2, is_pat_ibd_spark2, sibpairs_spark2)"
   ]
  },
  {
   "cell_type": "code",
   "execution_count": null,
   "metadata": {},
   "outputs": [],
   "source": []
  },
  {
   "cell_type": "code",
   "execution_count": 6,
   "metadata": {},
   "outputs": [],
   "source": [
    "# SPARK 0.007\n",
    "# MSSNG 0.317\n",
    "# iHART 0.644\n",
    "# ancestry 0.0\n",
    "\n",
    "\n",
    "# SPARK1 0.846\n",
    "# ancestry1 0.163\n"
   ]
  },
  {
   "cell_type": "markdown",
   "metadata": {},
   "source": [
    "# Look at spark phenotype"
   ]
  },
  {
   "cell_type": "code",
   "execution_count": 16,
   "metadata": {},
   "outputs": [
    {
     "name": "stdout",
     "output_type": "stream",
     "text": [
      "sibpairs 6892\n"
     ]
    }
   ],
   "source": [
    "dataset_name = 'spark'\n",
    "dataset_dir = '../../PhasingFamilies/recomb_spark'\n",
    "ped_file = '../../DATA/spark/sparkfam.ped.quads.ped'\n",
    "na = 3\n",
    "\n",
    "sample_to_affected, sample_to_sex = dict(), dict()\n",
    "for ped_file in ped_files:\n",
    "\twith open(ped_file, 'r') as f:\n",
    "\t\tfor line in f:\n",
    "\t\t\tpieces = line.strip().split('\\t')\n",
    "\t\t\tsample_to_sex[pieces[1]] = pieces[4]\n",
    "\t\t\tsample_to_sex[pieces[3]] = '2'\n",
    "\t\t\tsample_to_sex[pieces[2]] = '1'\n",
    "\t\t\tsample_to_affected[pieces[1]] = pieces[5]\n",
    "\n",
    "sibpairs = []\n",
    "sibpair_keys = set()\n",
    "with open('%s/sibpairs.json' % dataset_dir, 'r') as f:\n",
    "\tfor sibpair in json.load(f):\n",
    "\t\tsib_key = (sibpair['sibling1'], sibpair['sibling2'])\n",
    "\t\tif sib_key not in sibpair_keys:\n",
    "\t\t\tsibpairs.append(sibpair)\n",
    "\t\t\tsibpair_keys.add(sib_key)\n",
    "\t\t\tsibpair_keys.add((sib_key[1], sib_key[0]))\n",
    "            \n",
    "for sibpair in sibpairs:\n",
    "\tsibpair['num_affected_diag'] = int(sample_to_affected[sibpair['sibling1']]=='2') + int(sample_to_affected[sibpair['sibling2']]=='2')\n",
    "\n",
    "            \n",
    "if na == 3:\n",
    "\tsibpairs = [x for x in sibpairs]\n",
    "else:\n",
    "\tsibpairs = [x for x in sibpairs if (x['num_affected_diag']==na)]\n",
    "num_sibpairs = len(sibpairs)\n",
    "print('sibpairs', num_sibpairs)"
   ]
  },
  {
   "cell_type": "code",
   "execution_count": 17,
   "metadata": {},
   "outputs": [
    {
     "name": "stdout",
     "output_type": "stream",
     "text": [
      "3478 3414\n",
      "3515 3370\n",
      "3478\n"
     ]
    }
   ],
   "source": [
    "is_mat_match1 = np.load('../permutation_tests/%s.chr%s.%d-%d.%d.is_mat_match.npy' % (dataset_name, interval_chrom1, interval_start_pos1, interval_end_pos1, na))\n",
    "is_pat_match1 = np.load('../permutation_tests/%s.chr%s.%d-%d.%d.is_pat_match.npy' % (dataset_name, interval_chrom1, interval_start_pos1, interval_end_pos1, na))\n",
    "intervals1 = np.load('../permutation_tests/%s.chr%s.%d-%d.%d.intervals.npy' % (dataset_name, interval_chrom1, interval_start_pos1, interval_end_pos1, na))\n",
    "is_mat_match2 = np.load('../permutation_tests/%s.chr%s.%d-%d.%d.is_mat_match.npy' % (dataset_name, interval_chrom2, interval_start_pos2, interval_end_pos2, na))\n",
    "is_pat_match2 = np.load('../permutation_tests/%s.chr%s.%d-%d.%d.is_pat_match.npy' % (dataset_name, interval_chrom2, interval_start_pos2, interval_end_pos2, na))\n",
    "intervals2 = np.load('../permutation_tests/%s.chr%s.%d-%d.%d.intervals.npy' % (dataset_name, interval_chrom2, interval_start_pos2, interval_end_pos2, na))\n",
    "\n",
    "interval_lengths1 = intervals1[1, :] - intervals1[0, :]\n",
    "is_pat_ibd = np.sign(is_pat_match1.dot(interval_lengths1))\n",
    "print(np.sum(is_pat_ibd==1), np.sum(is_pat_ibd==-1))\n",
    "\n",
    "interval_lengths2 = intervals2[1, :] - intervals2[0, :]\n",
    "is_mat_ibd = np.sign(is_mat_match2.dot(interval_lengths2))\n",
    "print(np.sum(is_mat_ibd==1), np.sum(is_mat_ibd==-1))\n",
    "\n",
    "#is_of_interest = (is_mat_ibd==1) & (is_pat_ibd==1)\n",
    "#is_of_interest = (is_mat_ibd==1)\n",
    "is_of_interest = (is_pat_ibd==1)\n",
    "print(np.sum(is_of_interest))\n"
   ]
  },
  {
   "cell_type": "code",
   "execution_count": 9,
   "metadata": {},
   "outputs": [
    {
     "name": "stdout",
     "output_type": "stream",
     "text": [
      "(1000, 6892)\n"
     ]
    }
   ],
   "source": [
    "individuals = sorted(set([x['sibling1'] for x in sibpairs] + [x['sibling2'] for x in sibpairs]))\n",
    "ind_to_index = dict([(x, i) for i, x in enumerate(individuals)])\n",
    "sibling1_indices = np.array([ind_to_index[x['sibling1']] for x in sibpairs])\n",
    "sibling2_indices = np.array([ind_to_index[x['sibling2']] for x in sibpairs])\n",
    "\n",
    "A = np.random.randint(0, high=2, size=(num_trials, len(individuals), 2))\n",
    "X1 = (A[:, sibling1_indices, 0] == A[:, sibling2_indices, 0]).astype(int)\n",
    "X2 = (A[:, sibling1_indices, 1] == A[:, sibling2_indices, 1]).astype(int)\n",
    "\n",
    "X1[X1==0] = -1\n",
    "X2[X2==0] = -1\n",
    "\n",
    "#rand_of_interest = (np.multiply(X1, np.tile(is_pat_ibd, (X1.shape[0], 1)))==1) & \\\n",
    "#                    (np.multiply(X2, np.tile(is_mat_ibd, (X2.shape[0], 1)))==1)\n",
    "\n",
    "rand_of_interest = (np.multiply(X1, np.tile(is_pat_ibd, (X1.shape[0], 1)))==1)\n",
    "#rand_of_interest = (np.multiply(X2, np.tile(is_mat_ibd, (X2.shape[0], 1)))==1)\n",
    "\n",
    "print(rand_of_interest.shape)"
   ]
  },
  {
   "cell_type": "code",
   "execution_count": 10,
   "metadata": {},
   "outputs": [
    {
     "name": "stdout",
     "output_type": "stream",
     "text": [
      "1 2 3 4 5 6 7 8 9 10 11 12 0.021531317243348492 0.8612526897339396 3.473035019708726e-67 1.3892140078834904e-65 [[416, 348], [3062, 3066]]\n",
      "0.11960897067280046 0.10193321616871705\n",
      "13 14 15 16 17 18 19 20 21 22 0.0009350158784222397 0.037400635136889585 7.18052387973602e-61 2.872209551894408e-59 [[334, 251], [3144, 3163]]\n",
      "0.09603220241518114 0.07352079671939074\n",
      "23 24 25 26 27 28 29 30 31 32 33 34 35 36 37 38 39 40 41 0.6087932662615212 24.351730650460848 1.5836303882512602e-101 6.334521553005041e-100 [[749, 717], [2729, 2697]]\n",
      "0.2153536515238643 0.2100175746924429\n"
     ]
    }
   ],
   "source": [
    "chi2_rand = np.zeros((num_trials, 41))\n",
    "chi2_true = np.zeros((41,))\n",
    "\n",
    "ps = np.zeros((41, 2))\n",
    "bounds = np.zeros((41, 2))\n",
    "\n",
    "for phen_index in range(41):\n",
    "    print(phen_index+1, end=' ')\n",
    "    \n",
    "    if phen_index < 40:\n",
    "        sample_to_affected = dict()\n",
    "        with open('../../PhasingFamilies/phenotypes/spark_v5/spark_v5-scq-prep.csv', 'r') as f:\n",
    "            reader = csv.reader(f)\n",
    "            for pieces in reader:\n",
    "                phen = pieces[13+phen_index]\n",
    "                if phen=='1.0' or phen=='0.0':\n",
    "                    sample_to_affected[pieces[2]] = 1 if phen =='1.0' else 0\n",
    "\n",
    "        aut_response = [0]*2 + [1]*6 + [0] + [1]*9 + [0]*22\n",
    "\n",
    "        for sibpair in sibpairs:\n",
    "            if (sibpair['sibling1'] not in sample_to_affected) or (sibpair['sibling2'] not in sample_to_affected):\n",
    "                sibpair['num_affected'] = -1\n",
    "            else:\n",
    "                 sibpair['num_affected'] = int(sample_to_affected[sibpair['sibling1']]==aut_response[phen_index]) + int(sample_to_affected[sibpair['sibling2']]==aut_response[phen_index])\n",
    "    else:\n",
    "        for sibpair in sibpairs:\n",
    "            sibpair['num_affected'] = sibpair['num_affected_diag']\n",
    "    \n",
    "    num_affected = np.array([sibpair['num_affected'] for sibpair in sibpairs])\n",
    "                \n",
    "    #print(Counter([sibpair['num_affected'] for sibpair in sibpairs]))\n",
    "    try:\n",
    "        c = [[np.sum((num_affected==2) & is_of_interest),\n",
    "              np.sum((num_affected==2) & ~is_of_interest)],\n",
    "             [np.sum((num_affected!=2) & is_of_interest),\n",
    "              np.sum((num_affected!=2) & ~is_of_interest)]]\n",
    "        chi2_true[phen_index] = stats.chi2_contingency(c)[0]\n",
    "        pvalue = stats.chi2_contingency(c)[1]\n",
    "        pvalue2 = stats.binom_test(np.sum((num_affected==2) & is_of_interest), np.sum((num_affected==2)), p=0.25)\n",
    "        ps[phen_index, 0] = np.sum((num_affected==2) & is_of_interest)/np.sum(num_affected==2)\n",
    "        ps[phen_index, 1] = np.sum((num_affected!=2) & is_of_interest)/np.sum(num_affected!=2)\n",
    "        bounds[phen_index, :] = sm.stats.proportion_confint(np.sum((num_affected==2) & is_of_interest), \n",
    "                                                            np.sum(num_affected==2),\n",
    "                                                      alpha=0.05, method='agresti_coull')\n",
    "        if pvalue<0.05 or phen_index==40:\n",
    "            print(pvalue, pvalue*40, pvalue2, pvalue2*40, c)\n",
    "            print(np.sum((num_affected==2) & is_of_interest)/np.sum(is_of_interest),\n",
    "                  np.sum((num_affected==2) & ~is_of_interest)/np.sum(~is_of_interest))\n",
    "            \n",
    "    except:\n",
    "        pass\n",
    "    \n",
    "    for i in range(num_trials):\n",
    "        try:\n",
    "            c = [[np.sum((num_affected==2) & rand_of_interest[i, :]),\n",
    "                  np.sum((num_affected==2) & ~rand_of_interest[i, :])],\n",
    "                 [np.sum((num_affected!=2) & rand_of_interest[i, :]),\n",
    "                  np.sum((num_affected!=2) & ~rand_of_interest[i, :])]]\n",
    "            chi2_rand[i, phen_index] = stats.chi2_contingency(c)[0]  \n",
    "        except:\n",
    "            pass\n",
    "        \n"
   ]
  },
  {
   "cell_type": "code",
   "execution_count": 11,
   "metadata": {},
   "outputs": [
    {
     "name": "stdout",
     "output_type": "stream",
     "text": [
      "22 0.032\n"
     ]
    }
   ],
   "source": [
    "max_index = np.argmax(np.abs(chi2_true))\n",
    "max_value = np.max(np.abs(chi2_true))\n",
    "max_values = np.max(np.abs(chi2_rand), axis=1)\n",
    "print(max_index+1, np.sum(max_values>= max_value)/num_trials)"
   ]
  },
  {
   "cell_type": "code",
   "execution_count": 21,
   "metadata": {},
   "outputs": [
    {
     "name": "stdout",
     "output_type": "stream",
     "text": [
      "[0.57094017 0.49849374]\n"
     ]
    }
   ],
   "source": [
    "print(ps[21])"
   ]
  },
  {
   "cell_type": "code",
   "execution_count": 14,
   "metadata": {
    "scrolled": true
   },
   "outputs": [
    {
     "data": {
      "image/png": "[encoded data removed]",
      "text/plain": [
       "<Figure size 1080x360 with 1 Axes>"
      ]
     },
     "metadata": {
      "needs_background": "light"
     },
     "output_type": "display_data"
    }
   ],
   "source": [
    "plt.figure(figsize=(15, 5))\n",
    "plt.bar(np.arange(1, 41), ps[:40, 0], color=[colors[2] if (bounds[i, 0]>0.5 or bounds[i, 1]<0.5) else colors[3] for i in range(40)])\n",
    "plt.errorbar(np.arange(1, 41), ps[:40, 0], \n",
    "                 yerr=[ps[:40, 0]-bounds[:40, 0], bounds[:40, 1]-ps[:40, 0]], \n",
    "                 color='black', linestyle='', capsize=5)\n",
    "\n",
    "#plt.bar(np.arange(1, 42)+0.35, ps[:, 1], width=0.3)\n",
    "plt.axhline(0.5, color='black', linestyle='--')\n",
    "plt.ylim([0.4, 0.65])\n",
    "plt.xticks(np.arange(1, 41), ['' if (bounds[i-1, 0]<=0.5 and bounds[i-1, 1]>=0.5) else '%d' % i for i in range(1, 41)], rotation=90, fontsize=15)\n",
    "plt.text(22, 0.63, '*', fontsize=20, ha='center', va='center')\n",
    "plt.xlabel('SCQ Behaviors', fontsize=18)\n",
    "plt.yticks(np.arange(0.45, 0.65, 0.05), fontsize=15)\n",
    "plt.ylabel('Fraction Sibpairs\\nwith Paternal IBD', fontsize=18)\n",
    "plt.savefig('../plots/scq.png', bbox_inches='tight')\n",
    "#plt.show()"
   ]
  },
  {
   "cell_type": "code",
   "execution_count": 17,
   "metadata": {},
   "outputs": [
    {
     "data": {
      "image/png": "[encoded data removed]",
      "text/plain": [
       "<Figure size 1080x360 with 1 Axes>"
      ]
     },
     "metadata": {
      "needs_background": "light"
     },
     "output_type": "display_data"
    }
   ],
   "source": [
    "plt.figure(figsize=(15, 5))\n",
    "plt.bar(np.arange(1, 41), ps[:40, 0], color=[colors[2] if (bounds[i, 0]>0.25 or bounds[i, 1]<0.25) else colors[3] for i in range(40)])\n",
    "plt.errorbar(np.arange(1, 41), ps[:40, 0], \n",
    "                 yerr=[ps[:40, 0]-bounds[:40, 0], bounds[:40, 1]-ps[:40, 0]], \n",
    "                 color='black', linestyle='', capsize=5)\n",
    "\n",
    "#plt.bar(np.arange(1, 42)+0.35, ps[:, 1], width=0.3)\n",
    "plt.axhline(0.25, color='black', linestyle='--')\n",
    "#plt.ylim([0.45, 0.65])\n",
    "plt.xticks(np.arange(1, 41), ['' if (bounds[i-1, 0]<=0.25 and bounds[i-1, 1]>=0.25) else '%d' % i for i in range(1, 41)], rotation=90, fontsize=15)\n",
    "#plt.text(22, 0.63, '*', fontsize=20, ha='center', va='center')\n",
    "plt.xlabel('SCQ Behaviors', fontsize=18)\n",
    "#plt.yticks(np.arange(0.45, 0.65, 0.05), fontsize=15)\n",
    "\n",
    "plt.show()"
   ]
  },
  {
   "cell_type": "code",
   "execution_count": 206,
   "metadata": {},
   "outputs": [
    {
     "name": "stdout",
     "output_type": "stream",
     "text": [
      "22\n"
     ]
    }
   ],
   "source": [
    "phen_index = 21\n",
    "print(phen_index+1)\n",
    "    \n",
    "sample_to_affected = dict()\n",
    "with open('../../PhasingFamilies/phenotypes/spark_v5/spark_v5-scq-prep.csv', 'r') as f:\n",
    "    reader = csv.reader(f)\n",
    "    for pieces in reader:\n",
    "        phen = pieces[13+phen_index]\n",
    "        if phen=='1.0' or phen=='0.0':\n",
    "            sample_to_affected[pieces[2]] = 1 if phen =='1.0' else 0\n",
    "\n",
    "aut_response = [0]*2 + [1]*6 + [0] + [1]*9 + [0]*22\n",
    "\n",
    "for sibpair in sibpairs:\n",
    "    if (sibpair['sibling1'] not in sample_to_affected) or (sibpair['sibling2'] not in sample_to_affected):\n",
    "        sibpair['num_affected'] = -1\n",
    "    else:\n",
    "        sibpair['num_affected'] = int(sample_to_affected[sibpair['sibling1']]==aut_response[phen_index]) + int(sample_to_affected[sibpair['sibling2']]==aut_response[phen_index])\n",
    "num_affected = np.array([sibpair['num_affected'] for sibpair in sibpairs])\n",
    "    "
   ]
  },
  {
   "cell_type": "code",
   "execution_count": null,
   "metadata": {},
   "outputs": [],
   "source": [
    "plt.bar(np.arange(3), )"
   ]
  }
 ],
 "metadata": {
  "kernelspec": {
   "display_name": "Python 3",
   "language": "python",
   "name": "python3"
  },
  "language_info": {
   "codemirror_mode": {
    "name": "ipython",
    "version": 3
   },
   "file_extension": ".py",
   "mimetype": "text/x-python",
   "name": "python",
   "nbconvert_exporter": "python",
   "pygments_lexer": "ipython3",
   "version": "3.7.3"
  }
 },
 "nbformat": 4,
 "nbformat_minor": 2
}
