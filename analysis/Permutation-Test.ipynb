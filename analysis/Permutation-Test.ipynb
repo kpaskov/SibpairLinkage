{
 "cells": [
  {
   "cell_type": "code",
   "execution_count": 1,
   "metadata": {},
   "outputs": [],
   "source": [
    "import numpy as np\n",
    "import scipy.linalg\n",
    "from collections import defaultdict, namedtuple, Counter\n",
    "from itertools import combinations\n",
    "import numpy as np\n",
    "import scipy.stats as stats\n",
    "import sys\n",
    "from os import listdir\n",
    "import json\n",
    "import random\n",
    "import csv\n",
    "import matplotlib.pyplot as plt\n"
   ]
  },
  {
   "cell_type": "code",
   "execution_count": 51,
   "metadata": {},
   "outputs": [],
   "source": [
    "dataset_name = 'spark'\n",
    "dataset_dir = '../../PhasingFamilies/recomb_spark'\n",
    "ped_file = '../../DATA/spark/sparkfam.ped.quads.ped'\n",
    "#interval_chrom, interval_start_pos, interval_end_pos = '7', 4101620, 4747462\n",
    "#interval_chrom, interval_start_pos, interval_end_pos = '19', 3604269, 3718439\n",
    "interval_chrom, interval_start_pos, interval_end_pos = '18', None, None\n",
    "crunch = False\n",
    "num_trials = 1000\n",
    "na = 2\n",
    "flip = False"
   ]
  },
  {
   "cell_type": "code",
   "execution_count": 52,
   "metadata": {},
   "outputs": [],
   "source": [
    "# pull phenotype data\n",
    "sample_to_affected, sample_to_sex = dict(), dict()\n",
    "with open(ped_file, 'r') as f:\n",
    "\tfor line in f:\n",
    "\t\tpieces = line.strip().split('\\t')\n",
    "\t\tsample_to_sex[pieces[1]] = pieces[4]\n",
    "\t\tsample_to_sex[pieces[3]] = '2'\n",
    "\t\tsample_to_sex[pieces[2]] = '1'\n",
    "\t\tsample_to_affected[pieces[1]] = pieces[5]"
   ]
  },
  {
   "cell_type": "code",
   "execution_count": 53,
   "metadata": {},
   "outputs": [
    {
     "name": "stdout",
     "output_type": "stream",
     "text": [
      "Overall\n",
      "families 5579\n",
      "sibpairs 6926\n",
      "Overall\n",
      "families 1166\n",
      "sibpairs 1473\n"
     ]
    }
   ],
   "source": [
    "with open('%s/sibpairs.json' % dataset_dir, 'r') as f:\n",
    "\tsibpairs = json.load(f)\n",
    "\n",
    "\n",
    "def header_to_inds(header):\n",
    "\theader = header.strip().split('\\t')\n",
    "\treturn [header[i][:-4] for i in range(5, len(header)-3, 2)]\n",
    "\n",
    "\n",
    "print('Overall')\n",
    "print('families', len(set([x['family'].split('.')[0] for x in sibpairs])))\n",
    "print('sibpairs', len(sibpairs))\n",
    "#print('num_affected', Counter([x['num_affected'] for x in sibpairs]))\n",
    "\n",
    "for sibpair in sibpairs:\n",
    "\tsibpair['num_affected'] = int(sample_to_affected[sibpair['sibling1']]=='2') + int(sample_to_affected[sibpair['sibling2']]=='2')\n",
    "\n",
    "if na == 3:\n",
    "\tsibpairs = [x for x in sibpairs if x['num_affected']>0]\n",
    "else:\n",
    "\tsibpairs = [x for x in sibpairs if x['num_affected']==na]\n",
    "num_sibpairs = len(sibpairs)\n",
    "\n",
    "\n",
    "print('Overall')\n",
    "print('families', len(set([x['family'].split('.')[0] for x in sibpairs])))\n",
    "print('sibpairs', len(sibpairs))\n",
    "#print('num_affected', Counter([x['num_affected'] for x in sibpairs]))\n"
   ]
  },
  {
   "cell_type": "code",
   "execution_count": 54,
   "metadata": {},
   "outputs": [],
   "source": [
    "#with open('permutation_tests/%s.%d.%ssibpairs.json' % (dataset_name, na, 'flip.' if flip else ''), 'w+') as f:\n",
    "#\tjson.dump(sibpairs, f)"
   ]
  },
  {
   "cell_type": "code",
   "execution_count": 73,
   "metadata": {},
   "outputs": [
    {
     "name": "stdout",
     "output_type": "stream",
     "text": [
      "intervals 7158\n"
     ]
    }
   ],
   "source": [
    "def apply_interval_filter(chrom, start_pos, end_pos):\n",
    "\tif interval_start_pos is not None or interval_end_pos is not None:\n",
    "\t\tstart_pos = np.clip(start_pos, interval_start_pos, interval_end_pos)\n",
    "\t\tend_pos = np.clip(end_pos, interval_start_pos, interval_end_pos)\n",
    "\tis_ok = ((interval_chrom is None and chrom != 'X') or interval_chrom == chrom) and (end_pos-start_pos>0)\n",
    "\treturn is_ok, start_pos, end_pos\n",
    "\n",
    "def process_phase_file(sibpair):\n",
    "\twith open('../../PhasingFamilies/%s/%s.phased.txt' % (sibpair['phase_dir'], sibpair['family']), 'r')  as f:\n",
    "\t\theader = next(f) # skip header\n",
    "\t\tinds = header_to_inds(header)\n",
    "\t\tsib1_ind_index, sib2_ind_index = inds.index(sibpair['sibling1']), inds.index(sibpair['sibling2'])\n",
    "\t\tsib1_mat_index, sib2_mat_index = 4+(2*sib1_ind_index), 4+(2*sib2_ind_index)\n",
    "\t\tsib1_pat_index, sib2_pat_index = 5+(2*sib1_ind_index), 5+(2*sib2_ind_index)\n",
    "\t\tsib_phase_indices = [sib1_mat_index, sib2_mat_index, sib1_pat_index, sib2_pat_index]\n",
    "\n",
    "\t\tcurrent_chrom, current_start_pos, current_end_pos, current_state = None, None, None, None\n",
    "\t\tfor line in f:\n",
    "\t\t\tpieces = line.strip().split('\\t')\n",
    "\t\t\tchrom = pieces[0][3:]\n",
    "\t\t\tstart_pos, end_pos = [int(x) for x in pieces[-2:]]\n",
    "\t\t\tstate = np.array([int(x) for x in pieces[1:-2]])[sib_phase_indices]\n",
    "\t\t\tif pieces[-3]!='0':\n",
    "\t\t\t\tstate[:] = -1\n",
    "\n",
    "\t\t\tif current_chrom is None:\n",
    "\t\t\t\tcurrent_chrom, current_start_pos, current_end_pos, current_state = chrom, start_pos, end_pos, state\n",
    "\t\t\telif current_chrom != chrom or np.any(current_state != state):\n",
    "\t\t\t\tis_ok, current_start_pos, current_end_pos = apply_interval_filter(current_chrom, current_start_pos, current_end_pos)\n",
    "\t\t\t\tif is_ok:\n",
    "\t\t\t\t\tyield current_chrom, current_start_pos, current_end_pos, current_state\n",
    "\t\t\t\tcurrent_chrom, current_start_pos, current_end_pos, current_state = chrom, start_pos, end_pos, state\n",
    "\t\t\telse:\n",
    "\t\t\t\tcurrent_end_pos = end_pos\n",
    "\t\tis_ok, current_start_pos, current_end_pos = apply_interval_filter(current_chrom, current_start_pos, current_end_pos)\n",
    "\t\tif is_ok:\n",
    "\t\t\tyield current_chrom, current_start_pos, current_end_pos, current_state\n",
    "\n",
    "# pull intervals\n",
    "positions = set()\n",
    "for sibpair in sibpairs:\n",
    "\t#print(sibpair)\n",
    "\tfor chrom, start_pos, end_pos, state in process_phase_file(sibpair):\n",
    "\t\t#print(chrom, start_pos, end_pos, state)\n",
    "\t\tpositions.add((chrom, start_pos))\n",
    "\t\tpositions.add((chrom, end_pos))\n",
    "\n",
    "positions = sorted(positions, key=lambda x: (int(x[0]), x[1]) if x[0].isdigit() else (23, x[1]))\n",
    "chroms, interval_starts, interval_ends = [], [], []\n",
    "prev_chrom, prev_pos = None, None\n",
    "for c, p in positions:\n",
    "\tif prev_chrom is not None and prev_chrom == c:\n",
    "\t\tchroms.append(c)\n",
    "\t\tinterval_starts.append(prev_pos)\n",
    "\t\tinterval_ends.append(p)\n",
    "\tprev_chrom, prev_pos = c, p\n",
    "\n",
    "\n",
    "interval_starts = np.array(interval_starts)\n",
    "interval_ends = np.array(interval_ends)\n",
    "num_intervals = len(interval_starts)\n",
    "print('intervals', num_intervals)\n",
    "#print(interval_starts)\n",
    "#print(interval_ends)\n",
    "#print(interval_ends-interval_starts)"
   ]
  },
  {
   "cell_type": "code",
   "execution_count": 56,
   "metadata": {},
   "outputs": [],
   "source": [
    "# pull sibpair IBD\n",
    "\n",
    "# sibpair, interval\n",
    "is_mat_match = np.zeros((num_sibpairs, num_intervals), dtype=int)\n",
    "is_pat_match = np.zeros((num_sibpairs, num_intervals), dtype=int)\n",
    "\n",
    "interval_start_to_index = dict([((chrom, x), i) for i, (chrom, x) in enumerate(zip(chroms, interval_starts))])\n",
    "interval_end_to_index = dict([((chrom, x), i) for i, (chrom, x) in enumerate(zip(chroms, interval_ends))])\n",
    "\n",
    "for sibpair_index, sibpair in enumerate(sibpairs):\n",
    "\tfor chrom, start_pos, end_pos, state in process_phase_file(sibpair):\n",
    "\t\tstart_index, end_index = interval_start_to_index[(chrom, start_pos)], interval_end_to_index[(chrom, end_pos)]+1\n",
    "\n",
    "\t\tif state[0]==-1 or state[1]==-1:\n",
    "\t\t\tpass\n",
    "\t\telif ((state[0]==state[1]) and (sibpair['num_affected']==0 or sibpair['num_affected']==2)) or \\\n",
    "\t\t     ((state[0]!=state[1]) and (sibpair['num_affected']==1)):\n",
    "\t\t\tis_mat_match[sibpair_index, start_index:end_index] = 1\n",
    "\t\telse:\n",
    "\t\t\tis_mat_match[sibpair_index, start_index:end_index] = -1\n",
    "\t\t\t\n",
    "\t\tif state[2]==-1 or state[3]==-1:\n",
    "\t\t\t\tpass\n",
    "\t\telif ((state[2]==state[3]) and (sibpair['num_affected']==0 or sibpair['num_affected']==2)) or \\\n",
    "\t\t     ((state[2]!=state[3]) and (sibpair['num_affected']==1)):\n",
    "\t\t\tis_pat_match[sibpair_index, start_index:end_index] = 1\n",
    "\t\telse:\n",
    "\t\t\tis_pat_match[sibpair_index, start_index:end_index] = -1\n",
    "\n",
    "\n",
    "is_ok = interval_ends - interval_starts > 1\n",
    "interval_starts = interval_starts[is_ok]\n",
    "interval_ends = interval_ends[is_ok]\n",
    "chroms = np.array([23 if c=='X' else int(c) for c in chroms])[is_ok]\n",
    "is_mat_match = is_mat_match[:, is_ok]\n",
    "is_pat_match = is_pat_match[:, is_ok]\n",
    "num_intervals = np.sum(is_ok)"
   ]
  },
  {
   "cell_type": "code",
   "execution_count": 57,
   "metadata": {},
   "outputs": [],
   "source": [
    "if crunch:\n",
    "\tis_mat_match_new = np.zeros((is_mat_match.shape[0], 1))\n",
    "\tfrac_ibd_mat = is_mat_match.dot((interval_ends-interval_starts))/np.sum(interval_ends-interval_starts)\n",
    "\tis_mat_match_new[frac_ibd_mat>0] = 1\n",
    "\tis_mat_match_new[frac_ibd_mat<0] = -1\n",
    "\n",
    "\tis_pat_match_new = np.zeros((is_pat_match.shape[0], 1))\n",
    "\tfrac_ibd_pat = is_pat_match.dot((interval_ends-interval_starts))/np.sum(interval_ends-interval_starts)\n",
    "\tis_pat_match_new[frac_ibd_pat>0] = 1\n",
    "\tis_pat_match_new[frac_ibd_pat<0] = -1\n",
    "\n",
    "\tis_mat_match = is_mat_match_new\n",
    "\tis_pat_match = is_pat_match_new\n",
    "\n",
    "\tnum_intervals = 1\n",
    "\n",
    "\tinterval_starts = np.array([interval_start_pos])\n",
    "\tintervals_ends = np.array([interval_end_pos])\n",
    "\tchroms = np.array([23 if interval_chrom=='X' else int(interval_chrom)])\n",
    "\t"
   ]
  },
  {
   "cell_type": "code",
   "execution_count": 58,
   "metadata": {},
   "outputs": [],
   "source": [
    "#np.save('permutation_tests/%s.%d.%sis_mat_match.npy' % (dataset_name, na, 'flip.' if flip else ''), is_mat_match)\n",
    "#np.save('permutation_tests/%s.%d.%sis_pat_match.npy' % (dataset_name, na, 'flip.' if flip else ''), is_pat_match)\n"
   ]
  },
  {
   "cell_type": "code",
   "execution_count": 59,
   "metadata": {},
   "outputs": [
    {
     "name": "stdout",
     "output_type": "stream",
     "text": [
      "(1473, 5929) (1473, 5929)\n",
      "ready\n"
     ]
    }
   ],
   "source": [
    "print(is_mat_match.shape, is_pat_match.shape)\n",
    "\n",
    "# take into account sibling structure across quads\n",
    "individuals = sorted(set([x['sibling1'] for x in sibpairs] + [x['sibling2'] for x in sibpairs]))\n",
    "ind_to_index = dict([(x, i) for i, x in enumerate(individuals)])\n",
    "sibling1_indices = np.array([ind_to_index[x['sibling1']] for x in sibpairs])\n",
    "sibling2_indices = np.array([ind_to_index[x['sibling2']] for x in sibpairs])\n",
    "\n",
    "A = np.random.randint(0, high=2, size=(num_trials+1, len(individuals), 2))\n",
    "X1 = (A[:, sibling1_indices, 0] == A[:, sibling2_indices, 0]).astype(int)\n",
    "X2 = (A[:, sibling1_indices, 1] == A[:, sibling2_indices, 1]).astype(int)\n",
    "\n",
    "# randomly flip IBD in sibpairs\n",
    "#X1 = np.random.randint(0, high=2, size=(num_trials+1, len(sibpairs)))\n",
    "#X2 = np.random.randint(0, high=2, size=(num_trials+1, len(sibpairs)))\n",
    "\n",
    "X1[X1==0] = -1\n",
    "X2[X2==0] = -1\n",
    "\n",
    "# first entry is actual IBD relationships\n",
    "X1[0, :] = 1\n",
    "X2[0, :] = 1\n",
    "\n",
    "print('ready')\n",
    "\n",
    "if interval_chrom is not None:\n",
    "\tdataset_name += '.chr%s' % interval_chrom\n",
    "if interval_start_pos is not None or interval_end_pos is not None:\n",
    "\tdataset_name += '.%d-%d' % (interval_start_pos, interval_end_pos)\n",
    "\n",
    "# trial, interval, mat/pat\n",
    "rand_pvalue = np.zeros((num_trials+1, num_intervals, 4), dtype=int)\n",
    "\n"
   ]
  },
  {
   "cell_type": "code",
   "execution_count": 67,
   "metadata": {},
   "outputs": [
    {
     "name": "stdout",
     "output_type": "stream",
     "text": [
      "2 mat\n",
      "2 pat\n",
      "2 both\n"
     ]
    }
   ],
   "source": [
    "print(na, 'mat')\n",
    "rand_pvalue[:, :, 0] = X1.dot(is_mat_match)\n",
    "print(na, 'pat')\n",
    "rand_pvalue[:, :, 1] = X2.dot(is_pat_match)\n",
    "print(na, 'both')\n",
    "rand_pvalue[:, :, 2] = rand_pvalue[:, :, 0]+rand_pvalue[:, :, 1]"
   ]
  },
  {
   "cell_type": "code",
   "execution_count": 61,
   "metadata": {},
   "outputs": [
    {
     "name": "stdout",
     "output_type": "stream",
     "text": [
      "2 cross\n",
      "0 100 200 300 400 500 600 700 800 900 1000 "
     ]
    }
   ],
   "source": [
    "print(na, 'cross')\n",
    "\n",
    "for i in range(num_trials+1):\n",
    "\trand_pvalue[i, :, 3] = np.sum((np.multiply(np.tile(X1[i, :], (is_mat_match.shape[1], 1)).T, is_mat_match)==1) & \\\n",
    "                                  (np.multiply(np.tile(X2[i, :], (is_pat_match.shape[1], 1)).T, is_pat_match)==1), axis=0)\n",
    "\tif i%100==0:\n",
    "\t\tprint(i, end=' ')\n"
   ]
  },
  {
   "cell_type": "code",
   "execution_count": 76,
   "metadata": {},
   "outputs": [
    {
     "data": {
      "image/png": "[encoded data removed]",
      "text/plain": [
       "<Figure size 432x288 with 1 Axes>"
      ]
     },
     "metadata": {
      "needs_background": "light"
     },
     "output_type": "display_data"
    }
   ],
   "source": [
    "plt.hist(rand_pvalue[0, :, 0].flatten(), bins=np.arange(-100, 100, 10), alpha=0.5, density=True)\n",
    "plt.hist(rand_pvalue[1:10, :, 0].flatten(), bins=np.arange(-100, 100, 10), alpha=0.5, density=True)\n",
    "plt.axvline(0, color='black')\n",
    "plt.show()"
   ]
  },
  {
   "cell_type": "code",
   "execution_count": 62,
   "metadata": {},
   "outputs": [
    {
     "data": {
      "image/png": "[encoded data removed]",
      "text/plain": [
       "<Figure size 432x288 with 1 Axes>"
      ]
     },
     "metadata": {
      "needs_background": "light"
     },
     "output_type": "display_data"
    }
   ],
   "source": [
    "plt.hist(rand_pvalue[0, :, 3].flatten(), bins=np.arange(200, 500, 10), alpha=0.5, density=True)\n",
    "plt.hist(rand_pvalue[1:10, :, 3].flatten(), bins=np.arange(200, 500, 10), alpha=0.5, density=True)\n",
    "plt.axvline(len(sibpairs)/4, color='black')\n",
    "plt.show()"
   ]
  },
  {
   "cell_type": "code",
   "execution_count": 63,
   "metadata": {},
   "outputs": [],
   "source": [
    "# we expect to see less IBD sharing between discordant sibpairs\n",
    "if flip:\n",
    "\trand_pvalue = -rand_pvalue"
   ]
  },
  {
   "cell_type": "code",
   "execution_count": 64,
   "metadata": {},
   "outputs": [],
   "source": [
    "# -------------------- implementing Westfall-Young max T stepdown procedure\n",
    "\n",
    "# indices are sorted along interval axis from interval with most IBD sharing\n",
    "# to least IBD sharing\n",
    "final_pvalues = np.zeros((num_intervals, 4))\n",
    "for is_mat in range(4):\n",
    "\n",
    "\torig_indices = np.flip(np.argsort(rand_pvalue[0, :, is_mat]))\n",
    "\n",
    "\tmax_t_k = np.zeros((num_trials+1, num_intervals+1))\n",
    "\tmax_t_k[:, -1] = np.min(rand_pvalue[:, :, is_mat], axis=1)\n",
    "\tfor i, j in list(reversed(list(enumerate(orig_indices)))):\n",
    "\t\tmax_t_k[:, i] = np.maximum(max_t_k[:, i+1], rand_pvalue[:, j, is_mat])\n",
    "\tmax_t_k = max_t_k[:, :-1]\n",
    "\n",
    "\t#max_t_k = np.flip(np.sort(rand_pvalue[:, :, is_mat], axis=1), axis=1)\n",
    "\t\n",
    "\tassert np.all(max_t_k[0, :] == rand_pvalue[0, orig_indices, is_mat])\n",
    "\n",
    "\t# calculate pi(j)\n",
    "\tpvalues = np.sum(max_t_k[1:, :] >= np.tile(max_t_k[0, :], (num_trials, 1)), axis=0)/num_trials\n",
    "\tpvalues = np.array([np.max(pvalues[:(i+1)]) for i in np.arange(pvalues.shape[0])])\n",
    "\tfinal_pvalues[orig_indices, is_mat] = pvalues"
   ]
  },
  {
   "cell_type": "code",
   "execution_count": null,
   "metadata": {},
   "outputs": [],
   "source": []
  },
  {
   "cell_type": "code",
   "execution_count": 48,
   "metadata": {},
   "outputs": [
    {
     "name": "stdout",
     "output_type": "stream",
     "text": [
      "[0. 0. 0. ... 0. 0. 0.]\n"
     ]
    }
   ],
   "source": [
    "print(final_pvalues[:, 3])"
   ]
  },
  {
   "cell_type": "code",
   "execution_count": 49,
   "metadata": {},
   "outputs": [
    {
     "name": "stderr",
     "output_type": "stream",
     "text": [
      "//anaconda3/lib/python3.7/site-packages/ipykernel/__main__.py:4: RuntimeWarning: divide by zero encountered in log10\n"
     ]
    },
    {
     "data": {
      "image/png": "[encoded data removed]",
      "text/plain": [
       "<Figure size 432x288 with 1 Axes>"
      ]
     },
     "metadata": {
      "needs_background": "light"
     },
     "output_type": "display_data"
    }
   ],
   "source": [
    "plt.hist(np.clip(np.log10(final_pvalues[:, 0]), -3, None), alpha=0.5, bins=np.arange(-3, 0, 0.1))\n",
    "plt.hist(np.clip(np.log10(final_pvalues[:, 1]), -3, None), alpha=0.5, bins=np.arange(-3, 0, 0.1))\n",
    "plt.hist(np.clip(np.log10(final_pvalues[:, 2]), -3, None), alpha=0.5, bins=np.arange(-3, 0, 0.1))\n",
    "plt.hist(np.clip(np.log10(final_pvalues[:, 3]), -3, None), alpha=0.5, bins=np.arange(-3, 0, 0.1))\n",
    "plt.axvline(np.log10(0.05), color='black', linestyle='--')\n",
    "plt.show()"
   ]
  },
  {
   "cell_type": "code",
   "execution_count": null,
   "metadata": {},
   "outputs": [],
   "source": []
  }
 ],
 "metadata": {
  "kernelspec": {
   "display_name": "Python 3",
   "language": "python",
   "name": "python3"
  },
  "language_info": {
   "codemirror_mode": {
    "name": "ipython",
    "version": 3
   },
   "file_extension": ".py",
   "mimetype": "text/x-python",
   "name": "python",
   "nbconvert_exporter": "python",
   "pygments_lexer": "ipython3",
   "version": "3.7.3"
  }
 },
 "nbformat": 4,
 "nbformat_minor": 2
}
